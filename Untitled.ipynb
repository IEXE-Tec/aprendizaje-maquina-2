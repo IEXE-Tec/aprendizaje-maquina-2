{
  "nbformat": 4,
  "nbformat_minor": 0,
  "metadata": {
    "colab": {
      "name": "Untitled",
      "provenance": [],
      "collapsed_sections": [],
      "authorship_tag": "ABX9TyPMDJ5is0YXnDD1zJDqsfIX",
      "include_colab_link": true
    },
    "kernelspec": {
      "name": "python3",
      "display_name": "Python 3"
    },
    "widgets": {
      "application/vnd.jupyter.widget-state+json": {
        "35972c2d3e5b49f18ef287cde3237e47": {
          "model_module": "@jupyter-widgets/controls",
          "model_name": "IntProgressModel",
          "state": {
            "_view_name": "ProgressView",
            "style": "IPY_MODEL_0bddd52903a64280bcbb9693b8c1bbb6",
            "_dom_classes": [],
            "description": "Processing: ",
            "_model_name": "IntProgressModel",
            "bar_style": "",
            "max": 205,
            "_view_module": "@jupyter-widgets/controls",
            "_model_module_version": "1.5.0",
            "value": 205,
            "_view_count": null,
            "_view_module_version": "1.5.0",
            "orientation": "horizontal",
            "min": 0,
            "description_tooltip": null,
            "_model_module": "@jupyter-widgets/controls",
            "layout": "IPY_MODEL_7574ebc78e854ec894db11eb5e77cf6e"
          }
        },
        "0bddd52903a64280bcbb9693b8c1bbb6": {
          "model_module": "@jupyter-widgets/controls",
          "model_name": "ProgressStyleModel",
          "state": {
            "_view_name": "StyleView",
            "_model_name": "ProgressStyleModel",
            "description_width": "",
            "_view_module": "@jupyter-widgets/base",
            "_model_module_version": "1.5.0",
            "_view_count": null,
            "_view_module_version": "1.2.0",
            "bar_color": null,
            "_model_module": "@jupyter-widgets/controls"
          }
        },
        "7574ebc78e854ec894db11eb5e77cf6e": {
          "model_module": "@jupyter-widgets/base",
          "model_name": "LayoutModel",
          "state": {
            "_view_name": "LayoutView",
            "grid_template_rows": null,
            "right": null,
            "justify_content": null,
            "_view_module": "@jupyter-widgets/base",
            "overflow": null,
            "_model_module_version": "1.2.0",
            "_view_count": null,
            "flex_flow": null,
            "width": null,
            "min_width": null,
            "border": null,
            "align_items": null,
            "bottom": null,
            "_model_module": "@jupyter-widgets/base",
            "top": null,
            "grid_column": null,
            "overflow_y": null,
            "overflow_x": null,
            "grid_auto_flow": null,
            "grid_area": null,
            "grid_template_columns": null,
            "flex": null,
            "_model_name": "LayoutModel",
            "justify_items": null,
            "grid_row": null,
            "max_height": null,
            "align_content": null,
            "visibility": null,
            "align_self": null,
            "height": null,
            "min_height": null,
            "padding": null,
            "grid_auto_rows": null,
            "grid_gap": null,
            "max_width": null,
            "order": null,
            "_view_module_version": "1.2.0",
            "grid_template_areas": null,
            "object_position": null,
            "object_fit": null,
            "grid_auto_columns": null,
            "margin": null,
            "display": null,
            "left": null
          }
        }
      }
    }
  },
  "cells": [
    {
      "cell_type": "markdown",
      "metadata": {
        "id": "view-in-github",
        "colab_type": "text"
      },
      "source": [
        "<a href=\"https://colab.research.google.com/github/IEXE-Tec/aprendizaje-maquina-2/blob/master/Untitled.ipynb\" target=\"_parent\"><img src=\"https://colab.research.google.com/assets/colab-badge.svg\" alt=\"Open In Colab\"/></a>"
      ]
    },
    {
      "cell_type": "markdown",
      "metadata": {
        "id": "kECscepGtsRT"
      },
      "source": [
        "Installing pycaret library:\n",
        "+ https://towardsdatascience.com/announcing-pycaret-2-0-39c11014540e \n",
        "+ https://pycaret.org/\n"
      ]
    },
    {
      "cell_type": "code",
      "metadata": {
        "id": "j_4YZ-A-ty8L",
        "outputId": "79864c71-c187-4277-9449-0564ba2c3c2c",
        "colab": {
          "base_uri": "https://localhost:8080/",
          "height": 1000
        }
      },
      "source": [
        "!pip install pycaret"
      ],
      "execution_count": null,
      "outputs": [
        {
          "output_type": "stream",
          "text": [
            "Requirement already satisfied: pycaret in /usr/local/lib/python3.6/dist-packages (2.2)\n",
            "Requirement already satisfied: scikit-plot in /usr/local/lib/python3.6/dist-packages (from pycaret) (0.3.7)\n",
            "Requirement already satisfied: yellowbrick>=1.0.1 in /usr/local/lib/python3.6/dist-packages (from pycaret) (1.2)\n",
            "Requirement already satisfied: spacy in /usr/local/lib/python3.6/dist-packages (from pycaret) (2.2.4)\n",
            "Requirement already satisfied: gensim in /usr/local/lib/python3.6/dist-packages (from pycaret) (3.6.0)\n",
            "Requirement already satisfied: plotly>=4.4.1 in /usr/local/lib/python3.6/dist-packages (from pycaret) (4.4.1)\n",
            "Requirement already satisfied: kmodes>=0.10.1 in /usr/local/lib/python3.6/dist-packages (from pycaret) (0.10.2)\n",
            "Requirement already satisfied: mlxtend in /usr/local/lib/python3.6/dist-packages (from pycaret) (0.14.0)\n",
            "Requirement already satisfied: catboost>=0.23.2 in /usr/local/lib/python3.6/dist-packages (from pycaret) (0.24.2)\n",
            "Requirement already satisfied: pyLDAvis in /usr/local/lib/python3.6/dist-packages (from pycaret) (2.1.2)\n",
            "Requirement already satisfied: joblib in /usr/local/lib/python3.6/dist-packages (from pycaret) (0.17.0)\n",
            "Requirement already satisfied: seaborn in /usr/local/lib/python3.6/dist-packages (from pycaret) (0.11.0)\n",
            "Requirement already satisfied: textblob in /usr/local/lib/python3.6/dist-packages (from pycaret) (0.15.3)\n",
            "Requirement already satisfied: numpy>=1.17 in /usr/local/lib/python3.6/dist-packages (from pycaret) (1.18.5)\n",
            "Requirement already satisfied: xgboost>=1.1.0 in /usr/local/lib/python3.6/dist-packages (from pycaret) (1.2.1)\n",
            "Requirement already satisfied: wordcloud in /usr/local/lib/python3.6/dist-packages (from pycaret) (1.5.0)\n",
            "Requirement already satisfied: matplotlib in /usr/local/lib/python3.6/dist-packages (from pycaret) (3.2.2)\n",
            "Requirement already satisfied: mlflow in /usr/local/lib/python3.6/dist-packages (from pycaret) (1.11.0)\n",
            "Requirement already satisfied: umap-learn in /usr/local/lib/python3.6/dist-packages (from pycaret) (0.4.6)\n",
            "Requirement already satisfied: nltk in /usr/local/lib/python3.6/dist-packages (from pycaret) (3.2.5)\n",
            "Requirement already satisfied: lightgbm>=2.3.1 in /usr/local/lib/python3.6/dist-packages (from pycaret) (3.0.0)\n",
            "Requirement already satisfied: cufflinks>=0.17.0 in /usr/local/lib/python3.6/dist-packages (from pycaret) (0.17.3)\n",
            "Requirement already satisfied: pandas-profiling>=2.8.0 in /usr/local/lib/python3.6/dist-packages (from pycaret) (2.9.0)\n",
            "Requirement already satisfied: IPython in /usr/local/lib/python3.6/dist-packages (from pycaret) (5.5.0)\n",
            "Requirement already satisfied: pandas in /usr/local/lib/python3.6/dist-packages (from pycaret) (1.1.3)\n",
            "Requirement already satisfied: pyod in /usr/local/lib/python3.6/dist-packages (from pycaret) (0.8.3)\n",
            "Requirement already satisfied: ipywidgets in /usr/local/lib/python3.6/dist-packages (from pycaret) (7.5.1)\n",
            "Requirement already satisfied: imbalanced-learn>=0.7.0 in /usr/local/lib/python3.6/dist-packages (from pycaret) (0.7.0)\n",
            "Requirement already satisfied: scikit-learn>=0.23.2 in /usr/local/lib/python3.6/dist-packages (from pycaret) (0.23.2)\n",
            "Requirement already satisfied: scipy>=0.9 in /usr/local/lib/python3.6/dist-packages (from scikit-plot->pycaret) (1.4.1)\n",
            "Requirement already satisfied: cycler>=0.10.0 in /usr/local/lib/python3.6/dist-packages (from yellowbrick>=1.0.1->pycaret) (0.10.0)\n",
            "Requirement already satisfied: catalogue<1.1.0,>=0.0.7 in /usr/local/lib/python3.6/dist-packages (from spacy->pycaret) (1.0.0)\n",
            "Requirement already satisfied: plac<1.2.0,>=0.9.6 in /usr/local/lib/python3.6/dist-packages (from spacy->pycaret) (1.1.3)\n",
            "Requirement already satisfied: srsly<1.1.0,>=1.0.2 in /usr/local/lib/python3.6/dist-packages (from spacy->pycaret) (1.0.2)\n",
            "Requirement already satisfied: tqdm<5.0.0,>=4.38.0 in /usr/local/lib/python3.6/dist-packages (from spacy->pycaret) (4.51.0)\n",
            "Requirement already satisfied: setuptools in /usr/local/lib/python3.6/dist-packages (from spacy->pycaret) (50.3.2)\n",
            "Requirement already satisfied: murmurhash<1.1.0,>=0.28.0 in /usr/local/lib/python3.6/dist-packages (from spacy->pycaret) (1.0.2)\n",
            "Requirement already satisfied: preshed<3.1.0,>=3.0.2 in /usr/local/lib/python3.6/dist-packages (from spacy->pycaret) (3.0.2)\n",
            "Requirement already satisfied: wasabi<1.1.0,>=0.4.0 in /usr/local/lib/python3.6/dist-packages (from spacy->pycaret) (0.8.0)\n",
            "Requirement already satisfied: cymem<2.1.0,>=2.0.2 in /usr/local/lib/python3.6/dist-packages (from spacy->pycaret) (2.0.3)\n",
            "Requirement already satisfied: requests<3.0.0,>=2.13.0 in /usr/local/lib/python3.6/dist-packages (from spacy->pycaret) (2.23.0)\n",
            "Requirement already satisfied: blis<0.5.0,>=0.4.0 in /usr/local/lib/python3.6/dist-packages (from spacy->pycaret) (0.4.1)\n",
            "Requirement already satisfied: thinc==7.4.0 in /usr/local/lib/python3.6/dist-packages (from spacy->pycaret) (7.4.0)\n",
            "Requirement already satisfied: smart-open>=1.2.1 in /usr/local/lib/python3.6/dist-packages (from gensim->pycaret) (3.0.0)\n",
            "Requirement already satisfied: six>=1.5.0 in /usr/local/lib/python3.6/dist-packages (from gensim->pycaret) (1.15.0)\n",
            "Requirement already satisfied: retrying>=1.3.3 in /usr/local/lib/python3.6/dist-packages (from plotly>=4.4.1->pycaret) (1.3.3)\n",
            "Requirement already satisfied: graphviz in /usr/local/lib/python3.6/dist-packages (from catboost>=0.23.2->pycaret) (0.10.1)\n",
            "Requirement already satisfied: pytest in /usr/local/lib/python3.6/dist-packages (from pyLDAvis->pycaret) (3.6.4)\n",
            "Requirement already satisfied: funcy in /usr/local/lib/python3.6/dist-packages (from pyLDAvis->pycaret) (1.15)\n",
            "Requirement already satisfied: wheel>=0.23.0 in /usr/local/lib/python3.6/dist-packages (from pyLDAvis->pycaret) (0.35.1)\n",
            "Requirement already satisfied: numexpr in /usr/local/lib/python3.6/dist-packages (from pyLDAvis->pycaret) (2.7.1)\n",
            "Requirement already satisfied: future in /usr/local/lib/python3.6/dist-packages (from pyLDAvis->pycaret) (0.16.0)\n",
            "Requirement already satisfied: jinja2>=2.7.2 in /usr/local/lib/python3.6/dist-packages (from pyLDAvis->pycaret) (2.11.2)\n",
            "Requirement already satisfied: pillow in /usr/local/lib/python3.6/dist-packages (from wordcloud->pycaret) (7.0.0)\n",
            "Requirement already satisfied: python-dateutil>=2.1 in /usr/local/lib/python3.6/dist-packages (from matplotlib->pycaret) (2.8.1)\n",
            "Requirement already satisfied: kiwisolver>=1.0.1 in /usr/local/lib/python3.6/dist-packages (from matplotlib->pycaret) (1.2.0)\n",
            "Requirement already satisfied: pyparsing!=2.0.4,!=2.1.2,!=2.1.6,>=2.0.1 in /usr/local/lib/python3.6/dist-packages (from matplotlib->pycaret) (2.4.7)\n",
            "Requirement already satisfied: sqlalchemy<=1.3.13 in /usr/local/lib/python3.6/dist-packages (from mlflow->pycaret) (1.3.13)\n",
            "Requirement already satisfied: gorilla in /usr/local/lib/python3.6/dist-packages (from mlflow->pycaret) (0.3.0)\n",
            "Requirement already satisfied: gitpython>=2.1.0 in /usr/local/lib/python3.6/dist-packages (from mlflow->pycaret) (3.1.11)\n",
            "Requirement already satisfied: cloudpickle in /usr/local/lib/python3.6/dist-packages (from mlflow->pycaret) (1.3.0)\n",
            "Requirement already satisfied: pyyaml in /usr/local/lib/python3.6/dist-packages (from mlflow->pycaret) (3.13)\n",
            "Requirement already satisfied: click>=7.0 in /usr/local/lib/python3.6/dist-packages (from mlflow->pycaret) (7.1.2)\n",
            "Requirement already satisfied: databricks-cli>=0.8.7 in /usr/local/lib/python3.6/dist-packages (from mlflow->pycaret) (0.13.0)\n",
            "Requirement already satisfied: docker>=4.0.0 in /usr/local/lib/python3.6/dist-packages (from mlflow->pycaret) (4.3.1)\n",
            "Requirement already satisfied: querystring-parser in /usr/local/lib/python3.6/dist-packages (from mlflow->pycaret) (1.2.4)\n",
            "Requirement already satisfied: prometheus-flask-exporter in /usr/local/lib/python3.6/dist-packages (from mlflow->pycaret) (0.18.1)\n",
            "Requirement already satisfied: sqlparse in /usr/local/lib/python3.6/dist-packages (from mlflow->pycaret) (0.4.1)\n",
            "Requirement already satisfied: protobuf>=3.6.0 in /usr/local/lib/python3.6/dist-packages (from mlflow->pycaret) (3.12.4)\n",
            "Requirement already satisfied: Flask in /usr/local/lib/python3.6/dist-packages (from mlflow->pycaret) (1.1.2)\n",
            "Requirement already satisfied: gunicorn; platform_system != \"Windows\" in /usr/local/lib/python3.6/dist-packages (from mlflow->pycaret) (20.0.4)\n",
            "Requirement already satisfied: azure-storage-blob>=12.0 in /usr/local/lib/python3.6/dist-packages (from mlflow->pycaret) (12.5.0)\n",
            "Requirement already satisfied: alembic<=1.4.1 in /usr/local/lib/python3.6/dist-packages (from mlflow->pycaret) (1.4.1)\n",
            "Requirement already satisfied: entrypoints in /usr/local/lib/python3.6/dist-packages (from mlflow->pycaret) (0.3)\n",
            "Requirement already satisfied: numba!=0.47,>=0.46 in /usr/local/lib/python3.6/dist-packages (from umap-learn->pycaret) (0.48.0)\n",
            "Requirement already satisfied: colorlover>=0.2.1 in /usr/local/lib/python3.6/dist-packages (from cufflinks>=0.17.0->pycaret) (0.3.0)\n",
            "Requirement already satisfied: attrs>=19.3.0 in /usr/local/lib/python3.6/dist-packages (from pandas-profiling>=2.8.0->pycaret) (20.2.0)\n",
            "Requirement already satisfied: tangled-up-in-unicode>=0.0.6 in /usr/local/lib/python3.6/dist-packages (from pandas-profiling>=2.8.0->pycaret) (0.0.6)\n",
            "Requirement already satisfied: confuse>=1.0.0 in /usr/local/lib/python3.6/dist-packages (from pandas-profiling>=2.8.0->pycaret) (1.3.0)\n",
            "Requirement already satisfied: visions[type_image_path]==0.5.0 in /usr/local/lib/python3.6/dist-packages (from pandas-profiling>=2.8.0->pycaret) (0.5.0)\n",
            "Requirement already satisfied: htmlmin>=0.1.12 in /usr/local/lib/python3.6/dist-packages (from pandas-profiling>=2.8.0->pycaret) (0.1.12)\n",
            "Requirement already satisfied: phik>=0.9.10 in /usr/local/lib/python3.6/dist-packages (from pandas-profiling>=2.8.0->pycaret) (0.10.0)\n",
            "Requirement already satisfied: missingno>=0.4.2 in /usr/local/lib/python3.6/dist-packages (from pandas-profiling>=2.8.0->pycaret) (0.4.2)\n",
            "Requirement already satisfied: pexpect; sys_platform != \"win32\" in /usr/local/lib/python3.6/dist-packages (from IPython->pycaret) (4.8.0)\n",
            "Requirement already satisfied: decorator in /usr/local/lib/python3.6/dist-packages (from IPython->pycaret) (4.4.2)\n",
            "Requirement already satisfied: pickleshare in /usr/local/lib/python3.6/dist-packages (from IPython->pycaret) (0.7.5)\n",
            "Requirement already satisfied: traitlets>=4.2 in /usr/local/lib/python3.6/dist-packages (from IPython->pycaret) (4.3.3)\n",
            "Requirement already satisfied: prompt-toolkit<2.0.0,>=1.0.4 in /usr/local/lib/python3.6/dist-packages (from IPython->pycaret) (1.0.18)\n",
            "Requirement already satisfied: pygments in /usr/local/lib/python3.6/dist-packages (from IPython->pycaret) (2.6.1)\n",
            "Requirement already satisfied: simplegeneric>0.8 in /usr/local/lib/python3.6/dist-packages (from IPython->pycaret) (0.8.1)\n",
            "Requirement already satisfied: pytz>=2017.2 in /usr/local/lib/python3.6/dist-packages (from pandas->pycaret) (2018.9)\n",
            "Requirement already satisfied: combo in /usr/local/lib/python3.6/dist-packages (from pyod->pycaret) (0.1.1)\n",
            "Requirement already satisfied: statsmodels in /usr/local/lib/python3.6/dist-packages (from pyod->pycaret) (0.10.2)\n",
            "Requirement already satisfied: suod in /usr/local/lib/python3.6/dist-packages (from pyod->pycaret) (0.0.4)\n",
            "Requirement already satisfied: widgetsnbextension~=3.5.0 in /usr/local/lib/python3.6/dist-packages (from ipywidgets->pycaret) (3.5.1)\n",
            "Requirement already satisfied: nbformat>=4.2.0 in /usr/local/lib/python3.6/dist-packages (from ipywidgets->pycaret) (5.0.8)\n",
            "Requirement already satisfied: ipykernel>=4.5.1 in /usr/local/lib/python3.6/dist-packages (from ipywidgets->pycaret) (4.10.1)\n",
            "Requirement already satisfied: threadpoolctl>=2.0.0 in /usr/local/lib/python3.6/dist-packages (from scikit-learn>=0.23.2->pycaret) (2.1.0)\n",
            "Requirement already satisfied: importlib-metadata>=0.20; python_version < \"3.8\" in /usr/local/lib/python3.6/dist-packages (from catalogue<1.1.0,>=0.0.7->spacy->pycaret) (2.0.0)\n",
            "Requirement already satisfied: idna<3,>=2.5 in /usr/local/lib/python3.6/dist-packages (from requests<3.0.0,>=2.13.0->spacy->pycaret) (2.10)\n",
            "Requirement already satisfied: urllib3!=1.25.0,!=1.25.1,<1.26,>=1.21.1 in /usr/local/lib/python3.6/dist-packages (from requests<3.0.0,>=2.13.0->spacy->pycaret) (1.24.3)\n",
            "Requirement already satisfied: certifi>=2017.4.17 in /usr/local/lib/python3.6/dist-packages (from requests<3.0.0,>=2.13.0->spacy->pycaret) (2020.6.20)\n",
            "Requirement already satisfied: chardet<4,>=3.0.2 in /usr/local/lib/python3.6/dist-packages (from requests<3.0.0,>=2.13.0->spacy->pycaret) (3.0.4)\n",
            "Requirement already satisfied: py>=1.5.0 in /usr/local/lib/python3.6/dist-packages (from pytest->pyLDAvis->pycaret) (1.9.0)\n",
            "Requirement already satisfied: atomicwrites>=1.0 in /usr/local/lib/python3.6/dist-packages (from pytest->pyLDAvis->pycaret) (1.4.0)\n",
            "Requirement already satisfied: pluggy<0.8,>=0.5 in /usr/local/lib/python3.6/dist-packages (from pytest->pyLDAvis->pycaret) (0.7.1)\n",
            "Requirement already satisfied: more-itertools>=4.0.0 in /usr/local/lib/python3.6/dist-packages (from pytest->pyLDAvis->pycaret) (8.5.0)\n",
            "Requirement already satisfied: MarkupSafe>=0.23 in /usr/local/lib/python3.6/dist-packages (from jinja2>=2.7.2->pyLDAvis->pycaret) (1.1.1)\n",
            "Requirement already satisfied: gitdb<5,>=4.0.1 in /usr/local/lib/python3.6/dist-packages (from gitpython>=2.1.0->mlflow->pycaret) (4.0.5)\n",
            "Requirement already satisfied: tabulate>=0.7.7 in /usr/local/lib/python3.6/dist-packages (from databricks-cli>=0.8.7->mlflow->pycaret) (0.8.7)\n",
            "Requirement already satisfied: websocket-client>=0.32.0 in /usr/local/lib/python3.6/dist-packages (from docker>=4.0.0->mlflow->pycaret) (0.57.0)\n",
            "Requirement already satisfied: prometheus-client in /usr/local/lib/python3.6/dist-packages (from prometheus-flask-exporter->mlflow->pycaret) (0.8.0)\n",
            "Requirement already satisfied: Werkzeug>=0.15 in /usr/local/lib/python3.6/dist-packages (from Flask->mlflow->pycaret) (1.0.1)\n",
            "Requirement already satisfied: itsdangerous>=0.24 in /usr/local/lib/python3.6/dist-packages (from Flask->mlflow->pycaret) (1.1.0)\n",
            "Requirement already satisfied: msrest>=0.6.10 in /usr/local/lib/python3.6/dist-packages (from azure-storage-blob>=12.0->mlflow->pycaret) (0.6.19)\n",
            "Requirement already satisfied: cryptography>=2.1.4 in /usr/local/lib/python3.6/dist-packages (from azure-storage-blob>=12.0->mlflow->pycaret) (3.2.1)\n",
            "Requirement already satisfied: azure-core<2.0.0,>=1.6.0 in /usr/local/lib/python3.6/dist-packages (from azure-storage-blob>=12.0->mlflow->pycaret) (1.8.2)\n",
            "Requirement already satisfied: Mako in /usr/local/lib/python3.6/dist-packages (from alembic<=1.4.1->mlflow->pycaret) (1.1.3)\n",
            "Requirement already satisfied: python-editor>=0.3 in /usr/local/lib/python3.6/dist-packages (from alembic<=1.4.1->mlflow->pycaret) (1.0.4)\n",
            "Requirement already satisfied: llvmlite<0.32.0,>=0.31.0dev0 in /usr/local/lib/python3.6/dist-packages (from numba!=0.47,>=0.46->umap-learn->pycaret) (0.31.0)\n",
            "Requirement already satisfied: networkx>=2.4 in /usr/local/lib/python3.6/dist-packages (from visions[type_image_path]==0.5.0->pandas-profiling>=2.8.0->pycaret) (2.5)\n",
            "Requirement already satisfied: imagehash; extra == \"type_image_path\" in /usr/local/lib/python3.6/dist-packages (from visions[type_image_path]==0.5.0->pandas-profiling>=2.8.0->pycaret) (4.1.0)\n",
            "Requirement already satisfied: ptyprocess>=0.5 in /usr/local/lib/python3.6/dist-packages (from pexpect; sys_platform != \"win32\"->IPython->pycaret) (0.6.0)\n",
            "Requirement already satisfied: ipython-genutils in /usr/local/lib/python3.6/dist-packages (from traitlets>=4.2->IPython->pycaret) (0.2.0)\n",
            "Requirement already satisfied: wcwidth in /usr/local/lib/python3.6/dist-packages (from prompt-toolkit<2.0.0,>=1.0.4->IPython->pycaret) (0.2.5)\n",
            "Requirement already satisfied: patsy>=0.4.0 in /usr/local/lib/python3.6/dist-packages (from statsmodels->pyod->pycaret) (0.5.1)\n",
            "Requirement already satisfied: notebook>=4.4.1 in /usr/local/lib/python3.6/dist-packages (from widgetsnbextension~=3.5.0->ipywidgets->pycaret) (5.3.1)\n",
            "Requirement already satisfied: jupyter-core in /usr/local/lib/python3.6/dist-packages (from nbformat>=4.2.0->ipywidgets->pycaret) (4.6.3)\n",
            "Requirement already satisfied: jsonschema!=2.5.0,>=2.4 in /usr/local/lib/python3.6/dist-packages (from nbformat>=4.2.0->ipywidgets->pycaret) (2.6.0)\n",
            "Requirement already satisfied: jupyter-client in /usr/local/lib/python3.6/dist-packages (from ipykernel>=4.5.1->ipywidgets->pycaret) (5.3.5)\n",
            "Requirement already satisfied: tornado>=4.0 in /usr/local/lib/python3.6/dist-packages (from ipykernel>=4.5.1->ipywidgets->pycaret) (5.1.1)\n",
            "Requirement already satisfied: zipp>=0.5 in /usr/local/lib/python3.6/dist-packages (from importlib-metadata>=0.20; python_version < \"3.8\"->catalogue<1.1.0,>=0.0.7->spacy->pycaret) (3.3.1)\n",
            "Requirement already satisfied: smmap<4,>=3.0.1 in /usr/local/lib/python3.6/dist-packages (from gitdb<5,>=4.0.1->gitpython>=2.1.0->mlflow->pycaret) (3.0.4)\n",
            "Requirement already satisfied: requests-oauthlib>=0.5.0 in /usr/local/lib/python3.6/dist-packages (from msrest>=0.6.10->azure-storage-blob>=12.0->mlflow->pycaret) (1.3.0)\n",
            "Requirement already satisfied: isodate>=0.6.0 in /usr/local/lib/python3.6/dist-packages (from msrest>=0.6.10->azure-storage-blob>=12.0->mlflow->pycaret) (0.6.0)\n",
            "Requirement already satisfied: cffi!=1.11.3,>=1.8 in /usr/local/lib/python3.6/dist-packages (from cryptography>=2.1.4->azure-storage-blob>=12.0->mlflow->pycaret) (1.14.3)\n",
            "Requirement already satisfied: PyWavelets in /usr/local/lib/python3.6/dist-packages (from imagehash; extra == \"type_image_path\"->visions[type_image_path]==0.5.0->pandas-profiling>=2.8.0->pycaret) (1.1.1)\n",
            "Requirement already satisfied: nbconvert in /usr/local/lib/python3.6/dist-packages (from notebook>=4.4.1->widgetsnbextension~=3.5.0->ipywidgets->pycaret) (5.6.1)\n",
            "Requirement already satisfied: terminado>=0.8.1 in /usr/local/lib/python3.6/dist-packages (from notebook>=4.4.1->widgetsnbextension~=3.5.0->ipywidgets->pycaret) (0.9.1)\n",
            "Requirement already satisfied: Send2Trash in /usr/local/lib/python3.6/dist-packages (from notebook>=4.4.1->widgetsnbextension~=3.5.0->ipywidgets->pycaret) (1.5.0)\n",
            "Requirement already satisfied: pyzmq>=13 in /usr/local/lib/python3.6/dist-packages (from jupyter-client->ipykernel>=4.5.1->ipywidgets->pycaret) (19.0.2)\n",
            "Requirement already satisfied: oauthlib>=3.0.0 in /usr/local/lib/python3.6/dist-packages (from requests-oauthlib>=0.5.0->msrest>=0.6.10->azure-storage-blob>=12.0->mlflow->pycaret) (3.1.0)\n",
            "Requirement already satisfied: pycparser in /usr/local/lib/python3.6/dist-packages (from cffi!=1.11.3,>=1.8->cryptography>=2.1.4->azure-storage-blob>=12.0->mlflow->pycaret) (2.20)\n",
            "Requirement already satisfied: mistune<2,>=0.8.1 in /usr/local/lib/python3.6/dist-packages (from nbconvert->notebook>=4.4.1->widgetsnbextension~=3.5.0->ipywidgets->pycaret) (0.8.4)\n",
            "Requirement already satisfied: defusedxml in /usr/local/lib/python3.6/dist-packages (from nbconvert->notebook>=4.4.1->widgetsnbextension~=3.5.0->ipywidgets->pycaret) (0.6.0)\n",
            "Requirement already satisfied: bleach in /usr/local/lib/python3.6/dist-packages (from nbconvert->notebook>=4.4.1->widgetsnbextension~=3.5.0->ipywidgets->pycaret) (3.2.1)\n",
            "Requirement already satisfied: pandocfilters>=1.4.1 in /usr/local/lib/python3.6/dist-packages (from nbconvert->notebook>=4.4.1->widgetsnbextension~=3.5.0->ipywidgets->pycaret) (1.4.2)\n",
            "Requirement already satisfied: testpath in /usr/local/lib/python3.6/dist-packages (from nbconvert->notebook>=4.4.1->widgetsnbextension~=3.5.0->ipywidgets->pycaret) (0.4.4)\n",
            "Requirement already satisfied: webencodings in /usr/local/lib/python3.6/dist-packages (from bleach->nbconvert->notebook>=4.4.1->widgetsnbextension~=3.5.0->ipywidgets->pycaret) (0.5.1)\n",
            "Requirement already satisfied: packaging in /usr/local/lib/python3.6/dist-packages (from bleach->nbconvert->notebook>=4.4.1->widgetsnbextension~=3.5.0->ipywidgets->pycaret) (20.4)\n"
          ],
          "name": "stdout"
        }
      ]
    },
    {
      "cell_type": "code",
      "metadata": {
        "id": "FUw9jGQ6e8zi",
        "outputId": "e23f2165-5902-46a0-ea11-67011d94ac53",
        "colab": {
          "base_uri": "https://localhost:8080/",
          "height": 37
        }
      },
      "source": [
        "from pycaret.utils import version\n",
        "version()"
      ],
      "execution_count": null,
      "outputs": [
        {
          "output_type": "execute_result",
          "data": {
            "application/vnd.google.colaboratory.intrinsic+json": {
              "type": "string"
            },
            "text/plain": [
              "'2.2.0'"
            ]
          },
          "metadata": {
            "tags": []
          },
          "execution_count": 2
        }
      ]
    },
    {
      "cell_type": "markdown",
      "metadata": {
        "id": "oA99ILJFHqa3"
      },
      "source": [
        "Installing Autocorrect:\n",
        "+ https://github.com/phatpiglet/autocorrect\n"
      ]
    },
    {
      "cell_type": "code",
      "metadata": {
        "id": "LX_UZpHaHtYN",
        "outputId": "e3009b0b-897c-4164-e5fa-f81c5afb544a",
        "colab": {
          "base_uri": "https://localhost:8080/",
          "height": 35
        }
      },
      "source": [
        "!pip install autocorrect"
      ],
      "execution_count": null,
      "outputs": [
        {
          "output_type": "stream",
          "text": [
            "Requirement already satisfied: autocorrect in /usr/local/lib/python3.6/dist-packages (2.2.2)\n"
          ],
          "name": "stdout"
        }
      ]
    },
    {
      "cell_type": "code",
      "metadata": {
        "id": "8i2Pou3JHZ4l"
      },
      "source": [
        "import nltk\n",
        "import pycaret"
      ],
      "execution_count": null,
      "outputs": []
    },
    {
      "cell_type": "markdown",
      "metadata": {
        "id": "IB2bZLB4umXm"
      },
      "source": [
        "# Processing"
      ]
    },
    {
      "cell_type": "markdown",
      "metadata": {
        "id": "TPdVrOSDup0Q"
      },
      "source": [
        "## I. Tokenization"
      ]
    },
    {
      "cell_type": "code",
      "metadata": {
        "id": "cBGITeID1qQL",
        "outputId": "cc80b0a3-c4f9-499f-a376-4584507fd0a6",
        "colab": {
          "base_uri": "https://localhost:8080/"
        }
      },
      "source": [
        "# importar el modulo de tokenizacion de nltk\n",
        "from nltk.tokenize import sent_tokenize,word_tokenize\n",
        "nltk.download('punkt')"
      ],
      "execution_count": null,
      "outputs": [
        {
          "output_type": "stream",
          "text": [
            "[nltk_data] Downloading package punkt to /root/nltk_data...\n",
            "[nltk_data]   Package punkt is already up-to-date!\n"
          ],
          "name": "stdout"
        },
        {
          "output_type": "execute_result",
          "data": {
            "text/plain": [
              "True"
            ]
          },
          "metadata": {
            "tags": []
          },
          "execution_count": 5
        }
      ]
    },
    {
      "cell_type": "code",
      "metadata": {
        "id": "IWoV0d8x2qAF",
        "outputId": "c55d7c73-e139-4fd8-91c5-7c1e3083c4c1",
        "colab": {
          "base_uri": "https://localhost:8080/"
        }
      },
      "source": [
        "example_text = \"Esto es un ejemplo. O noooo?\"\n",
        "print(sent_tokenize(example_text))\n",
        "print(word_tokenize(example_text))"
      ],
      "execution_count": null,
      "outputs": [
        {
          "output_type": "stream",
          "text": [
            "['Esto es un ejemplo.', 'O noooo?']\n",
            "['Esto', 'es', 'un', 'ejemplo', '.', 'O', 'noooo', '?']\n"
          ],
          "name": "stdout"
        }
      ]
    },
    {
      "cell_type": "code",
      "metadata": {
        "id": "_dSxot7HuuWo",
        "outputId": "1f4bdecc-6227-48e5-ff4c-882a00d8d4f0",
        "colab": {
          "base_uri": "https://localhost:8080/"
        }
      },
      "source": [
        "# Texto de ejemplo. Ene ste caso usamos las tres comillas para separar\n",
        "# el texto en varias lineas dentro de nuestro codigo.\n",
        "example_text = ''' Hola mi nombre es Mario. Mi cuenta de github\n",
        "es uumami. Estas listo para convertirte en un experto de NLP.\n",
        "Ezta horacion contiene muchos erroress gramaticales.\n",
        "'''\n",
        "print(example_text)\n",
        "print(sent_tokenize(example_text))\n",
        "print(word_tokenize(example_text))"
      ],
      "execution_count": null,
      "outputs": [
        {
          "output_type": "stream",
          "text": [
            " Hola mi nombre es Mario. Mi cuenta de github\n",
            "es uumami. Estas listo para convertirte en un experto de NLP.\n",
            "Ezta horacion contiene muchos erroress gramaticales.\n",
            "\n",
            "[' Hola mi nombre es Mario.', 'Mi cuenta de github\\nes uumami.', 'Estas listo para convertirte en un experto de NLP.', 'Ezta horacion contiene muchos erroress gramaticales.']\n",
            "['Hola', 'mi', 'nombre', 'es', 'Mario', '.', 'Mi', 'cuenta', 'de', 'github', 'es', 'uumami', '.', 'Estas', 'listo', 'para', 'convertirte', 'en', 'un', 'experto', 'de', 'NLP', '.', 'Ezta', 'horacion', 'contiene', 'muchos', 'erroress', 'gramaticales', '.']\n"
          ],
          "name": "stdout"
        }
      ]
    },
    {
      "cell_type": "code",
      "metadata": {
        "id": "4tj0dRqdGOSf"
      },
      "source": [
        "texto = word_tokenize(example_text)"
      ],
      "execution_count": null,
      "outputs": []
    },
    {
      "cell_type": "markdown",
      "metadata": {
        "id": "JBTNkxBxIa5o"
      },
      "source": [
        "# II. Spell check"
      ]
    },
    {
      "cell_type": "code",
      "metadata": {
        "id": "8lxqzZ_oRs2_"
      },
      "source": [
        "from autocorrect import Speller"
      ],
      "execution_count": null,
      "outputs": []
    },
    {
      "cell_type": "code",
      "metadata": {
        "id": "j_Yb6k0GIfi4"
      },
      "source": [
        "spell = Speller(lang='es')"
      ],
      "execution_count": null,
      "outputs": []
    },
    {
      "cell_type": "code",
      "metadata": {
        "id": "if_n9aZ8Iitl",
        "outputId": "166da91d-364a-40f7-ecde-abb7403a916e",
        "colab": {
          "base_uri": "https://localhost:8080/",
          "height": 569
        }
      },
      "source": [
        "corrected_text = [spell(i) for i in texto]\n",
        "corrected_text"
      ],
      "execution_count": null,
      "outputs": [
        {
          "output_type": "execute_result",
          "data": {
            "text/plain": [
              "['Hola',\n",
              " 'mi',\n",
              " 'nombre',\n",
              " 'es',\n",
              " 'Mario',\n",
              " '.',\n",
              " 'Mi',\n",
              " 'cuenta',\n",
              " 'de',\n",
              " 'github',\n",
              " 'es',\n",
              " 'umami',\n",
              " '.',\n",
              " 'Estas',\n",
              " 'listo',\n",
              " 'para',\n",
              " 'convertirte',\n",
              " 'en',\n",
              " 'un',\n",
              " 'experto',\n",
              " 'de',\n",
              " 'LP',\n",
              " '.',\n",
              " 'Esta',\n",
              " 'horacio',\n",
              " 'contiene',\n",
              " 'muchos',\n",
              " 'errores',\n",
              " 'gramaticales',\n",
              " '.']"
            ]
          },
          "metadata": {
            "tags": []
          },
          "execution_count": 11
        }
      ]
    },
    {
      "cell_type": "markdown",
      "metadata": {
        "id": "nVw9RFFEP9l-"
      },
      "source": [
        "## III. Stopwords"
      ]
    },
    {
      "cell_type": "code",
      "metadata": {
        "id": "gZAzvIOnRmYG",
        "outputId": "d4dffe01-7daa-4bcc-e6a3-db188b11a9d3",
        "colab": {
          "base_uri": "https://localhost:8080/",
          "height": 72
        }
      },
      "source": [
        "from nltk.corpus import stopwords\n",
        "nltk.download('stopwords')"
      ],
      "execution_count": null,
      "outputs": [
        {
          "output_type": "stream",
          "text": [
            "[nltk_data] Downloading package stopwords to /root/nltk_data...\n",
            "[nltk_data]   Package stopwords is already up-to-date!\n"
          ],
          "name": "stdout"
        },
        {
          "output_type": "execute_result",
          "data": {
            "text/plain": [
              "True"
            ]
          },
          "metadata": {
            "tags": []
          },
          "execution_count": 12
        }
      ]
    },
    {
      "cell_type": "code",
      "metadata": {
        "id": "cjjDE2POQ2H8",
        "outputId": "11699ef9-3be0-422c-f735-39655c6a3f79",
        "colab": {
          "base_uri": "https://localhost:8080/",
          "height": 348
        }
      },
      "source": [
        "stopwords_en = stopwords.words('english')\n",
        "\n",
        "counter = 0\n",
        "for w in stopwords_en:\n",
        "  print(w, end=', ')\n",
        "  counter += 1\n",
        "  if (counter%10)== 0:\n",
        "    print()\n"
      ],
      "execution_count": null,
      "outputs": [
        {
          "output_type": "stream",
          "text": [
            "i, me, my, myself, we, our, ours, ourselves, you, you're, \n",
            "you've, you'll, you'd, your, yours, yourself, yourselves, he, him, his, \n",
            "himself, she, she's, her, hers, herself, it, it's, its, itself, \n",
            "they, them, their, theirs, themselves, what, which, who, whom, this, \n",
            "that, that'll, these, those, am, is, are, was, were, be, \n",
            "been, being, have, has, had, having, do, does, did, doing, \n",
            "a, an, the, and, but, if, or, because, as, until, \n",
            "while, of, at, by, for, with, about, against, between, into, \n",
            "through, during, before, after, above, below, to, from, up, down, \n",
            "in, out, on, off, over, under, again, further, then, once, \n",
            "here, there, when, where, why, how, all, any, both, each, \n",
            "few, more, most, other, some, such, no, nor, not, only, \n",
            "own, same, so, than, too, very, s, t, can, will, \n",
            "just, don, don't, should, should've, now, d, ll, m, o, \n",
            "re, ve, y, ain, aren, aren't, couldn, couldn't, didn, didn't, \n",
            "doesn, doesn't, hadn, hadn't, hasn, hasn't, haven, haven't, isn, isn't, \n",
            "ma, mightn, mightn't, mustn, mustn't, needn, needn't, shan, shan't, shouldn, \n",
            "shouldn't, wasn, wasn't, weren, weren't, won, won't, wouldn, wouldn't, "
          ],
          "name": "stdout"
        }
      ]
    },
    {
      "cell_type": "code",
      "metadata": {
        "id": "bc2il63oQB4q",
        "outputId": "03598810-81fc-4ceb-8871-e7ef806a33e8",
        "colab": {
          "base_uri": "https://localhost:8080/",
          "height": 626
        }
      },
      "source": [
        "stopwords_es = stopwords.words('spanish')\n",
        "\n",
        "counter = 0\n",
        "for w in stopwords_es:\n",
        "  print(w, end=', ')\n",
        "  counter += 1\n",
        "  if (counter%10)== 0:\n",
        "    print()\n"
      ],
      "execution_count": null,
      "outputs": [
        {
          "output_type": "stream",
          "text": [
            "de, la, que, el, en, y, a, los, del, se, \n",
            "las, por, un, para, con, no, una, su, al, lo, \n",
            "como, más, pero, sus, le, ya, o, este, sí, porque, \n",
            "esta, entre, cuando, muy, sin, sobre, también, me, hasta, hay, \n",
            "donde, quien, desde, todo, nos, durante, todos, uno, les, ni, \n",
            "contra, otros, ese, eso, ante, ellos, e, esto, mí, antes, \n",
            "algunos, qué, unos, yo, otro, otras, otra, él, tanto, esa, \n",
            "estos, mucho, quienes, nada, muchos, cual, poco, ella, estar, estas, \n",
            "algunas, algo, nosotros, mi, mis, tú, te, ti, tu, tus, \n",
            "ellas, nosotras, vosotros, vosotras, os, mío, mía, míos, mías, tuyo, \n",
            "tuya, tuyos, tuyas, suyo, suya, suyos, suyas, nuestro, nuestra, nuestros, \n",
            "nuestras, vuestro, vuestra, vuestros, vuestras, esos, esas, estoy, estás, está, \n",
            "estamos, estáis, están, esté, estés, estemos, estéis, estén, estaré, estarás, \n",
            "estará, estaremos, estaréis, estarán, estaría, estarías, estaríamos, estaríais, estarían, estaba, \n",
            "estabas, estábamos, estabais, estaban, estuve, estuviste, estuvo, estuvimos, estuvisteis, estuvieron, \n",
            "estuviera, estuvieras, estuviéramos, estuvierais, estuvieran, estuviese, estuvieses, estuviésemos, estuvieseis, estuviesen, \n",
            "estando, estado, estada, estados, estadas, estad, he, has, ha, hemos, \n",
            "habéis, han, haya, hayas, hayamos, hayáis, hayan, habré, habrás, habrá, \n",
            "habremos, habréis, habrán, habría, habrías, habríamos, habríais, habrían, había, habías, \n",
            "habíamos, habíais, habían, hube, hubiste, hubo, hubimos, hubisteis, hubieron, hubiera, \n",
            "hubieras, hubiéramos, hubierais, hubieran, hubiese, hubieses, hubiésemos, hubieseis, hubiesen, habiendo, \n",
            "habido, habida, habidos, habidas, soy, eres, es, somos, sois, son, \n",
            "sea, seas, seamos, seáis, sean, seré, serás, será, seremos, seréis, \n",
            "serán, sería, serías, seríamos, seríais, serían, era, eras, éramos, erais, \n",
            "eran, fui, fuiste, fue, fuimos, fuisteis, fueron, fuera, fueras, fuéramos, \n",
            "fuerais, fueran, fuese, fueses, fuésemos, fueseis, fuesen, sintiendo, sentido, sentida, \n",
            "sentidos, sentidas, siente, sentid, tengo, tienes, tiene, tenemos, tenéis, tienen, \n",
            "tenga, tengas, tengamos, tengáis, tengan, tendré, tendrás, tendrá, tendremos, tendréis, \n",
            "tendrán, tendría, tendrías, tendríamos, tendríais, tendrían, tenía, tenías, teníamos, teníais, \n",
            "tenían, tuve, tuviste, tuvo, tuvimos, tuvisteis, tuvieron, tuviera, tuvieras, tuviéramos, \n",
            "tuvierais, tuvieran, tuviese, tuvieses, tuviésemos, tuvieseis, tuviesen, teniendo, tenido, tenida, \n",
            "tenidos, tenidas, tened, "
          ],
          "name": "stdout"
        }
      ]
    },
    {
      "cell_type": "code",
      "metadata": {
        "id": "-kw4_Nz3UmJm"
      },
      "source": [
        "def print_text(texx = [], module=10, sep=' '):\n",
        "  counter = 0\n",
        "  for w in texx:\n",
        "    print(w, end=sep)\n",
        "    counter += 1\n",
        "    if (counter % module)== 0:\n",
        "      print()\n",
        "  print('\\n ------- Tamano del texto: ', len(texx))\n",
        "  print()"
      ],
      "execution_count": null,
      "outputs": []
    },
    {
      "cell_type": "code",
      "metadata": {
        "id": "ITCTj4EFULL-",
        "outputId": "6f33db6c-0fb2-4693-c2c0-63e8a8cb46d6",
        "colab": {
          "base_uri": "https://localhost:8080/",
          "height": 256
        }
      },
      "source": [
        "# Removamos las stopwords de nuestro texto\n",
        "print('\\n Texto corregido:')\n",
        "print_text(corrected_text, module=11)\n",
        "\n",
        "short_text = [w for w in corrected_text if w not in stopwords_es]\n",
        "print('\\n Texto sin stopwords:')\n",
        "print_text(short_text, module=11)"
      ],
      "execution_count": null,
      "outputs": [
        {
          "output_type": "stream",
          "text": [
            "\n",
            " Texto corregido:\n",
            "Hola mi nombre es Mario . Mi cuenta de github es \n",
            "umami . Estas listo para convertirte en un experto de LP \n",
            ". Esta horacio contiene muchos errores gramaticales . \n",
            " ------- Tamano del texto:  30\n",
            "\n",
            "\n",
            " Texto sin stopwords:\n",
            "Hola nombre Mario . Mi cuenta github umami . Estas listo \n",
            "convertirte experto LP . Esta horacio contiene errores gramaticales . \n",
            " ------- Tamano del texto:  21\n",
            "\n"
          ],
          "name": "stdout"
        }
      ]
    },
    {
      "cell_type": "markdown",
      "metadata": {
        "id": "KzxM8D-HEvA-"
      },
      "source": [
        "## IV. Stemmer"
      ]
    },
    {
      "cell_type": "code",
      "metadata": {
        "id": "bqzc2xAj8uyt"
      },
      "source": [
        "from nltk.stem import SnowballStemmer\n",
        "stemmer = SnowballStemmer('spanish')"
      ],
      "execution_count": null,
      "outputs": []
    },
    {
      "cell_type": "code",
      "metadata": {
        "id": "pNd5c-nyMJ1W",
        "outputId": "431eecc3-7cb8-4f49-87d6-81b1533332ec",
        "colab": {
          "base_uri": "https://localhost:8080/",
          "height": 35
        }
      },
      "source": [
        "[stemmer.stem(i) for i in ['corriendo', 'correr', 'corremos',\n",
        "                           'corriamos','corrian', \n",
        "                           'correlacion', 'correlacionado']]"
      ],
      "execution_count": null,
      "outputs": [
        {
          "output_type": "execute_result",
          "data": {
            "text/plain": [
              "['corr', 'corr', 'corr', 'corri', 'corri', 'correlacion', 'correlacion']"
            ]
          },
          "metadata": {
            "tags": []
          },
          "execution_count": 18
        }
      ]
    },
    {
      "cell_type": "code",
      "metadata": {
        "id": "J0srEErAF0Nv",
        "outputId": "1584513c-7d17-451b-a935-ce6f8db55d44",
        "colab": {
          "base_uri": "https://localhost:8080/",
          "height": 109
        }
      },
      "source": [
        "stemmed_text = [stemmer.stem(i) for i in corrected_text]\n",
        "print_text(stemmed_text, module=11)"
      ],
      "execution_count": null,
      "outputs": [
        {
          "output_type": "stream",
          "text": [
            "hol mi nombr es mari . mi cuent de github es \n",
            "umami . estas list par convertirt en un expert de lp \n",
            ". esta horaci contien much error gramatical . \n",
            " ------- Tamano del texto:  30\n",
            "\n"
          ],
          "name": "stdout"
        }
      ]
    },
    {
      "cell_type": "markdown",
      "metadata": {
        "id": "jVDE_3X7p5wQ"
      },
      "source": [
        "## V. Lemmatizing"
      ]
    },
    {
      "cell_type": "markdown",
      "metadata": {
        "id": "O0fWcC8hrXkl"
      },
      "source": [
        "Dado que el texto que estamos anlizaando se encuenntra en espanol, es necesario buscar una funcion disenyada para nuestra lengua.  \n",
        "En este nos puede ayudar spacy.  \n",
        "+ spacy: https://spacy.io/usage \n",
        "+ spanish lemmatizer: https://spacy.io/models/es#es_core_news_sm "
      ]
    },
    {
      "cell_type": "code",
      "metadata": {
        "id": "bYa1_Y_HuoXa",
        "outputId": "34ca9fd1-c14e-4e7c-f8aa-762b9041cf92",
        "colab": {
          "base_uri": "https://localhost:8080/",
          "height": 460
        }
      },
      "source": [
        "!python3 -m spacy download es_core_news_sm"
      ],
      "execution_count": null,
      "outputs": [
        {
          "output_type": "stream",
          "text": [
            "Requirement already satisfied: es_core_news_sm==2.2.5 from https://github.com/explosion/spacy-models/releases/download/es_core_news_sm-2.2.5/es_core_news_sm-2.2.5.tar.gz#egg=es_core_news_sm==2.2.5 in /usr/local/lib/python3.6/dist-packages (2.2.5)\n",
            "Requirement already satisfied: spacy>=2.2.2 in /usr/local/lib/python3.6/dist-packages (from es_core_news_sm==2.2.5) (2.2.4)\n",
            "Requirement already satisfied: wasabi<1.1.0,>=0.4.0 in /usr/local/lib/python3.6/dist-packages (from spacy>=2.2.2->es_core_news_sm==2.2.5) (0.8.0)\n",
            "Requirement already satisfied: preshed<3.1.0,>=3.0.2 in /usr/local/lib/python3.6/dist-packages (from spacy>=2.2.2->es_core_news_sm==2.2.5) (3.0.2)\n",
            "Requirement already satisfied: srsly<1.1.0,>=1.0.2 in /usr/local/lib/python3.6/dist-packages (from spacy>=2.2.2->es_core_news_sm==2.2.5) (1.0.2)\n",
            "Requirement already satisfied: thinc==7.4.0 in /usr/local/lib/python3.6/dist-packages (from spacy>=2.2.2->es_core_news_sm==2.2.5) (7.4.0)\n",
            "Requirement already satisfied: numpy>=1.15.0 in /usr/local/lib/python3.6/dist-packages (from spacy>=2.2.2->es_core_news_sm==2.2.5) (1.18.5)\n",
            "Requirement already satisfied: cymem<2.1.0,>=2.0.2 in /usr/local/lib/python3.6/dist-packages (from spacy>=2.2.2->es_core_news_sm==2.2.5) (2.0.3)\n",
            "Requirement already satisfied: plac<1.2.0,>=0.9.6 in /usr/local/lib/python3.6/dist-packages (from spacy>=2.2.2->es_core_news_sm==2.2.5) (1.1.3)\n",
            "Requirement already satisfied: setuptools in /usr/local/lib/python3.6/dist-packages (from spacy>=2.2.2->es_core_news_sm==2.2.5) (50.3.2)\n",
            "Requirement already satisfied: tqdm<5.0.0,>=4.38.0 in /usr/local/lib/python3.6/dist-packages (from spacy>=2.2.2->es_core_news_sm==2.2.5) (4.51.0)\n",
            "Requirement already satisfied: requests<3.0.0,>=2.13.0 in /usr/local/lib/python3.6/dist-packages (from spacy>=2.2.2->es_core_news_sm==2.2.5) (2.23.0)\n",
            "Requirement already satisfied: murmurhash<1.1.0,>=0.28.0 in /usr/local/lib/python3.6/dist-packages (from spacy>=2.2.2->es_core_news_sm==2.2.5) (1.0.2)\n",
            "Requirement already satisfied: catalogue<1.1.0,>=0.0.7 in /usr/local/lib/python3.6/dist-packages (from spacy>=2.2.2->es_core_news_sm==2.2.5) (1.0.0)\n",
            "Requirement already satisfied: blis<0.5.0,>=0.4.0 in /usr/local/lib/python3.6/dist-packages (from spacy>=2.2.2->es_core_news_sm==2.2.5) (0.4.1)\n",
            "Requirement already satisfied: chardet<4,>=3.0.2 in /usr/local/lib/python3.6/dist-packages (from requests<3.0.0,>=2.13.0->spacy>=2.2.2->es_core_news_sm==2.2.5) (3.0.4)\n",
            "Requirement already satisfied: idna<3,>=2.5 in /usr/local/lib/python3.6/dist-packages (from requests<3.0.0,>=2.13.0->spacy>=2.2.2->es_core_news_sm==2.2.5) (2.10)\n",
            "Requirement already satisfied: certifi>=2017.4.17 in /usr/local/lib/python3.6/dist-packages (from requests<3.0.0,>=2.13.0->spacy>=2.2.2->es_core_news_sm==2.2.5) (2020.6.20)\n",
            "Requirement already satisfied: urllib3!=1.25.0,!=1.25.1,<1.26,>=1.21.1 in /usr/local/lib/python3.6/dist-packages (from requests<3.0.0,>=2.13.0->spacy>=2.2.2->es_core_news_sm==2.2.5) (1.24.3)\n",
            "Requirement already satisfied: importlib-metadata>=0.20; python_version < \"3.8\" in /usr/local/lib/python3.6/dist-packages (from catalogue<1.1.0,>=0.0.7->spacy>=2.2.2->es_core_news_sm==2.2.5) (2.0.0)\n",
            "Requirement already satisfied: zipp>=0.5 in /usr/local/lib/python3.6/dist-packages (from importlib-metadata>=0.20; python_version < \"3.8\"->catalogue<1.1.0,>=0.0.7->spacy>=2.2.2->es_core_news_sm==2.2.5) (3.3.1)\n",
            "\u001b[38;5;2m✔ Download and installation successful\u001b[0m\n",
            "You can now load the model via spacy.load('es_core_news_sm')\n"
          ],
          "name": "stdout"
        }
      ]
    },
    {
      "cell_type": "code",
      "metadata": {
        "id": "N_K-usVxvVhY"
      },
      "source": [
        "# Importar spacy y el lemmatizer en espanyol\n",
        "import spacy\n",
        "import es_core_news_sm\n",
        "nlp = es_core_news_sm.load()"
      ],
      "execution_count": null,
      "outputs": []
    },
    {
      "cell_type": "code",
      "metadata": {
        "id": "iiKoAF0p1RyP",
        "outputId": "6bafeded-5fab-4db7-89b9-21c2d22a2caa",
        "colab": {
          "base_uri": "https://localhost:8080/",
          "height": 201
        }
      },
      "source": [
        "ex_lem = \"Hola estoy aprendiendo a utilizar inteligencia artificial. \\n\"\n",
        "print(ex_lem)\n",
        "ex_lem = word_tokenize(ex_lem)\n",
        "for w in ex_lem:\n",
        "  doc = nlp(w)\n",
        "  for word in doc:\n",
        "    print(word.text, \"=>\", word.lemma_)"
      ],
      "execution_count": null,
      "outputs": [
        {
          "output_type": "stream",
          "text": [
            "Hola estoy aprendiendo a utilizar inteligencia artificial. \n",
            "\n",
            "Hola => Hola\n",
            "estoy => estar\n",
            "aprendiendo => aprender\n",
            "a => a\n",
            "utilizar => utilizar\n",
            "inteligencia => inteligencia\n",
            "artificial => artificial\n",
            ". => .\n"
          ],
          "name": "stdout"
        }
      ]
    },
    {
      "cell_type": "markdown",
      "metadata": {
        "id": "xzoQIpJc_o_W"
      },
      "source": [
        "Creemos una funcion que lemamtize un texto que ya este separado en tokens (tokenized/tokenizado)."
      ]
    },
    {
      "cell_type": "code",
      "metadata": {
        "id": "jKdHUg2D3O7h"
      },
      "source": [
        "def lemm_es(txx=[]):\n",
        "  '''\n",
        "  txx is a list or tokenized text\n",
        "  retunrs: lemmatized words.\n",
        "  '''\n",
        "  lemm_text = []\n",
        "  for w in txx:\n",
        "    lemm_text.append(nlp(w)[0].lemma_)\n",
        "  return lemm_text"
      ],
      "execution_count": null,
      "outputs": []
    },
    {
      "cell_type": "markdown",
      "metadata": {
        "id": "SU8f6H6-CKnQ"
      },
      "source": [
        "Apliquemos el lemmatizer a nuestro texto corregido, y sin stopwords."
      ]
    },
    {
      "cell_type": "code",
      "metadata": {
        "id": "_RsBRAdN31Mg",
        "outputId": "17d08d5d-725f-46bc-be27-2203f6a35457",
        "colab": {
          "base_uri": "https://localhost:8080/",
          "height": 164
        }
      },
      "source": [
        "lemm_text = lemm_es(short_text)\n",
        "\n",
        "print_text(short_text, module=11)\n",
        "print_text(lemm_text, module=11)"
      ],
      "execution_count": null,
      "outputs": [
        {
          "output_type": "stream",
          "text": [
            "Hola nombre Mario . Mi cuenta github umami . Estas listo \n",
            "convertirte experto LP . Esta horacio contiene errores gramaticales . \n",
            " ------- Tamano del texto:  21\n",
            "\n",
            "Hola nombrar Mario . Mi contar github umami . Estas listar \n",
            "convertirte experto LP . Esta horacio contener error gramatical . \n",
            " ------- Tamano del texto:  21\n",
            "\n"
          ],
          "name": "stdout"
        }
      ]
    },
    {
      "cell_type": "markdown",
      "metadata": {
        "id": "DPkhAoiaCPX8"
      },
      "source": [
        "## VI. Tag"
      ]
    },
    {
      "cell_type": "code",
      "metadata": {
        "id": "PiqzAWi-Ciu8"
      },
      "source": [
        "def pos_es(txx=[]):\n",
        "  '''\n",
        "  txx is a list or tokenized text\n",
        "  retunrs: lemmatized words.\n",
        "  '''\n",
        "  pos_text = []\n",
        "  for w in txx:\n",
        "    pos_text.append(nlp(w)[0].pos_)\n",
        "  return pos_text"
      ],
      "execution_count": null,
      "outputs": []
    },
    {
      "cell_type": "code",
      "metadata": {
        "id": "Y7c95BpbCrfZ",
        "outputId": "cf83b9f1-2c78-4fa0-cdcf-53fc88052a90",
        "colab": {
          "base_uri": "https://localhost:8080/",
          "height": 164
        }
      },
      "source": [
        "pos_text = pos_es(short_text)\n",
        "\n",
        "print_text(short_text, module=11)\n",
        "print_text(pos_text, module=11)"
      ],
      "execution_count": null,
      "outputs": [
        {
          "output_type": "stream",
          "text": [
            "Hola nombre Mario . Mi cuenta github umami . Estas listo \n",
            "convertirte experto LP . Esta horacio contiene errores gramaticales . \n",
            " ------- Tamano del texto:  21\n",
            "\n",
            "PROPN NOUN PROPN PUNCT DET VERB PROPN PROPN PUNCT PRON ADJ \n",
            "PROPN ADJ NOUN PUNCT PRON ADV VERB NOUN ADJ PUNCT \n",
            " ------- Tamano del texto:  21\n",
            "\n"
          ],
          "name": "stdout"
        }
      ]
    },
    {
      "cell_type": "markdown",
      "metadata": {
        "id": "V3Caoz2DOf-f"
      },
      "source": [
        "# Bag of Words (Bolsa de Palabras)"
      ]
    },
    {
      "cell_type": "markdown",
      "metadata": {
        "id": "nXF0I5m6OkQ8"
      },
      "source": [
        "https://es.wikipedia.org/wiki/Modelo_bolsa_de_palabras "
      ]
    },
    {
      "cell_type": "markdown",
      "metadata": {
        "id": "-larB4JKg1Ta"
      },
      "source": [
        "En esta seccion realizaremos analisis de sentimientos de twitter. La idea es clasificar si un twitt expresa senetimientos positivos o negativos.  \n",
        "Este proyecto nos podria ayudar a evaluar el valor de nuestra marca, la aceptacion de un nuevo producto en el mercado, o analizar tendencias de la bolsa de valores.  \n",
        "\n",
        "Si aplicaramos el analisis de sentimientos a los datos de nuestra start-up podriamos detectar anomalias al momento de contratacion o detectar renuncias antes de tiempo por ejemplo.\n"
      ]
    },
    {
      "cell_type": "markdown",
      "metadata": {
        "id": "Kmv13iCsfJmY"
      },
      "source": [
        "## Procesamiento de Datos"
      ]
    },
    {
      "cell_type": "markdown",
      "metadata": {
        "id": "0gGPPKybre1K"
      },
      "source": [
        "Primero creemos funciones que funcionen a nivel twitt (individual). Posteriormente aplicaremos las funciones a toda la base de datos. De esta forma mantendremos el codigo mas modular."
      ]
    },
    {
      "cell_type": "markdown",
      "metadata": {
        "id": "-r4nRlGrgw2n"
      },
      "source": [
        "### Importar base de datos de twitter"
      ]
    },
    {
      "cell_type": "code",
      "metadata": {
        "id": "o4lGHMctf2Fk",
        "outputId": "3d9a7144-ae44-451f-8f5b-bd5d5d46e987",
        "colab": {
          "base_uri": "https://localhost:8080/",
          "height": 203
        }
      },
      "source": [
        "# Importemos los datos\n",
        "from nltk.corpus import twitter_samples\n",
        "nltk.download('twitter_samples')\n",
        "\n",
        "positive_tweets_ = twitter_samples.strings('positive_tweets.json')\n",
        "negative_tweets_ = twitter_samples.strings('negative_tweets.json')\n",
        "print('\\n Glipse Data')\n",
        "positive_tweets_[0:5]"
      ],
      "execution_count": null,
      "outputs": [
        {
          "output_type": "stream",
          "text": [
            "[nltk_data] Downloading package twitter_samples to /root/nltk_data...\n",
            "[nltk_data]   Package twitter_samples is already up-to-date!\n",
            "\n",
            " Glipse Data\n"
          ],
          "name": "stdout"
        },
        {
          "output_type": "execute_result",
          "data": {
            "text/plain": [
              "['#FollowFriday @France_Inte @PKuchly57 @Milipol_Paris for being top engaged members in my community this week :)',\n",
              " '@Lamb2ja Hey James! How odd :/ Please call our Contact Centre on 02392441234 and we will be able to assist you :) Many thanks!',\n",
              " '@DespiteOfficial we had a listen last night :) As You Bleed is an amazing track. When are you in Scotland?!',\n",
              " '@97sides CONGRATS :)',\n",
              " 'yeaaaah yippppy!!!  my accnt verified rqst has succeed got a blue tick mark on my fb profile :) in 15 days']"
            ]
          },
          "metadata": {
            "tags": []
          },
          "execution_count": 27
        }
      ]
    },
    {
      "cell_type": "code",
      "metadata": {
        "id": "e_W14HgigAz9",
        "outputId": "58e057f7-28da-446b-f9fd-52acc724138a",
        "colab": {
          "base_uri": "https://localhost:8080/",
          "height": 330
        }
      },
      "source": [
        "import pandas as pd\n",
        "\n",
        "positive_tweets = twitter_samples.tokenized('positive_tweets.json')\n",
        "negative_tweets = twitter_samples.tokenized('negative_tweets.json')\n",
        "\n",
        "print('\\n Glipse Tokenized Data')\n",
        "positive_tweets[0]"
      ],
      "execution_count": null,
      "outputs": [
        {
          "output_type": "stream",
          "text": [
            "\n",
            " Glipse Tokenized Data\n"
          ],
          "name": "stdout"
        },
        {
          "output_type": "execute_result",
          "data": {
            "text/plain": [
              "['#FollowFriday',\n",
              " '@France_Inte',\n",
              " '@PKuchly57',\n",
              " '@Milipol_Paris',\n",
              " 'for',\n",
              " 'being',\n",
              " 'top',\n",
              " 'engaged',\n",
              " 'members',\n",
              " 'in',\n",
              " 'my',\n",
              " 'community',\n",
              " 'this',\n",
              " 'week',\n",
              " ':)']"
            ]
          },
          "metadata": {
            "tags": []
          },
          "execution_count": 28
        }
      ]
    },
    {
      "cell_type": "markdown",
      "metadata": {
        "id": "XunV23G9idRC"
      },
      "source": [
        "### Lemmatizing y normalizacion"
      ]
    },
    {
      "cell_type": "markdown",
      "metadata": {
        "id": "u3tAQ86qijEf"
      },
      "source": [
        "Dado que esta vez estamos analizando los datos en ingles, podemos utilizar las funciones de nltk directamente.  \n",
        "\n",
        "En vez de utilizar el algoritmo de SpaCy, utilizaremos los algoritmos de nltk directamente. En este caso la **lematizacion** sera llevada acabo por el algoritmo *wordnet*.   \n",
        " (https://www.nltk.org/_modules/nltk/corpus/reader/wordnet.html)  \n",
        "Pero en conjunto con *averaged_perceptron_tagger* que nos ayuda a mejorar nuestro proceso de lemmatizing pues toma en cuenta el tag que se el asigna dentro de la oracion.  \n",
        "(https://www.nltk.org/_modules/nltk/tag/perceptron.html)  \n",
        "  \n",
        "  Si deseas entender a mayor profundidar como funcionan los algoritmos de lemmatizacion de nltk y SpaCy revisa la siguiente documentacion:\n",
        "  https://www.machinelearningplus.com/nlp/lemmatization-examples-python/#wordnetlemmatizerwithappropriatepostag "
      ]
    },
    {
      "cell_type": "code",
      "metadata": {
        "id": "AWYAhG9big6Z",
        "outputId": "95f67c85-bd0a-42fc-fb72-ec1e43a4098b",
        "colab": {
          "base_uri": "https://localhost:8080/",
          "height": 127
        }
      },
      "source": [
        "import nltk\n",
        "# Lemmatizer\n",
        "nltk.download('wordnet')\n",
        "# Tagger\n",
        "nltk.download('averaged_perceptron_tagger')\n",
        "from nltk.tag import pos_tag"
      ],
      "execution_count": null,
      "outputs": [
        {
          "output_type": "stream",
          "text": [
            "[nltk_data] Downloading package wordnet to /root/nltk_data...\n",
            "[nltk_data]   Package wordnet is already up-to-date!\n",
            "[nltk_data] Downloading package averaged_perceptron_tagger to\n",
            "[nltk_data]     /root/nltk_data...\n",
            "[nltk_data]   Package averaged_perceptron_tagger is already up-to-\n",
            "[nltk_data]       date!\n"
          ],
          "name": "stdout"
        }
      ]
    },
    {
      "cell_type": "markdown",
      "metadata": {
        "id": "Orul18G7koKS"
      },
      "source": [
        "Creemos una funcion para lemmatizar usando los dos algoritmos que acabamos de importar. Dado que los tags producidos por el algoritmo pos_tag son diferentes a los que usa wordnet, es necesario codificarlos."
      ]
    },
    {
      "cell_type": "markdown",
      "metadata": {
        "id": "7tw8s-OMqP69"
      },
      "source": [
        "![image.png](data:image/png;base64,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)"
      ]
    },
    {
      "cell_type": "code",
      "metadata": {
        "id": "SRluknqukhZt"
      },
      "source": [
        "from nltk.tag import pos_tag\n",
        "from nltk.stem.wordnet import WordNetLemmatizer\n",
        "\n",
        "def lemmatize_tok_sentence(tw):\n",
        "    lemmatizer = WordNetLemmatizer()\n",
        "    lemmatized_sen = []\n",
        "    for word, tag in pos_tag(tw):\n",
        "        if tag.startswith('NN'):\n",
        "            pos = 'n'\n",
        "        elif tag.startswith('VB'):\n",
        "            pos = 'v'\n",
        "        elif tag.startswith('J'):\n",
        "            pos = 'a'\n",
        "        else:\n",
        "            pos = 'r'\n",
        "        lemmatized_sen.append(lemmatizer.lemmatize(word, pos))\n",
        "    return lemmatized_sen"
      ],
      "execution_count": null,
      "outputs": []
    },
    {
      "cell_type": "code",
      "metadata": {
        "id": "n5CmdCM6lGO_",
        "outputId": "80c4407b-7c2f-46d2-89ef-514c432023c5",
        "colab": {
          "base_uri": "https://localhost:8080/",
          "height": 311
        }
      },
      "source": [
        "print(positive_tweets_[0])\n",
        "lemmatize_tok_sentence(positive_tweets[0])"
      ],
      "execution_count": null,
      "outputs": [
        {
          "output_type": "stream",
          "text": [
            "#FollowFriday @France_Inte @PKuchly57 @Milipol_Paris for being top engaged members in my community this week :)\n"
          ],
          "name": "stdout"
        },
        {
          "output_type": "execute_result",
          "data": {
            "text/plain": [
              "['#FollowFriday',\n",
              " '@France_Inte',\n",
              " '@PKuchly57',\n",
              " '@Milipol_Paris',\n",
              " 'for',\n",
              " 'be',\n",
              " 'top',\n",
              " 'engage',\n",
              " 'member',\n",
              " 'in',\n",
              " 'my',\n",
              " 'community',\n",
              " 'this',\n",
              " 'week',\n",
              " ':)']"
            ]
          },
          "metadata": {
            "tags": []
          },
          "execution_count": 31
        }
      ]
    },
    {
      "cell_type": "markdown",
      "metadata": {
        "id": "gxjVuhrlr_WI"
      },
      "source": [
        "### Limpieza de caracteres basura"
      ]
    },
    {
      "cell_type": "markdown",
      "metadata": {
        "id": "Weru1zDRsFsQ"
      },
      "source": [
        "Despues de revisar los datos notamos 3 tipos de palabras que probablemnte no nos sean de mucha ayuda.  \n",
        "  + \"handles\" que twitter utiliza para contestar\n",
        "  + links a otras paginas web (pude que nos sirvan)\n",
        "  + Puntuacion, pero no los smilies."
      ]
    },
    {
      "cell_type": "markdown",
      "metadata": {
        "id": "0COY6qNksqsU"
      },
      "source": [
        "Haremos uso de expresiones regulares para remover estas palabras. (Si tienes poblemas googlea, esta es una operacion muy comun). \n",
        "+ \"handles\": Estos comienzan con @ seguidos de una palbra sin espacios ->\n",
        "      \"(@[A-Za-z0-9_]+)\"\n",
        "+ \"link\": Comienzan con http -> \n",
        "\n",
        "      \"http[s]?://(?:[a-zA-Z]|[0-9]|[$-_@.&+#]|[!*\\(\\),]|(?:%[0-9a-fA-F][0-9a-fA-F]))+\"\n",
        "+ La puntuacion puede ser removida como stopword o puntuacion. Hay que tener cuidado especial, pues los smilies son formados por puntuacion [  :), :(  ]  \n",
        "  \n",
        "Podemos sustituir esta palabras por vacio o espacios."
      ]
    },
    {
      "cell_type": "code",
      "metadata": {
        "id": "Gr_li9tdujNx"
      },
      "source": [
        "import re, string\n",
        "from nltk.corpus import stopwords\n",
        "stop_words = stopwords.words('english')\n",
        "\n",
        "# Nota como pasamos las stopwords sugeridas por nltk\n",
        "def clean_lemmatize(tweet_tokens, stop_words = stopwords.words('english')):\n",
        "\n",
        "    cleaned_tokens = []\n",
        "    for token, tag in pos_tag(tweet_tokens):\n",
        "        # Limpiar url\n",
        "        token = re.sub('http[s]?://(?:[a-zA-Z]|[0-9]|[$-_@.&+#]'\\\n",
        "        '|[!*\\(\\),]|(?:%[0-9a-fA-F][0-9a-fA-F]))+',\"\", token)\n",
        "        # Limpiar handle\n",
        "        token = re.sub('(@[A-Za-z0-9_]+)',\"\", token)\n",
        "\n",
        "        # Tag for lemmatizer\n",
        "        if tag.startswith('NN'):\n",
        "            pos = 'n'\n",
        "        elif tag.startswith('VB'):\n",
        "            pos = 'v'\n",
        "        elif tag.startswith('J'):\n",
        "            pos = 'a'\n",
        "        else:\n",
        "            pos = 'r'\n",
        "        lemmatizer = WordNetLemmatizer()\n",
        "        token = lemmatizer.lemmatize(token, pos)\n",
        "\n",
        "        # Eliminar puntuacion o espacios\n",
        "        if len(token) > 0 and token not in string.punctuation and \\\n",
        "        token.lower() not in stop_words:\n",
        "            cleaned_tokens.append(token.lower())\n",
        "    return cleaned_tokens"
      ],
      "execution_count": null,
      "outputs": []
    },
    {
      "cell_type": "code",
      "metadata": {
        "id": "gn9hXbPovrA2",
        "outputId": "28375cb0-49d1-49b1-c970-b6291d02090c",
        "colab": {
          "base_uri": "https://localhost:8080/",
          "height": 54
        }
      },
      "source": [
        "print(positive_tweets_[0])\n",
        "clean_lemmatize(positive_tweets[0])"
      ],
      "execution_count": null,
      "outputs": [
        {
          "output_type": "stream",
          "text": [
            "#FollowFriday @France_Inte @PKuchly57 @Milipol_Paris for being top engaged members in my community this week :)\n"
          ],
          "name": "stdout"
        },
        {
          "output_type": "execute_result",
          "data": {
            "text/plain": [
              "['#followfriday', 'top', 'engage', 'member', 'community', 'week', ':)']"
            ]
          },
          "metadata": {
            "tags": []
          },
          "execution_count": 33
        }
      ]
    },
    {
      "cell_type": "markdown",
      "metadata": {
        "id": "YWhqVfC_KXg9"
      },
      "source": [
        "Limpiemos los tweets"
      ]
    },
    {
      "cell_type": "code",
      "metadata": {
        "id": "e63w0s8eKFKV"
      },
      "source": [
        "pos_clean_tweets = list(map(clean_lemmatize, positive_tweets))\n",
        "neg_clean_tweets = list(map(clean_lemmatize, negative_tweets))"
      ],
      "execution_count": null,
      "outputs": []
    },
    {
      "cell_type": "markdown",
      "metadata": {
        "id": "LWYf3pETMJue"
      },
      "source": [
        "### Contemos las palabras\n",
        "Para hacer mas eficiente nuestro codigo utilizaremos el keyword yield.   \n",
        "Yield regresa un generador, por lo que cualquier funcion que apliquemos al generador lo modifica.  \n",
        "En las celdas mas abajo usaremos la funcion de print, para revisar que nuestra funcion es correcta, pero al momento de utilizar el codigo debes eliminarla, pues afectara a nuestro generador yield.  \n",
        "Documentacion de yield: https://www.geeksforgeeks.org/use-yield-keyword-instead-return-keyword-python/ \n",
        "       \n",
        " **Alerta!**  \n",
        "Si tienes algun error en los siguientes bloques de codigo, incluyendo la parte de entranamiento o prediccion el modelo, probablemente se debe a yield. Regresa a esta parte y ejecuta el pipeline desde aqui. Dado que losd atos string o texto ocupan mucha memoria es mejor dejarlo asi.\n"
      ]
    },
    {
      "cell_type": "code",
      "metadata": {
        "id": "AJGBs9stMVWv"
      },
      "source": [
        "def extract_words(cleaned_tokens_list):\n",
        "    tokens = []\n",
        "    for tokens in cleaned_tokens_list:\n",
        "        for token in tokens:\n",
        "            yield token\n"
      ],
      "execution_count": null,
      "outputs": []
    },
    {
      "cell_type": "code",
      "metadata": {
        "id": "VS73tNrp8Z7e"
      },
      "source": [
        "pos_clean_words = extract_words(pos_clean_tweets)\n",
        "neg_clean_words = extract_words(neg_clean_tweets)"
      ],
      "execution_count": null,
      "outputs": []
    },
    {
      "cell_type": "code",
      "metadata": {
        "id": "-fW-jthD8A9B",
        "outputId": "914e80bc-42b8-4217-e17d-68e228b621d8",
        "colab": {
          "base_uri": "https://localhost:8080/",
          "height": 37
        }
      },
      "source": [
        "from nltk import FreqDist\n",
        "pos_distribution = FreqDist(pos_clean_words)\n",
        "neg_distribution = FreqDist(neg_clean_words)\n",
        "'''No olvides comentar esto despues de revisar que la funcion funciona correc\n",
        "tamente '''\n",
        "# print('Positive Words')\n",
        "# print(pos_distribution.most_common(15))\n",
        "# print('\\n Negative Words')\n",
        "# print(neg_distribution.most_common(15))"
      ],
      "execution_count": null,
      "outputs": [
        {
          "output_type": "execute_result",
          "data": {
            "application/vnd.google.colaboratory.intrinsic+json": {
              "type": "string"
            },
            "text/plain": [
              "'No olvides comentar esto despues de revisar que la funcion funciona correc\\ntamente '"
            ]
          },
          "metadata": {
            "tags": []
          },
          "execution_count": 37
        }
      ]
    },
    {
      "cell_type": "markdown",
      "metadata": {
        "id": "fqsZqbyuGP3M"
      },
      "source": [
        "Creemos una estructura de diccionario para representar nuestros datos. Esto facilitara su manipulacion y hara el codigo mas eficiente."
      ]
    },
    {
      "cell_type": "code",
      "metadata": {
        "id": "rPFwT2RYFkpG"
      },
      "source": [
        "def get_tweets_for_model(cleaned_tokens_list):\n",
        "    for tweet_tokens in cleaned_tokens_list:\n",
        "        yield dict([token, True] for token in tweet_tokens)"
      ],
      "execution_count": null,
      "outputs": []
    },
    {
      "cell_type": "markdown",
      "metadata": {
        "id": "Z4hZFEUcIjpl"
      },
      "source": [
        "Visualizacion del retorno de nuestra funcion.  "
      ]
    },
    {
      "cell_type": "code",
      "metadata": {
        "id": "qZUkfDfIHce6",
        "outputId": "7c19049e-72ff-49ef-c62b-458bfb2c3712",
        "colab": {
          "base_uri": "https://localhost:8080/",
          "height": 55
        }
      },
      "source": [
        "pos_tok_model_ = get_tweets_for_model(pos_clean_tweets[0:2])\n",
        "print([x for x in pos_tok_model_])"
      ],
      "execution_count": null,
      "outputs": [
        {
          "output_type": "stream",
          "text": [
            "[{'#followfriday': True, 'top': True, 'engage': True, 'member': True, 'community': True, 'week': True, ':)': True}, {'hey': True, 'james': True, 'odd': True, ':/': True, 'please': True, 'call': True, 'contact': True, 'centre': True, '02392441234': True, 'able': True, 'assist': True, ':)': True, 'many': True, 'thanks': True}]\n"
          ],
          "name": "stdout"
        }
      ]
    },
    {
      "cell_type": "code",
      "metadata": {
        "id": "2UiNe-zLG8oa"
      },
      "source": [
        "pos_tok_model = get_tweets_for_model(pos_clean_tweets)\n",
        "neg_tok_model = get_tweets_for_model(neg_clean_tweets)"
      ],
      "execution_count": null,
      "outputs": []
    },
    {
      "cell_type": "markdown",
      "metadata": {
        "id": "UPUTwRVdI53y"
      },
      "source": [
        "### Crear el Dataset  \n",
        "neg: Tweet Negativo  \n",
        "pos: Tweet Positivo"
      ]
    },
    {
      "cell_type": "code",
      "metadata": {
        "id": "G8dbykn6JCTC"
      },
      "source": [
        "import random\n",
        "\n",
        "pos_df = [(dict_, 'pos')\n",
        "          for dict_ in pos_tok_model]\n",
        "\n",
        "neg_df = [(dict_, 'neg')\n",
        "          for dict_ in neg_tok_model]\n",
        "\n",
        "df_tweet = pos_df + neg_df\n",
        "\n",
        "random.shuffle(df_tweet)\n",
        "\n",
        "n_train = 8000\n",
        "train = df_tweet[:n_train]\n",
        "test = df_tweet[n_train:]"
      ],
      "execution_count": null,
      "outputs": []
    },
    {
      "cell_type": "markdown",
      "metadata": {
        "id": "QDZxFbSKJzFo"
      },
      "source": [
        "## Modelo: Naive Bayes"
      ]
    },
    {
      "cell_type": "markdown",
      "metadata": {
        "id": "Kx5F4PVzNUuJ"
      },
      "source": [
        "El siguiente bloque de codigo entrena un Naive Bayes.  \n",
        "El apartado de \"Most Informative features\" te muestra los tokens mas importantes, y el porcentaje o proporcion de aparicion. Ejemplo:  \n",
        "  \n",
        "\n",
        "---\n",
        "                      :( = True              neg : pos    =   2338.6 : 1.0\n",
        "\n",
        "\n",
        "---\n",
        "\n",
        "Implica que el caracter \":(\" aparece 2338 veces mas en tweets negativos."
      ]
    },
    {
      "cell_type": "code",
      "metadata": {
        "id": "RJ32lt3QKJVK",
        "outputId": "4cbc3f37-3d47-4403-e170-0032e446f309",
        "colab": {
          "base_uri": "https://localhost:8080/",
          "height": 348
        }
      },
      "source": [
        "from nltk import classify\n",
        "from nltk import NaiveBayesClassifier\n",
        "\n",
        "classifier = NaiveBayesClassifier.train(train)\n",
        "\n",
        "print(\"Accuracy in test is:\", classify.accuracy(classifier, test))\n",
        "print(classifier.show_most_informative_features(15))"
      ],
      "execution_count": null,
      "outputs": [
        {
          "output_type": "stream",
          "text": [
            "Accuracy in test is: 0.996\n",
            "Most Informative Features\n",
            "                      :) = True              pos : neg    =   1121.1 : 1.0\n",
            "                follower = True              pos : neg    =     40.1 : 1.0\n",
            "                     sad = True              neg : pos    =     30.1 : 1.0\n",
            "                     bam = True              pos : neg    =     24.2 : 1.0\n",
            "                    glad = True              pos : neg    =     23.5 : 1.0\n",
            "                 welcome = True              pos : neg    =     22.8 : 1.0\n",
            "                     x15 = True              neg : pos    =     22.5 : 1.0\n",
            "                    sick = True              neg : pos    =     20.5 : 1.0\n",
            "              appreciate = True              pos : neg    =     16.9 : 1.0\n",
            "               community = True              pos : neg    =     16.2 : 1.0\n",
            "                    blog = True              pos : neg    =     16.2 : 1.0\n",
            "                     via = True              pos : neg    =     12.4 : 1.0\n",
            "                followed = True              neg : pos    =     12.2 : 1.0\n",
            "                   enjoy = True              pos : neg    =     11.6 : 1.0\n",
            "               goodnight = True              pos : neg    =     11.6 : 1.0\n",
            "None\n"
          ],
          "name": "stdout"
        }
      ]
    },
    {
      "cell_type": "markdown",
      "metadata": {
        "id": "DEsnT_oZRnBw"
      },
      "source": [
        "# PyCaret"
      ]
    },
    {
      "cell_type": "markdown",
      "metadata": {
        "id": "-PYuc_OGR0FF"
      },
      "source": [
        "Ahora repitamos el ejercico anterior usando un pipeline de Pycaret.  \n",
        "**Documentacion PyCaret NLP**: https://pycaret.org/nlp/ "
      ]
    },
    {
      "cell_type": "code",
      "metadata": {
        "id": "d-SiXLhqdZki",
        "outputId": "2810be6a-51cb-4f4a-c23a-faee610dbdb0",
        "colab": {
          "base_uri": "https://localhost:8080/",
          "height": 35
        }
      },
      "source": [
        "from pycaret.utils import enable_colab\n",
        "enable_colab()"
      ],
      "execution_count": 58,
      "outputs": [
        {
          "output_type": "display_data",
          "data": {
            "text/html": [
              "\n",
              "            <script src=\"/static/components/requirejs/require.js\"></script>\n",
              "            <script>\n",
              "              requirejs.config({\n",
              "                paths: {\n",
              "                  base: '/static/base',\n",
              "                  plotly: 'https://cdn.plot.ly/plotly-latest.min.js?noext',\n",
              "                },\n",
              "              });\n",
              "            </script>\n",
              "            "
            ],
            "text/plain": [
              "<IPython.core.display.HTML object>"
            ]
          },
          "metadata": {
            "tags": []
          }
        },
        {
          "output_type": "display_data",
          "data": {
            "text/html": [
              "\n",
              "            <script src=\"/static/components/requirejs/require.js\"></script>\n",
              "            <script>\n",
              "              requirejs.config({\n",
              "                paths: {\n",
              "                  base: '/static/base',\n",
              "                  plotly: 'https://cdn.plot.ly/plotly-latest.min.js?noext',\n",
              "                },\n",
              "              });\n",
              "            </script>\n",
              "            "
            ],
            "text/plain": [
              "<IPython.core.display.HTML object>"
            ]
          },
          "metadata": {
            "tags": []
          }
        },
        {
          "output_type": "stream",
          "text": [
            "Colab mode enabled.\n"
          ],
          "name": "stdout"
        }
      ]
    },
    {
      "cell_type": "code",
      "metadata": {
        "id": "kPrpUXrIRvBO",
        "outputId": "82955a6d-b20a-4d57-b0fd-a4378628c322",
        "colab": {
          "base_uri": "https://localhost:8080/",
          "height": 203
        }
      },
      "source": [
        "# Importemos los datos\n",
        "from nltk.corpus import twitter_samples\n",
        "nltk.download('twitter_samples')\n",
        "\n",
        "positive_tweets_ = twitter_samples.strings('positive_tweets.json')\n",
        "negative_tweets_ = twitter_samples.strings('negative_tweets.json')\n",
        "print('\\n Glipse Data')\n",
        "positive_tweets_[0:5]"
      ],
      "execution_count": 59,
      "outputs": [
        {
          "output_type": "display_data",
          "data": {
            "text/html": [
              "\n",
              "            <script src=\"/static/components/requirejs/require.js\"></script>\n",
              "            <script>\n",
              "              requirejs.config({\n",
              "                paths: {\n",
              "                  base: '/static/base',\n",
              "                  plotly: 'https://cdn.plot.ly/plotly-latest.min.js?noext',\n",
              "                },\n",
              "              });\n",
              "            </script>\n",
              "            "
            ],
            "text/plain": [
              "<IPython.core.display.HTML object>"
            ]
          },
          "metadata": {
            "tags": []
          }
        },
        {
          "output_type": "display_data",
          "data": {
            "text/html": [
              "\n",
              "            <script src=\"/static/components/requirejs/require.js\"></script>\n",
              "            <script>\n",
              "              requirejs.config({\n",
              "                paths: {\n",
              "                  base: '/static/base',\n",
              "                  plotly: 'https://cdn.plot.ly/plotly-latest.min.js?noext',\n",
              "                },\n",
              "              });\n",
              "            </script>\n",
              "            "
            ],
            "text/plain": [
              "<IPython.core.display.HTML object>"
            ]
          },
          "metadata": {
            "tags": []
          }
        },
        {
          "output_type": "display_data",
          "data": {
            "text/html": [
              "\n",
              "            <script src=\"/static/components/requirejs/require.js\"></script>\n",
              "            <script>\n",
              "              requirejs.config({\n",
              "                paths: {\n",
              "                  base: '/static/base',\n",
              "                  plotly: 'https://cdn.plot.ly/plotly-latest.min.js?noext',\n",
              "                },\n",
              "              });\n",
              "            </script>\n",
              "            "
            ],
            "text/plain": [
              "<IPython.core.display.HTML object>"
            ]
          },
          "metadata": {
            "tags": []
          }
        },
        {
          "output_type": "stream",
          "text": [
            "[nltk_data] Downloading package twitter_samples to /root/nltk_data...\n",
            "[nltk_data]   Package twitter_samples is already up-to-date!\n",
            "\n",
            " Glipse Data\n"
          ],
          "name": "stdout"
        },
        {
          "output_type": "execute_result",
          "data": {
            "text/plain": [
              "['#FollowFriday @France_Inte @PKuchly57 @Milipol_Paris for being top engaged members in my community this week :)',\n",
              " '@Lamb2ja Hey James! How odd :/ Please call our Contact Centre on 02392441234 and we will be able to assist you :) Many thanks!',\n",
              " '@DespiteOfficial we had a listen last night :) As You Bleed is an amazing track. When are you in Scotland?!',\n",
              " '@97sides CONGRATS :)',\n",
              " 'yeaaaah yippppy!!!  my accnt verified rqst has succeed got a blue tick mark on my fb profile :) in 15 days']"
            ]
          },
          "metadata": {
            "tags": []
          },
          "execution_count": 59
        }
      ]
    },
    {
      "cell_type": "markdown",
      "metadata": {
        "id": "DG03CvakTPqA"
      },
      "source": [
        "Creemos un pandas con los datos"
      ]
    },
    {
      "cell_type": "code",
      "metadata": {
        "id": "iMwYXszfSZ0Y",
        "outputId": "b005b15f-5aff-45ed-c2ad-c00e25d485fa",
        "colab": {
          "base_uri": "https://localhost:8080/",
          "height": 206
        }
      },
      "source": [
        "df_pycaret_pos = pd.DataFrame.from_dict({\n",
        "    'twit':positive_tweets_[0:100], 'sentimiento':'pos'\n",
        "})\n",
        "\n",
        "df_pycaret_neg = pd.DataFrame.from_dict({\n",
        "    'twit':negative_tweets_[0:100], 'sentimiento':'neg'\n",
        "})\n",
        "\n",
        "df_pycaret = pd.concat([df_pycaret_pos, df_pycaret_neg])\n",
        "df_pycaret.head()"
      ],
      "execution_count": 60,
      "outputs": [
        {
          "output_type": "display_data",
          "data": {
            "text/html": [
              "\n",
              "            <script src=\"/static/components/requirejs/require.js\"></script>\n",
              "            <script>\n",
              "              requirejs.config({\n",
              "                paths: {\n",
              "                  base: '/static/base',\n",
              "                  plotly: 'https://cdn.plot.ly/plotly-latest.min.js?noext',\n",
              "                },\n",
              "              });\n",
              "            </script>\n",
              "            "
            ],
            "text/plain": [
              "<IPython.core.display.HTML object>"
            ]
          },
          "metadata": {
            "tags": []
          }
        },
        {
          "output_type": "display_data",
          "data": {
            "text/html": [
              "\n",
              "            <script src=\"/static/components/requirejs/require.js\"></script>\n",
              "            <script>\n",
              "              requirejs.config({\n",
              "                paths: {\n",
              "                  base: '/static/base',\n",
              "                  plotly: 'https://cdn.plot.ly/plotly-latest.min.js?noext',\n",
              "                },\n",
              "              });\n",
              "            </script>\n",
              "            "
            ],
            "text/plain": [
              "<IPython.core.display.HTML object>"
            ]
          },
          "metadata": {
            "tags": []
          }
        },
        {
          "output_type": "display_data",
          "data": {
            "text/html": [
              "\n",
              "            <script src=\"/static/components/requirejs/require.js\"></script>\n",
              "            <script>\n",
              "              requirejs.config({\n",
              "                paths: {\n",
              "                  base: '/static/base',\n",
              "                  plotly: 'https://cdn.plot.ly/plotly-latest.min.js?noext',\n",
              "                },\n",
              "              });\n",
              "            </script>\n",
              "            "
            ],
            "text/plain": [
              "<IPython.core.display.HTML object>"
            ]
          },
          "metadata": {
            "tags": []
          }
        },
        {
          "output_type": "execute_result",
          "data": {
            "text/html": [
              "<div>\n",
              "<style scoped>\n",
              "    .dataframe tbody tr th:only-of-type {\n",
              "        vertical-align: middle;\n",
              "    }\n",
              "\n",
              "    .dataframe tbody tr th {\n",
              "        vertical-align: top;\n",
              "    }\n",
              "\n",
              "    .dataframe thead th {\n",
              "        text-align: right;\n",
              "    }\n",
              "</style>\n",
              "<table border=\"1\" class=\"dataframe\">\n",
              "  <thead>\n",
              "    <tr style=\"text-align: right;\">\n",
              "      <th></th>\n",
              "      <th>twit</th>\n",
              "      <th>sentimiento</th>\n",
              "    </tr>\n",
              "  </thead>\n",
              "  <tbody>\n",
              "    <tr>\n",
              "      <th>0</th>\n",
              "      <td>#FollowFriday @France_Inte @PKuchly57 @Milipol...</td>\n",
              "      <td>pos</td>\n",
              "    </tr>\n",
              "    <tr>\n",
              "      <th>1</th>\n",
              "      <td>@Lamb2ja Hey James! How odd :/ Please call our...</td>\n",
              "      <td>pos</td>\n",
              "    </tr>\n",
              "    <tr>\n",
              "      <th>2</th>\n",
              "      <td>@DespiteOfficial we had a listen last night :)...</td>\n",
              "      <td>pos</td>\n",
              "    </tr>\n",
              "    <tr>\n",
              "      <th>3</th>\n",
              "      <td>@97sides CONGRATS :)</td>\n",
              "      <td>pos</td>\n",
              "    </tr>\n",
              "    <tr>\n",
              "      <th>4</th>\n",
              "      <td>yeaaaah yippppy!!!  my accnt verified rqst has...</td>\n",
              "      <td>pos</td>\n",
              "    </tr>\n",
              "  </tbody>\n",
              "</table>\n",
              "</div>"
            ],
            "text/plain": [
              "                                                twit sentimiento\n",
              "0  #FollowFriday @France_Inte @PKuchly57 @Milipol...         pos\n",
              "1  @Lamb2ja Hey James! How odd :/ Please call our...         pos\n",
              "2  @DespiteOfficial we had a listen last night :)...         pos\n",
              "3                               @97sides CONGRATS :)         pos\n",
              "4  yeaaaah yippppy!!!  my accnt verified rqst has...         pos"
            ]
          },
          "metadata": {
            "tags": []
          },
          "execution_count": 60
        }
      ]
    },
    {
      "cell_type": "code",
      "metadata": {
        "id": "Es28j6piS7lm",
        "outputId": "b503a450-57d8-4214-d1e0-8abc95f0a986",
        "colab": {
          "base_uri": "https://localhost:8080/",
          "height": 126
        }
      },
      "source": [
        "from pycaret.nlp import *\n",
        "from nltk.corpus import stopwords\n",
        "\n",
        "stop_words = stopwords.words('english')\n",
        "caret_set = setup(data = df_pycaret, target = 'twit', \n",
        "                  custom_stopwords=stop_words, session_id=21)"
      ],
      "execution_count": 61,
      "outputs": [
        {
          "output_type": "display_data",
          "data": {
            "text/html": [
              "<style  type=\"text/css\" >\n",
              "</style><table id=\"T_08ed5da8_1b47_11eb_af1e_0242ac1c0002\" ><thead>    <tr>        <th class=\"col_heading level0 col0\" >Description</th>        <th class=\"col_heading level0 col1\" >Value</th>    </tr></thead><tbody>\n",
              "                <tr>\n",
              "                                <td id=\"T_08ed5da8_1b47_11eb_af1e_0242ac1c0002row0_col0\" class=\"data row0 col0\" >session_id</td>\n",
              "                        <td id=\"T_08ed5da8_1b47_11eb_af1e_0242ac1c0002row0_col1\" class=\"data row0 col1\" >21</td>\n",
              "            </tr>\n",
              "            <tr>\n",
              "                                <td id=\"T_08ed5da8_1b47_11eb_af1e_0242ac1c0002row1_col0\" class=\"data row1 col0\" >Documents</td>\n",
              "                        <td id=\"T_08ed5da8_1b47_11eb_af1e_0242ac1c0002row1_col1\" class=\"data row1 col1\" >200</td>\n",
              "            </tr>\n",
              "            <tr>\n",
              "                                <td id=\"T_08ed5da8_1b47_11eb_af1e_0242ac1c0002row2_col0\" class=\"data row2 col0\" >Vocab Size</td>\n",
              "                        <td id=\"T_08ed5da8_1b47_11eb_af1e_0242ac1c0002row2_col1\" class=\"data row2 col1\" >469</td>\n",
              "            </tr>\n",
              "            <tr>\n",
              "                                <td id=\"T_08ed5da8_1b47_11eb_af1e_0242ac1c0002row3_col0\" class=\"data row3 col0\" >Custom Stopwords</td>\n",
              "                        <td id=\"T_08ed5da8_1b47_11eb_af1e_0242ac1c0002row3_col1\" class=\"data row3 col1\" >True</td>\n",
              "            </tr>\n",
              "    </tbody></table>"
            ],
            "text/plain": [
              "<pandas.io.formats.style.Styler at 0x7f7825b45c88>"
            ]
          },
          "metadata": {
            "tags": []
          }
        }
      ]
    },
    {
      "cell_type": "code",
      "metadata": {
        "id": "0cIneNj3T-Qi",
        "outputId": "ad0a136b-90d1-4eba-a1af-ef92c3326cc6",
        "colab": {
          "base_uri": "https://localhost:8080/"
        }
      },
      "source": [
        "lda = create_model('lda')\n",
        "print(lda)"
      ],
      "execution_count": 62,
      "outputs": [
        {
          "output_type": "stream",
          "text": [
            "LdaModel(num_terms=469, num_topics=4, decay=0.5, chunksize=100)\n"
          ],
          "name": "stdout"
        }
      ]
    },
    {
      "cell_type": "code",
      "metadata": {
        "id": "RyrySO33bTkb",
        "outputId": "70378665-269f-4b57-ee47-c6b102e0dbe2",
        "colab": {
          "base_uri": "https://localhost:8080/",
          "height": 467,
          "referenced_widgets": [
            "35972c2d3e5b49f18ef287cde3237e47",
            "0bddd52903a64280bcbb9693b8c1bbb6",
            "7574ebc78e854ec894db11eb5e77cf6e"
          ]
        }
      },
      "source": [
        "lda_results = assign_model(lda)\n",
        "lda_results.head()"
      ],
      "execution_count": 63,
      "outputs": [
        {
          "output_type": "display_data",
          "data": {
            "text/html": [
              "\n",
              "            <script src=\"/static/components/requirejs/require.js\"></script>\n",
              "            <script>\n",
              "              requirejs.config({\n",
              "                paths: {\n",
              "                  base: '/static/base',\n",
              "                  plotly: 'https://cdn.plot.ly/plotly-latest.min.js?noext',\n",
              "                },\n",
              "              });\n",
              "            </script>\n",
              "            "
            ],
            "text/plain": [
              "<IPython.core.display.HTML object>"
            ]
          },
          "metadata": {
            "tags": []
          }
        },
        {
          "output_type": "display_data",
          "data": {
            "text/html": [
              "\n",
              "            <script src=\"/static/components/requirejs/require.js\"></script>\n",
              "            <script>\n",
              "              requirejs.config({\n",
              "                paths: {\n",
              "                  base: '/static/base',\n",
              "                  plotly: 'https://cdn.plot.ly/plotly-latest.min.js?noext',\n",
              "                },\n",
              "              });\n",
              "            </script>\n",
              "            "
            ],
            "text/plain": [
              "<IPython.core.display.HTML object>"
            ]
          },
          "metadata": {
            "tags": []
          }
        },
        {
          "output_type": "display_data",
          "data": {
            "text/html": [
              "\n",
              "            <script src=\"/static/components/requirejs/require.js\"></script>\n",
              "            <script>\n",
              "              requirejs.config({\n",
              "                paths: {\n",
              "                  base: '/static/base',\n",
              "                  plotly: 'https://cdn.plot.ly/plotly-latest.min.js?noext',\n",
              "                },\n",
              "              });\n",
              "            </script>\n",
              "            "
            ],
            "text/plain": [
              "<IPython.core.display.HTML object>"
            ]
          },
          "metadata": {
            "tags": []
          }
        },
        {
          "output_type": "display_data",
          "data": {
            "application/vnd.jupyter.widget-view+json": {
              "model_id": "35972c2d3e5b49f18ef287cde3237e47",
              "version_minor": 0,
              "version_major": 2
            },
            "text/plain": [
              "IntProgress(value=0, description='Processing: ', max=205)"
            ]
          },
          "metadata": {
            "tags": []
          }
        },
        {
          "output_type": "display_data",
          "data": {
            "text/html": [
              "<div>\n",
              "<style scoped>\n",
              "    .dataframe tbody tr th:only-of-type {\n",
              "        vertical-align: middle;\n",
              "    }\n",
              "\n",
              "    .dataframe tbody tr th {\n",
              "        vertical-align: top;\n",
              "    }\n",
              "\n",
              "    .dataframe thead th {\n",
              "        text-align: right;\n",
              "    }\n",
              "</style>\n",
              "<table border=\"1\" class=\"dataframe\">\n",
              "  <thead>\n",
              "    <tr style=\"text-align: right;\">\n",
              "      <th></th>\n",
              "      <th></th>\n",
              "      <th></th>\n",
              "    </tr>\n",
              "    <tr>\n",
              "      <th></th>\n",
              "      <th></th>\n",
              "      <th></th>\n",
              "    </tr>\n",
              "  </thead>\n",
              "  <tbody>\n",
              "    <tr>\n",
              "      <th>Initiated</th>\n",
              "      <td>. . . . . . . . . . . . . . . . . .</td>\n",
              "      <td>07:02:33</td>\n",
              "    </tr>\n",
              "    <tr>\n",
              "      <th>Status</th>\n",
              "      <td>. . . . . . . . . . . . . . . . . .</td>\n",
              "      <td>Extracting Topics from Model</td>\n",
              "    </tr>\n",
              "  </tbody>\n",
              "</table>\n",
              "</div>"
            ],
            "text/plain": [
              "                                                                            \n",
              "                                                                            \n",
              "Initiated  . . . . . . . . . . . . . . . . . .                      07:02:33\n",
              "Status     . . . . . . . . . . . . . . . . . .  Extracting Topics from Model"
            ]
          },
          "metadata": {
            "tags": []
          }
        },
        {
          "output_type": "error",
          "ename": "ValueError",
          "evalue": "ignored",
          "traceback": [
            "\u001b[0;31m---------------------------------------------------------------------------\u001b[0m",
            "\u001b[0;31mValueError\u001b[0m                                Traceback (most recent call last)",
            "\u001b[0;32m<ipython-input-63-d0a9fb3ed84d>\u001b[0m in \u001b[0;36m<module>\u001b[0;34m()\u001b[0m\n\u001b[0;32m----> 1\u001b[0;31m \u001b[0mlda_results\u001b[0m \u001b[0;34m=\u001b[0m \u001b[0massign_model\u001b[0m\u001b[0;34m(\u001b[0m\u001b[0mlda\u001b[0m\u001b[0;34m)\u001b[0m\u001b[0;34m\u001b[0m\u001b[0;34m\u001b[0m\u001b[0m\n\u001b[0m\u001b[1;32m      2\u001b[0m \u001b[0mlda_results\u001b[0m\u001b[0;34m.\u001b[0m\u001b[0mhead\u001b[0m\u001b[0;34m(\u001b[0m\u001b[0;34m)\u001b[0m\u001b[0;34m\u001b[0m\u001b[0;34m\u001b[0m\u001b[0m\n",
            "\u001b[0;32m/usr/local/lib/python3.6/dist-packages/pycaret/nlp.py\u001b[0m in \u001b[0;36massign_model\u001b[0;34m(model, verbose)\u001b[0m\n\u001b[1;32m   1454\u001b[0m \u001b[0;34m\u001b[0m\u001b[0m\n\u001b[1;32m   1455\u001b[0m         \u001b[0mbb\u001b[0m \u001b[0;34m=\u001b[0m \u001b[0mpd\u001b[0m\u001b[0;34m.\u001b[0m\u001b[0mDataFrame\u001b[0m\u001b[0;34m(\u001b[0m\u001b[0mbb\u001b[0m\u001b[0;34m,\u001b[0m\u001b[0mcolumns\u001b[0m\u001b[0;34m=\u001b[0m\u001b[0mcol_names\u001b[0m\u001b[0;34m)\u001b[0m\u001b[0;34m\u001b[0m\u001b[0;34m\u001b[0m\u001b[0m\n\u001b[0;32m-> 1456\u001b[0;31m         \u001b[0mbb_\u001b[0m \u001b[0;34m=\u001b[0m \u001b[0mpd\u001b[0m\u001b[0;34m.\u001b[0m\u001b[0mconcat\u001b[0m\u001b[0;34m(\u001b[0m\u001b[0;34m[\u001b[0m\u001b[0mdata_\u001b[0m\u001b[0;34m,\u001b[0m\u001b[0mbb\u001b[0m\u001b[0;34m]\u001b[0m\u001b[0;34m,\u001b[0m \u001b[0maxis\u001b[0m\u001b[0;34m=\u001b[0m\u001b[0;36m1\u001b[0m\u001b[0;34m)\u001b[0m\u001b[0;34m\u001b[0m\u001b[0;34m\u001b[0m\u001b[0m\n\u001b[0m\u001b[1;32m   1457\u001b[0m \u001b[0;34m\u001b[0m\u001b[0m\n\u001b[1;32m   1458\u001b[0m         \u001b[0mdt_\u001b[0m \u001b[0;34m=\u001b[0m \u001b[0mpd\u001b[0m\u001b[0;34m.\u001b[0m\u001b[0mDataFrame\u001b[0m\u001b[0;34m(\u001b[0m\u001b[0mDominant_Topic\u001b[0m\u001b[0;34m,\u001b[0m \u001b[0mcolumns\u001b[0m\u001b[0;34m=\u001b[0m\u001b[0;34m[\u001b[0m\u001b[0;34m'Dominant_Topic'\u001b[0m\u001b[0;34m]\u001b[0m\u001b[0;34m)\u001b[0m\u001b[0;34m\u001b[0m\u001b[0;34m\u001b[0m\u001b[0m\n",
            "\u001b[0;32m/usr/local/lib/python3.6/dist-packages/pandas/core/reshape/concat.py\u001b[0m in \u001b[0;36mconcat\u001b[0;34m(objs, axis, join, ignore_index, keys, levels, names, verify_integrity, sort, copy)\u001b[0m\n\u001b[1;32m    285\u001b[0m     )\n\u001b[1;32m    286\u001b[0m \u001b[0;34m\u001b[0m\u001b[0m\n\u001b[0;32m--> 287\u001b[0;31m     \u001b[0;32mreturn\u001b[0m \u001b[0mop\u001b[0m\u001b[0;34m.\u001b[0m\u001b[0mget_result\u001b[0m\u001b[0;34m(\u001b[0m\u001b[0;34m)\u001b[0m\u001b[0;34m\u001b[0m\u001b[0;34m\u001b[0m\u001b[0m\n\u001b[0m\u001b[1;32m    288\u001b[0m \u001b[0;34m\u001b[0m\u001b[0m\n\u001b[1;32m    289\u001b[0m \u001b[0;34m\u001b[0m\u001b[0m\n",
            "\u001b[0;32m/usr/local/lib/python3.6/dist-packages/pandas/core/reshape/concat.py\u001b[0m in \u001b[0;36mget_result\u001b[0;34m(self)\u001b[0m\n\u001b[1;32m    501\u001b[0m \u001b[0;34m\u001b[0m\u001b[0m\n\u001b[1;32m    502\u001b[0m             new_data = concatenate_block_managers(\n\u001b[0;32m--> 503\u001b[0;31m                 \u001b[0mmgrs_indexers\u001b[0m\u001b[0;34m,\u001b[0m \u001b[0mself\u001b[0m\u001b[0;34m.\u001b[0m\u001b[0mnew_axes\u001b[0m\u001b[0;34m,\u001b[0m \u001b[0mconcat_axis\u001b[0m\u001b[0;34m=\u001b[0m\u001b[0mself\u001b[0m\u001b[0;34m.\u001b[0m\u001b[0mbm_axis\u001b[0m\u001b[0;34m,\u001b[0m \u001b[0mcopy\u001b[0m\u001b[0;34m=\u001b[0m\u001b[0mself\u001b[0m\u001b[0;34m.\u001b[0m\u001b[0mcopy\u001b[0m\u001b[0;34m,\u001b[0m\u001b[0;34m\u001b[0m\u001b[0;34m\u001b[0m\u001b[0m\n\u001b[0m\u001b[1;32m    504\u001b[0m             )\n\u001b[1;32m    505\u001b[0m             \u001b[0;32mif\u001b[0m \u001b[0;32mnot\u001b[0m \u001b[0mself\u001b[0m\u001b[0;34m.\u001b[0m\u001b[0mcopy\u001b[0m\u001b[0;34m:\u001b[0m\u001b[0;34m\u001b[0m\u001b[0;34m\u001b[0m\u001b[0m\n",
            "\u001b[0;32m/usr/local/lib/python3.6/dist-packages/pandas/core/internals/concat.py\u001b[0m in \u001b[0;36mconcatenate_block_managers\u001b[0;34m(mgrs_indexers, axes, concat_axis, copy)\u001b[0m\n\u001b[1;32m     82\u001b[0m         \u001b[0mblocks\u001b[0m\u001b[0;34m.\u001b[0m\u001b[0mappend\u001b[0m\u001b[0;34m(\u001b[0m\u001b[0mb\u001b[0m\u001b[0;34m)\u001b[0m\u001b[0;34m\u001b[0m\u001b[0;34m\u001b[0m\u001b[0m\n\u001b[1;32m     83\u001b[0m \u001b[0;34m\u001b[0m\u001b[0m\n\u001b[0;32m---> 84\u001b[0;31m     \u001b[0;32mreturn\u001b[0m \u001b[0mBlockManager\u001b[0m\u001b[0;34m(\u001b[0m\u001b[0mblocks\u001b[0m\u001b[0;34m,\u001b[0m \u001b[0maxes\u001b[0m\u001b[0;34m)\u001b[0m\u001b[0;34m\u001b[0m\u001b[0;34m\u001b[0m\u001b[0m\n\u001b[0m\u001b[1;32m     85\u001b[0m \u001b[0;34m\u001b[0m\u001b[0m\n\u001b[1;32m     86\u001b[0m \u001b[0;34m\u001b[0m\u001b[0m\n",
            "\u001b[0;32m/usr/local/lib/python3.6/dist-packages/pandas/core/internals/managers.py\u001b[0m in \u001b[0;36m__init__\u001b[0;34m(self, blocks, axes, do_integrity_check)\u001b[0m\n\u001b[1;32m    147\u001b[0m \u001b[0;34m\u001b[0m\u001b[0m\n\u001b[1;32m    148\u001b[0m         \u001b[0;32mif\u001b[0m \u001b[0mdo_integrity_check\u001b[0m\u001b[0;34m:\u001b[0m\u001b[0;34m\u001b[0m\u001b[0;34m\u001b[0m\u001b[0m\n\u001b[0;32m--> 149\u001b[0;31m             \u001b[0mself\u001b[0m\u001b[0;34m.\u001b[0m\u001b[0m_verify_integrity\u001b[0m\u001b[0;34m(\u001b[0m\u001b[0;34m)\u001b[0m\u001b[0;34m\u001b[0m\u001b[0;34m\u001b[0m\u001b[0m\n\u001b[0m\u001b[1;32m    150\u001b[0m \u001b[0;34m\u001b[0m\u001b[0m\n\u001b[1;32m    151\u001b[0m         \u001b[0;31m# Populate known_consolidate, blknos, and blklocs lazily\u001b[0m\u001b[0;34m\u001b[0m\u001b[0;34m\u001b[0m\u001b[0;34m\u001b[0m\u001b[0m\n",
            "\u001b[0;32m/usr/local/lib/python3.6/dist-packages/pandas/core/internals/managers.py\u001b[0m in \u001b[0;36m_verify_integrity\u001b[0;34m(self)\u001b[0m\n\u001b[1;32m    324\u001b[0m         \u001b[0;32mfor\u001b[0m \u001b[0mblock\u001b[0m \u001b[0;32min\u001b[0m \u001b[0mself\u001b[0m\u001b[0;34m.\u001b[0m\u001b[0mblocks\u001b[0m\u001b[0;34m:\u001b[0m\u001b[0;34m\u001b[0m\u001b[0;34m\u001b[0m\u001b[0m\n\u001b[1;32m    325\u001b[0m             \u001b[0;32mif\u001b[0m \u001b[0mblock\u001b[0m\u001b[0;34m.\u001b[0m\u001b[0mshape\u001b[0m\u001b[0;34m[\u001b[0m\u001b[0;36m1\u001b[0m\u001b[0;34m:\u001b[0m\u001b[0;34m]\u001b[0m \u001b[0;34m!=\u001b[0m \u001b[0mmgr_shape\u001b[0m\u001b[0;34m[\u001b[0m\u001b[0;36m1\u001b[0m\u001b[0;34m:\u001b[0m\u001b[0;34m]\u001b[0m\u001b[0;34m:\u001b[0m\u001b[0;34m\u001b[0m\u001b[0;34m\u001b[0m\u001b[0m\n\u001b[0;32m--> 326\u001b[0;31m                 \u001b[0;32mraise\u001b[0m \u001b[0mconstruction_error\u001b[0m\u001b[0;34m(\u001b[0m\u001b[0mtot_items\u001b[0m\u001b[0;34m,\u001b[0m \u001b[0mblock\u001b[0m\u001b[0;34m.\u001b[0m\u001b[0mshape\u001b[0m\u001b[0;34m[\u001b[0m\u001b[0;36m1\u001b[0m\u001b[0;34m:\u001b[0m\u001b[0;34m]\u001b[0m\u001b[0;34m,\u001b[0m \u001b[0mself\u001b[0m\u001b[0;34m.\u001b[0m\u001b[0maxes\u001b[0m\u001b[0;34m)\u001b[0m\u001b[0;34m\u001b[0m\u001b[0;34m\u001b[0m\u001b[0m\n\u001b[0m\u001b[1;32m    327\u001b[0m         \u001b[0;32mif\u001b[0m \u001b[0mlen\u001b[0m\u001b[0;34m(\u001b[0m\u001b[0mself\u001b[0m\u001b[0;34m.\u001b[0m\u001b[0mitems\u001b[0m\u001b[0;34m)\u001b[0m \u001b[0;34m!=\u001b[0m \u001b[0mtot_items\u001b[0m\u001b[0;34m:\u001b[0m\u001b[0;34m\u001b[0m\u001b[0;34m\u001b[0m\u001b[0m\n\u001b[1;32m    328\u001b[0m             raise AssertionError(\n",
            "\u001b[0;31mValueError\u001b[0m: Shape of passed values is (500, 6), indices imply (300, 6)"
          ]
        }
      ]
    }
  ]
}