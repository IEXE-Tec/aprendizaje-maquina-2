{
  "nbformat": 4,
  "nbformat_minor": 0,
  "metadata": {
    "colab": {
      "name": "01_seleccion_de_variables.ipynb",
      "provenance": [],
      "authorship_tag": "ABX9TyNryqKMtD2KRBIYfZN2HEEH",
      "include_colab_link": true
    },
    "kernelspec": {
      "name": "python3",
      "display_name": "Python 3"
    }
  },
  "cells": [
    {
      "cell_type": "markdown",
      "metadata": {
        "id": "view-in-github",
        "colab_type": "text"
      },
      "source": [
        "<a href=\"https://colab.research.google.com/github/IEXE-Tec/aprendizaje-maquina-2/blob/master/01_seleccion_de_variables.ipynb\" target=\"_parent\"><img src=\"https://colab.research.google.com/assets/colab-badge.svg\" alt=\"Open In Colab\"/></a>"
      ]
    },
    {
      "cell_type": "code",
      "metadata": {
        "id": "5t_RUBXXEFzr"
      },
      "source": [
        "import pandas as pd\n",
        "import numpy as np\n",
        "\n",
        "# Graphics\n",
        "import matplotlib\n",
        "%matplotlib inline\n",
        "import seaborn as sns\n",
        "sns.set_style('darkgrid')"
      ],
      "execution_count": 35,
      "outputs": []
    },
    {
      "cell_type": "markdown",
      "metadata": {
        "id": "OnGUAa_aF2cz"
      },
      "source": [
        "# Seleccion Univariada"
      ]
    },
    {
      "cell_type": "markdown",
      "metadata": {
        "id": "zX1jDIUQMnUP"
      },
      "source": [
        "Para esta seccion utilizaremos el set de datos de penguinos, y trataremos de predecir el Sexo del Pinguino utilizando las demas varaibles -> Y='sex'"
      ]
    },
    {
      "cell_type": "markdown",
      "metadata": {
        "id": "IXACrS_LMZ5w"
      },
      "source": [
        "Carguemos el set de datos de pinguinos."
      ]
    },
    {
      "cell_type": "code",
      "metadata": {
        "id": "E7uom6izLmKI",
        "outputId": "1e27cf92-2c33-4771-c931-5ac96cf3b237",
        "colab": {
          "base_uri": "https://localhost:8080/",
          "height": 206
        }
      },
      "source": [
        "# Load the penguin Dataset\n",
        "penguins = sns.load_dataset('penguins')\n",
        "penguins.head()"
      ],
      "execution_count": 36,
      "outputs": [
        {
          "output_type": "execute_result",
          "data": {
            "text/html": [
              "<div>\n",
              "<style scoped>\n",
              "    .dataframe tbody tr th:only-of-type {\n",
              "        vertical-align: middle;\n",
              "    }\n",
              "\n",
              "    .dataframe tbody tr th {\n",
              "        vertical-align: top;\n",
              "    }\n",
              "\n",
              "    .dataframe thead th {\n",
              "        text-align: right;\n",
              "    }\n",
              "</style>\n",
              "<table border=\"1\" class=\"dataframe\">\n",
              "  <thead>\n",
              "    <tr style=\"text-align: right;\">\n",
              "      <th></th>\n",
              "      <th>species</th>\n",
              "      <th>island</th>\n",
              "      <th>bill_length_mm</th>\n",
              "      <th>bill_depth_mm</th>\n",
              "      <th>flipper_length_mm</th>\n",
              "      <th>body_mass_g</th>\n",
              "      <th>sex</th>\n",
              "    </tr>\n",
              "  </thead>\n",
              "  <tbody>\n",
              "    <tr>\n",
              "      <th>0</th>\n",
              "      <td>Adelie</td>\n",
              "      <td>Torgersen</td>\n",
              "      <td>39.1</td>\n",
              "      <td>18.7</td>\n",
              "      <td>181.0</td>\n",
              "      <td>3750.0</td>\n",
              "      <td>Male</td>\n",
              "    </tr>\n",
              "    <tr>\n",
              "      <th>1</th>\n",
              "      <td>Adelie</td>\n",
              "      <td>Torgersen</td>\n",
              "      <td>39.5</td>\n",
              "      <td>17.4</td>\n",
              "      <td>186.0</td>\n",
              "      <td>3800.0</td>\n",
              "      <td>Female</td>\n",
              "    </tr>\n",
              "    <tr>\n",
              "      <th>2</th>\n",
              "      <td>Adelie</td>\n",
              "      <td>Torgersen</td>\n",
              "      <td>40.3</td>\n",
              "      <td>18.0</td>\n",
              "      <td>195.0</td>\n",
              "      <td>3250.0</td>\n",
              "      <td>Female</td>\n",
              "    </tr>\n",
              "    <tr>\n",
              "      <th>3</th>\n",
              "      <td>Adelie</td>\n",
              "      <td>Torgersen</td>\n",
              "      <td>NaN</td>\n",
              "      <td>NaN</td>\n",
              "      <td>NaN</td>\n",
              "      <td>NaN</td>\n",
              "      <td>NaN</td>\n",
              "    </tr>\n",
              "    <tr>\n",
              "      <th>4</th>\n",
              "      <td>Adelie</td>\n",
              "      <td>Torgersen</td>\n",
              "      <td>36.7</td>\n",
              "      <td>19.3</td>\n",
              "      <td>193.0</td>\n",
              "      <td>3450.0</td>\n",
              "      <td>Female</td>\n",
              "    </tr>\n",
              "  </tbody>\n",
              "</table>\n",
              "</div>"
            ],
            "text/plain": [
              "  species     island  bill_length_mm  ...  flipper_length_mm  body_mass_g     sex\n",
              "0  Adelie  Torgersen            39.1  ...              181.0       3750.0    Male\n",
              "1  Adelie  Torgersen            39.5  ...              186.0       3800.0  Female\n",
              "2  Adelie  Torgersen            40.3  ...              195.0       3250.0  Female\n",
              "3  Adelie  Torgersen             NaN  ...                NaN          NaN     NaN\n",
              "4  Adelie  Torgersen            36.7  ...              193.0       3450.0  Female\n",
              "\n",
              "[5 rows x 7 columns]"
            ]
          },
          "metadata": {
            "tags": []
          },
          "execution_count": 36
        }
      ]
    },
    {
      "cell_type": "markdown",
      "metadata": {
        "id": "pxAsq3bNMyfy"
      },
      "source": [
        "Eliminemos los missing y nan.\n",
        "Cambiemos la varaible objetivo a 0 y 1 (Encoding)"
      ]
    },
    {
      "cell_type": "code",
      "metadata": {
        "id": "V9DinEbPMBm_"
      },
      "source": [
        "# Lets get rid of the nan\n",
        "penguins.dropna(inplace=True)\n",
        "# Encode the sex\n",
        "penguins.replace({'Male':0, 'Female':1}, inplace=True)"
      ],
      "execution_count": 37,
      "outputs": []
    },
    {
      "cell_type": "markdown",
      "metadata": {
        "id": "9PsBUhTuN9Px"
      },
      "source": [
        "Utilicemos el metodo de Pandas get_dummies. (https://pandas.pydata.org/docs/reference/api/pandas.get_dummies.html).\n",
        "\n",
        "Recuerda utilizar el argumento drop_first=True, de lo contrario se creara una columna para cada valor de la variable lo cual causara problemas de colinealidad."
      ]
    },
    {
      "cell_type": "code",
      "metadata": {
        "id": "ujFKDBZeVYtf",
        "outputId": "b8935f7b-d0c5-4b54-ec8c-23a4c1f22358",
        "colab": {
          "base_uri": "https://localhost:8080/",
          "height": 206
        }
      },
      "source": [
        "penguins.head()"
      ],
      "execution_count": 43,
      "outputs": [
        {
          "output_type": "execute_result",
          "data": {
            "text/html": [
              "<div>\n",
              "<style scoped>\n",
              "    .dataframe tbody tr th:only-of-type {\n",
              "        vertical-align: middle;\n",
              "    }\n",
              "\n",
              "    .dataframe tbody tr th {\n",
              "        vertical-align: top;\n",
              "    }\n",
              "\n",
              "    .dataframe thead th {\n",
              "        text-align: right;\n",
              "    }\n",
              "</style>\n",
              "<table border=\"1\" class=\"dataframe\">\n",
              "  <thead>\n",
              "    <tr style=\"text-align: right;\">\n",
              "      <th></th>\n",
              "      <th>species</th>\n",
              "      <th>island</th>\n",
              "      <th>bill_length_mm</th>\n",
              "      <th>bill_depth_mm</th>\n",
              "      <th>flipper_length_mm</th>\n",
              "      <th>body_mass_g</th>\n",
              "      <th>sex</th>\n",
              "    </tr>\n",
              "  </thead>\n",
              "  <tbody>\n",
              "    <tr>\n",
              "      <th>0</th>\n",
              "      <td>Adelie</td>\n",
              "      <td>Torgersen</td>\n",
              "      <td>39.1</td>\n",
              "      <td>18.7</td>\n",
              "      <td>181.0</td>\n",
              "      <td>3750.0</td>\n",
              "      <td>0</td>\n",
              "    </tr>\n",
              "    <tr>\n",
              "      <th>1</th>\n",
              "      <td>Adelie</td>\n",
              "      <td>Torgersen</td>\n",
              "      <td>39.5</td>\n",
              "      <td>17.4</td>\n",
              "      <td>186.0</td>\n",
              "      <td>3800.0</td>\n",
              "      <td>1</td>\n",
              "    </tr>\n",
              "    <tr>\n",
              "      <th>2</th>\n",
              "      <td>Adelie</td>\n",
              "      <td>Torgersen</td>\n",
              "      <td>40.3</td>\n",
              "      <td>18.0</td>\n",
              "      <td>195.0</td>\n",
              "      <td>3250.0</td>\n",
              "      <td>1</td>\n",
              "    </tr>\n",
              "    <tr>\n",
              "      <th>4</th>\n",
              "      <td>Adelie</td>\n",
              "      <td>Torgersen</td>\n",
              "      <td>36.7</td>\n",
              "      <td>19.3</td>\n",
              "      <td>193.0</td>\n",
              "      <td>3450.0</td>\n",
              "      <td>1</td>\n",
              "    </tr>\n",
              "    <tr>\n",
              "      <th>5</th>\n",
              "      <td>Adelie</td>\n",
              "      <td>Torgersen</td>\n",
              "      <td>39.3</td>\n",
              "      <td>20.6</td>\n",
              "      <td>190.0</td>\n",
              "      <td>3650.0</td>\n",
              "      <td>0</td>\n",
              "    </tr>\n",
              "  </tbody>\n",
              "</table>\n",
              "</div>"
            ],
            "text/plain": [
              "  species     island  bill_length_mm  ...  flipper_length_mm  body_mass_g  sex\n",
              "0  Adelie  Torgersen            39.1  ...              181.0       3750.0    0\n",
              "1  Adelie  Torgersen            39.5  ...              186.0       3800.0    1\n",
              "2  Adelie  Torgersen            40.3  ...              195.0       3250.0    1\n",
              "4  Adelie  Torgersen            36.7  ...              193.0       3450.0    1\n",
              "5  Adelie  Torgersen            39.3  ...              190.0       3650.0    0\n",
              "\n",
              "[5 rows x 7 columns]"
            ]
          },
          "metadata": {
            "tags": []
          },
          "execution_count": 43
        }
      ]
    },
    {
      "cell_type": "code",
      "metadata": {
        "id": "Ho8FlTxmNs9R",
        "outputId": "ba3027b2-fa87-4e5e-fc39-17bb4ca2be8f",
        "colab": {
          "base_uri": "https://localhost:8080/",
          "height": 90
        }
      },
      "source": [
        "# Encode Species & island\n",
        "pen = pd.get_dummies(penguins, columns=['species', 'island'], \n",
        "                          drop_first=True)\n",
        "pen.columns"
      ],
      "execution_count": 42,
      "outputs": [
        {
          "output_type": "execute_result",
          "data": {
            "text/plain": [
              "Index(['bill_length_mm', 'bill_depth_mm', 'flipper_length_mm', 'body_mass_g',\n",
              "       'sex', 'species_Chinstrap', 'species_Gentoo', 'island_Dream',\n",
              "       'island_Torgersen'],\n",
              "      dtype='object')"
            ]
          },
          "metadata": {
            "tags": []
          },
          "execution_count": 42
        }
      ]
    },
    {
      "cell_type": "markdown",
      "metadata": {
        "id": "a16osms-Xdxc"
      },
      "source": [
        "## Analicemos la Varianza"
      ]
    },
    {
      "cell_type": "code",
      "metadata": {
        "id": "SAGs287IXfgY",
        "outputId": "b6ee4e15-8f0e-456e-c56a-615ff0461d82",
        "colab": {
          "base_uri": "https://localhost:8080/",
          "height": 200
        }
      },
      "source": [
        "pen.std()/pen.mean()"
      ],
      "execution_count": 47,
      "outputs": [
        {
          "output_type": "execute_result",
          "data": {
            "text/plain": [
              "bill_length_mm       0.124308\n",
              "bill_depth_mm        0.114725\n",
              "flipper_length_mm    0.069742\n",
              "body_mass_g          0.191396\n",
              "sex                  1.010568\n",
              "species_Chinstrap    1.977068\n",
              "species_Gentoo       1.343032\n",
              "island_Dream         1.308610\n",
              "island_Torgersen     2.470513\n",
              "dtype: float64"
            ]
          },
          "metadata": {
            "tags": []
          },
          "execution_count": 47
        }
      ]
    },
    {
      "cell_type": "markdown",
      "metadata": {
        "id": "XKWUihk6OliJ"
      },
      "source": [
        "## Analicemos sus correlaciones"
      ]
    },
    {
      "cell_type": "code",
      "metadata": {
        "id": "rP1viJ21OozH",
        "outputId": "6a144652-5ea7-41dd-e25e-a091b4975b85",
        "colab": {
          "base_uri": "https://localhost:8080/",
          "height": 352
        }
      },
      "source": [
        "pen.corr()"
      ],
      "execution_count": 39,
      "outputs": [
        {
          "output_type": "execute_result",
          "data": {
            "text/html": [
              "<div>\n",
              "<style scoped>\n",
              "    .dataframe tbody tr th:only-of-type {\n",
              "        vertical-align: middle;\n",
              "    }\n",
              "\n",
              "    .dataframe tbody tr th {\n",
              "        vertical-align: top;\n",
              "    }\n",
              "\n",
              "    .dataframe thead th {\n",
              "        text-align: right;\n",
              "    }\n",
              "</style>\n",
              "<table border=\"1\" class=\"dataframe\">\n",
              "  <thead>\n",
              "    <tr style=\"text-align: right;\">\n",
              "      <th></th>\n",
              "      <th>bill_length_mm</th>\n",
              "      <th>bill_depth_mm</th>\n",
              "      <th>flipper_length_mm</th>\n",
              "      <th>body_mass_g</th>\n",
              "      <th>sex</th>\n",
              "      <th>species_Chinstrap</th>\n",
              "      <th>species_Gentoo</th>\n",
              "      <th>island_Dream</th>\n",
              "      <th>island_Torgersen</th>\n",
              "    </tr>\n",
              "  </thead>\n",
              "  <tbody>\n",
              "    <tr>\n",
              "      <th>bill_length_mm</th>\n",
              "      <td>1.000000</td>\n",
              "      <td>-0.228626</td>\n",
              "      <td>0.653096</td>\n",
              "      <td>0.589451</td>\n",
              "      <td>-0.344078</td>\n",
              "      <td>0.449098</td>\n",
              "      <td>0.488256</td>\n",
              "      <td>0.032118</td>\n",
              "      <td>-0.367821</td>\n",
              "    </tr>\n",
              "    <tr>\n",
              "      <th>bill_depth_mm</th>\n",
              "      <td>-0.228626</td>\n",
              "      <td>1.000000</td>\n",
              "      <td>-0.577792</td>\n",
              "      <td>-0.472016</td>\n",
              "      <td>-0.372673</td>\n",
              "      <td>0.323505</td>\n",
              "      <td>-0.822293</td>\n",
              "      <td>0.457326</td>\n",
              "      <td>0.265173</td>\n",
              "    </tr>\n",
              "    <tr>\n",
              "      <th>flipper_length_mm</th>\n",
              "      <td>0.653096</td>\n",
              "      <td>-0.577792</td>\n",
              "      <td>1.000000</td>\n",
              "      <td>0.872979</td>\n",
              "      <td>-0.255169</td>\n",
              "      <td>-0.186175</td>\n",
              "      <td>0.866854</td>\n",
              "      <td>-0.425459</td>\n",
              "      <td>-0.273304</td>\n",
              "    </tr>\n",
              "    <tr>\n",
              "      <th>body_mass_g</th>\n",
              "      <td>0.589451</td>\n",
              "      <td>-0.472016</td>\n",
              "      <td>0.872979</td>\n",
              "      <td>1.000000</td>\n",
              "      <td>-0.424987</td>\n",
              "      <td>-0.298622</td>\n",
              "      <td>0.821178</td>\n",
              "      <td>-0.464666</td>\n",
              "      <td>-0.251369</td>\n",
              "    </tr>\n",
              "    <tr>\n",
              "      <th>sex</th>\n",
              "      <td>-0.344078</td>\n",
              "      <td>-0.372673</td>\n",
              "      <td>-0.255169</td>\n",
              "      <td>-0.424987</td>\n",
              "      <td>1.000000</td>\n",
              "      <td>0.004564</td>\n",
              "      <td>-0.012082</td>\n",
              "      <td>0.000673</td>\n",
              "      <td>0.012278</td>\n",
              "    </tr>\n",
              "    <tr>\n",
              "      <th>species_Chinstrap</th>\n",
              "      <td>0.449098</td>\n",
              "      <td>0.323505</td>\n",
              "      <td>-0.186175</td>\n",
              "      <td>-0.298622</td>\n",
              "      <td>0.004564</td>\n",
              "      <td>1.000000</td>\n",
              "      <td>-0.377744</td>\n",
              "      <td>0.661894</td>\n",
              "      <td>-0.205351</td>\n",
              "    </tr>\n",
              "    <tr>\n",
              "      <th>species_Gentoo</th>\n",
              "      <td>0.488256</td>\n",
              "      <td>-0.822293</td>\n",
              "      <td>0.866854</td>\n",
              "      <td>0.821178</td>\n",
              "      <td>-0.012082</td>\n",
              "      <td>-0.377744</td>\n",
              "      <td>1.000000</td>\n",
              "      <td>-0.570702</td>\n",
              "      <td>-0.302296</td>\n",
              "    </tr>\n",
              "    <tr>\n",
              "      <th>island_Dream</th>\n",
              "      <td>0.032118</td>\n",
              "      <td>0.457326</td>\n",
              "      <td>-0.425459</td>\n",
              "      <td>-0.464666</td>\n",
              "      <td>0.000673</td>\n",
              "      <td>0.661894</td>\n",
              "      <td>-0.570702</td>\n",
              "      <td>1.000000</td>\n",
              "      <td>-0.310248</td>\n",
              "    </tr>\n",
              "    <tr>\n",
              "      <th>island_Torgersen</th>\n",
              "      <td>-0.367821</td>\n",
              "      <td>0.265173</td>\n",
              "      <td>-0.273304</td>\n",
              "      <td>-0.251369</td>\n",
              "      <td>0.012278</td>\n",
              "      <td>-0.205351</td>\n",
              "      <td>-0.302296</td>\n",
              "      <td>-0.310248</td>\n",
              "      <td>1.000000</td>\n",
              "    </tr>\n",
              "  </tbody>\n",
              "</table>\n",
              "</div>"
            ],
            "text/plain": [
              "                   bill_length_mm  ...  island_Torgersen\n",
              "bill_length_mm           1.000000  ...         -0.367821\n",
              "bill_depth_mm           -0.228626  ...          0.265173\n",
              "flipper_length_mm        0.653096  ...         -0.273304\n",
              "body_mass_g              0.589451  ...         -0.251369\n",
              "sex                     -0.344078  ...          0.012278\n",
              "species_Chinstrap        0.449098  ...         -0.205351\n",
              "species_Gentoo           0.488256  ...         -0.302296\n",
              "island_Dream             0.032118  ...         -0.310248\n",
              "island_Torgersen        -0.367821  ...          1.000000\n",
              "\n",
              "[9 rows x 9 columns]"
            ]
          },
          "metadata": {
            "tags": []
          },
          "execution_count": 39
        }
      ]
    },
    {
      "cell_type": "markdown",
      "metadata": {
        "id": "E2Toyhq-SS4H"
      },
      "source": [
        "Analicemos la matriz de correlaciones con un Heatmap"
      ]
    },
    {
      "cell_type": "code",
      "metadata": {
        "id": "W7-AH2OgOvae",
        "outputId": "6b5fe5e3-7626-4d28-a9be-d92a8845c4a2",
        "colab": {
          "base_uri": "https://localhost:8080/",
          "height": 371
        }
      },
      "source": [
        "sns.heatmap(pen.corr(), annot = True, fmt='.1g')"
      ],
      "execution_count": 41,
      "outputs": [
        {
          "output_type": "execute_result",
          "data": {
            "text/plain": [
              "<matplotlib.axes._subplots.AxesSubplot at 0x7fabc60af908>"
            ]
          },
          "metadata": {
            "tags": []
          },
          "execution_count": 41
        },
        {
          "output_type": "display_data",
          "data": {
            "image/png": "[encoded data removed]",
            "text/plain": [
              "<Figure size 432x288 with 2 Axes>"
            ]
          },
          "metadata": {
            "tags": []
          }
        }
      ]
    },
    {
      "cell_type": "markdown",
      "metadata": {
        "id": "iEMAEOV5gNgd"
      },
      "source": [
        "## Chi-square"
      ]
    },
    {
      "cell_type": "code",
      "metadata": {
        "id": "FNFEdflCgekt"
      },
      "source": [
        "# Importemos chi2 de sklearn\n",
        "from sklearn.feature_selection import chi2"
      ],
      "execution_count": 51,
      "outputs": []
    },
    {
      "cell_type": "code",
      "metadata": {
        "id": "9aY0ADcMg7Q2",
        "outputId": "8bd5153d-4904-482f-8b82-d317bac08fb3",
        "colab": {
          "base_uri": "https://localhost:8080/",
          "height": 300
        }
      },
      "source": [
        "X = pen.drop('sex', axis=1)\n",
        "y = pen['sex']\n",
        "\n",
        "chi_sq, p_val = chi2(X,y)\n",
        "chi_values = pd.DataFrame.from_dict({'variable':X.columns,\n",
        "                        'chi_sq':chi_sq, 'p_value':p_val})\n",
        "chi_values.sort_values(ascending=True, by='p_value').round(3)\n"
      ],
      "execution_count": 59,
      "outputs": [
        {
          "output_type": "execute_result",
          "data": {
            "text/html": [
              "<div>\n",
              "<style scoped>\n",
              "    .dataframe tbody tr th:only-of-type {\n",
              "        vertical-align: middle;\n",
              "    }\n",
              "\n",
              "    .dataframe tbody tr th {\n",
              "        vertical-align: top;\n",
              "    }\n",
              "\n",
              "    .dataframe thead th {\n",
              "        text-align: right;\n",
              "    }\n",
              "</style>\n",
              "<table border=\"1\" class=\"dataframe\">\n",
              "  <thead>\n",
              "    <tr style=\"text-align: right;\">\n",
              "      <th></th>\n",
              "      <th>variable</th>\n",
              "      <th>chi_sq</th>\n",
              "      <th>p_value</th>\n",
              "    </tr>\n",
              "  </thead>\n",
              "  <tbody>\n",
              "    <tr>\n",
              "      <th>3</th>\n",
              "      <td>body_mass_g</td>\n",
              "      <td>9241.352</td>\n",
              "      <td>0.000</td>\n",
              "    </tr>\n",
              "    <tr>\n",
              "      <th>0</th>\n",
              "      <td>bill_length_mm</td>\n",
              "      <td>26.720</td>\n",
              "      <td>0.000</td>\n",
              "    </tr>\n",
              "    <tr>\n",
              "      <th>2</th>\n",
              "      <td>flipper_length_mm</td>\n",
              "      <td>21.130</td>\n",
              "      <td>0.000</td>\n",
              "    </tr>\n",
              "    <tr>\n",
              "      <th>1</th>\n",
              "      <td>bill_depth_mm</td>\n",
              "      <td>10.417</td>\n",
              "      <td>0.001</td>\n",
              "    </tr>\n",
              "    <tr>\n",
              "      <th>7</th>\n",
              "      <td>island_Torgersen</td>\n",
              "      <td>0.043</td>\n",
              "      <td>0.836</td>\n",
              "    </tr>\n",
              "    <tr>\n",
              "      <th>5</th>\n",
              "      <td>species_Gentoo</td>\n",
              "      <td>0.031</td>\n",
              "      <td>0.860</td>\n",
              "    </tr>\n",
              "    <tr>\n",
              "      <th>4</th>\n",
              "      <td>species_Chinstrap</td>\n",
              "      <td>0.006</td>\n",
              "      <td>0.941</td>\n",
              "    </tr>\n",
              "    <tr>\n",
              "      <th>6</th>\n",
              "      <td>island_Dream</td>\n",
              "      <td>0.000</td>\n",
              "      <td>0.992</td>\n",
              "    </tr>\n",
              "  </tbody>\n",
              "</table>\n",
              "</div>"
            ],
            "text/plain": [
              "            variable    chi_sq  p_value\n",
              "3        body_mass_g  9241.352    0.000\n",
              "0     bill_length_mm    26.720    0.000\n",
              "2  flipper_length_mm    21.130    0.000\n",
              "1      bill_depth_mm    10.417    0.001\n",
              "7   island_Torgersen     0.043    0.836\n",
              "5     species_Gentoo     0.031    0.860\n",
              "4  species_Chinstrap     0.006    0.941\n",
              "6       island_Dream     0.000    0.992"
            ]
          },
          "metadata": {
            "tags": []
          },
          "execution_count": 59
        }
      ]
    },
    {
      "cell_type": "markdown",
      "metadata": {
        "id": "8cXzPDNRn56e"
      },
      "source": [
        "# Predicciones"
      ]
    },
    {
      "cell_type": "code",
      "metadata": {
        "id": "W_XWXvlepbWz"
      },
      "source": [
        "# Preprocess data\n",
        "from sklearn.preprocessing import StandardScaler\n",
        "from sklearn.model_selection import train_test_split\n",
        "\n",
        "def preprocess_split(X, y,test_size=0.2,random_state=5874,scale_x=True, scale_y=False):\n",
        "  # Split data\n",
        "  x_train, x_test, y_train, y_test = train_test_split(X, y,\n",
        "                                                    test_size=test_size, \n",
        "                                                    random_state=random_state)\n",
        "  # Scale X\n",
        "  if scale_x:\n",
        "    scaler = StandardScaler().fit(x_train)\n",
        "    x_train = scaler.transform(x_train)\n",
        "    x_test = scaler.transform(x_test)\n",
        "  # Scale Y\n",
        "  if scale_y:\n",
        "    scaler = StandardScaler().fit(y_train)\n",
        "    y_train = scaler.transform(y_train)\n",
        "    y_test = scaler.transform(y_test)\n",
        "\n",
        "  return x_train, x_test, y_train, y_test\n",
        "\n"
      ],
      "execution_count": 89,
      "outputs": []
    },
    {
      "cell_type": "code",
      "metadata": {
        "id": "JL9C7dvksGz_"
      },
      "source": [
        "# Funcion de regresion logistica\n",
        "from sklearn.linear_model import LogisticRegression\n",
        "from sklearn.metrics import classification_report\n",
        "from sklearn.metrics import accuracy_score\n",
        "def log_regression(x_train, x_test, y_train, y_test):\n",
        "  \n",
        "  #print(x_train.columns)\n",
        "  # Train Logistic Model\n",
        "  model = LogisticRegression()\n",
        "  model.fit(x_train, y_train)\n",
        "\n",
        "  #Test the model\n",
        "  predictions = model.predict(x_test)\n",
        "\n",
        "  #Check precision, recall, f1-score\n",
        "  #print( '\\n', classification_report(y_test, predictions) )\n",
        "  print( 'Accuracy: ', accuracy_score(y_test, predictions))\n",
        "  #print('\\n Coefficients: \\n', model.coef_)\n",
        "  print('----------------------------------------------------------------')\n",
        "\n"
      ],
      "execution_count": 92,
      "outputs": []
    },
    {
      "cell_type": "code",
      "metadata": {
        "id": "OEHml03ZrDBF",
        "outputId": "c0fc7334-f238-4d96-f18f-db97c1f4a266",
        "colab": {
          "base_uri": "https://localhost:8080/",
          "height": 145
        }
      },
      "source": [
        "# Create data set\n",
        "X = pen.loc[:, pen.columns!='sex']\n",
        "y = pen['sex']\n",
        "\n",
        "x_train, x_test, y_train, y_test = preprocess_split(X, y, scale_x=True, \n",
        "                                                    random_state=5874,\n",
        "                                                    test_size=0.2)\n",
        "print(X.columns)\n",
        "log_regression(x_train, x_test, y_train, y_test)"
      ],
      "execution_count": 113,
      "outputs": [
        {
          "output_type": "stream",
          "text": [
            "X\n",
            "Index(['bill_length_mm', 'bill_depth_mm', 'flipper_length_mm', 'body_mass_g',\n",
            "       'species_Chinstrap', 'species_Gentoo', 'island_Dream',\n",
            "       'island_Torgersen'],\n",
            "      dtype='object')\n",
            "Accuracy:  0.9253731343283582\n",
            "----------------------------------------------------------------\n"
          ],
          "name": "stdout"
        }
      ]
    },
    {
      "cell_type": "markdown",
      "metadata": {
        "id": "92nhQGoLsr-q"
      },
      "source": [
        "Eliminemos las variables con baja correlacion o evidencia de idependencia respecto a y: 'species & island'"
      ]
    },
    {
      "cell_type": "code",
      "metadata": {
        "id": "6_w4F6_3sNj8",
        "outputId": "0f728add-4702-4abf-b9a7-31ff483416e7",
        "colab": {
          "base_uri": "https://localhost:8080/",
          "height": 90
        }
      },
      "source": [
        "sub_set = [c for c in X.columns if ('island' not in c)]\n",
        "sub_set = [c for c in sub_set if ('species' not in c)]\n",
        "\n",
        "X = pen[sub_set]\n",
        "y = pen['sex']\n",
        "\n",
        "x_train, x_test, y_train, y_test = preprocess_split(X, y, scale_x=True, \n",
        "                                                    test_size=0.2, \n",
        "                                                    random_state=5874)\n",
        "print(X.columns)\n",
        "log_regression(x_train, x_test, y_train, y_test)"
      ],
      "execution_count": 114,
      "outputs": [
        {
          "output_type": "stream",
          "text": [
            "X\n",
            "Index(['bill_length_mm', 'bill_depth_mm', 'flipper_length_mm', 'body_mass_g'], dtype='object')\n",
            "Accuracy:  0.9253731343283582\n",
            "----------------------------------------------------------------\n"
          ],
          "name": "stdout"
        }
      ]
    }
  ]
}