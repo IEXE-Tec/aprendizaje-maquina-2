{
  "nbformat": 4,
  "nbformat_minor": 0,
  "metadata": {
    "colab": {
      "name": "01_seleccion_de_variables.ipynb",
      "provenance": [],
      "authorship_tag": "ABX9TyNwFqZCP5gB0e5Mbr3XmA9J",
      "include_colab_link": true
    },
    "kernelspec": {
      "name": "python3",
      "display_name": "Python 3"
    }
  },
  "cells": [
    {
      "cell_type": "markdown",
      "metadata": {
        "id": "view-in-github",
        "colab_type": "text"
      },
      "source": [
        "<a href=\"https://colab.research.google.com/github/IEXE-Tec/aprendizaje-maquina-2/blob/master/01_seleccion_de_variables.ipynb\" target=\"_parent\"><img src=\"https://colab.research.google.com/assets/colab-badge.svg\" alt=\"Open In Colab\"/></a>"
      ]
    },
    {
      "cell_type": "code",
      "metadata": {
        "id": "5t_RUBXXEFzr"
      },
      "source": [
        "import pandas as pd\n",
        "import numpy as np\n",
        "\n",
        "# Graphics\n",
        "import matplotlib\n",
        "%matplotlib inline\n",
        "import seaborn as sns\n",
        "sns.set_style('darkgrid')"
      ],
      "execution_count": 35,
      "outputs": []
    },
    {
      "cell_type": "markdown",
      "metadata": {
        "id": "OnGUAa_aF2cz"
      },
      "source": [
        "# Seleccion Univariada"
      ]
    },
    {
      "cell_type": "markdown",
      "metadata": {
        "id": "zX1jDIUQMnUP"
      },
      "source": [
        "Para esta seccion utilizaremos el set de datos de penguinos, y trataremos de predecir el Sexo del Pinguino utilizando las demas varaibles -> Y='sex'"
      ]
    },
    {
      "cell_type": "markdown",
      "metadata": {
        "id": "IXACrS_LMZ5w"
      },
      "source": [
        "Carguemos el set de datos de pinguinos."
      ]
    },
    {
      "cell_type": "code",
      "metadata": {
        "id": "E7uom6izLmKI",
        "outputId": "1e27cf92-2c33-4771-c931-5ac96cf3b237",
        "colab": {
          "base_uri": "https://localhost:8080/",
          "height": 206
        }
      },
      "source": [
        "# Load the penguin Dataset\n",
        "penguins = sns.load_dataset('penguins')\n",
        "penguins.head()"
      ],
      "execution_count": 36,
      "outputs": [
        {
          "output_type": "execute_result",
          "data": {
            "text/html": [
              "<div>\n",
              "<style scoped>\n",
              "    .dataframe tbody tr th:only-of-type {\n",
              "        vertical-align: middle;\n",
              "    }\n",
              "\n",
              "    .dataframe tbody tr th {\n",
              "        vertical-align: top;\n",
              "    }\n",
              "\n",
              "    .dataframe thead th {\n",
              "        text-align: right;\n",
              "    }\n",
              "</style>\n",
              "<table border=\"1\" class=\"dataframe\">\n",
              "  <thead>\n",
              "    <tr style=\"text-align: right;\">\n",
              "      <th></th>\n",
              "      <th>species</th>\n",
              "      <th>island</th>\n",
              "      <th>bill_length_mm</th>\n",
              "      <th>bill_depth_mm</th>\n",
              "      <th>flipper_length_mm</th>\n",
              "      <th>body_mass_g</th>\n",
              "      <th>sex</th>\n",
              "    </tr>\n",
              "  </thead>\n",
              "  <tbody>\n",
              "    <tr>\n",
              "      <th>0</th>\n",
              "      <td>Adelie</td>\n",
              "      <td>Torgersen</td>\n",
              "      <td>39.1</td>\n",
              "      <td>18.7</td>\n",
              "      <td>181.0</td>\n",
              "      <td>3750.0</td>\n",
              "      <td>Male</td>\n",
              "    </tr>\n",
              "    <tr>\n",
              "      <th>1</th>\n",
              "      <td>Adelie</td>\n",
              "      <td>Torgersen</td>\n",
              "      <td>39.5</td>\n",
              "      <td>17.4</td>\n",
              "      <td>186.0</td>\n",
              "      <td>3800.0</td>\n",
              "      <td>Female</td>\n",
              "    </tr>\n",
              "    <tr>\n",
              "      <th>2</th>\n",
              "      <td>Adelie</td>\n",
              "      <td>Torgersen</td>\n",
              "      <td>40.3</td>\n",
              "      <td>18.0</td>\n",
              "      <td>195.0</td>\n",
              "      <td>3250.0</td>\n",
              "      <td>Female</td>\n",
              "    </tr>\n",
              "    <tr>\n",
              "      <th>3</th>\n",
              "      <td>Adelie</td>\n",
              "      <td>Torgersen</td>\n",
              "      <td>NaN</td>\n",
              "      <td>NaN</td>\n",
              "      <td>NaN</td>\n",
              "      <td>NaN</td>\n",
              "      <td>NaN</td>\n",
              "    </tr>\n",
              "    <tr>\n",
              "      <th>4</th>\n",
              "      <td>Adelie</td>\n",
              "      <td>Torgersen</td>\n",
              "      <td>36.7</td>\n",
              "      <td>19.3</td>\n",
              "      <td>193.0</td>\n",
              "      <td>3450.0</td>\n",
              "      <td>Female</td>\n",
              "    </tr>\n",
              "  </tbody>\n",
              "</table>\n",
              "</div>"
            ],
            "text/plain": [
              "  species     island  bill_length_mm  ...  flipper_length_mm  body_mass_g     sex\n",
              "0  Adelie  Torgersen            39.1  ...              181.0       3750.0    Male\n",
              "1  Adelie  Torgersen            39.5  ...              186.0       3800.0  Female\n",
              "2  Adelie  Torgersen            40.3  ...              195.0       3250.0  Female\n",
              "3  Adelie  Torgersen             NaN  ...                NaN          NaN     NaN\n",
              "4  Adelie  Torgersen            36.7  ...              193.0       3450.0  Female\n",
              "\n",
              "[5 rows x 7 columns]"
            ]
          },
          "metadata": {
            "tags": []
          },
          "execution_count": 36
        }
      ]
    },
    {
      "cell_type": "markdown",
      "metadata": {
        "id": "pxAsq3bNMyfy"
      },
      "source": [
        "Eliminemos los missing y nan.\n",
        "Cambiemos la varaible objetivo a 0 y 1 (Encoding)"
      ]
    },
    {
      "cell_type": "code",
      "metadata": {
        "id": "V9DinEbPMBm_"
      },
      "source": [
        "# Lets get rid of the nan\n",
        "penguins.dropna(inplace=True)\n",
        "# Encode the sex\n",
        "penguins.replace({'Male':0, 'Female':1}, inplace=True)"
      ],
      "execution_count": 37,
      "outputs": []
    },
    {
      "cell_type": "markdown",
      "metadata": {
        "id": "9PsBUhTuN9Px"
      },
      "source": [
        "Utilicemos el metodo de Pandas get_dummies. (https://pandas.pydata.org/docs/reference/api/pandas.get_dummies.html).\n",
        "\n",
        "Recuerda utilizar el argumento drop_first=True, de lo contrario se creara una columna para cada valor de la variable lo cual causara problemas de colinealidad."
      ]
    },
    {
      "cell_type": "code",
      "metadata": {
        "id": "ujFKDBZeVYtf",
        "outputId": "b8935f7b-d0c5-4b54-ec8c-23a4c1f22358",
        "colab": {
          "base_uri": "https://localhost:8080/",
          "height": 206
        }
      },
      "source": [
        "penguins.head()"
      ],
      "execution_count": 43,
      "outputs": [
        {
          "output_type": "execute_result",
          "data": {
            "text/html": [
              "<div>\n",
              "<style scoped>\n",
              "    .dataframe tbody tr th:only-of-type {\n",
              "        vertical-align: middle;\n",
              "    }\n",
              "\n",
              "    .dataframe tbody tr th {\n",
              "        vertical-align: top;\n",
              "    }\n",
              "\n",
              "    .dataframe thead th {\n",
              "        text-align: right;\n",
              "    }\n",
              "</style>\n",
              "<table border=\"1\" class=\"dataframe\">\n",
              "  <thead>\n",
              "    <tr style=\"text-align: right;\">\n",
              "      <th></th>\n",
              "      <th>species</th>\n",
              "      <th>island</th>\n",
              "      <th>bill_length_mm</th>\n",
              "      <th>bill_depth_mm</th>\n",
              "      <th>flipper_length_mm</th>\n",
              "      <th>body_mass_g</th>\n",
              "      <th>sex</th>\n",
              "    </tr>\n",
              "  </thead>\n",
              "  <tbody>\n",
              "    <tr>\n",
              "      <th>0</th>\n",
              "      <td>Adelie</td>\n",
              "      <td>Torgersen</td>\n",
              "      <td>39.1</td>\n",
              "      <td>18.7</td>\n",
              "      <td>181.0</td>\n",
              "      <td>3750.0</td>\n",
              "      <td>0</td>\n",
              "    </tr>\n",
              "    <tr>\n",
              "      <th>1</th>\n",
              "      <td>Adelie</td>\n",
              "      <td>Torgersen</td>\n",
              "      <td>39.5</td>\n",
              "      <td>17.4</td>\n",
              "      <td>186.0</td>\n",
              "      <td>3800.0</td>\n",
              "      <td>1</td>\n",
              "    </tr>\n",
              "    <tr>\n",
              "      <th>2</th>\n",
              "      <td>Adelie</td>\n",
              "      <td>Torgersen</td>\n",
              "      <td>40.3</td>\n",
              "      <td>18.0</td>\n",
              "      <td>195.0</td>\n",
              "      <td>3250.0</td>\n",
              "      <td>1</td>\n",
              "    </tr>\n",
              "    <tr>\n",
              "      <th>4</th>\n",
              "      <td>Adelie</td>\n",
              "      <td>Torgersen</td>\n",
              "      <td>36.7</td>\n",
              "      <td>19.3</td>\n",
              "      <td>193.0</td>\n",
              "      <td>3450.0</td>\n",
              "      <td>1</td>\n",
              "    </tr>\n",
              "    <tr>\n",
              "      <th>5</th>\n",
              "      <td>Adelie</td>\n",
              "      <td>Torgersen</td>\n",
              "      <td>39.3</td>\n",
              "      <td>20.6</td>\n",
              "      <td>190.0</td>\n",
              "      <td>3650.0</td>\n",
              "      <td>0</td>\n",
              "    </tr>\n",
              "  </tbody>\n",
              "</table>\n",
              "</div>"
            ],
            "text/plain": [
              "  species     island  bill_length_mm  ...  flipper_length_mm  body_mass_g  sex\n",
              "0  Adelie  Torgersen            39.1  ...              181.0       3750.0    0\n",
              "1  Adelie  Torgersen            39.5  ...              186.0       3800.0    1\n",
              "2  Adelie  Torgersen            40.3  ...              195.0       3250.0    1\n",
              "4  Adelie  Torgersen            36.7  ...              193.0       3450.0    1\n",
              "5  Adelie  Torgersen            39.3  ...              190.0       3650.0    0\n",
              "\n",
              "[5 rows x 7 columns]"
            ]
          },
          "metadata": {
            "tags": []
          },
          "execution_count": 43
        }
      ]
    },
    {
      "cell_type": "code",
      "metadata": {
        "id": "Ho8FlTxmNs9R",
        "outputId": "ba3027b2-fa87-4e5e-fc39-17bb4ca2be8f",
        "colab": {
          "base_uri": "https://localhost:8080/",
          "height": 90
        }
      },
      "source": [
        "# Encode Species & island\n",
        "pen = pd.get_dummies(penguins, columns=['species', 'island'], \n",
        "                          drop_first=True)\n",
        "pen.columns"
      ],
      "execution_count": 42,
      "outputs": [
        {
          "output_type": "execute_result",
          "data": {
            "text/plain": [
              "Index(['bill_length_mm', 'bill_depth_mm', 'flipper_length_mm', 'body_mass_g',\n",
              "       'sex', 'species_Chinstrap', 'species_Gentoo', 'island_Dream',\n",
              "       'island_Torgersen'],\n",
              "      dtype='object')"
            ]
          },
          "metadata": {
            "tags": []
          },
          "execution_count": 42
        }
      ]
    },
    {
      "cell_type": "markdown",
      "metadata": {
        "id": "a16osms-Xdxc"
      },
      "source": [
        "## Analicemos la Varianza"
      ]
    },
    {
      "cell_type": "code",
      "metadata": {
        "id": "SAGs287IXfgY",
        "outputId": "b6ee4e15-8f0e-456e-c56a-615ff0461d82",
        "colab": {
          "base_uri": "https://localhost:8080/",
          "height": 200
        }
      },
      "source": [
        "pen.std()/pen.mean()"
      ],
      "execution_count": 47,
      "outputs": [
        {
          "output_type": "execute_result",
          "data": {
            "text/plain": [
              "bill_length_mm       0.124308\n",
              "bill_depth_mm        0.114725\n",
              "flipper_length_mm    0.069742\n",
              "body_mass_g          0.191396\n",
              "sex                  1.010568\n",
              "species_Chinstrap    1.977068\n",
              "species_Gentoo       1.343032\n",
              "island_Dream         1.308610\n",
              "island_Torgersen     2.470513\n",
              "dtype: float64"
            ]
          },
          "metadata": {
            "tags": []
          },
          "execution_count": 47
        }
      ]
    },
    {
      "cell_type": "markdown",
      "metadata": {
        "id": "XKWUihk6OliJ"
      },
      "source": [
        "## Analicemos sus correlaciones"
      ]
    },
    {
      "cell_type": "code",
      "metadata": {
        "id": "t4WoRAoH-Ku6",
        "outputId": "9812bede-e73a-4077-d235-bd58d99959b7",
        "colab": {
          "base_uri": "https://localhost:8080/",
          "height": 90
        }
      },
      "source": [
        "pen.columns"
      ],
      "execution_count": 132,
      "outputs": [
        {
          "output_type": "execute_result",
          "data": {
            "text/plain": [
              "Index(['bill_length_mm', 'bill_depth_mm', 'flipper_length_mm', 'body_mass_g',\n",
              "       'sex', 'species_Chinstrap', 'species_Gentoo', 'island_Dream',\n",
              "       'island_Torgersen'],\n",
              "      dtype='object')"
            ]
          },
          "metadata": {
            "tags": []
          },
          "execution_count": 132
        }
      ]
    },
    {
      "cell_type": "code",
      "metadata": {
        "id": "rP1viJ21OozH",
        "outputId": "5b18e15c-ebc4-445d-f22d-52c9c3751f24",
        "colab": {
          "base_uri": "https://localhost:8080/",
          "height": 175
        }
      },
      "source": [
        "pen[['bill_length_mm', 'bill_depth_mm', 'flipper_length_mm', 'body_mass_g']].corr()"
      ],
      "execution_count": 133,
      "outputs": [
        {
          "output_type": "execute_result",
          "data": {
            "text/html": [
              "<div>\n",
              "<style scoped>\n",
              "    .dataframe tbody tr th:only-of-type {\n",
              "        vertical-align: middle;\n",
              "    }\n",
              "\n",
              "    .dataframe tbody tr th {\n",
              "        vertical-align: top;\n",
              "    }\n",
              "\n",
              "    .dataframe thead th {\n",
              "        text-align: right;\n",
              "    }\n",
              "</style>\n",
              "<table border=\"1\" class=\"dataframe\">\n",
              "  <thead>\n",
              "    <tr style=\"text-align: right;\">\n",
              "      <th></th>\n",
              "      <th>bill_length_mm</th>\n",
              "      <th>bill_depth_mm</th>\n",
              "      <th>flipper_length_mm</th>\n",
              "      <th>body_mass_g</th>\n",
              "    </tr>\n",
              "  </thead>\n",
              "  <tbody>\n",
              "    <tr>\n",
              "      <th>bill_length_mm</th>\n",
              "      <td>1.000000</td>\n",
              "      <td>-0.228626</td>\n",
              "      <td>0.653096</td>\n",
              "      <td>0.589451</td>\n",
              "    </tr>\n",
              "    <tr>\n",
              "      <th>bill_depth_mm</th>\n",
              "      <td>-0.228626</td>\n",
              "      <td>1.000000</td>\n",
              "      <td>-0.577792</td>\n",
              "      <td>-0.472016</td>\n",
              "    </tr>\n",
              "    <tr>\n",
              "      <th>flipper_length_mm</th>\n",
              "      <td>0.653096</td>\n",
              "      <td>-0.577792</td>\n",
              "      <td>1.000000</td>\n",
              "      <td>0.872979</td>\n",
              "    </tr>\n",
              "    <tr>\n",
              "      <th>body_mass_g</th>\n",
              "      <td>0.589451</td>\n",
              "      <td>-0.472016</td>\n",
              "      <td>0.872979</td>\n",
              "      <td>1.000000</td>\n",
              "    </tr>\n",
              "  </tbody>\n",
              "</table>\n",
              "</div>"
            ],
            "text/plain": [
              "                   bill_length_mm  ...  body_mass_g\n",
              "bill_length_mm           1.000000  ...     0.589451\n",
              "bill_depth_mm           -0.228626  ...    -0.472016\n",
              "flipper_length_mm        0.653096  ...     0.872979\n",
              "body_mass_g              0.589451  ...     1.000000\n",
              "\n",
              "[4 rows x 4 columns]"
            ]
          },
          "metadata": {
            "tags": []
          },
          "execution_count": 133
        }
      ]
    },
    {
      "cell_type": "markdown",
      "metadata": {
        "id": "E2Toyhq-SS4H"
      },
      "source": [
        "Analicemos la matriz de correlaciones con un Heatmap"
      ]
    },
    {
      "cell_type": "code",
      "metadata": {
        "id": "W7-AH2OgOvae",
        "outputId": "bd2ee7a2-ed9d-46d3-e0c1-5d4290bb45ad",
        "colab": {
          "base_uri": "https://localhost:8080/",
          "height": 371
        }
      },
      "source": [
        "\n",
        "sns.heatmap(pen[['bill_length_mm', 'bill_depth_mm', 'flipper_length_mm',\n",
        "                 'body_mass_g']].corr(), annot = True, fmt='.1g')"
      ],
      "execution_count": 135,
      "outputs": [
        {
          "output_type": "execute_result",
          "data": {
            "text/plain": [
              "<matplotlib.axes._subplots.AxesSubplot at 0x7fabc14bb6a0>"
            ]
          },
          "metadata": {
            "tags": []
          },
          "execution_count": 135
        },
        {
          "output_type": "display_data",
          "data": {
            "image/png": "[encoded data removed]",
            "text/plain": [
              "<Figure size 432x288 with 2 Axes>"
            ]
          },
          "metadata": {
            "tags": []
          }
        }
      ]
    },
    {
      "cell_type": "markdown",
      "metadata": {
        "id": "iEMAEOV5gNgd"
      },
      "source": [
        "## Chi-square"
      ]
    },
    {
      "cell_type": "code",
      "metadata": {
        "id": "FNFEdflCgekt"
      },
      "source": [
        "# Importemos chi2 de sklearn\n",
        "from sklearn.feature_selection import chi2"
      ],
      "execution_count": 51,
      "outputs": []
    },
    {
      "cell_type": "code",
      "metadata": {
        "id": "9aY0ADcMg7Q2",
        "outputId": "e5ca13b6-2ffc-4d87-dde8-883833641037",
        "colab": {
          "base_uri": "https://localhost:8080/",
          "height": 175
        }
      },
      "source": [
        "catv = [c for c in X.columns if ('island' in c)|('species' in c)]\n",
        "X = X[catv]\n",
        "y = pen['sex']\n",
        "\n",
        "chi_sq, p_val = chi2(X,y)\n",
        "chi_values = pd.DataFrame.from_dict({'variable':X.columns,\n",
        "                        'chi_sq':chi_sq, 'p_value':p_val})\n",
        "chi_values.sort_values(ascending=True, by='p_value').round(3)\n"
      ],
      "execution_count": 119,
      "outputs": [
        {
          "output_type": "execute_result",
          "data": {
            "text/html": [
              "<div>\n",
              "<style scoped>\n",
              "    .dataframe tbody tr th:only-of-type {\n",
              "        vertical-align: middle;\n",
              "    }\n",
              "\n",
              "    .dataframe tbody tr th {\n",
              "        vertical-align: top;\n",
              "    }\n",
              "\n",
              "    .dataframe thead th {\n",
              "        text-align: right;\n",
              "    }\n",
              "</style>\n",
              "<table border=\"1\" class=\"dataframe\">\n",
              "  <thead>\n",
              "    <tr style=\"text-align: right;\">\n",
              "      <th></th>\n",
              "      <th>variable</th>\n",
              "      <th>chi_sq</th>\n",
              "      <th>p_value</th>\n",
              "    </tr>\n",
              "  </thead>\n",
              "  <tbody>\n",
              "    <tr>\n",
              "      <th>3</th>\n",
              "      <td>island_Torgersen</td>\n",
              "      <td>0.043</td>\n",
              "      <td>0.836</td>\n",
              "    </tr>\n",
              "    <tr>\n",
              "      <th>1</th>\n",
              "      <td>species_Gentoo</td>\n",
              "      <td>0.031</td>\n",
              "      <td>0.860</td>\n",
              "    </tr>\n",
              "    <tr>\n",
              "      <th>0</th>\n",
              "      <td>species_Chinstrap</td>\n",
              "      <td>0.006</td>\n",
              "      <td>0.941</td>\n",
              "    </tr>\n",
              "    <tr>\n",
              "      <th>2</th>\n",
              "      <td>island_Dream</td>\n",
              "      <td>0.000</td>\n",
              "      <td>0.992</td>\n",
              "    </tr>\n",
              "  </tbody>\n",
              "</table>\n",
              "</div>"
            ],
            "text/plain": [
              "            variable  chi_sq  p_value\n",
              "3   island_Torgersen   0.043    0.836\n",
              "1     species_Gentoo   0.031    0.860\n",
              "0  species_Chinstrap   0.006    0.941\n",
              "2       island_Dream   0.000    0.992"
            ]
          },
          "metadata": {
            "tags": []
          },
          "execution_count": 119
        }
      ]
    },
    {
      "cell_type": "markdown",
      "metadata": {
        "id": "8cXzPDNRn56e"
      },
      "source": [
        "# Predicciones"
      ]
    },
    {
      "cell_type": "code",
      "metadata": {
        "id": "uZtnGkN0GlZy"
      },
      "source": [
        "cat_variables =  ['species_Chinstrap', 'species_Gentoo', 'island_Dream',\n",
        "       'island_Torgersen']\n"
      ],
      "execution_count": 151,
      "outputs": []
    },
    {
      "cell_type": "code",
      "metadata": {
        "id": "W_XWXvlepbWz"
      },
      "source": [
        "# Preprocess data\n",
        "from sklearn.preprocessing import StandardScaler\n",
        "from sklearn.model_selection import train_test_split\n",
        "\n",
        "def preprocess_split(X, y,test_size=0.2,random_state=5874,\n",
        "                        scale_x=True,\n",
        "                        cat_variables=[], \n",
        "                        scale_y=False):\n",
        "\n",
        "  # Split data\n",
        "  x_train, x_test, y_train, y_test = train_test_split(X, y,\n",
        "                                                    test_size=test_size, \n",
        "                                                    random_state=random_state)\n",
        "  # Scale X\n",
        "  if scale_x:\n",
        "    # Find numerical column index\n",
        "    num_i = [X.columns.get_loc(c) for c in X.columns if c not in cat_variables]\n",
        "    cat_i = [X.columns.get_loc(c) for c in X.columns if c in cat_variables]\n",
        "    # Scale Numerical Variables\n",
        "    x_train_ = x_train.iloc[:, num_i]\n",
        "    x_test_ = x_test.iloc[:, num_i]\n",
        "    scaler = StandardScaler().fit(x_train_)\n",
        "    x_train_ = scaler.transform(x_train_)\n",
        "    x_test_ = scaler.transform(x_test_)\n",
        "    # Create new dataframe\n",
        "    x_train = np.concatenate([x_train_, x_train.iloc[:,cat_i]], axis=1)\n",
        "    x_test = np.concatenate([x_test_, x_test.iloc[:,cat_i]],axis=1)\n",
        "\n",
        "  # Scale Y\n",
        "  if scale_y:\n",
        "    scaler = StandardScaler().fit(y_train)\n",
        "    y_train = scaler.transform(y_train)\n",
        "    y_test = scaler.transform(y_test)\n",
        "\n",
        "  return x_train, x_test, y_train, y_test\n",
        "\n"
      ],
      "execution_count": 163,
      "outputs": []
    },
    {
      "cell_type": "code",
      "metadata": {
        "id": "JL9C7dvksGz_"
      },
      "source": [
        "# Funcion de regresion logistica\n",
        "from sklearn.linear_model import LogisticRegression\n",
        "from sklearn.metrics import classification_report\n",
        "from sklearn.metrics import accuracy_score\n",
        "def log_regression(x_train, x_test, y_train, y_test):\n",
        "  \n",
        "  #print(x_train.columns)\n",
        "  # Train Logistic Model\n",
        "  model = LogisticRegression()\n",
        "  model.fit(x_train, y_train)\n",
        "\n",
        "  #Test the model\n",
        "  predictions = model.predict(x_test)\n",
        "\n",
        "  #Check precision, recall, f1-score\n",
        "  #print( '\\n', classification_report(y_test, predictions) )\n",
        "  print( 'Accuracy: ', accuracy_score(y_test, predictions))\n",
        "  #print('\\n Coefficients: \\n', model.coef_)\n",
        "  print('----------------------------------------------------------------')\n",
        "\n"
      ],
      "execution_count": 92,
      "outputs": []
    },
    {
      "cell_type": "code",
      "metadata": {
        "id": "OEHml03ZrDBF",
        "outputId": "706e8f9d-9986-4bf2-a6f9-833c9c6e863e",
        "colab": {
          "base_uri": "https://localhost:8080/",
          "height": 145
        }
      },
      "source": [
        "# Create data set\n",
        "X = pen.loc[:, pen.columns!='sex']\n",
        "y = pen['sex']\n",
        "\n",
        "x_train, x_test, y_train, y_test = preprocess_split(X, y, scale_x=True, \n",
        "                                                    random_state=5874,\n",
        "                                                  cat_variables =cat_variables, \n",
        "                                                    test_size=0.2)\n",
        "print('X columns: \\n',X.columns)\n",
        "log_regression(x_train, x_test, y_train, y_test)"
      ],
      "execution_count": 167,
      "outputs": [
        {
          "output_type": "stream",
          "text": [
            "X columns: \n",
            " Index(['bill_length_mm', 'bill_depth_mm', 'flipper_length_mm', 'body_mass_g',\n",
            "       'species_Chinstrap', 'species_Gentoo', 'island_Dream',\n",
            "       'island_Torgersen'],\n",
            "      dtype='object')\n",
            "Accuracy:  0.9253731343283582\n",
            "----------------------------------------------------------------\n"
          ],
          "name": "stdout"
        }
      ]
    },
    {
      "cell_type": "markdown",
      "metadata": {
        "id": "434vnla6w4TL"
      },
      "source": [
        "## Realicemos una seleccion *univariada*"
      ]
    },
    {
      "cell_type": "markdown",
      "metadata": {
        "id": "VKeAXhVbDnP8"
      },
      "source": [
        "### Correlacion: Variables explicativas"
      ]
    },
    {
      "cell_type": "code",
      "metadata": {
        "id": "c2EQuyhDwzj4",
        "outputId": "60818c72-1daf-40d5-edfa-163799344b8a",
        "colab": {
          "base_uri": "https://localhost:8080/",
          "height": 371
        }
      },
      "source": [
        "X = pen.loc[:, pen.columns!='sex']\n",
        "y = pen['sex']\n",
        "\n",
        "\n",
        "x_train, x_test, y_train, y_test = preprocess_split(X, y, scale_x=True, \n",
        "                                                    random_state=5874,\n",
        "                                                  cat_variables =cat_variables, \n",
        "                                                    test_size=0.2)\n",
        "\n",
        "sns.heatmap( pd.DataFrame(x_train, columns=X.columns)[['bill_length_mm', \n",
        "          'bill_depth_mm', 'flipper_length_mm', 'body_mass_g']].corr() , \n",
        "          annot = True, fmt='.1g')"
      ],
      "execution_count": 168,
      "outputs": [
        {
          "output_type": "execute_result",
          "data": {
            "text/plain": [
              "<matplotlib.axes._subplots.AxesSubplot at 0x7fabc111a748>"
            ]
          },
          "metadata": {
            "tags": []
          },
          "execution_count": 168
        },
        {
          "output_type": "display_data",
          "data": {
            "image/png": "[encoded data removed]",
            "text/plain": [
              "<Figure size 432x288 with 2 Axes>"
            ]
          },
          "metadata": {
            "tags": []
          }
        }
      ]
    },
    {
      "cell_type": "markdown",
      "metadata": {
        "id": "gX-2BXYRDrqi"
      },
      "source": [
        "Las variables explicativas de largo de aleta y peso estan muy relacionadas. No estaria mal quitar alguna de ellas."
      ]
    },
    {
      "cell_type": "markdown",
      "metadata": {
        "id": "BDfL_LBxD1NT"
      },
      "source": [
        "### Chi-square: Variables categoricas y objetivo"
      ]
    },
    {
      "cell_type": "code",
      "metadata": {
        "id": "wDwxXznPERCc",
        "outputId": "6b58e846-bcc7-4b5a-d392-2d7219a9236c",
        "colab": {
          "base_uri": "https://localhost:8080/",
          "height": 175
        }
      },
      "source": [
        "X = pen.loc[:, pen.columns!='sex']\n",
        "y = pen['sex']\n",
        "\n",
        "x_train, x_test, y_train, y_test = preprocess_split(X, y, scale_x=True, \n",
        "                                                    random_state=5874,\n",
        "                                                  cat_variables =cat_variables, \n",
        "                                                    test_size=0.2)\n",
        "chi_sq, p_val = chi2(pd.DataFrame(x_train, columns=X.columns)[cat_variables],\n",
        "                     y_train)\n",
        "chi_values = pd.DataFrame.from_dict({'variable':cat_variables ,\n",
        "                         'chi_sq':chi_sq, 'p_value':p_val})\n",
        "chi_values.sort_values(ascending=True, by='p_value').round(3)"
      ],
      "execution_count": 176,
      "outputs": [
        {
          "output_type": "execute_result",
          "data": {
            "text/html": [
              "<div>\n",
              "<style scoped>\n",
              "    .dataframe tbody tr th:only-of-type {\n",
              "        vertical-align: middle;\n",
              "    }\n",
              "\n",
              "    .dataframe tbody tr th {\n",
              "        vertical-align: top;\n",
              "    }\n",
              "\n",
              "    .dataframe thead th {\n",
              "        text-align: right;\n",
              "    }\n",
              "</style>\n",
              "<table border=\"1\" class=\"dataframe\">\n",
              "  <thead>\n",
              "    <tr style=\"text-align: right;\">\n",
              "      <th></th>\n",
              "      <th>variable</th>\n",
              "      <th>chi_sq</th>\n",
              "      <th>p_value</th>\n",
              "    </tr>\n",
              "  </thead>\n",
              "  <tbody>\n",
              "    <tr>\n",
              "      <th>0</th>\n",
              "      <td>species_Chinstrap</td>\n",
              "      <td>0.491</td>\n",
              "      <td>0.484</td>\n",
              "    </tr>\n",
              "    <tr>\n",
              "      <th>3</th>\n",
              "      <td>island_Torgersen</td>\n",
              "      <td>0.121</td>\n",
              "      <td>0.728</td>\n",
              "    </tr>\n",
              "    <tr>\n",
              "      <th>2</th>\n",
              "      <td>island_Dream</td>\n",
              "      <td>0.045</td>\n",
              "      <td>0.832</td>\n",
              "    </tr>\n",
              "    <tr>\n",
              "      <th>1</th>\n",
              "      <td>species_Gentoo</td>\n",
              "      <td>0.017</td>\n",
              "      <td>0.898</td>\n",
              "    </tr>\n",
              "  </tbody>\n",
              "</table>\n",
              "</div>"
            ],
            "text/plain": [
              "            variable  chi_sq  p_value\n",
              "0  species_Chinstrap   0.491    0.484\n",
              "3   island_Torgersen   0.121    0.728\n",
              "2       island_Dream   0.045    0.832\n",
              "1     species_Gentoo   0.017    0.898"
            ]
          },
          "metadata": {
            "tags": []
          },
          "execution_count": 176
        }
      ]
    },
    {
      "cell_type": "code",
      "metadata": {
        "id": "6_w4F6_3sNj8",
        "outputId": "1748acac-2791-413a-ac01-14dffa350ee2",
        "colab": {
          "base_uri": "https://localhost:8080/",
          "height": 72
        }
      },
      "source": [
        "sub_set = [c for c in X.columns if ('island' not in c)]\n",
        "sub_set = [c for c in sub_set if ('species' not in c)]\n",
        "\n",
        "X = pen[sub_set]\n",
        "y = pen['sex']\n",
        "\n",
        "x_train, x_test, y_train, y_test = preprocess_split(X, y, scale_x=True, \n",
        "                                                    test_size=0.2, \n",
        "                                                    random_state=5874)\n",
        "print(X.columns)\n",
        "log_regression(x_train, x_test, y_train, y_test)"
      ],
      "execution_count": 177,
      "outputs": [
        {
          "output_type": "stream",
          "text": [
            "Index(['bill_length_mm', 'bill_depth_mm', 'flipper_length_mm', 'body_mass_g'], dtype='object')\n",
            "Accuracy:  0.9253731343283582\n",
            "----------------------------------------------------------------\n"
          ],
          "name": "stdout"
        }
      ]
    },
    {
      "cell_type": "code",
      "metadata": {
        "id": "J28fp5kwM2di",
        "outputId": "9973811f-9071-48af-d582-e6ec43963b1d",
        "colab": {
          "base_uri": "https://localhost:8080/",
          "height": 72
        }
      },
      "source": [
        "sub_set = [c for c in X.columns if ('island' not in c)]\n",
        "sub_set = [c for c in sub_set if ('species' not in c)]\n",
        "\n",
        "X = pen[sub_set]\n",
        "X = X.drop('flipper_length_mm', axis=1)\n",
        "y = pen['sex']\n",
        "\n",
        "x_train, x_test, y_train, y_test = preprocess_split(X, y, scale_x=True, \n",
        "                                                    test_size=0.2, \n",
        "                                                    random_state=5874)\n",
        "print(X.columns)\n",
        "log_regression(x_train, x_test, y_train, y_test)"
      ],
      "execution_count": 179,
      "outputs": [
        {
          "output_type": "stream",
          "text": [
            "Index(['bill_length_mm', 'bill_depth_mm', 'body_mass_g'], dtype='object')\n",
            "Accuracy:  0.9253731343283582\n",
            "----------------------------------------------------------------\n"
          ],
          "name": "stdout"
        }
      ]
    }
  ]
}