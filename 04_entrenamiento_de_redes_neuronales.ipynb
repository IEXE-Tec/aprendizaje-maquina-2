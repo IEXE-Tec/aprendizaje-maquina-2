{
  "nbformat": 4,
  "nbformat_minor": 0,
  "metadata": {
    "colab": {
      "name": "04_entrenamiento_de_redes_neuronales",
      "provenance": [],
      "collapsed_sections": [],
      "authorship_tag": "ABX9TyNd+X6jp77+awkKUBL8FgGl",
      "include_colab_link": true
    },
    "kernelspec": {
      "name": "python3",
      "display_name": "Python 3"
    },
    "accelerator": "GPU"
  },
  "cells": [
    {
      "cell_type": "markdown",
      "metadata": {
        "id": "view-in-github",
        "colab_type": "text"
      },
      "source": [
        "<a href=\"https://colab.research.google.com/github/IEXE-Tec/aprendizaje-maquina-2/blob/master/04_entrenamiento_de_redes_neuronales.ipynb\" target=\"_parent\"><img src=\"https://colab.research.google.com/assets/colab-badge.svg\" alt=\"Open In Colab\"/></a>"
      ]
    },
    {
      "cell_type": "markdown",
      "metadata": {
        "id": "yIbxnyn8MDKu"
      },
      "source": [
        "Librerias"
      ]
    },
    {
      "cell_type": "code",
      "metadata": {
        "id": "WKn0N9S4LlYs"
      },
      "source": [
        "#Import Libraries\n",
        "import torch\n",
        "import torch.nn as nn\n",
        "import torch.nn.functional as F\n",
        "import torch.optim as optim\n",
        "from torchvision import datasets, transforms\n",
        "from torch.autograd import Variable\n",
        "\n",
        "import numpy as np\n",
        "\n",
        "import matplotlib.pyplot as plt\n",
        "import seaborn as sns\n",
        "sns.set_style('darkgrid')"
      ],
      "execution_count": 62,
      "outputs": []
    },
    {
      "cell_type": "markdown",
      "metadata": {
        "id": "8fv9rvrnRwoc"
      },
      "source": [
        "# MNIST"
      ]
    },
    {
      "cell_type": "markdown",
      "metadata": {
        "id": "Qea0fvJNRzGW"
      },
      "source": [
        ""
      ]
    },
    {
      "cell_type": "markdown",
      "metadata": {
        "id": "dKX3A6Q-RzKr"
      },
      "source": [
        "## Lectura de datos\r\n",
        "\r\n",
        "\r\n"
      ]
    },
    {
      "cell_type": "code",
      "metadata": {
        "colab": {
          "base_uri": "https://localhost:8080/"
        },
        "id": "Yc0I_vJJSBwX",
        "outputId": "cda177bd-2b0c-44de-9bbb-4ecec4d74474"
      },
      "source": [
        "# Diccionarios de argumentos\r\n",
        "args={}\r\n",
        "kwargs={}\r\n",
        "\r\n",
        "# Tamano de lote o Batch\r\n",
        "args['batch_size']=1000\r\n",
        "args['test_batch_size']=1000\r\n",
        "\r\n",
        "# Hyperparametros de Entrenamiento\r\n",
        "# Epoca:= El numero de veces por el que pasamos por todos los datos\r\n",
        "args['epoch']=10  \r\n",
        "# La tasa de aprendizaje del descenso por gradiente \r\n",
        "args['lr']=0.01 \r\n",
        "# El momento o momentum del descenso por gradiente\r\n",
        "args['momentum']=0.5 \r\n",
        "\r\n",
        "# Parametros de Pytorch\r\n",
        "# Semilla aleatoria\r\n",
        "args['seed']=345 \r\n",
        "args['log_interval']=10\r\n",
        "# Usar GPU si existe (cuda), de lo contrario cpu.\r\n",
        "device = torch.device('cuda' if torch.cuda.is_available() else 'cpu')\r\n",
        "print('Using device:', device)\r\n",
        "print()\r\n",
        "args['cuda']= device\r\n"
      ],
      "execution_count": 63,
      "outputs": [
        {
          "output_type": "stream",
          "text": [
            "Using device: cuda\n",
            "\n"
          ],
          "name": "stdout"
        }
      ]
    },
    {
      "cell_type": "markdown",
      "metadata": {
        "id": "7koPp_y-XNcp"
      },
      "source": [
        "El siguiente bloque carga los datos, y los divide en entrenamiento y prueba. \r\n",
        "\r\n",
        "\r\n",
        "```\r\n",
        "torch.utils.data.DataLoader\r\n",
        "```\r\n",
        "https://pytorch.org/docs/stable/data.html  \r\n",
        "Es el metodo que nos permite cargar los datos y preparlos para el entrenamiento y validacion.  \r\n",
        "En este caso recibe 3 argumentos.\r\n",
        "+ **datasets.MNIST**:= Indica que datos queremos, en este caso MNIST.\r\n",
        "+ **batch_size**:= el tamano del lote o del batch de entrenamiento.\r\n",
        "+ **shuffle**:= Si queremos barajear nuestro dataset cada epoca.\r\n",
        "\r\n",
        "\r\n",
        "\r\n",
        "```\r\n",
        "datasets.MNIST\r\n",
        "```\r\n",
        "https://pytorch.org/docs/stable/torchvision/datasets.html#mnist \r\n",
        "Es el metodo que llama a los datos del MNIST en particular.  \r\n",
        "En este caso recibe 4 argumentos\r\n",
        "+ **root**:= Directorio donde existe o descargaran las imagenes o datos.\r\n",
        "+ **train**:= Si utiliza los datos de entrenamiento o no.\r\n",
        "+ **download**:= Si descarga los datos o no. Si los datos ya estan en le directorio especificado por root no descarga.\r\n",
        "+ **transform**:= Si aplica transformaciones a las imagenes.\r\n",
        "\r\n",
        "\r\n",
        "\r\n",
        "```\r\n",
        "transforms.Compose\r\n",
        "```\r\n",
        "https://pytorch.org/docs/stable/torchvision/transforms.html  \r\n",
        "Esta funcion nos permite anidar transformaciones, parecido al metodo sequential que usamos apra construir redes, pero aplicado a transformaciones.  \r\n",
        "En este caso pasamos 2 transformaciones:\r\n",
        "+ **transform.ToTensor**:= Convierte las imagenes a un tensor, que es el tipo de estructura de datos que utiliza pytorch.\r\n",
        "+ **transform.Normalize**:= Normaliza los tensores. Debemos aplicar la misma normalizacion a los datos de entrenamiento que a los de prueba.\r\n",
        "![imagen.png](data:image/png;base64,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)\r\n",
        "\r\n",
        "\r\n",
        "\r\n",
        "\r\n"
      ]
    },
    {
      "cell_type": "code",
      "metadata": {
        "id": "GXebMvWQRGY8"
      },
      "source": [
        "#load the data\r\n",
        "train_loader = torch.utils.data.DataLoader(\r\n",
        "    datasets.MNIST(root='../data', \r\n",
        "                   train=True, \r\n",
        "                   download=True,\r\n",
        "                   transform=transforms.Compose([\r\n",
        "                       transforms.ToTensor()\r\n",
        "                       #transforms.Normalize((0.1307,), (0.3081,))\r\n",
        "                   ])),\r\n",
        "    batch_size=args['batch_size'], \r\n",
        "    shuffle=True)\r\n"
      ],
      "execution_count": 64,
      "outputs": []
    },
    {
      "cell_type": "markdown",
      "metadata": {
        "id": "zzhH38ybh6Mb"
      },
      "source": [
        "+ Media y desviacion estandard de un solo lote o batch. \r\n",
        "+ Graficar una observacion"
      ]
    },
    {
      "cell_type": "code",
      "metadata": {
        "colab": {
          "base_uri": "https://localhost:8080/",
          "height": 1000
        },
        "id": "ASOjy_oNg1xJ",
        "outputId": "1b308a8a-64b0-4239-952d-05eff7372f7a"
      },
      "source": [
        "examples = enumerate(train_loader)\r\n",
        "batch_idx, (example_data, example_targets) = next(examples)\r\n",
        "\r\n",
        "print('Dimension del batch (numero de obs en el batch, canales, altura, ancho)\\n'\r\n",
        " ,example_data.shape)\r\n",
        "print('\\nMedia del batch:  ', torch.mean(example_data))\r\n",
        "print('Std del batch:  ', torch.std(example_data))\r\n",
        "print('Contenido de una observacion en formato tensorial \\n', example_data[0][0])\r\n",
        "\r\n",
        "fig = plt.figure()\r\n",
        "plt.tight_layout()\r\n",
        "plt.imshow(example_data[0][0], cmap='gray', interpolation='none')\r\n",
        "plt.xticks([])\r\n",
        "plt.yticks([])"
      ],
      "execution_count": 65,
      "outputs": [
        {
          "output_type": "stream",
          "text": [
            "Dimension del batch (numero de obs en el batch, canales, altura, ancho)\n",
            " torch.Size([1000, 1, 28, 28])\n",
            "\n",
            "Media del batch:   tensor(0.1323)\n",
            "Std del batch:   tensor(0.3099)\n",
            "Contenido de una observacion en formato tensorial \n",
            " tensor([[0.0000, 0.0000, 0.0000, 0.0000, 0.0000, 0.0000, 0.0000, 0.0000, 0.0000,\n",
            "         0.0000, 0.0000, 0.0000, 0.0000, 0.0000, 0.0000, 0.0000, 0.0000, 0.0000,\n",
            "         0.0000, 0.0000, 0.0000, 0.0000, 0.0000, 0.0000, 0.0000, 0.0000, 0.0000,\n",
            "         0.0000],\n",
            "        [0.0000, 0.0000, 0.0000, 0.0000, 0.0000, 0.0000, 0.0000, 0.0000, 0.0000,\n",
            "         0.0000, 0.0000, 0.0000, 0.0000, 0.0000, 0.0000, 0.0000, 0.0000, 0.0000,\n",
            "         0.0000, 0.0000, 0.0000, 0.0000, 0.0000, 0.0000, 0.0000, 0.0000, 0.0000,\n",
            "         0.0000],\n",
            "        [0.0000, 0.0000, 0.0000, 0.0000, 0.0000, 0.0000, 0.0000, 0.0000, 0.0000,\n",
            "         0.0000, 0.0000, 0.0000, 0.0000, 0.0000, 0.0000, 0.0000, 0.0000, 0.0000,\n",
            "         0.0000, 0.0000, 0.0000, 0.0000, 0.0000, 0.0000, 0.0000, 0.0000, 0.0000,\n",
            "         0.0000],\n",
            "        [0.0000, 0.0000, 0.0000, 0.0000, 0.0000, 0.0000, 0.0000, 0.0000, 0.0000,\n",
            "         0.0000, 0.0000, 0.0000, 0.0000, 0.0000, 0.0000, 0.0000, 0.0000, 0.0000,\n",
            "         0.0000, 0.0000, 0.0000, 0.0000, 0.0000, 0.0000, 0.0000, 0.0000, 0.0000,\n",
            "         0.0000],\n",
            "        [0.0000, 0.0000, 0.0000, 0.0000, 0.0000, 0.0000, 0.0000, 0.0000, 0.0000,\n",
            "         0.0000, 0.0000, 0.0000, 0.0000, 0.0000, 0.3765, 0.8392, 0.6784, 0.9176,\n",
            "         0.9922, 0.6078, 0.9137, 0.3765, 0.0471, 0.0000, 0.0000, 0.0000, 0.0000,\n",
            "         0.0000],\n",
            "        [0.0000, 0.0000, 0.0000, 0.0000, 0.0000, 0.0000, 0.0000, 0.0000, 0.0000,\n",
            "         0.0000, 0.0000, 0.0000, 0.0000, 0.4706, 0.9922, 0.9843, 0.9843, 0.9843,\n",
            "         0.9843, 0.9922, 0.9843, 0.9843, 0.5843, 0.0000, 0.0000, 0.0000, 0.0000,\n",
            "         0.0000],\n",
            "        [0.0000, 0.0000, 0.0000, 0.0000, 0.0000, 0.0000, 0.0000, 0.0000, 0.0000,\n",
            "         0.0000, 0.0000, 0.2510, 0.4980, 0.8039, 0.9922, 0.9843, 0.9843, 0.9843,\n",
            "         0.9843, 0.9922, 0.9843, 0.9843, 0.7373, 0.0000, 0.0000, 0.0000, 0.0000,\n",
            "         0.0000],\n",
            "        [0.0000, 0.0000, 0.0000, 0.0000, 0.0000, 0.0000, 0.0000, 0.0000, 0.0000,\n",
            "         0.0000, 0.1098, 0.9255, 0.9843, 0.9843, 0.9922, 0.9843, 0.9843, 0.9843,\n",
            "         0.8275, 0.9922, 0.9843, 0.9843, 0.5804, 0.0000, 0.0000, 0.0000, 0.0000,\n",
            "         0.0000],\n",
            "        [0.0000, 0.0000, 0.0000, 0.0000, 0.0000, 0.0000, 0.0000, 0.0000, 0.0000,\n",
            "         0.0000, 0.5137, 0.9843, 0.9843, 0.9843, 0.9922, 0.9843, 0.9843, 0.9843,\n",
            "         0.3686, 0.9922, 0.9843, 0.9843, 0.1216, 0.0000, 0.0000, 0.0000, 0.0000,\n",
            "         0.0000],\n",
            "        [0.0000, 0.0000, 0.0000, 0.0000, 0.0000, 0.0000, 0.0000, 0.0000, 0.0000,\n",
            "         0.0000, 0.7490, 0.9922, 0.9922, 0.9922, 1.0000, 0.6314, 0.0000, 0.0000,\n",
            "         0.0000, 1.0000, 0.9922, 0.9922, 0.1216, 0.0000, 0.0000, 0.0000, 0.0000,\n",
            "         0.0000],\n",
            "        [0.0000, 0.0000, 0.0000, 0.0000, 0.0000, 0.0000, 0.0000, 0.0000, 0.0000,\n",
            "         0.0000, 0.1843, 0.5529, 0.3176, 0.7098, 0.6314, 0.0627, 0.0000, 0.0000,\n",
            "         0.4706, 0.9922, 0.9686, 0.5490, 0.0314, 0.0000, 0.0000, 0.0000, 0.0000,\n",
            "         0.0000],\n",
            "        [0.0000, 0.0000, 0.0000, 0.0000, 0.0000, 0.0000, 0.0000, 0.0000, 0.0000,\n",
            "         0.0000, 0.0000, 0.0000, 0.0000, 0.3098, 0.0000, 0.0000, 0.0000, 0.1255,\n",
            "         0.8039, 0.9922, 0.8627, 0.0000, 0.0000, 0.0000, 0.0000, 0.0000, 0.0000,\n",
            "         0.0000],\n",
            "        [0.0000, 0.0000, 0.0000, 0.0000, 0.0000, 0.0000, 0.0000, 0.0000, 0.0000,\n",
            "         0.0000, 0.0000, 0.0000, 0.0000, 0.0000, 0.0000, 0.0000, 0.0000, 0.7922,\n",
            "         0.9843, 0.9922, 0.7059, 0.0000, 0.0000, 0.0000, 0.0000, 0.0000, 0.0000,\n",
            "         0.0000],\n",
            "        [0.0000, 0.0000, 0.0000, 0.0000, 0.0000, 0.0000, 0.0000, 0.0000, 0.0000,\n",
            "         0.0000, 0.0000, 0.0000, 0.0000, 0.0000, 0.0000, 0.0000, 0.3137, 0.9412,\n",
            "         0.9843, 0.9922, 0.2431, 0.0000, 0.0000, 0.0000, 0.0000, 0.0000, 0.0000,\n",
            "         0.0000],\n",
            "        [0.0000, 0.0000, 0.0000, 0.0000, 0.0000, 0.0000, 0.0000, 0.0000, 0.0000,\n",
            "         0.0000, 0.0000, 0.0000, 0.0000, 0.0000, 0.0000, 0.3608, 0.9922, 0.9922,\n",
            "         0.9922, 0.3922, 0.0000, 0.0000, 0.0000, 0.0000, 0.0000, 0.0000, 0.0000,\n",
            "         0.0000],\n",
            "        [0.0000, 0.0000, 0.0000, 0.0000, 0.0000, 0.0000, 0.0000, 0.0000, 0.0000,\n",
            "         0.0000, 0.0000, 0.0000, 0.0000, 0.0000, 0.0471, 0.7725, 0.9843, 0.9843,\n",
            "         0.9059, 0.0000, 0.0000, 0.0000, 0.0000, 0.0000, 0.0000, 0.0000, 0.0000,\n",
            "         0.0000],\n",
            "        [0.0000, 0.0000, 0.0000, 0.0000, 0.0000, 0.0000, 0.0000, 0.0000, 0.3137,\n",
            "         0.5020, 0.4980, 0.4980, 0.3725, 0.3137, 0.6824, 0.9843, 0.9843, 0.8588,\n",
            "         0.1843, 0.0000, 0.0000, 0.0000, 0.0000, 0.0000, 0.0000, 0.0000, 0.0000,\n",
            "         0.0000],\n",
            "        [0.0000, 0.0000, 0.0000, 0.0000, 0.0000, 0.0314, 0.2510, 0.7922, 0.9412,\n",
            "         0.9922, 0.9843, 0.9843, 0.9569, 0.9412, 0.9922, 0.9843, 0.9843, 0.3490,\n",
            "         0.0000, 0.0000, 0.0000, 0.0000, 0.0000, 0.0000, 0.0000, 0.0000, 0.0000,\n",
            "         0.0000],\n",
            "        [0.0000, 0.0000, 0.0000, 0.0000, 0.0000, 0.1255, 0.9843, 0.9843, 0.9843,\n",
            "         0.9922, 0.9843, 0.9843, 0.9843, 0.9843, 0.9922, 0.9843, 0.9843, 0.8941,\n",
            "         0.6196, 0.0000, 0.0000, 0.0000, 0.0000, 0.0000, 0.0000, 0.0000, 0.0000,\n",
            "         0.0000],\n",
            "        [0.0000, 0.0000, 0.0000, 0.0000, 0.0000, 0.7490, 0.9922, 0.9922, 0.9922,\n",
            "         1.0000, 0.9922, 0.9922, 0.9922, 0.9922, 1.0000, 0.9922, 0.9922, 0.9922,\n",
            "         0.9922, 0.3765, 0.0941, 0.0000, 0.0000, 0.0000, 0.0000, 0.0000, 0.0000,\n",
            "         0.0000],\n",
            "        [0.0000, 0.0000, 0.0000, 0.0000, 0.0000, 0.2784, 0.9843, 0.9843, 0.9843,\n",
            "         0.9922, 0.9843, 0.9843, 0.9843, 0.9059, 0.8667, 0.8627, 0.9255, 0.9843,\n",
            "         0.9843, 0.9922, 0.3216, 0.0000, 0.0000, 0.0000, 0.0000, 0.0000, 0.0000,\n",
            "         0.0000],\n",
            "        [0.0000, 0.0000, 0.0000, 0.0000, 0.0000, 0.1255, 0.9843, 0.9843, 0.9843,\n",
            "         0.9922, 0.9843, 0.9843, 0.8588, 0.1843, 0.0000, 0.0000, 0.2471, 0.9255,\n",
            "         0.9843, 0.9922, 0.8627, 0.0000, 0.0000, 0.0000, 0.0000, 0.0000, 0.0000,\n",
            "         0.0000],\n",
            "        [0.0000, 0.0000, 0.0000, 0.0000, 0.0000, 0.1255, 0.9843, 0.9843, 0.9843,\n",
            "         0.9922, 0.9529, 0.4275, 0.0902, 0.0000, 0.0000, 0.0000, 0.0000, 0.6471,\n",
            "         0.8941, 0.7412, 0.6431, 0.0000, 0.0000, 0.0000, 0.0000, 0.0000, 0.0000,\n",
            "         0.0000],\n",
            "        [0.0000, 0.0000, 0.0000, 0.0000, 0.0000, 0.0471, 0.6784, 0.9843, 0.9843,\n",
            "         0.7569, 0.3216, 0.0000, 0.0000, 0.0000, 0.0000, 0.0000, 0.0000, 0.0000,\n",
            "         0.2314, 0.0000, 0.0000, 0.0000, 0.0000, 0.0000, 0.0000, 0.0000, 0.0000,\n",
            "         0.0000],\n",
            "        [0.0000, 0.0000, 0.0000, 0.0000, 0.0000, 0.0000, 0.0000, 0.0000, 0.0000,\n",
            "         0.0000, 0.0000, 0.0000, 0.0000, 0.0000, 0.0000, 0.0000, 0.0000, 0.0000,\n",
            "         0.0000, 0.0000, 0.0000, 0.0000, 0.0000, 0.0000, 0.0000, 0.0000, 0.0000,\n",
            "         0.0000],\n",
            "        [0.0000, 0.0000, 0.0000, 0.0000, 0.0000, 0.0000, 0.0000, 0.0000, 0.0000,\n",
            "         0.0000, 0.0000, 0.0000, 0.0000, 0.0000, 0.0000, 0.0000, 0.0000, 0.0000,\n",
            "         0.0000, 0.0000, 0.0000, 0.0000, 0.0000, 0.0000, 0.0000, 0.0000, 0.0000,\n",
            "         0.0000],\n",
            "        [0.0000, 0.0000, 0.0000, 0.0000, 0.0000, 0.0000, 0.0000, 0.0000, 0.0000,\n",
            "         0.0000, 0.0000, 0.0000, 0.0000, 0.0000, 0.0000, 0.0000, 0.0000, 0.0000,\n",
            "         0.0000, 0.0000, 0.0000, 0.0000, 0.0000, 0.0000, 0.0000, 0.0000, 0.0000,\n",
            "         0.0000],\n",
            "        [0.0000, 0.0000, 0.0000, 0.0000, 0.0000, 0.0000, 0.0000, 0.0000, 0.0000,\n",
            "         0.0000, 0.0000, 0.0000, 0.0000, 0.0000, 0.0000, 0.0000, 0.0000, 0.0000,\n",
            "         0.0000, 0.0000, 0.0000, 0.0000, 0.0000, 0.0000, 0.0000, 0.0000, 0.0000,\n",
            "         0.0000]])\n"
          ],
          "name": "stdout"
        },
        {
          "output_type": "execute_result",
          "data": {
            "text/plain": [
              "([], <a list of 0 Text major ticklabel objects>)"
            ]
          },
          "metadata": {
            "tags": []
          },
          "execution_count": 65
        },
        {
          "output_type": "display_data",
          "data": {
            "image/png": "[encoded data removed]",
            "text/plain": [
              "<Figure size 432x288 with 1 Axes>"
            ]
          },
          "metadata": {
            "tags": []
          }
        }
      ]
    },
    {
      "cell_type": "markdown",
      "metadata": {
        "id": "uYuejheEjToq"
      },
      "source": [
        "Veamos la media y desviacion estandard de todos los batches de entrenamiento."
      ]
    },
    {
      "cell_type": "code",
      "metadata": {
        "colab": {
          "base_uri": "https://localhost:8080/"
        },
        "id": "eVWviCR9jadf",
        "outputId": "ae86dade-8d4b-4bb2-b33c-3bad593c0e9c"
      },
      "source": [
        "examples = enumerate(train_loader)\r\n",
        "\r\n",
        "# Listas para guardar resultados por batch\r\n",
        "batch_mean = []\r\n",
        "batch_std = []\r\n",
        "batch_labels = []\r\n",
        "\r\n",
        "for batch_idx, (example_data, example_targets) in examples:\r\n",
        "  batch_mean.append(torch.mean(example_data).item())\r\n",
        "  batch_std.append(torch.std(example_data).item())\r\n",
        "  batch_labels.append(example_targets)\r\n",
        "\r\n",
        "# Convertir las etiquetas a numpy array\r\n",
        "batch_labels = map(lambda x: x.numpy(), batch_labels )\r\n",
        "batch_labels = np.concatenate(list(batch_labels))\r\n",
        "batch_labels"
      ],
      "execution_count": 66,
      "outputs": [
        {
          "output_type": "execute_result",
          "data": {
            "text/plain": [
              "array([7, 2, 2, ..., 4, 0, 9])"
            ]
          },
          "metadata": {
            "tags": []
          },
          "execution_count": 66
        }
      ]
    },
    {
      "cell_type": "markdown",
      "metadata": {
        "id": "K8NWZWK1tGZU"
      },
      "source": [
        "**Distribucion/balanceo de las etiquetas**"
      ]
    },
    {
      "cell_type": "code",
      "metadata": {
        "colab": {
          "base_uri": "https://localhost:8080/",
          "height": 387
        },
        "id": "vsbIX9k-s7b7",
        "outputId": "2db59df5-efc0-436e-9742-2bc145d43b36"
      },
      "source": [
        "sns.displot(data=batch_labels)"
      ],
      "execution_count": 67,
      "outputs": [
        {
          "output_type": "execute_result",
          "data": {
            "text/plain": [
              "<seaborn.axisgrid.FacetGrid at 0x7f41452af198>"
            ]
          },
          "metadata": {
            "tags": []
          },
          "execution_count": 67
        },
        {
          "output_type": "display_data",
          "data": {
            "image/png": "[encoded data removed]",
            "text/plain": [
              "<Figure size 360x360 with 1 Axes>"
            ]
          },
          "metadata": {
            "tags": []
          }
        }
      ]
    },
    {
      "cell_type": "markdown",
      "metadata": {
        "id": "DepZ3aqRld7u"
      },
      "source": [
        "**Histograma de la Media de pixeles**"
      ]
    },
    {
      "cell_type": "code",
      "metadata": {
        "colab": {
          "base_uri": "https://localhost:8080/",
          "height": 387
        },
        "id": "2RTHV786lidK",
        "outputId": "aefa1776-b5dc-4ada-efa3-2992c9b854b8"
      },
      "source": [
        "sns.displot(data=batch_mean)\r\n",
        "print('Media de pixeles:  ',sum(batch_mean)/len(batch_mean))"
      ],
      "execution_count": 68,
      "outputs": [
        {
          "output_type": "stream",
          "text": [
            "Media de pixeles:   0.13066047901908556\n"
          ],
          "name": "stdout"
        },
        {
          "output_type": "display_data",
          "data": {
            "image/png": "[encoded data removed]",
            "text/plain": [
              "<Figure size 360x360 with 1 Axes>"
            ]
          },
          "metadata": {
            "tags": []
          }
        }
      ]
    },
    {
      "cell_type": "markdown",
      "metadata": {
        "id": "mvnZn4LSlkdI"
      },
      "source": [
        "**Histograma de la std de los pixeles**"
      ]
    },
    {
      "cell_type": "code",
      "metadata": {
        "colab": {
          "base_uri": "https://localhost:8080/",
          "height": 406
        },
        "id": "CUfCbkxBlqZ0",
        "outputId": "2c681519-8da5-4181-fbaf-7af984d671b2"
      },
      "source": [
        "print('Std de pixeles:  ',sum(batch_std)/len(batch_std))\r\n",
        "sns.displot(data=batch_std)"
      ],
      "execution_count": 69,
      "outputs": [
        {
          "output_type": "stream",
          "text": [
            "Std de pixeles:   0.3080998033285141\n"
          ],
          "name": "stdout"
        },
        {
          "output_type": "execute_result",
          "data": {
            "text/plain": [
              "<seaborn.axisgrid.FacetGrid at 0x7f41452f9240>"
            ]
          },
          "metadata": {
            "tags": []
          },
          "execution_count": 69
        },
        {
          "output_type": "display_data",
          "data": {
            "image/png": "[encoded data removed]",
            "text/plain": [
              "<Figure size 360x360 with 1 Axes>"
            ]
          },
          "metadata": {
            "tags": []
          }
        }
      ]
    },
    {
      "cell_type": "markdown",
      "metadata": {
        "id": "x-9ppdVobdgy"
      },
      "source": [
        "Vistazo a los datos de prueba, con y sin normalizacion. En este caso a simple vista no hay mucha diferencia, aun asi es importante normalizar!  \r\n",
        "En esta ocasion como las imagenes son en blanco y negro, solo tenemos un canal."
      ]
    },
    {
      "cell_type": "code",
      "metadata": {
        "colab": {
          "base_uri": "https://localhost:8080/",
          "height": 543
        },
        "id": "si3483BfTMGi",
        "outputId": "905dfd87-7a06-404a-da92-55c3e2ca4877"
      },
      "source": [
        "\r\n",
        "test_loader = torch.utils.data.DataLoader(\r\n",
        "    datasets.MNIST('../data', train=False, transform=transforms.Compose([\r\n",
        "                       transforms.ToTensor()\r\n",
        "                       #transforms.Normalize((0.1307,), (0.3081,))\r\n",
        "                   ])),\r\n",
        "    batch_size=args['test_batch_size'], \r\n",
        "    shuffle=False)\r\n",
        "\r\n",
        "examples = enumerate(test_loader)\r\n",
        "batch_idx, (example_data, example_targets) = next(examples)\r\n",
        "\r\n",
        "example_data.shape\r\n",
        "\r\n",
        "fig = plt.figure()\r\n",
        "for i in range(6):\r\n",
        "  plt.subplot(2,3,i+1)\r\n",
        "  plt.tight_layout()\r\n",
        "  plt.imshow(example_data[i][0], cmap='gray', interpolation='none')\r\n",
        "  plt.title(\"Ground Truth: {}\".format(example_targets[i]))\r\n",
        "  plt.xticks([])\r\n",
        "  plt.yticks([])\r\n",
        "fig"
      ],
      "execution_count": 70,
      "outputs": [
        {
          "output_type": "execute_result",
          "data": {
            "image/png": "[encoded data removed]",
            "text/plain": [
              "<Figure size 432x288 with 6 Axes>"
            ]
          },
          "metadata": {
            "tags": []
          },
          "execution_count": 70
        },
        {
          "output_type": "display_data",
          "data": {
            "image/png": "[encoded data removed]",
            "text/plain": [
              "<Figure size 432x288 with 6 Axes>"
            ]
          },
          "metadata": {
            "tags": []
          }
        }
      ]
    },
    {
      "cell_type": "code",
      "metadata": {
        "colab": {
          "base_uri": "https://localhost:8080/",
          "height": 561
        },
        "id": "7kasttPQccch",
        "outputId": "f166c4fb-a82e-4e90-9c8c-5d0d310dea93"
      },
      "source": [
        "test_loader = torch.utils.data.DataLoader(\r\n",
        "    datasets.MNIST('../data', train=False, transform=transforms.Compose([\r\n",
        "                       transforms.ToTensor(),\r\n",
        "                       transforms.Normalize((0.1307,), (0.3081,))\r\n",
        "                   ])),\r\n",
        "    batch_size=args['test_batch_size'], \r\n",
        "    shuffle=False)\r\n",
        "\r\n",
        "examples = enumerate(test_loader)\r\n",
        "batch_idx, (example_data, example_targets) = next(examples)\r\n",
        "\r\n",
        "print(example_data.shape)\r\n",
        "\r\n",
        "import matplotlib.pyplot as plt\r\n",
        "\r\n",
        "fig = plt.figure()\r\n",
        "for i in range(6):\r\n",
        "  plt.subplot(2,3,i+1)\r\n",
        "  plt.tight_layout()\r\n",
        "  plt.imshow(example_data[i][0], cmap='gray', interpolation='none')\r\n",
        "  plt.title(\"Ground Truth: {}\".format(example_targets[i]))\r\n",
        "  plt.xticks([])\r\n",
        "  plt.yticks([])\r\n",
        "fig"
      ],
      "execution_count": 71,
      "outputs": [
        {
          "output_type": "stream",
          "text": [
            "torch.Size([1000, 1, 28, 28])\n"
          ],
          "name": "stdout"
        },
        {
          "output_type": "execute_result",
          "data": {
            "image/png": "[encoded data removed]",
            "text/plain": [
              "<Figure size 432x288 with 6 Axes>"
            ]
          },
          "metadata": {
            "tags": []
          },
          "execution_count": 71
        },
        {
          "output_type": "display_data",
          "data": {
            "image/png": "[encoded data removed]",
            "text/plain": [
              "<Figure size 432x288 with 6 Axes>"
            ]
          },
          "metadata": {
            "tags": []
          }
        }
      ]
    },
    {
      "cell_type": "markdown",
      "metadata": {
        "id": "svbXRvSBdyl5"
      },
      "source": [
        "Carguemos los datos que utilizaremos, observa que argumentos cambian, respecto a los bloques anteriores.\r\n"
      ]
    },
    {
      "cell_type": "code",
      "metadata": {
        "id": "e2531KaDd9GB"
      },
      "source": [
        "#load the data\r\n",
        "train_loader = torch.utils.data.DataLoader(\r\n",
        "    datasets.MNIST(root='../data', \r\n",
        "                   train=True, \r\n",
        "                   download=True,\r\n",
        "                   transform=transforms.Compose([\r\n",
        "                       transforms.ToTensor(),\r\n",
        "                       transforms.Normalize((0.1307,), (0.3081,))\r\n",
        "                   ])),\r\n",
        "    batch_size=args['batch_size'], \r\n",
        "    shuffle=True)\r\n",
        "\r\n",
        "test_loader = torch.utils.data.DataLoader(\r\n",
        "    datasets.MNIST('../data', \r\n",
        "                   train=False, \r\n",
        "                   download = True,\r\n",
        "                   transform=transforms.Compose([\r\n",
        "                       transforms.ToTensor(),\r\n",
        "                       transforms.Normalize((0.1307,), (0.3081,))\r\n",
        "                   ])),\r\n",
        "    batch_size=args['test_batch_size'], \r\n",
        "    shuffle=True)"
      ],
      "execution_count": 72,
      "outputs": []
    },
    {
      "cell_type": "markdown",
      "metadata": {
        "id": "ucZkO1LZ5npm"
      },
      "source": [
        "### Resumen de lectura de datos"
      ]
    },
    {
      "cell_type": "markdown",
      "metadata": {
        "id": "71-K0mAV5vtL"
      },
      "source": [
        "+ Hemos cargado los datos, y los hemos dividido entre entrenamiento y prueba.\r\n",
        "+ Hemo visto la distribucion de las etiquetas (labels) en el entrenamiento, que parece bastante balanceada.\r\n",
        "+ Hemos obtenido la media y std de los datos de entrenamiento.\r\n",
        "+ Normalizamos los datos.\r\n",
        "+ Revisamos la integridad de los datos.  \r\n",
        "Hemos realizado con exito el ETL, y parte del EDA"
      ]
    },
    {
      "cell_type": "markdown",
      "metadata": {
        "id": "h6GoOK208IUN"
      },
      "source": [
        "## Definamos la Red Neuronal"
      ]
    },
    {
      "cell_type": "markdown",
      "metadata": {
        "id": "UnjY0fa18L7y"
      },
      "source": [
        "Utilizemos el metodo de red neuronal que definimos la clase pasada."
      ]
    },
    {
      "cell_type": "code",
      "metadata": {
        "id": "ALH9fVds8QzH"
      },
      "source": [
        "from torch import nn\r\n",
        "\r\n",
        "class RedNeuronal(nn.Module):\r\n",
        "\r\n",
        "    def __init__(self, in_n=784, hidden_n=256, out_n=1):\r\n",
        "        super(RedNeuronal, self).__init__()\r\n",
        "        \r\n",
        "        # W0:= Pesos entrada -> oculta \r\n",
        "        # nn.Linear(neuronas de entrada, neuronas ocultas, bias=True)\r\n",
        "        self.hidden = nn.Linear(in_n, hidden_n)\r\n",
        "\r\n",
        "        # W1:= Pesos oculta -> salida \r\n",
        "        # nn.Linear(neuronas ocultas, neuronas salida, bias=True)\r\n",
        "        self.output = nn.Linear(hidden_n, out_n)\r\n",
        "        \r\n",
        "        # Funciones de Activacion \r\n",
        "        # Sigma 1 [capa oculta]\r\n",
        "        self.sigmoid = nn.Sigmoid()\r\n",
        "        # Sigma 2 [capa de salida]\r\n",
        "        self.softmax = nn.Softmax(dim=1)\r\n",
        "        \r\n",
        "    def forward(self, x):\r\n",
        "        # Flujo o feedforward de nuestra red\r\n",
        "\r\n",
        "        # Flatten tensores de imagenes\r\n",
        "        x = x.view(x.size(0), -1)\r\n",
        "        # Multiplicacion de X0 por W0\r\n",
        "        x = self.hidden(x)\r\n",
        "        # Evaluar Sigma uno / Obtener X1\r\n",
        "        x = self.sigmoid(x)\r\n",
        "        # Multiplicacion de X1 por W1\r\n",
        "        x = self.output(x)\r\n",
        "        # Evaluar en Sigma 2 / Obtener X2\r\n",
        "        x = F.log_softmax(x, dim=1)\r\n",
        "        return x"
      ],
      "execution_count": 73,
      "outputs": []
    },
    {
      "cell_type": "markdown",
      "metadata": {
        "id": "g6SmahUy-cLH"
      },
      "source": [
        "## Definamos la funcion para evaluar nuestro modelo"
      ]
    },
    {
      "cell_type": "markdown",
      "metadata": {
        "id": "qQuJMFBhTab5"
      },
      "source": [
        "+ **model.eval**:= Pone al modelo en modo de evaluacion. No calcula el gradiente, y desactiva el comportamiento de entrenamiento. Por ejemplo, descativa el dropout de neuronas.\r\n",
        "+ **.cuda()** = carga el tensor al GPU\r\n",
        "+ **F.nll_loss**:= Funcion negative log-likelihood \r\n",
        "+ **output.data.max**:= Nos regresa el valor maximo del tensor, y el indice que le corresponde."
      ]
    },
    {
      "cell_type": "code",
      "metadata": {
        "id": "68lTLZLp-ts1"
      },
      "source": [
        "def prueba(model, test_loader, args):\r\n",
        "    # Cambia el modelo a modo evaluacion, por ejemplo elimina el dropout\r\n",
        "    model.eval()\r\n",
        "    # Variables oara accumular en el loop\r\n",
        "    test_loss = 0\r\n",
        "    correct = 0\r\n",
        "\r\n",
        "    # Iterar sobre los batches/lotes de prueba\r\n",
        "    for data, target in test_loader:\r\n",
        "\r\n",
        "        # Carga los tensores a GPU de ser necesario\r\n",
        "        if args['cuda'] == 'cuda':\r\n",
        "            data, target = data.cuda(), target.cuda()\r\n",
        "\r\n",
        "        # Resultado del feedforward\r\n",
        "        output = model(data)\r\n",
        "\r\n",
        "        # Funcion de perdida en el batch, negative log-likelihood loss\r\n",
        "        test_loss += F.nll_loss(output, target, reduction='sum').item()\r\n",
        "\r\n",
        "        # Obtener la neurona -> label con mayor probabilidad\r\n",
        "        # La neurona k corresponde al numero k o etiqueta k.\r\n",
        "        pred = output.data.max(1, keepdim=True)[1] \r\n",
        "\r\n",
        "        # Numero de predicciones correctas, .cpu() copia los tensores al cpu\r\n",
        "        correct += pred.eq(target.data.view_as(pred)).long().cpu().sum()\r\n",
        "    \r\n",
        "    # % de obsrvaciones correctas\r\n",
        "    test_loss /= len(test_loader.dataset)\r\n",
        "    print('\\n Datos de Prueba: Perdida: {:.3f}, Accuracy: {}/{} ({:.0f}%)\\n'.format(\r\n",
        "        test_loss, correct, len(test_loader.dataset),\r\n",
        "        100. * correct / len(test_loader.dataset)))"
      ],
      "execution_count": 74,
      "outputs": []
    },
    {
      "cell_type": "code",
      "metadata": {
        "id": "ErvDM6SX8WUb",
        "colab": {
          "base_uri": "https://localhost:8080/"
        },
        "outputId": "c96f7fe4-2cbd-4ded-e14f-2728fce90cfd"
      },
      "source": [
        "model_nn = RedNeuronal(in_n=784, hidden_n=256, out_n=10)\r\n",
        "prueba(model = model_nn, test_loader=test_loader, args=args)"
      ],
      "execution_count": 75,
      "outputs": [
        {
          "output_type": "stream",
          "text": [
            "\n",
            " Datos de Prueba: Perdida: 2.366, Accuracy: 885/10000 (9%)\n",
            "\n"
          ],
          "name": "stdout"
        }
      ]
    },
    {
      "cell_type": "markdown",
      "metadata": {
        "id": "QYdebUUTW5tS"
      },
      "source": [
        "Podemos observar que nuestra red no esta entrenada de manera optima, pues el accuracy es cercano al 10%. Esto es equivalente a elegir al azar. \r\n",
        "  \r\n",
        "Debemos entrenar nuestra red."
      ]
    },
    {
      "cell_type": "markdown",
      "metadata": {
        "id": "2MknWBy0SF9a"
      },
      "source": [
        "## Definamos la funcion de entrenamiento"
      ]
    },
    {
      "cell_type": "markdown",
      "metadata": {
        "id": "WpB_mBGQaMnS"
      },
      "source": [
        "Definamos la funcion de entrenamiento, para una epoca. Nuestro modelo evalua cada lote/batch una vez.\r\n",
        "+ **model.train()**:= Pone al modelo en modo de entrenamiento. Activa el dropout y calcula el gradiente.\r\n",
        "+ **Variable()**:= Es un wrapper alrededor de la clase tensor de Pytorch, que permite guardar operaciones intermedias, y calcular el gradiente.  \r\n",
        "+ **.backward()**:= Computa el gradiente de los pesos, con la informacion de un objeto tipo Variable.\r\n",
        "+ **step.()**:= Calcula/actualiza los pesos de acuerdo al gradiente."
      ]
    },
    {
      "cell_type": "code",
      "metadata": {
        "id": "Q2LtwEmDSL2t"
      },
      "source": [
        "def entrenamiento(model, train_loader, args, epoch):\r\n",
        "    # Pone al modelo en modo entrenamiento. Calcula autograd, y activa el dropout.\r\n",
        "    model.train()\r\n",
        "    for batch_idx, (data, target) in enumerate(train_loader):\r\n",
        "        # carga las matrices al GPU de ser necesario\r\n",
        "        if args['cuda'] == 'cuda':\r\n",
        "            data, target = data.cuda(), target.cuda()\r\n",
        "\r\n",
        "        # Convierte el tensor a Variable para calcular la derivada \r\n",
        "        data, target = Variable(data), Variable(target)\r\n",
        "\r\n",
        "        # Reinicia el gradiente del lote a 0\r\n",
        "        optimizer.zero_grad()\r\n",
        "\r\n",
        "        # Feedforward\r\n",
        "        output = model(data)\r\n",
        "\r\n",
        "        # Calcula la perdida log-loss\r\n",
        "        loss = nn.NLLLoss()\r\n",
        "        loss = loss(output, target)\r\n",
        "\r\n",
        "        # Calcula el gradiente (backward) \r\n",
        "        loss.backward()\r\n",
        "\r\n",
        "        # Optimiza/recalcula los pesos\r\n",
        "        optimizer.step()\r\n",
        "\r\n",
        "        # Imprime la perdida. \r\n",
        "        if batch_idx % args['log_interval'] == 0:\r\n",
        "            print('Train Epoch: {} [{}/{} ({:.0f}%)]\\tLoss: {:.6f}'.format(\r\n",
        "                epoch, batch_idx * len(data), len(train_loader.dataset),\r\n",
        "                100. * batch_idx / len(train_loader), loss.item()))\r\n"
      ],
      "execution_count": 76,
      "outputs": []
    },
    {
      "cell_type": "code",
      "metadata": {
        "colab": {
          "base_uri": "https://localhost:8080/"
        },
        "id": "QgUyesAVXPJX",
        "outputId": "baaa0ebe-7a13-4b0c-e315-e727fde472ad"
      },
      "source": [
        "args['lr']=0.1\r\n",
        "model_nn = RedNeuronal(in_n=784, hidden_n=256, out_n=10)\r\n",
        "optimizer = optim.SGD(model_nn.parameters(), lr=args['lr'],\r\n",
        "                      momentum=args['momentum'])\r\n",
        "\r\n",
        "for epoch in range(1, 2):\r\n",
        "    entrenamiento(model = model_nn, train_loader=train_loader, args=args, \r\n",
        "                  epoch=epoch)\r\n",
        "    prueba(model = model_nn, test_loader=test_loader, args=args)\r\n"
      ],
      "execution_count": 77,
      "outputs": [
        {
          "output_type": "stream",
          "text": [
            "Train Epoch: 1 [0/60000 (0%)]\tLoss: 2.358712\n",
            "Train Epoch: 1 [10000/60000 (17%)]\tLoss: 1.847589\n",
            "Train Epoch: 1 [20000/60000 (33%)]\tLoss: 1.344852\n",
            "Train Epoch: 1 [30000/60000 (50%)]\tLoss: 0.977440\n",
            "Train Epoch: 1 [40000/60000 (67%)]\tLoss: 0.811141\n",
            "Train Epoch: 1 [50000/60000 (83%)]\tLoss: 0.712323\n",
            "\n",
            " Datos de Prueba: Perdida: 0.615, Accuracy: 8625/10000 (86%)\n",
            "\n"
          ],
          "name": "stdout"
        }
      ]
    },
    {
      "cell_type": "markdown",
      "metadata": {
        "id": "68_lLdyBbkvn"
      },
      "source": [
        "Podemos observar que la perdida se redujo un poco. Entrenemos por 10 epocas."
      ]
    },
    {
      "cell_type": "markdown",
      "metadata": {
        "id": "YWoGdZbpbs29"
      },
      "source": [
        "## Entrenar por mas epocas"
      ]
    },
    {
      "cell_type": "code",
      "metadata": {
        "colab": {
          "base_uri": "https://localhost:8080/"
        },
        "id": "RHFzBIsUbzrT",
        "outputId": "0b58b064-e920-48c8-e053-5325dec50a0f"
      },
      "source": [
        "# Hyperparametros de Entrenamiento\r\n",
        "# Epoca:= El numero de veces por el que pasamos por todos los datos\r\n",
        "args['epoch']=10  \r\n",
        "# La tasa de aprendizaje del descenso por gradiente \r\n",
        "args['lr']=0.1\r\n",
        "\r\n",
        "model_nn = RedNeuronal(in_n=784, hidden_n=256, out_n=10)\r\n",
        "optimizer = optim.SGD(model_nn.parameters(), lr=args['lr'],\r\n",
        "                      momentum=args['momentum'])\r\n",
        "# Carga el modelo al GPU de ser necesario\r\n",
        "if args['cuda'] == 'cuda':\r\n",
        "    model.cuda()\r\n",
        "\r\n",
        "for epoch in range(1, args['epoch']):\r\n",
        "    entrenamiento(model = model_nn, train_loader=train_loader, args=args, \r\n",
        "                  epoch=epoch)\r\n",
        "    prueba(model = model_nn, test_loader=test_loader, args=args)\r\n"
      ],
      "execution_count": 78,
      "outputs": [
        {
          "output_type": "stream",
          "text": [
            "Train Epoch: 1 [0/60000 (0%)]\tLoss: 2.344432\n",
            "Train Epoch: 1 [10000/60000 (17%)]\tLoss: 1.825527\n",
            "Train Epoch: 1 [20000/60000 (33%)]\tLoss: 1.376418\n",
            "Train Epoch: 1 [30000/60000 (50%)]\tLoss: 1.016397\n",
            "Train Epoch: 1 [40000/60000 (67%)]\tLoss: 0.857030\n",
            "Train Epoch: 1 [50000/60000 (83%)]\tLoss: 0.705934\n",
            "\n",
            " Datos de Prueba: Perdida: 0.609, Accuracy: 8649/10000 (86%)\n",
            "\n",
            "Train Epoch: 2 [0/60000 (0%)]\tLoss: 0.603954\n",
            "Train Epoch: 2 [10000/60000 (17%)]\tLoss: 0.603134\n",
            "Train Epoch: 2 [20000/60000 (33%)]\tLoss: 0.552470\n",
            "Train Epoch: 2 [30000/60000 (50%)]\tLoss: 0.509919\n",
            "Train Epoch: 2 [40000/60000 (67%)]\tLoss: 0.485491\n",
            "Train Epoch: 2 [50000/60000 (83%)]\tLoss: 0.461586\n",
            "\n",
            " Datos de Prueba: Perdida: 0.420, Accuracy: 8915/10000 (89%)\n",
            "\n",
            "Train Epoch: 3 [0/60000 (0%)]\tLoss: 0.406420\n",
            "Train Epoch: 3 [10000/60000 (17%)]\tLoss: 0.416243\n",
            "Train Epoch: 3 [20000/60000 (33%)]\tLoss: 0.407775\n",
            "Train Epoch: 3 [30000/60000 (50%)]\tLoss: 0.387263\n",
            "Train Epoch: 3 [40000/60000 (67%)]\tLoss: 0.362008\n",
            "Train Epoch: 3 [50000/60000 (83%)]\tLoss: 0.343191\n",
            "\n",
            " Datos de Prueba: Perdida: 0.357, Accuracy: 9021/10000 (90%)\n",
            "\n",
            "Train Epoch: 4 [0/60000 (0%)]\tLoss: 0.387593\n",
            "Train Epoch: 4 [10000/60000 (17%)]\tLoss: 0.309678\n",
            "Train Epoch: 4 [20000/60000 (33%)]\tLoss: 0.329745\n",
            "Train Epoch: 4 [30000/60000 (50%)]\tLoss: 0.357026\n",
            "Train Epoch: 4 [40000/60000 (67%)]\tLoss: 0.325137\n",
            "Train Epoch: 4 [50000/60000 (83%)]\tLoss: 0.342358\n",
            "\n",
            " Datos de Prueba: Perdida: 0.328, Accuracy: 9079/10000 (91%)\n",
            "\n",
            "Train Epoch: 5 [0/60000 (0%)]\tLoss: 0.327419\n",
            "Train Epoch: 5 [10000/60000 (17%)]\tLoss: 0.334983\n",
            "Train Epoch: 5 [20000/60000 (33%)]\tLoss: 0.352776\n",
            "Train Epoch: 5 [30000/60000 (50%)]\tLoss: 0.282724\n",
            "Train Epoch: 5 [40000/60000 (67%)]\tLoss: 0.307949\n",
            "Train Epoch: 5 [50000/60000 (83%)]\tLoss: 0.346421\n",
            "\n",
            " Datos de Prueba: Perdida: 0.309, Accuracy: 9110/10000 (91%)\n",
            "\n",
            "Train Epoch: 6 [0/60000 (0%)]\tLoss: 0.304758\n",
            "Train Epoch: 6 [10000/60000 (17%)]\tLoss: 0.253020\n",
            "Train Epoch: 6 [20000/60000 (33%)]\tLoss: 0.343977\n",
            "Train Epoch: 6 [30000/60000 (50%)]\tLoss: 0.330885\n",
            "Train Epoch: 6 [40000/60000 (67%)]\tLoss: 0.304724\n",
            "Train Epoch: 6 [50000/60000 (83%)]\tLoss: 0.359806\n",
            "\n",
            " Datos de Prueba: Perdida: 0.294, Accuracy: 9180/10000 (92%)\n",
            "\n",
            "Train Epoch: 7 [0/60000 (0%)]\tLoss: 0.301845\n",
            "Train Epoch: 7 [10000/60000 (17%)]\tLoss: 0.331819\n",
            "Train Epoch: 7 [20000/60000 (33%)]\tLoss: 0.287772\n",
            "Train Epoch: 7 [30000/60000 (50%)]\tLoss: 0.306520\n",
            "Train Epoch: 7 [40000/60000 (67%)]\tLoss: 0.308308\n",
            "Train Epoch: 7 [50000/60000 (83%)]\tLoss: 0.298297\n",
            "\n",
            " Datos de Prueba: Perdida: 0.282, Accuracy: 9211/10000 (92%)\n",
            "\n",
            "Train Epoch: 8 [0/60000 (0%)]\tLoss: 0.296696\n",
            "Train Epoch: 8 [10000/60000 (17%)]\tLoss: 0.260543\n",
            "Train Epoch: 8 [20000/60000 (33%)]\tLoss: 0.275488\n",
            "Train Epoch: 8 [30000/60000 (50%)]\tLoss: 0.272979\n",
            "Train Epoch: 8 [40000/60000 (67%)]\tLoss: 0.300883\n",
            "Train Epoch: 8 [50000/60000 (83%)]\tLoss: 0.298660\n",
            "\n",
            " Datos de Prueba: Perdida: 0.274, Accuracy: 9231/10000 (92%)\n",
            "\n",
            "Train Epoch: 9 [0/60000 (0%)]\tLoss: 0.310063\n",
            "Train Epoch: 9 [10000/60000 (17%)]\tLoss: 0.252811\n",
            "Train Epoch: 9 [20000/60000 (33%)]\tLoss: 0.274855\n",
            "Train Epoch: 9 [30000/60000 (50%)]\tLoss: 0.271263\n",
            "Train Epoch: 9 [40000/60000 (67%)]\tLoss: 0.306055\n",
            "Train Epoch: 9 [50000/60000 (83%)]\tLoss: 0.232858\n",
            "\n",
            " Datos de Prueba: Perdida: 0.265, Accuracy: 9246/10000 (92%)\n",
            "\n"
          ],
          "name": "stdout"
        }
      ]
    },
    {
      "cell_type": "markdown",
      "metadata": {
        "id": "XRQ5Ce3VdDAu"
      },
      "source": [
        "Podemos observar que nuestro modelo mejoro bastante cuando lo entrenamos por mas epocas."
      ]
    },
    {
      "cell_type": "markdown",
      "metadata": {
        "id": "3QGCnrsidNeM"
      },
      "source": [
        "### Entrenemos con un learning_rate diferente."
      ]
    },
    {
      "cell_type": "code",
      "metadata": {
        "id": "eFbYMCJTdSkj",
        "colab": {
          "base_uri": "https://localhost:8080/"
        },
        "outputId": "03cfe8a2-2ac3-4532-f589-1423c02d5509"
      },
      "source": [
        "# Hyperparametros de Entrenamiento\r\n",
        "# Epoca:= El numero de veces por el que pasamos por todos los datos\r\n",
        "args['epoch']=10  \r\n",
        "# La tasa de aprendizaje del descenso por gradiente \r\n",
        "args['lr']=0.5\r\n",
        "\r\n",
        "\r\n",
        "model_nn = RedNeuronal(in_n=784, hidden_n=256, out_n=10)\r\n",
        "optimizer = optim.SGD(model_nn.parameters(), lr=args['lr'],\r\n",
        "                      momentum=args['momentum'])\r\n",
        "# Carga el modelo al GPU de ser necesario\r\n",
        "if args['cuda'] == 'cuda':\r\n",
        "    model.cuda()\r\n",
        "\r\n",
        "for epoch in range(1, args['epoch']):\r\n",
        "    entrenamiento(model = model_nn, train_loader=train_loader, args=args, \r\n",
        "                  epoch=epoch)\r\n",
        "    prueba(model = model_nn, test_loader=test_loader, args=args)\r\n"
      ],
      "execution_count": 79,
      "outputs": [
        {
          "output_type": "stream",
          "text": [
            "Train Epoch: 1 [0/60000 (0%)]\tLoss: 2.363629\n",
            "Train Epoch: 1 [10000/60000 (17%)]\tLoss: 0.852485\n",
            "Train Epoch: 1 [20000/60000 (33%)]\tLoss: 0.475468\n",
            "Train Epoch: 1 [30000/60000 (50%)]\tLoss: 0.413163\n",
            "Train Epoch: 1 [40000/60000 (67%)]\tLoss: 0.362799\n",
            "Train Epoch: 1 [50000/60000 (83%)]\tLoss: 0.367206\n",
            "\n",
            " Datos de Prueba: Perdida: 0.310, Accuracy: 9111/10000 (91%)\n",
            "\n",
            "Train Epoch: 2 [0/60000 (0%)]\tLoss: 0.313561\n",
            "Train Epoch: 2 [10000/60000 (17%)]\tLoss: 0.294665\n",
            "Train Epoch: 2 [20000/60000 (33%)]\tLoss: 0.315777\n",
            "Train Epoch: 2 [30000/60000 (50%)]\tLoss: 0.286670\n",
            "Train Epoch: 2 [40000/60000 (67%)]\tLoss: 0.241840\n",
            "Train Epoch: 2 [50000/60000 (83%)]\tLoss: 0.284661\n",
            "\n",
            " Datos de Prueba: Perdida: 0.256, Accuracy: 9269/10000 (93%)\n",
            "\n",
            "Train Epoch: 3 [0/60000 (0%)]\tLoss: 0.253731\n",
            "Train Epoch: 3 [10000/60000 (17%)]\tLoss: 0.270975\n",
            "Train Epoch: 3 [20000/60000 (33%)]\tLoss: 0.233360\n",
            "Train Epoch: 3 [30000/60000 (50%)]\tLoss: 0.232606\n",
            "Train Epoch: 3 [40000/60000 (67%)]\tLoss: 0.274349\n",
            "Train Epoch: 3 [50000/60000 (83%)]\tLoss: 0.240890\n",
            "\n",
            " Datos de Prueba: Perdida: 0.221, Accuracy: 9364/10000 (94%)\n",
            "\n",
            "Train Epoch: 4 [0/60000 (0%)]\tLoss: 0.230646\n",
            "Train Epoch: 4 [10000/60000 (17%)]\tLoss: 0.227899\n",
            "Train Epoch: 4 [20000/60000 (33%)]\tLoss: 0.219924\n",
            "Train Epoch: 4 [30000/60000 (50%)]\tLoss: 0.211698\n",
            "Train Epoch: 4 [40000/60000 (67%)]\tLoss: 0.191106\n",
            "Train Epoch: 4 [50000/60000 (83%)]\tLoss: 0.210316\n",
            "\n",
            " Datos de Prueba: Perdida: 0.194, Accuracy: 9441/10000 (94%)\n",
            "\n",
            "Train Epoch: 5 [0/60000 (0%)]\tLoss: 0.187992\n",
            "Train Epoch: 5 [10000/60000 (17%)]\tLoss: 0.227090\n",
            "Train Epoch: 5 [20000/60000 (33%)]\tLoss: 0.175521\n",
            "Train Epoch: 5 [30000/60000 (50%)]\tLoss: 0.185227\n",
            "Train Epoch: 5 [40000/60000 (67%)]\tLoss: 0.204694\n",
            "Train Epoch: 5 [50000/60000 (83%)]\tLoss: 0.215529\n",
            "\n",
            " Datos de Prueba: Perdida: 0.176, Accuracy: 9494/10000 (95%)\n",
            "\n",
            "Train Epoch: 6 [0/60000 (0%)]\tLoss: 0.173509\n",
            "Train Epoch: 6 [10000/60000 (17%)]\tLoss: 0.186042\n",
            "Train Epoch: 6 [20000/60000 (33%)]\tLoss: 0.163178\n",
            "Train Epoch: 6 [30000/60000 (50%)]\tLoss: 0.167752\n",
            "Train Epoch: 6 [40000/60000 (67%)]\tLoss: 0.166094\n",
            "Train Epoch: 6 [50000/60000 (83%)]\tLoss: 0.171494\n",
            "\n",
            " Datos de Prueba: Perdida: 0.161, Accuracy: 9531/10000 (95%)\n",
            "\n",
            "Train Epoch: 7 [0/60000 (0%)]\tLoss: 0.107419\n",
            "Train Epoch: 7 [10000/60000 (17%)]\tLoss: 0.141930\n",
            "Train Epoch: 7 [20000/60000 (33%)]\tLoss: 0.167677\n",
            "Train Epoch: 7 [30000/60000 (50%)]\tLoss: 0.185296\n",
            "Train Epoch: 7 [40000/60000 (67%)]\tLoss: 0.136397\n",
            "Train Epoch: 7 [50000/60000 (83%)]\tLoss: 0.136853\n",
            "\n",
            " Datos de Prueba: Perdida: 0.147, Accuracy: 9580/10000 (96%)\n",
            "\n",
            "Train Epoch: 8 [0/60000 (0%)]\tLoss: 0.141429\n",
            "Train Epoch: 8 [10000/60000 (17%)]\tLoss: 0.141209\n",
            "Train Epoch: 8 [20000/60000 (33%)]\tLoss: 0.143217\n",
            "Train Epoch: 8 [30000/60000 (50%)]\tLoss: 0.148816\n",
            "Train Epoch: 8 [40000/60000 (67%)]\tLoss: 0.146824\n",
            "Train Epoch: 8 [50000/60000 (83%)]\tLoss: 0.147246\n",
            "\n",
            " Datos de Prueba: Perdida: 0.135, Accuracy: 9614/10000 (96%)\n",
            "\n",
            "Train Epoch: 9 [0/60000 (0%)]\tLoss: 0.147263\n",
            "Train Epoch: 9 [10000/60000 (17%)]\tLoss: 0.117221\n",
            "Train Epoch: 9 [20000/60000 (33%)]\tLoss: 0.140402\n",
            "Train Epoch: 9 [30000/60000 (50%)]\tLoss: 0.127609\n",
            "Train Epoch: 9 [40000/60000 (67%)]\tLoss: 0.121399\n",
            "Train Epoch: 9 [50000/60000 (83%)]\tLoss: 0.131036\n",
            "\n",
            " Datos de Prueba: Perdida: 0.127, Accuracy: 9625/10000 (96%)\n",
            "\n"
          ],
          "name": "stdout"
        }
      ]
    },
    {
      "cell_type": "markdown",
      "metadata": {
        "id": "BtV4rKX-fxWO"
      },
      "source": [
        "Intentemos entrenar la red que ya tenemos, con un learning rate muy grande.\r\n",
        "Esperariamos que nuestras predicciones se comportaran como pendulo, pues un learning rate grande tiende al sobre ajuste."
      ]
    },
    {
      "cell_type": "code",
      "metadata": {
        "id": "D3g_ho5nf9Ul",
        "colab": {
          "base_uri": "https://localhost:8080/"
        },
        "outputId": "bac2e13d-b2bd-49fc-8692-e6fc11e4a6eb"
      },
      "source": [
        "# Hyperparametros de Entrenamiento\r\n",
        "# Epoca:= El numero de veces por el que pasamos por todos los datos\r\n",
        "args['epoch'] = 10  \r\n",
        "# La tasa de aprendizaje del descenso por gradiente \r\n",
        "args['lr'] = 1000.0\r\n",
        "\r\n",
        "\r\n",
        "optimizer = optim.SGD(model_nn.parameters(), lr=args['lr'],\r\n",
        "                      momentum=args['momentum'])\r\n",
        "\r\n",
        "# Carga el modelo al GPU de ser necesario\r\n",
        "if args['cuda'] == 'cuda':\r\n",
        "    model.cuda()\r\n",
        "\r\n",
        "for epoch in range(1, args['epoch']):\r\n",
        "    entrenamiento(model = model_nn, train_loader=train_loader, args=args, \r\n",
        "                  epoch=epoch)\r\n",
        "    prueba(model = model_nn, test_loader=test_loader, args=args)\r\n"
      ],
      "execution_count": 80,
      "outputs": [
        {
          "output_type": "stream",
          "text": [
            "Train Epoch: 1 [0/60000 (0%)]\tLoss: 0.148613\n",
            "Train Epoch: 1 [10000/60000 (17%)]\tLoss: 37923.769531\n",
            "Train Epoch: 1 [20000/60000 (33%)]\tLoss: 30149.585938\n",
            "Train Epoch: 1 [30000/60000 (50%)]\tLoss: 28125.763672\n",
            "Train Epoch: 1 [40000/60000 (67%)]\tLoss: 27291.201172\n",
            "Train Epoch: 1 [50000/60000 (83%)]\tLoss: 22184.560547\n",
            "\n",
            " Datos de Prueba: Perdida: 21032.157, Accuracy: 1809/10000 (18%)\n",
            "\n",
            "Train Epoch: 2 [0/60000 (0%)]\tLoss: 21880.404297\n",
            "Train Epoch: 2 [10000/60000 (17%)]\tLoss: 21658.925781\n",
            "Train Epoch: 2 [20000/60000 (33%)]\tLoss: 20092.074219\n",
            "Train Epoch: 2 [30000/60000 (50%)]\tLoss: 13513.101562\n",
            "Train Epoch: 2 [40000/60000 (67%)]\tLoss: 7664.800781\n",
            "Train Epoch: 2 [50000/60000 (83%)]\tLoss: 14309.776367\n",
            "\n",
            " Datos de Prueba: Perdida: 15307.882, Accuracy: 1736/10000 (17%)\n",
            "\n",
            "Train Epoch: 3 [0/60000 (0%)]\tLoss: 15083.469727\n",
            "Train Epoch: 3 [10000/60000 (17%)]\tLoss: 18720.572266\n",
            "Train Epoch: 3 [20000/60000 (33%)]\tLoss: 11399.749023\n",
            "Train Epoch: 3 [30000/60000 (50%)]\tLoss: 10123.876953\n",
            "Train Epoch: 3 [40000/60000 (67%)]\tLoss: 11385.131836\n",
            "Train Epoch: 3 [50000/60000 (83%)]\tLoss: 13970.565430\n",
            "\n",
            " Datos de Prueba: Perdida: 16632.398, Accuracy: 1656/10000 (17%)\n",
            "\n",
            "Train Epoch: 4 [0/60000 (0%)]\tLoss: 16926.908203\n",
            "Train Epoch: 4 [10000/60000 (17%)]\tLoss: 10318.790039\n",
            "Train Epoch: 4 [20000/60000 (33%)]\tLoss: 10453.249023\n",
            "Train Epoch: 4 [30000/60000 (50%)]\tLoss: 13875.978516\n",
            "Train Epoch: 4 [40000/60000 (67%)]\tLoss: 14005.385742\n",
            "Train Epoch: 4 [50000/60000 (83%)]\tLoss: 15589.216797\n",
            "\n",
            " Datos de Prueba: Perdida: 8538.463, Accuracy: 2640/10000 (26%)\n",
            "\n",
            "Train Epoch: 5 [0/60000 (0%)]\tLoss: 8728.630859\n",
            "Train Epoch: 5 [10000/60000 (17%)]\tLoss: 12708.956055\n",
            "Train Epoch: 5 [20000/60000 (33%)]\tLoss: 11628.798828\n",
            "Train Epoch: 5 [30000/60000 (50%)]\tLoss: 16230.332031\n",
            "Train Epoch: 5 [40000/60000 (67%)]\tLoss: 18333.732422\n",
            "Train Epoch: 5 [50000/60000 (83%)]\tLoss: 17107.390625\n",
            "\n",
            " Datos de Prueba: Perdida: 27453.849, Accuracy: 1816/10000 (18%)\n",
            "\n",
            "Train Epoch: 6 [0/60000 (0%)]\tLoss: 27937.394531\n",
            "Train Epoch: 6 [10000/60000 (17%)]\tLoss: 22985.203125\n",
            "Train Epoch: 6 [20000/60000 (33%)]\tLoss: 22471.486328\n",
            "Train Epoch: 6 [30000/60000 (50%)]\tLoss: 19874.572266\n",
            "Train Epoch: 6 [40000/60000 (67%)]\tLoss: 9833.330078\n",
            "Train Epoch: 6 [50000/60000 (83%)]\tLoss: 11573.721680\n",
            "\n",
            " Datos de Prueba: Perdida: 13829.110, Accuracy: 1992/10000 (20%)\n",
            "\n",
            "Train Epoch: 7 [0/60000 (0%)]\tLoss: 13822.885742\n",
            "Train Epoch: 7 [10000/60000 (17%)]\tLoss: 12882.353516\n",
            "Train Epoch: 7 [20000/60000 (33%)]\tLoss: 13450.601562\n",
            "Train Epoch: 7 [30000/60000 (50%)]\tLoss: 16917.599609\n",
            "Train Epoch: 7 [40000/60000 (67%)]\tLoss: 21716.634766\n",
            "Train Epoch: 7 [50000/60000 (83%)]\tLoss: 18435.591797\n",
            "\n",
            " Datos de Prueba: Perdida: 24083.012, Accuracy: 1820/10000 (18%)\n",
            "\n",
            "Train Epoch: 8 [0/60000 (0%)]\tLoss: 24465.656250\n",
            "Train Epoch: 8 [10000/60000 (17%)]\tLoss: 24424.601562\n",
            "Train Epoch: 8 [20000/60000 (33%)]\tLoss: 18374.402344\n",
            "Train Epoch: 8 [30000/60000 (50%)]\tLoss: 20616.638672\n",
            "Train Epoch: 8 [40000/60000 (67%)]\tLoss: 18255.027344\n",
            "Train Epoch: 8 [50000/60000 (83%)]\tLoss: 19483.033203\n",
            "\n",
            " Datos de Prueba: Perdida: 21023.760, Accuracy: 1830/10000 (18%)\n",
            "\n",
            "Train Epoch: 9 [0/60000 (0%)]\tLoss: 21423.730469\n",
            "Train Epoch: 9 [10000/60000 (17%)]\tLoss: 22855.568359\n",
            "Train Epoch: 9 [20000/60000 (33%)]\tLoss: 23234.705078\n",
            "Train Epoch: 9 [30000/60000 (50%)]\tLoss: 19629.589844\n",
            "Train Epoch: 9 [40000/60000 (67%)]\tLoss: 18911.099609\n",
            "Train Epoch: 9 [50000/60000 (83%)]\tLoss: 21829.353516\n",
            "\n",
            " Datos de Prueba: Perdida: 19024.400, Accuracy: 1783/10000 (18%)\n",
            "\n"
          ],
          "name": "stdout"
        }
      ]
    },
    {
      "cell_type": "markdown",
      "metadata": {
        "id": "yXVe5oCS5OEB"
      },
      "source": [
        "**En general** Queremos que nuestro learning rate, se encuentre entre 0.0 y 1.0.  \r\n",
        "+ Existe una compensacion inversa entre el learning rate, y el numero de epocas. Si tuvieramos tiempo y recuros, lo ideal seria tener un learning rate bajo y entrenar por muchas epocas."
      ]
    }
  ]
}