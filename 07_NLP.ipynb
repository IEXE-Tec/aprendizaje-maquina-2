{
  "nbformat": 4,
  "nbformat_minor": 0,
  "metadata": {
    "colab": {
      "name": "07_NLP",
      "provenance": [],
      "collapsed_sections": [],
      "authorship_tag": "ABX9TyMImwKxhB1Npql3wNRMxjcz",
      "include_colab_link": true
    },
    "kernelspec": {
      "name": "python3",
      "display_name": "Python 3"
    },
    "widgets": {
      "application/vnd.jupyter.widget-state+json": {
        "0f174c09284d463dab21b56683ed293f": {
          "model_module": "@jupyter-widgets/controls",
          "model_name": "IntProgressModel",
          "state": {
            "_view_name": "ProgressView",
            "style": "IPY_MODEL_d95b6131f83545c58c1a80d9b5a01488",
            "_dom_classes": [],
            "description": "Processing: ",
            "_model_name": "IntProgressModel",
            "bar_style": "",
            "max": 11,
            "_view_module": "@jupyter-widgets/controls",
            "_model_module_version": "1.5.0",
            "value": 11,
            "_view_count": null,
            "_view_module_version": "1.5.0",
            "orientation": "horizontal",
            "min": 0,
            "description_tooltip": null,
            "_model_module": "@jupyter-widgets/controls",
            "layout": "IPY_MODEL_8340f8f76ca24f9fac9d679ad0d60972"
          }
        },
        "d95b6131f83545c58c1a80d9b5a01488": {
          "model_module": "@jupyter-widgets/controls",
          "model_name": "ProgressStyleModel",
          "state": {
            "_view_name": "StyleView",
            "_model_name": "ProgressStyleModel",
            "description_width": "",
            "_view_module": "@jupyter-widgets/base",
            "_model_module_version": "1.5.0",
            "_view_count": null,
            "_view_module_version": "1.2.0",
            "bar_color": null,
            "_model_module": "@jupyter-widgets/controls"
          }
        },
        "8340f8f76ca24f9fac9d679ad0d60972": {
          "model_module": "@jupyter-widgets/base",
          "model_name": "LayoutModel",
          "state": {
            "_view_name": "LayoutView",
            "grid_template_rows": null,
            "right": null,
            "justify_content": null,
            "_view_module": "@jupyter-widgets/base",
            "overflow": null,
            "_model_module_version": "1.2.0",
            "_view_count": null,
            "flex_flow": null,
            "width": null,
            "min_width": null,
            "border": null,
            "align_items": null,
            "bottom": null,
            "_model_module": "@jupyter-widgets/base",
            "top": null,
            "grid_column": null,
            "overflow_y": null,
            "overflow_x": null,
            "grid_auto_flow": null,
            "grid_area": null,
            "grid_template_columns": null,
            "flex": null,
            "_model_name": "LayoutModel",
            "justify_items": null,
            "grid_row": null,
            "max_height": null,
            "align_content": null,
            "visibility": null,
            "align_self": null,
            "height": null,
            "min_height": null,
            "padding": null,
            "grid_auto_rows": null,
            "grid_gap": null,
            "max_width": null,
            "order": null,
            "_view_module_version": "1.2.0",
            "grid_template_areas": null,
            "object_position": null,
            "object_fit": null,
            "grid_auto_columns": null,
            "margin": null,
            "display": null,
            "left": null
          }
        },
        "c2d4432f810b47c68ce33d1bd0eda159": {
          "model_module": "@jupyter-widgets/controls",
          "model_name": "IntProgressModel",
          "state": {
            "_view_name": "ProgressView",
            "style": "IPY_MODEL_6987af5d934a47f78c09f5755de8e033",
            "_dom_classes": [],
            "description": "Processing: ",
            "_model_name": "IntProgressModel",
            "bar_style": "",
            "max": 4,
            "_view_module": "@jupyter-widgets/controls",
            "_model_module_version": "1.5.0",
            "value": 4,
            "_view_count": null,
            "_view_module_version": "1.5.0",
            "orientation": "horizontal",
            "min": 0,
            "description_tooltip": null,
            "_model_module": "@jupyter-widgets/controls",
            "layout": "IPY_MODEL_aec1812c2a7c4a64bd7af67506fc19ec"
          }
        },
        "6987af5d934a47f78c09f5755de8e033": {
          "model_module": "@jupyter-widgets/controls",
          "model_name": "ProgressStyleModel",
          "state": {
            "_view_name": "StyleView",
            "_model_name": "ProgressStyleModel",
            "description_width": "",
            "_view_module": "@jupyter-widgets/base",
            "_model_module_version": "1.5.0",
            "_view_count": null,
            "_view_module_version": "1.2.0",
            "bar_color": null,
            "_model_module": "@jupyter-widgets/controls"
          }
        },
        "aec1812c2a7c4a64bd7af67506fc19ec": {
          "model_module": "@jupyter-widgets/base",
          "model_name": "LayoutModel",
          "state": {
            "_view_name": "LayoutView",
            "grid_template_rows": null,
            "right": null,
            "justify_content": null,
            "_view_module": "@jupyter-widgets/base",
            "overflow": null,
            "_model_module_version": "1.2.0",
            "_view_count": null,
            "flex_flow": null,
            "width": null,
            "min_width": null,
            "border": null,
            "align_items": null,
            "bottom": null,
            "_model_module": "@jupyter-widgets/base",
            "top": null,
            "grid_column": null,
            "overflow_y": null,
            "overflow_x": null,
            "grid_auto_flow": null,
            "grid_area": null,
            "grid_template_columns": null,
            "flex": null,
            "_model_name": "LayoutModel",
            "justify_items": null,
            "grid_row": null,
            "max_height": null,
            "align_content": null,
            "visibility": null,
            "align_self": null,
            "height": null,
            "min_height": null,
            "padding": null,
            "grid_auto_rows": null,
            "grid_gap": null,
            "max_width": null,
            "order": null,
            "_view_module_version": "1.2.0",
            "grid_template_areas": null,
            "object_position": null,
            "object_fit": null,
            "grid_auto_columns": null,
            "margin": null,
            "display": null,
            "left": null
          }
        },
        "c2e999a9a07f428788b7e02dba3d299c": {
          "model_module": "@jupyter-widgets/controls",
          "model_name": "IntProgressModel",
          "state": {
            "_view_name": "ProgressView",
            "style": "IPY_MODEL_a311fd2903bc4c18a11a69ab237c552d",
            "_dom_classes": [],
            "description": "Processing: ",
            "_model_name": "IntProgressModel",
            "bar_style": "",
            "max": 10005,
            "_view_module": "@jupyter-widgets/controls",
            "_model_module_version": "1.5.0",
            "value": 10005,
            "_view_count": null,
            "_view_module_version": "1.5.0",
            "orientation": "horizontal",
            "min": 0,
            "description_tooltip": null,
            "_model_module": "@jupyter-widgets/controls",
            "layout": "IPY_MODEL_e0c0bf703a5c440f91c9a3f90ed077da"
          }
        },
        "a311fd2903bc4c18a11a69ab237c552d": {
          "model_module": "@jupyter-widgets/controls",
          "model_name": "ProgressStyleModel",
          "state": {
            "_view_name": "StyleView",
            "_model_name": "ProgressStyleModel",
            "description_width": "",
            "_view_module": "@jupyter-widgets/base",
            "_model_module_version": "1.5.0",
            "_view_count": null,
            "_view_module_version": "1.2.0",
            "bar_color": null,
            "_model_module": "@jupyter-widgets/controls"
          }
        },
        "e0c0bf703a5c440f91c9a3f90ed077da": {
          "model_module": "@jupyter-widgets/base",
          "model_name": "LayoutModel",
          "state": {
            "_view_name": "LayoutView",
            "grid_template_rows": null,
            "right": null,
            "justify_content": null,
            "_view_module": "@jupyter-widgets/base",
            "overflow": null,
            "_model_module_version": "1.2.0",
            "_view_count": null,
            "flex_flow": null,
            "width": null,
            "min_width": null,
            "border": null,
            "align_items": null,
            "bottom": null,
            "_model_module": "@jupyter-widgets/base",
            "top": null,
            "grid_column": null,
            "overflow_y": null,
            "overflow_x": null,
            "grid_auto_flow": null,
            "grid_area": null,
            "grid_template_columns": null,
            "flex": null,
            "_model_name": "LayoutModel",
            "justify_items": null,
            "grid_row": null,
            "max_height": null,
            "align_content": null,
            "visibility": null,
            "align_self": null,
            "height": null,
            "min_height": null,
            "padding": null,
            "grid_auto_rows": null,
            "grid_gap": null,
            "max_width": null,
            "order": null,
            "_view_module_version": "1.2.0",
            "grid_template_areas": null,
            "object_position": null,
            "object_fit": null,
            "grid_auto_columns": null,
            "margin": null,
            "display": null,
            "left": null
          }
        },
        "eec231d83e2b4c47bdad9a0e418fa704": {
          "model_module": "@jupyter-widgets/controls",
          "model_name": "IntProgressModel",
          "state": {
            "_view_name": "ProgressView",
            "style": "IPY_MODEL_8e939e126c6f4e51a52bfb9d288b1826",
            "_dom_classes": [],
            "description": "Processing: ",
            "_model_name": "IntProgressModel",
            "bar_style": "",
            "max": 3,
            "_view_module": "@jupyter-widgets/controls",
            "_model_module_version": "1.5.0",
            "value": 3,
            "_view_count": null,
            "_view_module_version": "1.5.0",
            "orientation": "horizontal",
            "min": 0,
            "description_tooltip": null,
            "_model_module": "@jupyter-widgets/controls",
            "layout": "IPY_MODEL_8a499896d62642c9a05a3306df2344bc"
          }
        },
        "8e939e126c6f4e51a52bfb9d288b1826": {
          "model_module": "@jupyter-widgets/controls",
          "model_name": "ProgressStyleModel",
          "state": {
            "_view_name": "StyleView",
            "_model_name": "ProgressStyleModel",
            "description_width": "",
            "_view_module": "@jupyter-widgets/base",
            "_model_module_version": "1.5.0",
            "_view_count": null,
            "_view_module_version": "1.2.0",
            "bar_color": null,
            "_model_module": "@jupyter-widgets/controls"
          }
        },
        "8a499896d62642c9a05a3306df2344bc": {
          "model_module": "@jupyter-widgets/base",
          "model_name": "LayoutModel",
          "state": {
            "_view_name": "LayoutView",
            "grid_template_rows": null,
            "right": null,
            "justify_content": null,
            "_view_module": "@jupyter-widgets/base",
            "overflow": null,
            "_model_module_version": "1.2.0",
            "_view_count": null,
            "flex_flow": null,
            "width": null,
            "min_width": null,
            "border": null,
            "align_items": null,
            "bottom": null,
            "_model_module": "@jupyter-widgets/base",
            "top": null,
            "grid_column": null,
            "overflow_y": null,
            "overflow_x": null,
            "grid_auto_flow": null,
            "grid_area": null,
            "grid_template_columns": null,
            "flex": null,
            "_model_name": "LayoutModel",
            "justify_items": null,
            "grid_row": null,
            "max_height": null,
            "align_content": null,
            "visibility": null,
            "align_self": null,
            "height": null,
            "min_height": null,
            "padding": null,
            "grid_auto_rows": null,
            "grid_gap": null,
            "max_width": null,
            "order": null,
            "_view_module_version": "1.2.0",
            "grid_template_areas": null,
            "object_position": null,
            "object_fit": null,
            "grid_auto_columns": null,
            "margin": null,
            "display": null,
            "left": null
          }
        },
        "b16b508bde5f49a9b9460f17fd51d13d": {
          "model_module": "@jupyter-widgets/controls",
          "model_name": "TextModel",
          "state": {
            "_view_name": "TextView",
            "style": "IPY_MODEL_5884215dea4d4018af0be31447225802",
            "_dom_classes": [],
            "description": "",
            "_model_name": "TextModel",
            "placeholder": "​",
            "_view_module": "@jupyter-widgets/controls",
            "_model_module_version": "1.5.0",
            "value": "Following data types have been inferred automatically, if they are correct press enter to continue or type 'quit' otherwise.",
            "_view_count": null,
            "disabled": false,
            "_view_module_version": "1.5.0",
            "continuous_update": true,
            "description_tooltip": null,
            "_model_module": "@jupyter-widgets/controls",
            "layout": "IPY_MODEL_14f46ff6954840a7a76b7a5de5657bfa"
          }
        },
        "5884215dea4d4018af0be31447225802": {
          "model_module": "@jupyter-widgets/controls",
          "model_name": "DescriptionStyleModel",
          "state": {
            "_view_name": "StyleView",
            "_model_name": "DescriptionStyleModel",
            "description_width": "",
            "_view_module": "@jupyter-widgets/base",
            "_model_module_version": "1.5.0",
            "_view_count": null,
            "_view_module_version": "1.2.0",
            "_model_module": "@jupyter-widgets/controls"
          }
        },
        "14f46ff6954840a7a76b7a5de5657bfa": {
          "model_module": "@jupyter-widgets/base",
          "model_name": "LayoutModel",
          "state": {
            "_view_name": "LayoutView",
            "grid_template_rows": null,
            "right": null,
            "justify_content": null,
            "_view_module": "@jupyter-widgets/base",
            "overflow": null,
            "_model_module_version": "1.2.0",
            "_view_count": null,
            "flex_flow": null,
            "width": "100%",
            "min_width": null,
            "border": null,
            "align_items": null,
            "bottom": null,
            "_model_module": "@jupyter-widgets/base",
            "top": null,
            "grid_column": null,
            "overflow_y": null,
            "overflow_x": null,
            "grid_auto_flow": null,
            "grid_area": null,
            "grid_template_columns": null,
            "flex": null,
            "_model_name": "LayoutModel",
            "justify_items": null,
            "grid_row": null,
            "max_height": null,
            "align_content": null,
            "visibility": null,
            "align_self": null,
            "height": null,
            "min_height": null,
            "padding": null,
            "grid_auto_rows": null,
            "grid_gap": null,
            "max_width": null,
            "order": null,
            "_view_module_version": "1.2.0",
            "grid_template_areas": null,
            "object_position": null,
            "object_fit": null,
            "grid_auto_columns": null,
            "margin": null,
            "display": null,
            "left": null
          }
        }
      }
    }
  },
  "cells": [
    {
      "cell_type": "markdown",
      "metadata": {
        "id": "view-in-github",
        "colab_type": "text"
      },
      "source": [
        "<a href=\"https://colab.research.google.com/github/IEXE-Tec/aprendizaje-maquina-2/blob/master/07_NLP.ipynb\" target=\"_parent\"><img src=\"https://colab.research.google.com/assets/colab-badge.svg\" alt=\"Open In Colab\"/></a>"
      ]
    },
    {
      "cell_type": "markdown",
      "metadata": {
        "id": "kECscepGtsRT"
      },
      "source": [
        "Installing pycaret library:\n",
        "+ https://towardsdatascience.com/announcing-pycaret-2-0-39c11014540e \n",
        "+ https://pycaret.org/\n"
      ]
    },
    {
      "cell_type": "code",
      "metadata": {
        "id": "j_4YZ-A-ty8L",
        "outputId": "bf0146bc-b4d1-4d65-bd41-12044ab0c1ed",
        "colab": {
          "base_uri": "https://localhost:8080/"
        }
      },
      "source": [
        "!pip install pycaret"
      ],
      "execution_count": 1,
      "outputs": [
        {
          "output_type": "stream",
          "text": [
            "Collecting pycaret\n",
            "\u001b[?25l  Downloading https://files.pythonhosted.org/packages/40/52/d7f6dec043a656af042f68c04c6e7d1d29258747a6535dc6b5930e772f78/pycaret-2.2-py3-none-any.whl (248kB)\n",
            "\u001b[K     |████████████████████████████████| 256kB 2.8MB/s \n",
            "\u001b[?25hCollecting scikit-learn>=0.23.2\n",
            "\u001b[?25l  Downloading https://files.pythonhosted.org/packages/5c/a1/273def87037a7fb010512bbc5901c31cfddfca8080bc63b42b26e3cc55b3/scikit_learn-0.23.2-cp36-cp36m-manylinux1_x86_64.whl (6.8MB)\n",
            "\u001b[K     |████████████████████████████████| 6.8MB 8.1MB/s \n",
            "\u001b[?25hCollecting scikit-plot\n",
            "  Downloading https://files.pythonhosted.org/packages/7c/47/32520e259340c140a4ad27c1b97050dd3254fdc517b1d59974d47037510e/scikit_plot-0.3.7-py3-none-any.whl\n",
            "Requirement already satisfied: mlxtend in /usr/local/lib/python3.6/dist-packages (from pycaret) (0.14.0)\n",
            "Requirement already satisfied: pandas in /usr/local/lib/python3.6/dist-packages (from pycaret) (1.1.3)\n",
            "Collecting pandas-profiling>=2.8.0\n",
            "\u001b[?25l  Downloading https://files.pythonhosted.org/packages/32/79/5d03ed1172e3e67a997a6a795bcdd2ab58f84851969d01a91455383795b6/pandas_profiling-2.9.0-py2.py3-none-any.whl (258kB)\n",
            "\u001b[K     |████████████████████████████████| 266kB 43.2MB/s \n",
            "\u001b[?25hRequirement already satisfied: textblob in /usr/local/lib/python3.6/dist-packages (from pycaret) (0.15.3)\n",
            "Requirement already satisfied: matplotlib in /usr/local/lib/python3.6/dist-packages (from pycaret) (3.2.2)\n",
            "Requirement already satisfied: ipywidgets in /usr/local/lib/python3.6/dist-packages (from pycaret) (7.5.1)\n",
            "Requirement already satisfied: wordcloud in /usr/local/lib/python3.6/dist-packages (from pycaret) (1.5.0)\n",
            "Collecting pyLDAvis\n",
            "\u001b[?25l  Downloading https://files.pythonhosted.org/packages/a5/3a/af82e070a8a96e13217c8f362f9a73e82d61ac8fff3a2561946a97f96266/pyLDAvis-2.1.2.tar.gz (1.6MB)\n",
            "\u001b[K     |████████████████████████████████| 1.6MB 24.1MB/s \n",
            "\u001b[?25hCollecting lightgbm>=2.3.1\n",
            "\u001b[?25l  Downloading https://files.pythonhosted.org/packages/25/47/f8ef524e15ff86f5246cb4e1cee200b747ddb2536429fa021cc5f17ea40a/lightgbm-3.0.0-py2.py3-none-manylinux1_x86_64.whl (1.7MB)\n",
            "\u001b[K     |████████████████████████████████| 1.8MB 35.1MB/s \n",
            "\u001b[?25hCollecting imbalanced-learn>=0.7.0\n",
            "\u001b[?25l  Downloading https://files.pythonhosted.org/packages/c8/81/8db4d87b03b998fda7c6f835d807c9ae4e3b141f978597b8d7f31600be15/imbalanced_learn-0.7.0-py3-none-any.whl (167kB)\n",
            "\u001b[K     |████████████████████████████████| 174kB 35.5MB/s \n",
            "\u001b[?25hRequirement already satisfied: nltk in /usr/local/lib/python3.6/dist-packages (from pycaret) (3.2.5)\n",
            "Requirement already satisfied: seaborn in /usr/local/lib/python3.6/dist-packages (from pycaret) (0.11.0)\n",
            "Requirement already satisfied: plotly>=4.4.1 in /usr/local/lib/python3.6/dist-packages (from pycaret) (4.4.1)\n",
            "Requirement already satisfied: cufflinks>=0.17.0 in /usr/local/lib/python3.6/dist-packages (from pycaret) (0.17.3)\n",
            "Requirement already satisfied: IPython in /usr/local/lib/python3.6/dist-packages (from pycaret) (5.5.0)\n",
            "Collecting yellowbrick>=1.0.1\n",
            "\u001b[?25l  Downloading https://files.pythonhosted.org/packages/1f/ad/ae6744ddb9c7053916bed95430152b9a41b7d410e16a1cc7cd744a611d90/yellowbrick-1.2-py3-none-any.whl (269kB)\n",
            "\u001b[K     |████████████████████████████████| 276kB 41.4MB/s \n",
            "\u001b[?25hRequirement already satisfied: umap-learn in /usr/local/lib/python3.6/dist-packages (from pycaret) (0.4.6)\n",
            "Collecting mlflow\n",
            "\u001b[?25l  Downloading https://files.pythonhosted.org/packages/aa/2d/7fa1f6e310ded489d943ea20cd7977a9867cb8d81b526d9c9460ce4a5b39/mlflow-1.11.0-py3-none-any.whl (13.9MB)\n",
            "\u001b[K     |████████████████████████████████| 13.9MB 329kB/s \n",
            "\u001b[?25hRequirement already satisfied: spacy in /usr/local/lib/python3.6/dist-packages (from pycaret) (2.2.4)\n",
            "Requirement already satisfied: gensim in /usr/local/lib/python3.6/dist-packages (from pycaret) (3.6.0)\n",
            "Collecting xgboost>=1.1.0\n",
            "\u001b[?25l  Downloading https://files.pythonhosted.org/packages/35/cc/fd3d5fc6b6616a03385a0f6492cc77a253940d1026406ecc07597095e381/xgboost-1.2.1-py3-none-manylinux2010_x86_64.whl (148.9MB)\n",
            "\u001b[K     |████████████████████████████████| 148.9MB 69kB/s \n",
            "\u001b[?25hRequirement already satisfied: joblib in /usr/local/lib/python3.6/dist-packages (from pycaret) (0.17.0)\n",
            "Requirement already satisfied: numpy>=1.17 in /usr/local/lib/python3.6/dist-packages (from pycaret) (1.18.5)\n",
            "Collecting pyod\n",
            "\u001b[?25l  Downloading https://files.pythonhosted.org/packages/a3/4b/d2edd1e85b132d480feced17f044267b3e330391240779d78b1c3d378b24/pyod-0.8.3.tar.gz (96kB)\n",
            "\u001b[K     |████████████████████████████████| 102kB 9.7MB/s \n",
            "\u001b[?25hCollecting catboost>=0.23.2\n",
            "\u001b[?25l  Downloading https://files.pythonhosted.org/packages/52/39/128fff65072c8327371e3c594f3c826d29c85b21cb6485980353b168e0e4/catboost-0.24.2-cp36-none-manylinux1_x86_64.whl (66.1MB)\n",
            "\u001b[K     |████████████████████████████████| 66.2MB 55kB/s \n",
            "\u001b[?25hCollecting kmodes>=0.10.1\n",
            "  Downloading https://files.pythonhosted.org/packages/b2/55/d8ec1ae1f7e1e202a8a4184c6852a3ee993b202b0459672c699d0ac18fc8/kmodes-0.10.2-py2.py3-none-any.whl\n",
            "Collecting threadpoolctl>=2.0.0\n",
            "  Downloading https://files.pythonhosted.org/packages/f7/12/ec3f2e203afa394a149911729357aa48affc59c20e2c1c8297a60f33f133/threadpoolctl-2.1.0-py3-none-any.whl\n",
            "Requirement already satisfied: scipy>=0.19.1 in /usr/local/lib/python3.6/dist-packages (from scikit-learn>=0.23.2->pycaret) (1.4.1)\n",
            "Requirement already satisfied: setuptools in /usr/local/lib/python3.6/dist-packages (from mlxtend->pycaret) (50.3.2)\n",
            "Requirement already satisfied: pytz>=2017.2 in /usr/local/lib/python3.6/dist-packages (from pandas->pycaret) (2018.9)\n",
            "Requirement already satisfied: python-dateutil>=2.7.3 in /usr/local/lib/python3.6/dist-packages (from pandas->pycaret) (2.8.1)\n",
            "Requirement already satisfied: jinja2>=2.11.1 in /usr/local/lib/python3.6/dist-packages (from pandas-profiling>=2.8.0->pycaret) (2.11.2)\n",
            "Collecting tqdm>=4.43.0\n",
            "\u001b[?25l  Downloading https://files.pythonhosted.org/packages/93/3a/96b3dc293aa72443cf9627444c3c221a7ba34bb622e4d8bf1b5d4f2d9d08/tqdm-4.51.0-py2.py3-none-any.whl (70kB)\n",
            "\u001b[K     |████████████████████████████████| 71kB 7.4MB/s \n",
            "\u001b[?25hCollecting confuse>=1.0.0\n",
            "\u001b[?25l  Downloading https://files.pythonhosted.org/packages/b5/6d/bedc0d1068bd244cee05843313cbec6cebb9f01f925538269bababc6d887/confuse-1.3.0-py2.py3-none-any.whl (64kB)\n",
            "\u001b[K     |████████████████████████████████| 71kB 7.3MB/s \n",
            "\u001b[?25hCollecting tangled-up-in-unicode>=0.0.6\n",
            "\u001b[?25l  Downloading https://files.pythonhosted.org/packages/4a/e2/e588ab9298d4989ce7fdb2b97d18aac878d99dbdc379a4476a09d9271b68/tangled_up_in_unicode-0.0.6-py3-none-any.whl (3.1MB)\n",
            "\u001b[K     |████████████████████████████████| 3.1MB 43.5MB/s \n",
            "\u001b[?25hCollecting visions[type_image_path]==0.5.0\n",
            "\u001b[?25l  Downloading https://files.pythonhosted.org/packages/26/e3/9416e94e767d59a86edcbcb8e1c8f42874d272c3b343676074879e9db0e0/visions-0.5.0-py3-none-any.whl (64kB)\n",
            "\u001b[K     |████████████████████████████████| 71kB 8.0MB/s \n",
            "\u001b[?25hRequirement already satisfied: requests>=2.23.0 in /usr/local/lib/python3.6/dist-packages (from pandas-profiling>=2.8.0->pycaret) (2.23.0)\n",
            "Requirement already satisfied: attrs>=19.3.0 in /usr/local/lib/python3.6/dist-packages (from pandas-profiling>=2.8.0->pycaret) (20.2.0)\n",
            "Requirement already satisfied: missingno>=0.4.2 in /usr/local/lib/python3.6/dist-packages (from pandas-profiling>=2.8.0->pycaret) (0.4.2)\n",
            "Collecting htmlmin>=0.1.12\n",
            "  Downloading https://files.pythonhosted.org/packages/b3/e7/fcd59e12169de19f0131ff2812077f964c6b960e7c09804d30a7bf2ab461/htmlmin-0.1.12.tar.gz\n",
            "Collecting phik>=0.9.10\n",
            "\u001b[?25l  Downloading https://files.pythonhosted.org/packages/01/5a/7ef1c04ce62cd72f900c06298dc2385840550d5c653a0dbc19109a5477e6/phik-0.10.0-py3-none-any.whl (599kB)\n",
            "\u001b[K     |████████████████████████████████| 604kB 35.3MB/s \n",
            "\u001b[?25hRequirement already satisfied: cycler>=0.10 in /usr/local/lib/python3.6/dist-packages (from matplotlib->pycaret) (0.10.0)\n",
            "Requirement already satisfied: kiwisolver>=1.0.1 in /usr/local/lib/python3.6/dist-packages (from matplotlib->pycaret) (1.2.0)\n",
            "Requirement already satisfied: pyparsing!=2.0.4,!=2.1.2,!=2.1.6,>=2.0.1 in /usr/local/lib/python3.6/dist-packages (from matplotlib->pycaret) (2.4.7)\n",
            "Requirement already satisfied: widgetsnbextension~=3.5.0 in /usr/local/lib/python3.6/dist-packages (from ipywidgets->pycaret) (3.5.1)\n",
            "Requirement already satisfied: ipykernel>=4.5.1 in /usr/local/lib/python3.6/dist-packages (from ipywidgets->pycaret) (4.10.1)\n",
            "Requirement already satisfied: traitlets>=4.3.1 in /usr/local/lib/python3.6/dist-packages (from ipywidgets->pycaret) (4.3.3)\n",
            "Requirement already satisfied: nbformat>=4.2.0 in /usr/local/lib/python3.6/dist-packages (from ipywidgets->pycaret) (5.0.8)\n",
            "Requirement already satisfied: pillow in /usr/local/lib/python3.6/dist-packages (from wordcloud->pycaret) (7.0.0)\n",
            "Requirement already satisfied: wheel>=0.23.0 in /usr/local/lib/python3.6/dist-packages (from pyLDAvis->pycaret) (0.35.1)\n",
            "Requirement already satisfied: numexpr in /usr/local/lib/python3.6/dist-packages (from pyLDAvis->pycaret) (2.7.1)\n",
            "Requirement already satisfied: pytest in /usr/local/lib/python3.6/dist-packages (from pyLDAvis->pycaret) (3.6.4)\n",
            "Requirement already satisfied: future in /usr/local/lib/python3.6/dist-packages (from pyLDAvis->pycaret) (0.16.0)\n",
            "Collecting funcy\n",
            "\u001b[33m  WARNING: Retrying (Retry(total=4, connect=None, read=None, redirect=None, status=None)) after connection broken by 'ProtocolError('Connection aborted.', ConnectionResetError(104, 'Connection reset by peer'))': /packages/66/89/479de0afbbfb98d1c4b887936808764627300208bb771fcd823403645a36/funcy-1.15-py2.py3-none-any.whl\u001b[0m\n",
            "  Downloading https://files.pythonhosted.org/packages/66/89/479de0afbbfb98d1c4b887936808764627300208bb771fcd823403645a36/funcy-1.15-py2.py3-none-any.whl\n",
            "Requirement already satisfied: six in /usr/local/lib/python3.6/dist-packages (from nltk->pycaret) (1.15.0)\n",
            "Requirement already satisfied: retrying>=1.3.3 in /usr/local/lib/python3.6/dist-packages (from plotly>=4.4.1->pycaret) (1.3.3)\n",
            "Requirement already satisfied: colorlover>=0.2.1 in /usr/local/lib/python3.6/dist-packages (from cufflinks>=0.17.0->pycaret) (0.3.0)\n",
            "Requirement already satisfied: decorator in /usr/local/lib/python3.6/dist-packages (from IPython->pycaret) (4.4.2)\n",
            "Requirement already satisfied: prompt-toolkit<2.0.0,>=1.0.4 in /usr/local/lib/python3.6/dist-packages (from IPython->pycaret) (1.0.18)\n",
            "Requirement already satisfied: pygments in /usr/local/lib/python3.6/dist-packages (from IPython->pycaret) (2.6.1)\n",
            "Requirement already satisfied: pickleshare in /usr/local/lib/python3.6/dist-packages (from IPython->pycaret) (0.7.5)\n",
            "Requirement already satisfied: simplegeneric>0.8 in /usr/local/lib/python3.6/dist-packages (from IPython->pycaret) (0.8.1)\n",
            "Requirement already satisfied: pexpect; sys_platform != \"win32\" in /usr/local/lib/python3.6/dist-packages (from IPython->pycaret) (4.8.0)\n",
            "Requirement already satisfied: numba!=0.47,>=0.46 in /usr/local/lib/python3.6/dist-packages (from umap-learn->pycaret) (0.48.0)\n",
            "Requirement already satisfied: pyyaml in /usr/local/lib/python3.6/dist-packages (from mlflow->pycaret) (3.13)\n",
            "Requirement already satisfied: entrypoints in /usr/local/lib/python3.6/dist-packages (from mlflow->pycaret) (0.3)\n",
            "Requirement already satisfied: sqlparse in /usr/local/lib/python3.6/dist-packages (from mlflow->pycaret) (0.4.1)\n",
            "\u001b[33mWARNING: Retrying (Retry(total=4, connect=None, read=None, redirect=None, status=None)) after connection broken by 'ProtocolError('Connection aborted.', ConnectionResetError(104, 'Connection reset by peer'))': /simple/querystring-parser/\u001b[0m\n",
            "Collecting querystring-parser\n",
            "  Downloading https://files.pythonhosted.org/packages/88/6b/572b2590fd55114118bf08bde63c0a421dcc82d593700f3e2ad89908a8a9/querystring_parser-1.2.4-py2.py3-none-any.whl\n",
            "Requirement already satisfied: Flask in /usr/local/lib/python3.6/dist-packages (from mlflow->pycaret) (1.1.2)\n",
            "Collecting gorilla\n",
            "  Downloading https://files.pythonhosted.org/packages/e3/56/5a683944cbfc77e429c6f03c636ca50504a785f60ffae91ddd7f5f7bb520/gorilla-0.3.0-py2.py3-none-any.whl\n",
            "Requirement already satisfied: cloudpickle in /usr/local/lib/python3.6/dist-packages (from mlflow->pycaret) (1.3.0)\n",
            "Collecting sqlalchemy<=1.3.13\n",
            "\u001b[?25l  Downloading https://files.pythonhosted.org/packages/af/47/35edeb0f86c0b44934c05d961c893e223ef27e79e1f53b5e6f14820ff553/SQLAlchemy-1.3.13.tar.gz (6.0MB)\n",
            "\u001b[K     |████████████████████████████████| 6.0MB 5.3MB/s \n",
            "\u001b[?25hCollecting prometheus-flask-exporter\n",
            "  Downloading https://files.pythonhosted.org/packages/4c/d5/8a046d683c2cc084b6a502812827ede69b1064f95d93f94b83f809b21723/prometheus_flask_exporter-0.18.1.tar.gz\n",
            "Requirement already satisfied: click>=7.0 in /usr/local/lib/python3.6/dist-packages (from mlflow->pycaret) (7.1.2)\n",
            "Collecting databricks-cli>=0.8.7\n",
            "\u001b[?25l  Downloading https://files.pythonhosted.org/packages/20/d9/01d0bda8d764be9e7448a41c34eec002e67e88e0d558b80d0ba922b4f7f0/databricks-cli-0.13.0.tar.gz (54kB)\n",
            "\u001b[K     |████████████████████████████████| 61kB 7.8MB/s \n",
            "\u001b[?25hCollecting azure-storage-blob>=12.0\n",
            "\u001b[?25l  Downloading https://files.pythonhosted.org/packages/b8/84/7e51b3e1156bcb89a20b9ec641d4fced4800aa79daac3a403898c32046be/azure_storage_blob-12.5.0-py2.py3-none-any.whl (326kB)\n",
            "\u001b[K     |████████████████████████████████| 327kB 36.2MB/s \n",
            "\u001b[?25hCollecting alembic<=1.4.1\n",
            "\u001b[?25l  Downloading https://files.pythonhosted.org/packages/e0/e9/359dbb77c35c419df0aedeb1d53e71e7e3f438ff64a8fdb048c907404de3/alembic-1.4.1.tar.gz (1.1MB)\n",
            "\u001b[K     |████████████████████████████████| 1.1MB 46.5MB/s \n",
            "\u001b[?25hCollecting gitpython>=2.1.0\n",
            "\u001b[?25l  Downloading https://files.pythonhosted.org/packages/24/d1/a7f8fe3df258549b303415157328bfcc63e9b11d06a7ad7a3327f3d32606/GitPython-3.1.11-py3-none-any.whl (159kB)\n",
            "\u001b[K     |████████████████████████████████| 163kB 42.3MB/s \n",
            "\u001b[?25hCollecting docker>=4.0.0\n",
            "\u001b[?25l  Downloading https://files.pythonhosted.org/packages/9e/8c/8d42dbd83679483db207535f4fb02dc84325fa78b290f057694b057fcd21/docker-4.3.1-py2.py3-none-any.whl (145kB)\n",
            "\u001b[K     |████████████████████████████████| 153kB 43.6MB/s \n",
            "\u001b[?25hRequirement already satisfied: protobuf>=3.6.0 in /usr/local/lib/python3.6/dist-packages (from mlflow->pycaret) (3.12.4)\n",
            "Collecting gunicorn; platform_system != \"Windows\"\n",
            "\u001b[?25l  Downloading https://files.pythonhosted.org/packages/69/ca/926f7cd3a2014b16870086b2d0fdc84a9e49473c68a8dff8b57f7c156f43/gunicorn-20.0.4-py2.py3-none-any.whl (77kB)\n",
            "\u001b[K     |████████████████████████████████| 81kB 9.1MB/s \n",
            "\u001b[?25hRequirement already satisfied: blis<0.5.0,>=0.4.0 in /usr/local/lib/python3.6/dist-packages (from spacy->pycaret) (0.4.1)\n",
            "Requirement already satisfied: catalogue<1.1.0,>=0.0.7 in /usr/local/lib/python3.6/dist-packages (from spacy->pycaret) (1.0.0)\n",
            "Requirement already satisfied: srsly<1.1.0,>=1.0.2 in /usr/local/lib/python3.6/dist-packages (from spacy->pycaret) (1.0.2)\n",
            "Requirement already satisfied: plac<1.2.0,>=0.9.6 in /usr/local/lib/python3.6/dist-packages (from spacy->pycaret) (1.1.3)\n",
            "Requirement already satisfied: thinc==7.4.0 in /usr/local/lib/python3.6/dist-packages (from spacy->pycaret) (7.4.0)\n",
            "Requirement already satisfied: murmurhash<1.1.0,>=0.28.0 in /usr/local/lib/python3.6/dist-packages (from spacy->pycaret) (1.0.2)\n",
            "Requirement already satisfied: cymem<2.1.0,>=2.0.2 in /usr/local/lib/python3.6/dist-packages (from spacy->pycaret) (2.0.3)\n",
            "Requirement already satisfied: preshed<3.1.0,>=3.0.2 in /usr/local/lib/python3.6/dist-packages (from spacy->pycaret) (3.0.2)\n",
            "Requirement already satisfied: wasabi<1.1.0,>=0.4.0 in /usr/local/lib/python3.6/dist-packages (from spacy->pycaret) (0.8.0)\n",
            "Requirement already satisfied: smart-open>=1.2.1 in /usr/local/lib/python3.6/dist-packages (from gensim->pycaret) (3.0.0)\n",
            "Collecting combo\n",
            "  Downloading https://files.pythonhosted.org/packages/0a/2a/61b6ac584e75d8df16dc27962aa5fe99d76b09da5b6710e83d4862c84001/combo-0.1.1.tar.gz\n",
            "Requirement already satisfied: statsmodels in /usr/local/lib/python3.6/dist-packages (from pyod->pycaret) (0.10.2)\n",
            "Collecting suod\n",
            "\u001b[?25l  Downloading https://files.pythonhosted.org/packages/a1/87/9170cabe1b5e10a7d095c0e28f2e30e7c1886a13f063de85d3cfacc06f4b/suod-0.0.4.tar.gz (2.1MB)\n",
            "\u001b[K     |████████████████████████████████| 2.1MB 40.5MB/s \n",
            "\u001b[?25hRequirement already satisfied: graphviz in /usr/local/lib/python3.6/dist-packages (from catboost>=0.23.2->pycaret) (0.10.1)\n",
            "Requirement already satisfied: MarkupSafe>=0.23 in /usr/local/lib/python3.6/dist-packages (from jinja2>=2.11.1->pandas-profiling>=2.8.0->pycaret) (1.1.1)\n",
            "Requirement already satisfied: networkx>=2.4 in /usr/local/lib/python3.6/dist-packages (from visions[type_image_path]==0.5.0->pandas-profiling>=2.8.0->pycaret) (2.5)\n",
            "Collecting imagehash; extra == \"type_image_path\"\n",
            "\u001b[?25l  Downloading https://files.pythonhosted.org/packages/1a/5d/cc81830be3c4705a46cdbca74439b67f1017881383ba0127c41c4cecb7b3/ImageHash-4.1.0.tar.gz (291kB)\n",
            "\u001b[K     |████████████████████████████████| 296kB 38.4MB/s \n",
            "\u001b[?25hRequirement already satisfied: certifi>=2017.4.17 in /usr/local/lib/python3.6/dist-packages (from requests>=2.23.0->pandas-profiling>=2.8.0->pycaret) (2020.6.20)\n",
            "Requirement already satisfied: idna<3,>=2.5 in /usr/local/lib/python3.6/dist-packages (from requests>=2.23.0->pandas-profiling>=2.8.0->pycaret) (2.10)\n",
            "Requirement already satisfied: chardet<4,>=3.0.2 in /usr/local/lib/python3.6/dist-packages (from requests>=2.23.0->pandas-profiling>=2.8.0->pycaret) (3.0.4)\n",
            "Requirement already satisfied: urllib3!=1.25.0,!=1.25.1,<1.26,>=1.21.1 in /usr/local/lib/python3.6/dist-packages (from requests>=2.23.0->pandas-profiling>=2.8.0->pycaret) (1.24.3)\n",
            "Requirement already satisfied: notebook>=4.4.1 in /usr/local/lib/python3.6/dist-packages (from widgetsnbextension~=3.5.0->ipywidgets->pycaret) (5.3.1)\n",
            "Requirement already satisfied: jupyter-client in /usr/local/lib/python3.6/dist-packages (from ipykernel>=4.5.1->ipywidgets->pycaret) (5.3.5)\n",
            "Requirement already satisfied: tornado>=4.0 in /usr/local/lib/python3.6/dist-packages (from ipykernel>=4.5.1->ipywidgets->pycaret) (5.1.1)\n",
            "Requirement already satisfied: ipython-genutils in /usr/local/lib/python3.6/dist-packages (from traitlets>=4.3.1->ipywidgets->pycaret) (0.2.0)\n",
            "Requirement already satisfied: jsonschema!=2.5.0,>=2.4 in /usr/local/lib/python3.6/dist-packages (from nbformat>=4.2.0->ipywidgets->pycaret) (2.6.0)\n",
            "Requirement already satisfied: jupyter-core in /usr/local/lib/python3.6/dist-packages (from nbformat>=4.2.0->ipywidgets->pycaret) (4.6.3)\n",
            "Requirement already satisfied: more-itertools>=4.0.0 in /usr/local/lib/python3.6/dist-packages (from pytest->pyLDAvis->pycaret) (8.5.0)\n",
            "Requirement already satisfied: py>=1.5.0 in /usr/local/lib/python3.6/dist-packages (from pytest->pyLDAvis->pycaret) (1.9.0)\n",
            "Requirement already satisfied: atomicwrites>=1.0 in /usr/local/lib/python3.6/dist-packages (from pytest->pyLDAvis->pycaret) (1.4.0)\n",
            "Requirement already satisfied: pluggy<0.8,>=0.5 in /usr/local/lib/python3.6/dist-packages (from pytest->pyLDAvis->pycaret) (0.7.1)\n",
            "Requirement already satisfied: wcwidth in /usr/local/lib/python3.6/dist-packages (from prompt-toolkit<2.0.0,>=1.0.4->IPython->pycaret) (0.2.5)\n",
            "Requirement already satisfied: ptyprocess>=0.5 in /usr/local/lib/python3.6/dist-packages (from pexpect; sys_platform != \"win32\"->IPython->pycaret) (0.6.0)\n",
            "Requirement already satisfied: llvmlite<0.32.0,>=0.31.0dev0 in /usr/local/lib/python3.6/dist-packages (from numba!=0.47,>=0.46->umap-learn->pycaret) (0.31.0)\n",
            "Requirement already satisfied: itsdangerous>=0.24 in /usr/local/lib/python3.6/dist-packages (from Flask->mlflow->pycaret) (1.1.0)\n",
            "Requirement already satisfied: Werkzeug>=0.15 in /usr/local/lib/python3.6/dist-packages (from Flask->mlflow->pycaret) (1.0.1)\n",
            "Requirement already satisfied: prometheus_client in /usr/local/lib/python3.6/dist-packages (from prometheus-flask-exporter->mlflow->pycaret) (0.8.0)\n",
            "Requirement already satisfied: tabulate>=0.7.7 in /usr/local/lib/python3.6/dist-packages (from databricks-cli>=0.8.7->mlflow->pycaret) (0.8.7)\n",
            "Collecting msrest>=0.6.10\n",
            "\u001b[?25l  Downloading https://files.pythonhosted.org/packages/fa/f5/9e315fe8cb985b0ce052b34bcb767883dc739f46fadb62f05a7e6d6eedbe/msrest-0.6.19-py2.py3-none-any.whl (84kB)\n",
            "\u001b[K     |████████████████████████████████| 92kB 10.3MB/s \n",
            "\u001b[?25hCollecting azure-core<2.0.0,>=1.6.0\n",
            "\u001b[?25l  Downloading https://files.pythonhosted.org/packages/4c/fa/46974f4a7ad78b27e3eda8a573cc0c2508849f0d7d360b61c07cc5b46014/azure_core-1.8.2-py2.py3-none-any.whl (122kB)\n",
            "\u001b[K     |████████████████████████████████| 122kB 34.2MB/s \n",
            "\u001b[?25hCollecting cryptography>=2.1.4\n",
            "\u001b[?25l  Downloading https://files.pythonhosted.org/packages/4c/a2/6565c5271a79e3c96d7a079053b4d8408a740d4bf365f0f5f244a807bd09/cryptography-3.2.1-cp35-abi3-manylinux2010_x86_64.whl (2.6MB)\n",
            "\u001b[K     |████████████████████████████████| 2.6MB 33.0MB/s \n",
            "\u001b[?25hCollecting Mako\n",
            "\u001b[?25l  Downloading https://files.pythonhosted.org/packages/a6/37/0e706200d22172eb8fa17d68a7ae22dec7631a0a92266634fb518a88a5b2/Mako-1.1.3-py2.py3-none-any.whl (75kB)\n",
            "\u001b[K     |████████████████████████████████| 81kB 7.6MB/s \n",
            "\u001b[?25hCollecting python-editor>=0.3\n",
            "  Downloading https://files.pythonhosted.org/packages/c6/d3/201fc3abe391bbae6606e6f1d598c15d367033332bd54352b12f35513717/python_editor-1.0.4-py3-none-any.whl\n",
            "Collecting gitdb<5,>=4.0.1\n",
            "\u001b[?25l  Downloading https://files.pythonhosted.org/packages/48/11/d1800bca0a3bae820b84b7d813ad1eff15a48a64caea9c823fc8c1b119e8/gitdb-4.0.5-py3-none-any.whl (63kB)\n",
            "\u001b[K     |████████████████████████████████| 71kB 8.0MB/s \n",
            "\u001b[?25hCollecting websocket-client>=0.32.0\n",
            "\u001b[?25l  Downloading https://files.pythonhosted.org/packages/4c/5f/f61b420143ed1c8dc69f9eaec5ff1ac36109d52c80de49d66e0c36c3dfdf/websocket_client-0.57.0-py2.py3-none-any.whl (200kB)\n",
            "\u001b[K     |████████████████████████████████| 204kB 35.6MB/s \n",
            "\u001b[?25hRequirement already satisfied: importlib-metadata>=0.20; python_version < \"3.8\" in /usr/local/lib/python3.6/dist-packages (from catalogue<1.1.0,>=0.0.7->spacy->pycaret) (2.0.0)\n",
            "Requirement already satisfied: patsy>=0.4.0 in /usr/local/lib/python3.6/dist-packages (from statsmodels->pyod->pycaret) (0.5.1)\n",
            "Requirement already satisfied: PyWavelets in /usr/local/lib/python3.6/dist-packages (from imagehash; extra == \"type_image_path\"->visions[type_image_path]==0.5.0->pandas-profiling>=2.8.0->pycaret) (1.1.1)\n",
            "Requirement already satisfied: terminado>=0.8.1 in /usr/local/lib/python3.6/dist-packages (from notebook>=4.4.1->widgetsnbextension~=3.5.0->ipywidgets->pycaret) (0.9.1)\n",
            "Requirement already satisfied: nbconvert in /usr/local/lib/python3.6/dist-packages (from notebook>=4.4.1->widgetsnbextension~=3.5.0->ipywidgets->pycaret) (5.6.1)\n",
            "Requirement already satisfied: Send2Trash in /usr/local/lib/python3.6/dist-packages (from notebook>=4.4.1->widgetsnbextension~=3.5.0->ipywidgets->pycaret) (1.5.0)\n",
            "Requirement already satisfied: pyzmq>=13 in /usr/local/lib/python3.6/dist-packages (from jupyter-client->ipykernel>=4.5.1->ipywidgets->pycaret) (19.0.2)\n",
            "Requirement already satisfied: requests-oauthlib>=0.5.0 in /usr/local/lib/python3.6/dist-packages (from msrest>=0.6.10->azure-storage-blob>=12.0->mlflow->pycaret) (1.3.0)\n",
            "Collecting isodate>=0.6.0\n",
            "\u001b[?25l  Downloading https://files.pythonhosted.org/packages/9b/9f/b36f7774ff5ea8e428fdcfc4bb332c39ee5b9362ddd3d40d9516a55221b2/isodate-0.6.0-py2.py3-none-any.whl (45kB)\n",
            "\u001b[K     |████████████████████████████████| 51kB 5.9MB/s \n",
            "\u001b[?25hRequirement already satisfied: cffi!=1.11.3,>=1.8 in /usr/local/lib/python3.6/dist-packages (from cryptography>=2.1.4->azure-storage-blob>=12.0->mlflow->pycaret) (1.14.3)\n",
            "Collecting smmap<4,>=3.0.1\n",
            "  Downloading https://files.pythonhosted.org/packages/b0/9a/4d409a6234eb940e6a78dfdfc66156e7522262f5f2fecca07dc55915952d/smmap-3.0.4-py2.py3-none-any.whl\n",
            "Requirement already satisfied: zipp>=0.5 in /usr/local/lib/python3.6/dist-packages (from importlib-metadata>=0.20; python_version < \"3.8\"->catalogue<1.1.0,>=0.0.7->spacy->pycaret) (3.3.1)\n",
            "Requirement already satisfied: mistune<2,>=0.8.1 in /usr/local/lib/python3.6/dist-packages (from nbconvert->notebook>=4.4.1->widgetsnbextension~=3.5.0->ipywidgets->pycaret) (0.8.4)\n",
            "Requirement already satisfied: pandocfilters>=1.4.1 in /usr/local/lib/python3.6/dist-packages (from nbconvert->notebook>=4.4.1->widgetsnbextension~=3.5.0->ipywidgets->pycaret) (1.4.2)\n",
            "Requirement already satisfied: defusedxml in /usr/local/lib/python3.6/dist-packages (from nbconvert->notebook>=4.4.1->widgetsnbextension~=3.5.0->ipywidgets->pycaret) (0.6.0)\n",
            "Requirement already satisfied: testpath in /usr/local/lib/python3.6/dist-packages (from nbconvert->notebook>=4.4.1->widgetsnbextension~=3.5.0->ipywidgets->pycaret) (0.4.4)\n",
            "Requirement already satisfied: bleach in /usr/local/lib/python3.6/dist-packages (from nbconvert->notebook>=4.4.1->widgetsnbextension~=3.5.0->ipywidgets->pycaret) (3.2.1)\n",
            "Requirement already satisfied: oauthlib>=3.0.0 in /usr/local/lib/python3.6/dist-packages (from requests-oauthlib>=0.5.0->msrest>=0.6.10->azure-storage-blob>=12.0->mlflow->pycaret) (3.1.0)\n",
            "Requirement already satisfied: pycparser in /usr/local/lib/python3.6/dist-packages (from cffi!=1.11.3,>=1.8->cryptography>=2.1.4->azure-storage-blob>=12.0->mlflow->pycaret) (2.20)\n",
            "Requirement already satisfied: packaging in /usr/local/lib/python3.6/dist-packages (from bleach->nbconvert->notebook>=4.4.1->widgetsnbextension~=3.5.0->ipywidgets->pycaret) (20.4)\n",
            "Requirement already satisfied: webencodings in /usr/local/lib/python3.6/dist-packages (from bleach->nbconvert->notebook>=4.4.1->widgetsnbextension~=3.5.0->ipywidgets->pycaret) (0.5.1)\n",
            "Building wheels for collected packages: pyLDAvis, pyod, htmlmin, sqlalchemy, prometheus-flask-exporter, databricks-cli, alembic, combo, suod, imagehash\n",
            "  Building wheel for pyLDAvis (setup.py) ... \u001b[?25l\u001b[?25hdone\n",
            "  Created wheel for pyLDAvis: filename=pyLDAvis-2.1.2-py2.py3-none-any.whl size=97712 sha256=4399820c09e9ce22972ba1772efaa34c313a66ad111d526ff584362491f8d5d0\n",
            "  Stored in directory: /root/.cache/pip/wheels/98/71/24/513a99e58bb6b8465bae4d2d5e9dba8f0bef8179e3051ac414\n",
            "  Building wheel for pyod (setup.py) ... \u001b[?25l\u001b[?25hdone\n",
            "  Created wheel for pyod: filename=pyod-0.8.3-cp36-none-any.whl size=110349 sha256=63cd565f890c23d5b1c298ad63330fbdb246b02322b1ed4826982849ecd729d2\n",
            "  Stored in directory: /root/.cache/pip/wheels/29/46/95/86facd235cce1d58ae6747ab1aea2b3742564325a66a60863a\n",
            "  Building wheel for htmlmin (setup.py) ... \u001b[?25l\u001b[?25hdone\n",
            "  Created wheel for htmlmin: filename=htmlmin-0.1.12-cp36-none-any.whl size=27085 sha256=2cfa5a0492f1bcb009357c371edac948587f4a9ca940bcf2caa8a6ed252f7423\n",
            "  Stored in directory: /root/.cache/pip/wheels/43/07/ac/7c5a9d708d65247ac1f94066cf1db075540b85716c30255459\n",
            "  Building wheel for sqlalchemy (setup.py) ... \u001b[?25l\u001b[?25hdone\n",
            "  Created wheel for sqlalchemy: filename=SQLAlchemy-1.3.13-cp36-cp36m-linux_x86_64.whl size=1217148 sha256=e425259b35d3fefb1ed87d8f6b6407fda646bfcb49805d9bf76631622bce5263\n",
            "  Stored in directory: /root/.cache/pip/wheels/b3/35/98/4c9cb3fd63d21d5606b972dd70643769745adf60e622467b71\n",
            "  Building wheel for prometheus-flask-exporter (setup.py) ... \u001b[?25l\u001b[?25hdone\n",
            "  Created wheel for prometheus-flask-exporter: filename=prometheus_flask_exporter-0.18.1-cp36-none-any.whl size=17157 sha256=1e9ea740eea87b847d769bb2f9f09ade36155a1ebc07eda81db38bd92819ead2\n",
            "  Stored in directory: /root/.cache/pip/wheels/b4/1f/b8/66bd9bc3a9d6c6987ff6c4dfeb6f1fe97b5a0e5ed5849c0437\n",
            "  Building wheel for databricks-cli (setup.py) ... \u001b[?25l\u001b[?25hdone\n",
            "  Created wheel for databricks-cli: filename=databricks_cli-0.13.0-cp36-none-any.whl size=100347 sha256=a6b5a3f38371b52e26e20f09e075f482caae2f2281a9a3413bd702af16890a3d\n",
            "  Stored in directory: /root/.cache/pip/wheels/d3/ba/45/11e7abe40b8e21f4aab12a3051e269b24d17f2b288bb7418d5\n",
            "  Building wheel for alembic (setup.py) ... \u001b[?25l\u001b[?25hdone\n",
            "  Created wheel for alembic: filename=alembic-1.4.1-py2.py3-none-any.whl size=158155 sha256=779b54f6aafb3e0bee3bf8b6f6f0cf0608432f7a99df6255e346195c4e28d301\n",
            "  Stored in directory: /root/.cache/pip/wheels/84/07/f7/12f7370ca47a66030c2edeedcc23dec26ea0ac22dcb4c4a0f3\n",
            "  Building wheel for combo (setup.py) ... \u001b[?25l\u001b[?25hdone\n",
            "  Created wheel for combo: filename=combo-0.1.1-cp36-none-any.whl size=42113 sha256=a28c729b6a270e4f43fc6f716c7aad84d8b8d98a4151ce034d929ada42cf7191\n",
            "  Stored in directory: /root/.cache/pip/wheels/55/ec/e5/a2331372c676c467e70c6646e646edf6997d5c4905b8c0f5e6\n",
            "  Building wheel for suod (setup.py) ... \u001b[?25l\u001b[?25hdone\n",
            "  Created wheel for suod: filename=suod-0.0.4-cp36-none-any.whl size=2167158 sha256=7959279c64d6815d93dde47017abfd0da273cfb096e41aabbc41aefe0e1634ba\n",
            "  Stored in directory: /root/.cache/pip/wheels/57/55/e5/a4fca65bba231f6d0115059b589148774b41faea25b3f2aa27\n",
            "  Building wheel for imagehash (setup.py) ... \u001b[?25l\u001b[?25hdone\n",
            "  Created wheel for imagehash: filename=ImageHash-4.1.0-py2.py3-none-any.whl size=291991 sha256=9f579b9de14799b9297b15367450edb098d382965813bddbaaa9faec2b69d751\n",
            "  Stored in directory: /root/.cache/pip/wheels/07/1c/dc/6831446f09feb8cc199ec73a0f2f0703253f6ae013a22f4be9\n",
            "Successfully built pyLDAvis pyod htmlmin sqlalchemy prometheus-flask-exporter databricks-cli alembic combo suod imagehash\n",
            "Installing collected packages: threadpoolctl, scikit-learn, scikit-plot, tqdm, confuse, tangled-up-in-unicode, imagehash, visions, htmlmin, phik, pandas-profiling, funcy, pyLDAvis, lightgbm, imbalanced-learn, yellowbrick, querystring-parser, gorilla, sqlalchemy, prometheus-flask-exporter, databricks-cli, isodate, msrest, azure-core, cryptography, azure-storage-blob, Mako, python-editor, alembic, smmap, gitdb, gitpython, websocket-client, docker, gunicorn, mlflow, xgboost, combo, suod, pyod, catboost, kmodes, pycaret\n",
            "  Found existing installation: scikit-learn 0.22.2.post1\n",
            "    Uninstalling scikit-learn-0.22.2.post1:\n",
            "      Successfully uninstalled scikit-learn-0.22.2.post1\n",
            "  Found existing installation: tqdm 4.41.1\n",
            "    Uninstalling tqdm-4.41.1:\n",
            "      Successfully uninstalled tqdm-4.41.1\n",
            "  Found existing installation: pandas-profiling 1.4.1\n",
            "    Uninstalling pandas-profiling-1.4.1:\n",
            "      Successfully uninstalled pandas-profiling-1.4.1\n",
            "  Found existing installation: lightgbm 2.2.3\n",
            "    Uninstalling lightgbm-2.2.3:\n",
            "      Successfully uninstalled lightgbm-2.2.3\n",
            "  Found existing installation: imbalanced-learn 0.4.3\n",
            "    Uninstalling imbalanced-learn-0.4.3:\n",
            "      Successfully uninstalled imbalanced-learn-0.4.3\n",
            "  Found existing installation: yellowbrick 0.9.1\n",
            "    Uninstalling yellowbrick-0.9.1:\n",
            "      Successfully uninstalled yellowbrick-0.9.1\n",
            "  Found existing installation: SQLAlchemy 1.3.20\n",
            "    Uninstalling SQLAlchemy-1.3.20:\n",
            "      Successfully uninstalled SQLAlchemy-1.3.20\n",
            "  Found existing installation: xgboost 0.90\n",
            "    Uninstalling xgboost-0.90:\n",
            "      Successfully uninstalled xgboost-0.90\n",
            "Successfully installed Mako-1.1.3 alembic-1.4.1 azure-core-1.8.2 azure-storage-blob-12.5.0 catboost-0.24.2 combo-0.1.1 confuse-1.3.0 cryptography-3.2.1 databricks-cli-0.13.0 docker-4.3.1 funcy-1.15 gitdb-4.0.5 gitpython-3.1.11 gorilla-0.3.0 gunicorn-20.0.4 htmlmin-0.1.12 imagehash-4.1.0 imbalanced-learn-0.7.0 isodate-0.6.0 kmodes-0.10.2 lightgbm-3.0.0 mlflow-1.11.0 msrest-0.6.19 pandas-profiling-2.9.0 phik-0.10.0 prometheus-flask-exporter-0.18.1 pyLDAvis-2.1.2 pycaret-2.2 pyod-0.8.3 python-editor-1.0.4 querystring-parser-1.2.4 scikit-learn-0.23.2 scikit-plot-0.3.7 smmap-3.0.4 sqlalchemy-1.3.13 suod-0.0.4 tangled-up-in-unicode-0.0.6 threadpoolctl-2.1.0 tqdm-4.51.0 visions-0.5.0 websocket-client-0.57.0 xgboost-1.2.1 yellowbrick-1.2\n"
          ],
          "name": "stdout"
        }
      ]
    },
    {
      "cell_type": "code",
      "metadata": {
        "id": "FUw9jGQ6e8zi",
        "outputId": "ef6b761c-cf80-4c7a-ee57-47a7a4eae15c",
        "colab": {
          "base_uri": "https://localhost:8080/",
          "height": 37
        }
      },
      "source": [
        "from pycaret.utils import version\n",
        "version()"
      ],
      "execution_count": 2,
      "outputs": [
        {
          "output_type": "execute_result",
          "data": {
            "application/vnd.google.colaboratory.intrinsic+json": {
              "type": "string"
            },
            "text/plain": [
              "'2.2.0'"
            ]
          },
          "metadata": {
            "tags": []
          },
          "execution_count": 2
        }
      ]
    },
    {
      "cell_type": "markdown",
      "metadata": {
        "id": "oA99ILJFHqa3"
      },
      "source": [
        "Installing Autocorrect:\n",
        "+ https://github.com/phatpiglet/autocorrect\n"
      ]
    },
    {
      "cell_type": "code",
      "metadata": {
        "id": "LX_UZpHaHtYN",
        "outputId": "874353cb-706b-4725-b59b-2d0c809dd7cc",
        "colab": {
          "base_uri": "https://localhost:8080/"
        }
      },
      "source": [
        "!pip install autocorrect"
      ],
      "execution_count": 3,
      "outputs": [
        {
          "output_type": "stream",
          "text": [
            "Collecting autocorrect\n",
            "\u001b[?25l  Downloading https://files.pythonhosted.org/packages/a0/71/eb8c1f83439dfe6cbe1edb03be1f1110b242503b61950e7c292dd557c23e/autocorrect-2.2.2.tar.gz (621kB)\n",
            "\r\u001b[K     |▌                               | 10kB 13.1MB/s eta 0:00:01\r\u001b[K     |█                               | 20kB 1.6MB/s eta 0:00:01\r\u001b[K     |█▋                              | 30kB 2.2MB/s eta 0:00:01\r\u001b[K     |██                              | 40kB 2.4MB/s eta 0:00:01\r\u001b[K     |██▋                             | 51kB 1.9MB/s eta 0:00:01\r\u001b[K     |███▏                            | 61kB 2.1MB/s eta 0:00:01\r\u001b[K     |███▊                            | 71kB 2.3MB/s eta 0:00:01\r\u001b[K     |████▏                           | 81kB 2.5MB/s eta 0:00:01\r\u001b[K     |████▊                           | 92kB 2.7MB/s eta 0:00:01\r\u001b[K     |█████▎                          | 102kB 2.6MB/s eta 0:00:01\r\u001b[K     |█████▉                          | 112kB 2.6MB/s eta 0:00:01\r\u001b[K     |██████▎                         | 122kB 2.6MB/s eta 0:00:01\r\u001b[K     |██████▉                         | 133kB 2.6MB/s eta 0:00:01\r\u001b[K     |███████▍                        | 143kB 2.6MB/s eta 0:00:01\r\u001b[K     |████████                        | 153kB 2.6MB/s eta 0:00:01\r\u001b[K     |████████▍                       | 163kB 2.6MB/s eta 0:00:01\r\u001b[K     |█████████                       | 174kB 2.6MB/s eta 0:00:01\r\u001b[K     |█████████▌                      | 184kB 2.6MB/s eta 0:00:01\r\u001b[K     |██████████                      | 194kB 2.6MB/s eta 0:00:01\r\u001b[K     |██████████▌                     | 204kB 2.6MB/s eta 0:00:01\r\u001b[K     |███████████                     | 215kB 2.6MB/s eta 0:00:01\r\u001b[K     |███████████▋                    | 225kB 2.6MB/s eta 0:00:01\r\u001b[K     |████████████▏                   | 235kB 2.6MB/s eta 0:00:01\r\u001b[K     |████████████▋                   | 245kB 2.6MB/s eta 0:00:01\r\u001b[K     |█████████████▏                  | 256kB 2.6MB/s eta 0:00:01\r\u001b[K     |█████████████▊                  | 266kB 2.6MB/s eta 0:00:01\r\u001b[K     |██████████████▎                 | 276kB 2.6MB/s eta 0:00:01\r\u001b[K     |██████████████▊                 | 286kB 2.6MB/s eta 0:00:01\r\u001b[K     |███████████████▎                | 296kB 2.6MB/s eta 0:00:01\r\u001b[K     |███████████████▉                | 307kB 2.6MB/s eta 0:00:01\r\u001b[K     |████████████████▍               | 317kB 2.6MB/s eta 0:00:01\r\u001b[K     |████████████████▉               | 327kB 2.6MB/s eta 0:00:01\r\u001b[K     |█████████████████▍              | 337kB 2.6MB/s eta 0:00:01\r\u001b[K     |██████████████████              | 348kB 2.6MB/s eta 0:00:01\r\u001b[K     |██████████████████▌             | 358kB 2.6MB/s eta 0:00:01\r\u001b[K     |███████████████████             | 368kB 2.6MB/s eta 0:00:01\r\u001b[K     |███████████████████▌            | 378kB 2.6MB/s eta 0:00:01\r\u001b[K     |████████████████████            | 389kB 2.6MB/s eta 0:00:01\r\u001b[K     |████████████████████▌           | 399kB 2.6MB/s eta 0:00:01\r\u001b[K     |█████████████████████           | 409kB 2.6MB/s eta 0:00:01\r\u001b[K     |█████████████████████▋          | 419kB 2.6MB/s eta 0:00:01\r\u001b[K     |██████████████████████▏         | 430kB 2.6MB/s eta 0:00:01\r\u001b[K     |██████████████████████▋         | 440kB 2.6MB/s eta 0:00:01\r\u001b[K     |███████████████████████▏        | 450kB 2.6MB/s eta 0:00:01\r\u001b[K     |███████████████████████▊        | 460kB 2.6MB/s eta 0:00:01\r\u001b[K     |████████████████████████▎       | 471kB 2.6MB/s eta 0:00:01\r\u001b[K     |████████████████████████▊       | 481kB 2.6MB/s eta 0:00:01\r\u001b[K     |█████████████████████████▎      | 491kB 2.6MB/s eta 0:00:01\r\u001b[K     |█████████████████████████▉      | 501kB 2.6MB/s eta 0:00:01\r\u001b[K     |██████████████████████████▍     | 512kB 2.6MB/s eta 0:00:01\r\u001b[K     |██████████████████████████▉     | 522kB 2.6MB/s eta 0:00:01\r\u001b[K     |███████████████████████████▍    | 532kB 2.6MB/s eta 0:00:01\r\u001b[K     |████████████████████████████    | 542kB 2.6MB/s eta 0:00:01\r\u001b[K     |████████████████████████████▌   | 552kB 2.6MB/s eta 0:00:01\r\u001b[K     |█████████████████████████████   | 563kB 2.6MB/s eta 0:00:01\r\u001b[K     |█████████████████████████████▌  | 573kB 2.6MB/s eta 0:00:01\r\u001b[K     |██████████████████████████████  | 583kB 2.6MB/s eta 0:00:01\r\u001b[K     |██████████████████████████████▋ | 593kB 2.6MB/s eta 0:00:01\r\u001b[K     |███████████████████████████████ | 604kB 2.6MB/s eta 0:00:01\r\u001b[K     |███████████████████████████████▋| 614kB 2.6MB/s eta 0:00:01\r\u001b[K     |████████████████████████████████| 624kB 2.6MB/s \n",
            "\u001b[?25hBuilding wheels for collected packages: autocorrect\n",
            "  Building wheel for autocorrect (setup.py) ... \u001b[?25l\u001b[?25hdone\n",
            "  Created wheel for autocorrect: filename=autocorrect-2.2.2-cp36-none-any.whl size=621491 sha256=ecd629b123815809d3a95b1155490c2d01d7299cf045c376e93dd98728fd0156\n",
            "  Stored in directory: /root/.cache/pip/wheels/b4/0b/7d/98268d64c8697425f712c897265394486542141bbe4de319d6\n",
            "Successfully built autocorrect\n",
            "Installing collected packages: autocorrect\n",
            "Successfully installed autocorrect-2.2.2\n"
          ],
          "name": "stdout"
        }
      ]
    },
    {
      "cell_type": "code",
      "metadata": {
        "id": "8i2Pou3JHZ4l"
      },
      "source": [
        "import nltk\n",
        "import pycaret"
      ],
      "execution_count": 4,
      "outputs": []
    },
    {
      "cell_type": "markdown",
      "metadata": {
        "id": "IB2bZLB4umXm"
      },
      "source": [
        "# Processing"
      ]
    },
    {
      "cell_type": "markdown",
      "metadata": {
        "id": "TPdVrOSDup0Q"
      },
      "source": [
        "## I. Tokenization"
      ]
    },
    {
      "cell_type": "code",
      "metadata": {
        "id": "cBGITeID1qQL",
        "outputId": "7dee5a87-fe7f-4a13-a49d-311baa2f217a",
        "colab": {
          "base_uri": "https://localhost:8080/"
        }
      },
      "source": [
        "# importar el modulo de tokenizacion de nltk\n",
        "from nltk.tokenize import sent_tokenize,word_tokenize\n",
        "nltk.download('punkt')"
      ],
      "execution_count": 5,
      "outputs": [
        {
          "output_type": "stream",
          "text": [
            "[nltk_data] Downloading package punkt to /root/nltk_data...\n",
            "[nltk_data]   Unzipping tokenizers/punkt.zip.\n"
          ],
          "name": "stdout"
        },
        {
          "output_type": "execute_result",
          "data": {
            "text/plain": [
              "True"
            ]
          },
          "metadata": {
            "tags": []
          },
          "execution_count": 5
        }
      ]
    },
    {
      "cell_type": "code",
      "metadata": {
        "id": "IWoV0d8x2qAF",
        "outputId": "29ba20b2-e679-48ad-e4ad-36b0284ae20d",
        "colab": {
          "base_uri": "https://localhost:8080/"
        }
      },
      "source": [
        "example_text = \"Esto es un ejemplo. O noooo?\"\n",
        "print(sent_tokenize(example_text))\n",
        "print(word_tokenize(example_text))"
      ],
      "execution_count": 6,
      "outputs": [
        {
          "output_type": "stream",
          "text": [
            "['Esto es un ejemplo.', 'O noooo?']\n",
            "['Esto', 'es', 'un', 'ejemplo', '.', 'O', 'noooo', '?']\n"
          ],
          "name": "stdout"
        }
      ]
    },
    {
      "cell_type": "code",
      "metadata": {
        "id": "_dSxot7HuuWo",
        "outputId": "09e54d1a-9953-4ae6-c2ed-b114e0187cd7",
        "colab": {
          "base_uri": "https://localhost:8080/"
        }
      },
      "source": [
        "# Texto de ejemplo. Ene ste caso usamos las tres comillas para separar\n",
        "# el texto en varias lineas dentro de nuestro codigo.\n",
        "example_text = ''' Hola mi nombre es Mario. Mi cuenta de github\n",
        "es uumami. Estas listo para convertirte en un experto de NLP.\n",
        "Ezta horacion contiene muchos erroress gramaticales.\n",
        "'''\n",
        "print(example_text)\n",
        "print(sent_tokenize(example_text))\n",
        "print(word_tokenize(example_text))"
      ],
      "execution_count": 7,
      "outputs": [
        {
          "output_type": "stream",
          "text": [
            " Hola mi nombre es Mario. Mi cuenta de github\n",
            "es uumami. Estas listo para convertirte en un experto de NLP.\n",
            "Ezta horacion contiene muchos erroress gramaticales.\n",
            "\n",
            "[' Hola mi nombre es Mario.', 'Mi cuenta de github\\nes uumami.', 'Estas listo para convertirte en un experto de NLP.', 'Ezta horacion contiene muchos erroress gramaticales.']\n",
            "['Hola', 'mi', 'nombre', 'es', 'Mario', '.', 'Mi', 'cuenta', 'de', 'github', 'es', 'uumami', '.', 'Estas', 'listo', 'para', 'convertirte', 'en', 'un', 'experto', 'de', 'NLP', '.', 'Ezta', 'horacion', 'contiene', 'muchos', 'erroress', 'gramaticales', '.']\n"
          ],
          "name": "stdout"
        }
      ]
    },
    {
      "cell_type": "code",
      "metadata": {
        "id": "4tj0dRqdGOSf"
      },
      "source": [
        "texto = word_tokenize(example_text)"
      ],
      "execution_count": 8,
      "outputs": []
    },
    {
      "cell_type": "markdown",
      "metadata": {
        "id": "JBTNkxBxIa5o"
      },
      "source": [
        "# II. Spell check"
      ]
    },
    {
      "cell_type": "code",
      "metadata": {
        "id": "8lxqzZ_oRs2_"
      },
      "source": [
        "from autocorrect import Speller"
      ],
      "execution_count": 9,
      "outputs": []
    },
    {
      "cell_type": "code",
      "metadata": {
        "id": "j_Yb6k0GIfi4",
        "outputId": "75d7506c-5d5b-44e9-ec95-25976def3410",
        "colab": {
          "base_uri": "https://localhost:8080/"
        }
      },
      "source": [
        "spell = Speller(lang='es')"
      ],
      "execution_count": 10,
      "outputs": [
        {
          "output_type": "stream",
          "text": [
            "dictionary for this language not found, downloading...\n",
            "__________________________________________________\n",
            ">>>>>>>>>>>>>>>>>>>>>>>>>>>>>>>>>>>>>>>>>>>>>>>>>>\n",
            "done!\n"
          ],
          "name": "stdout"
        }
      ]
    },
    {
      "cell_type": "code",
      "metadata": {
        "id": "if_n9aZ8Iitl",
        "outputId": "01cb8b57-9b92-428f-9fb2-0517b294bad9",
        "colab": {
          "base_uri": "https://localhost:8080/"
        }
      },
      "source": [
        "corrected_text = [spell(i) for i in texto]\n",
        "corrected_text"
      ],
      "execution_count": 11,
      "outputs": [
        {
          "output_type": "execute_result",
          "data": {
            "text/plain": [
              "['Hola',\n",
              " 'mi',\n",
              " 'nombre',\n",
              " 'es',\n",
              " 'Mario',\n",
              " '.',\n",
              " 'Mi',\n",
              " 'cuenta',\n",
              " 'de',\n",
              " 'github',\n",
              " 'es',\n",
              " 'umami',\n",
              " '.',\n",
              " 'Estas',\n",
              " 'listo',\n",
              " 'para',\n",
              " 'convertirte',\n",
              " 'en',\n",
              " 'un',\n",
              " 'experto',\n",
              " 'de',\n",
              " 'LP',\n",
              " '.',\n",
              " 'Esta',\n",
              " 'horacio',\n",
              " 'contiene',\n",
              " 'muchos',\n",
              " 'errores',\n",
              " 'gramaticales',\n",
              " '.']"
            ]
          },
          "metadata": {
            "tags": []
          },
          "execution_count": 11
        }
      ]
    },
    {
      "cell_type": "markdown",
      "metadata": {
        "id": "nVw9RFFEP9l-"
      },
      "source": [
        "## III. Stopwords"
      ]
    },
    {
      "cell_type": "code",
      "metadata": {
        "id": "gZAzvIOnRmYG",
        "outputId": "cd5a2bc0-edcd-4c0a-8784-e53b0ea37cfa",
        "colab": {
          "base_uri": "https://localhost:8080/"
        }
      },
      "source": [
        "from nltk.corpus import stopwords\n",
        "nltk.download('stopwords')"
      ],
      "execution_count": 12,
      "outputs": [
        {
          "output_type": "stream",
          "text": [
            "[nltk_data] Downloading package stopwords to /root/nltk_data...\n",
            "[nltk_data]   Unzipping corpora/stopwords.zip.\n"
          ],
          "name": "stdout"
        },
        {
          "output_type": "execute_result",
          "data": {
            "text/plain": [
              "True"
            ]
          },
          "metadata": {
            "tags": []
          },
          "execution_count": 12
        }
      ]
    },
    {
      "cell_type": "code",
      "metadata": {
        "id": "cjjDE2POQ2H8",
        "outputId": "3bb67949-eb67-4a81-d659-a2dfe238e9c3",
        "colab": {
          "base_uri": "https://localhost:8080/"
        }
      },
      "source": [
        "stopwords_en = stopwords.words('english')\n",
        "\n",
        "counter = 0\n",
        "for w in stopwords_en:\n",
        "  print(w, end=', ')\n",
        "  counter += 1\n",
        "  if (counter%10)== 0:\n",
        "    print()\n"
      ],
      "execution_count": 13,
      "outputs": [
        {
          "output_type": "stream",
          "text": [
            "i, me, my, myself, we, our, ours, ourselves, you, you're, \n",
            "you've, you'll, you'd, your, yours, yourself, yourselves, he, him, his, \n",
            "himself, she, she's, her, hers, herself, it, it's, its, itself, \n",
            "they, them, their, theirs, themselves, what, which, who, whom, this, \n",
            "that, that'll, these, those, am, is, are, was, were, be, \n",
            "been, being, have, has, had, having, do, does, did, doing, \n",
            "a, an, the, and, but, if, or, because, as, until, \n",
            "while, of, at, by, for, with, about, against, between, into, \n",
            "through, during, before, after, above, below, to, from, up, down, \n",
            "in, out, on, off, over, under, again, further, then, once, \n",
            "here, there, when, where, why, how, all, any, both, each, \n",
            "few, more, most, other, some, such, no, nor, not, only, \n",
            "own, same, so, than, too, very, s, t, can, will, \n",
            "just, don, don't, should, should've, now, d, ll, m, o, \n",
            "re, ve, y, ain, aren, aren't, couldn, couldn't, didn, didn't, \n",
            "doesn, doesn't, hadn, hadn't, hasn, hasn't, haven, haven't, isn, isn't, \n",
            "ma, mightn, mightn't, mustn, mustn't, needn, needn't, shan, shan't, shouldn, \n",
            "shouldn't, wasn, wasn't, weren, weren't, won, won't, wouldn, wouldn't, "
          ],
          "name": "stdout"
        }
      ]
    },
    {
      "cell_type": "code",
      "metadata": {
        "id": "bc2il63oQB4q",
        "outputId": "25844707-2ac6-4e0e-904e-649cecb04f13",
        "colab": {
          "base_uri": "https://localhost:8080/"
        }
      },
      "source": [
        "stopwords_es = stopwords.words('spanish')\n",
        "\n",
        "counter = 0\n",
        "for w in stopwords_es:\n",
        "  print(w, end=', ')\n",
        "  counter += 1\n",
        "  if (counter%10)== 0:\n",
        "    print()\n"
      ],
      "execution_count": 14,
      "outputs": [
        {
          "output_type": "stream",
          "text": [
            "de, la, que, el, en, y, a, los, del, se, \n",
            "las, por, un, para, con, no, una, su, al, lo, \n",
            "como, más, pero, sus, le, ya, o, este, sí, porque, \n",
            "esta, entre, cuando, muy, sin, sobre, también, me, hasta, hay, \n",
            "donde, quien, desde, todo, nos, durante, todos, uno, les, ni, \n",
            "contra, otros, ese, eso, ante, ellos, e, esto, mí, antes, \n",
            "algunos, qué, unos, yo, otro, otras, otra, él, tanto, esa, \n",
            "estos, mucho, quienes, nada, muchos, cual, poco, ella, estar, estas, \n",
            "algunas, algo, nosotros, mi, mis, tú, te, ti, tu, tus, \n",
            "ellas, nosotras, vosotros, vosotras, os, mío, mía, míos, mías, tuyo, \n",
            "tuya, tuyos, tuyas, suyo, suya, suyos, suyas, nuestro, nuestra, nuestros, \n",
            "nuestras, vuestro, vuestra, vuestros, vuestras, esos, esas, estoy, estás, está, \n",
            "estamos, estáis, están, esté, estés, estemos, estéis, estén, estaré, estarás, \n",
            "estará, estaremos, estaréis, estarán, estaría, estarías, estaríamos, estaríais, estarían, estaba, \n",
            "estabas, estábamos, estabais, estaban, estuve, estuviste, estuvo, estuvimos, estuvisteis, estuvieron, \n",
            "estuviera, estuvieras, estuviéramos, estuvierais, estuvieran, estuviese, estuvieses, estuviésemos, estuvieseis, estuviesen, \n",
            "estando, estado, estada, estados, estadas, estad, he, has, ha, hemos, \n",
            "habéis, han, haya, hayas, hayamos, hayáis, hayan, habré, habrás, habrá, \n",
            "habremos, habréis, habrán, habría, habrías, habríamos, habríais, habrían, había, habías, \n",
            "habíamos, habíais, habían, hube, hubiste, hubo, hubimos, hubisteis, hubieron, hubiera, \n",
            "hubieras, hubiéramos, hubierais, hubieran, hubiese, hubieses, hubiésemos, hubieseis, hubiesen, habiendo, \n",
            "habido, habida, habidos, habidas, soy, eres, es, somos, sois, son, \n",
            "sea, seas, seamos, seáis, sean, seré, serás, será, seremos, seréis, \n",
            "serán, sería, serías, seríamos, seríais, serían, era, eras, éramos, erais, \n",
            "eran, fui, fuiste, fue, fuimos, fuisteis, fueron, fuera, fueras, fuéramos, \n",
            "fuerais, fueran, fuese, fueses, fuésemos, fueseis, fuesen, sintiendo, sentido, sentida, \n",
            "sentidos, sentidas, siente, sentid, tengo, tienes, tiene, tenemos, tenéis, tienen, \n",
            "tenga, tengas, tengamos, tengáis, tengan, tendré, tendrás, tendrá, tendremos, tendréis, \n",
            "tendrán, tendría, tendrías, tendríamos, tendríais, tendrían, tenía, tenías, teníamos, teníais, \n",
            "tenían, tuve, tuviste, tuvo, tuvimos, tuvisteis, tuvieron, tuviera, tuvieras, tuviéramos, \n",
            "tuvierais, tuvieran, tuviese, tuvieses, tuviésemos, tuvieseis, tuviesen, teniendo, tenido, tenida, \n",
            "tenidos, tenidas, tened, "
          ],
          "name": "stdout"
        }
      ]
    },
    {
      "cell_type": "code",
      "metadata": {
        "id": "-kw4_Nz3UmJm"
      },
      "source": [
        "def print_text(texx = [], module=10, sep=' '):\n",
        "  counter = 0\n",
        "  for w in texx:\n",
        "    print(w, end=sep)\n",
        "    counter += 1\n",
        "    if (counter % module)== 0:\n",
        "      print()\n",
        "  print('\\n ------- Tamano del texto: ', len(texx))\n",
        "  print()"
      ],
      "execution_count": 15,
      "outputs": []
    },
    {
      "cell_type": "code",
      "metadata": {
        "id": "ITCTj4EFULL-",
        "outputId": "cd8650f7-1929-4391-ad0d-989cac871170",
        "colab": {
          "base_uri": "https://localhost:8080/"
        }
      },
      "source": [
        "# Removamos las stopwords de nuestro texto\n",
        "print('\\n Texto corregido:')\n",
        "print_text(corrected_text, module=11)\n",
        "\n",
        "short_text = [w for w in corrected_text if w not in stopwords_es]\n",
        "print('\\n Texto sin stopwords:')\n",
        "print_text(short_text, module=11)"
      ],
      "execution_count": 16,
      "outputs": [
        {
          "output_type": "stream",
          "text": [
            "\n",
            " Texto corregido:\n",
            "Hola mi nombre es Mario . Mi cuenta de github es \n",
            "umami . Estas listo para convertirte en un experto de LP \n",
            ". Esta horacio contiene muchos errores gramaticales . \n",
            " ------- Tamano del texto:  30\n",
            "\n",
            "\n",
            " Texto sin stopwords:\n",
            "Hola nombre Mario . Mi cuenta github umami . Estas listo \n",
            "convertirte experto LP . Esta horacio contiene errores gramaticales . \n",
            " ------- Tamano del texto:  21\n",
            "\n"
          ],
          "name": "stdout"
        }
      ]
    },
    {
      "cell_type": "markdown",
      "metadata": {
        "id": "KzxM8D-HEvA-"
      },
      "source": [
        "## IV. Stemmer"
      ]
    },
    {
      "cell_type": "code",
      "metadata": {
        "id": "bqzc2xAj8uyt"
      },
      "source": [
        "from nltk.stem import SnowballStemmer\n",
        "stemmer = SnowballStemmer('spanish')"
      ],
      "execution_count": 17,
      "outputs": []
    },
    {
      "cell_type": "code",
      "metadata": {
        "id": "pNd5c-nyMJ1W",
        "outputId": "2d1da6a7-8e10-4cdd-cb8a-b7dd72597718",
        "colab": {
          "base_uri": "https://localhost:8080/"
        }
      },
      "source": [
        "[stemmer.stem(i) for i in ['corriendo', 'correr', 'corremos',\n",
        "                           'corriamos','corrian', \n",
        "                           'correlacion', 'correlacionado']]"
      ],
      "execution_count": 18,
      "outputs": [
        {
          "output_type": "execute_result",
          "data": {
            "text/plain": [
              "['corr', 'corr', 'corr', 'corri', 'corri', 'correlacion', 'correlacion']"
            ]
          },
          "metadata": {
            "tags": []
          },
          "execution_count": 18
        }
      ]
    },
    {
      "cell_type": "code",
      "metadata": {
        "id": "J0srEErAF0Nv",
        "outputId": "6bf6b0c5-0e82-40ab-8f36-82d30c46fdf8",
        "colab": {
          "base_uri": "https://localhost:8080/"
        }
      },
      "source": [
        "stemmed_text = [stemmer.stem(i) for i in corrected_text]\n",
        "print_text(stemmed_text, module=11)"
      ],
      "execution_count": 19,
      "outputs": [
        {
          "output_type": "stream",
          "text": [
            "hol mi nombr es mari . mi cuent de github es \n",
            "umami . estas list par convertirt en un expert de lp \n",
            ". esta horaci contien much error gramatical . \n",
            " ------- Tamano del texto:  30\n",
            "\n"
          ],
          "name": "stdout"
        }
      ]
    },
    {
      "cell_type": "markdown",
      "metadata": {
        "id": "jVDE_3X7p5wQ"
      },
      "source": [
        "## V. Lemmatizing"
      ]
    },
    {
      "cell_type": "markdown",
      "metadata": {
        "id": "O0fWcC8hrXkl"
      },
      "source": [
        "Dado que el texto que estamos anlizaando se encuenntra en espanol, es necesario buscar una funcion disenyada para nuestra lengua.  \n",
        "En este nos puede ayudar spacy.  \n",
        "+ spacy: https://spacy.io/usage \n",
        "+ spanish lemmatizer: https://spacy.io/models/es#es_core_news_sm "
      ]
    },
    {
      "cell_type": "code",
      "metadata": {
        "id": "bYa1_Y_HuoXa",
        "outputId": "017bf4e1-4ae8-4e58-b686-65840f6306a9",
        "colab": {
          "base_uri": "https://localhost:8080/"
        }
      },
      "source": [
        "!python3 -m spacy download es_core_news_sm"
      ],
      "execution_count": 20,
      "outputs": [
        {
          "output_type": "stream",
          "text": [
            "Collecting es_core_news_sm==2.2.5\n",
            "\u001b[?25l  Downloading https://github.com/explosion/spacy-models/releases/download/es_core_news_sm-2.2.5/es_core_news_sm-2.2.5.tar.gz (16.2MB)\n",
            "\u001b[K     |████████████████████████████████| 16.2MB 658kB/s \n",
            "\u001b[?25hRequirement already satisfied: spacy>=2.2.2 in /usr/local/lib/python3.6/dist-packages (from es_core_news_sm==2.2.5) (2.2.4)\n",
            "Requirement already satisfied: numpy>=1.15.0 in /usr/local/lib/python3.6/dist-packages (from spacy>=2.2.2->es_core_news_sm==2.2.5) (1.18.5)\n",
            "Requirement already satisfied: preshed<3.1.0,>=3.0.2 in /usr/local/lib/python3.6/dist-packages (from spacy>=2.2.2->es_core_news_sm==2.2.5) (3.0.2)\n",
            "Requirement already satisfied: blis<0.5.0,>=0.4.0 in /usr/local/lib/python3.6/dist-packages (from spacy>=2.2.2->es_core_news_sm==2.2.5) (0.4.1)\n",
            "Requirement already satisfied: plac<1.2.0,>=0.9.6 in /usr/local/lib/python3.6/dist-packages (from spacy>=2.2.2->es_core_news_sm==2.2.5) (1.1.3)\n",
            "Requirement already satisfied: catalogue<1.1.0,>=0.0.7 in /usr/local/lib/python3.6/dist-packages (from spacy>=2.2.2->es_core_news_sm==2.2.5) (1.0.0)\n",
            "Requirement already satisfied: murmurhash<1.1.0,>=0.28.0 in /usr/local/lib/python3.6/dist-packages (from spacy>=2.2.2->es_core_news_sm==2.2.5) (1.0.2)\n",
            "Requirement already satisfied: wasabi<1.1.0,>=0.4.0 in /usr/local/lib/python3.6/dist-packages (from spacy>=2.2.2->es_core_news_sm==2.2.5) (0.8.0)\n",
            "Requirement already satisfied: tqdm<5.0.0,>=4.38.0 in /usr/local/lib/python3.6/dist-packages (from spacy>=2.2.2->es_core_news_sm==2.2.5) (4.51.0)\n",
            "Requirement already satisfied: setuptools in /usr/local/lib/python3.6/dist-packages (from spacy>=2.2.2->es_core_news_sm==2.2.5) (50.3.2)\n",
            "Requirement already satisfied: cymem<2.1.0,>=2.0.2 in /usr/local/lib/python3.6/dist-packages (from spacy>=2.2.2->es_core_news_sm==2.2.5) (2.0.3)\n",
            "Requirement already satisfied: thinc==7.4.0 in /usr/local/lib/python3.6/dist-packages (from spacy>=2.2.2->es_core_news_sm==2.2.5) (7.4.0)\n",
            "Requirement already satisfied: requests<3.0.0,>=2.13.0 in /usr/local/lib/python3.6/dist-packages (from spacy>=2.2.2->es_core_news_sm==2.2.5) (2.23.0)\n",
            "Requirement already satisfied: srsly<1.1.0,>=1.0.2 in /usr/local/lib/python3.6/dist-packages (from spacy>=2.2.2->es_core_news_sm==2.2.5) (1.0.2)\n",
            "Requirement already satisfied: importlib-metadata>=0.20; python_version < \"3.8\" in /usr/local/lib/python3.6/dist-packages (from catalogue<1.1.0,>=0.0.7->spacy>=2.2.2->es_core_news_sm==2.2.5) (2.0.0)\n",
            "Requirement already satisfied: idna<3,>=2.5 in /usr/local/lib/python3.6/dist-packages (from requests<3.0.0,>=2.13.0->spacy>=2.2.2->es_core_news_sm==2.2.5) (2.10)\n",
            "Requirement already satisfied: chardet<4,>=3.0.2 in /usr/local/lib/python3.6/dist-packages (from requests<3.0.0,>=2.13.0->spacy>=2.2.2->es_core_news_sm==2.2.5) (3.0.4)\n",
            "Requirement already satisfied: certifi>=2017.4.17 in /usr/local/lib/python3.6/dist-packages (from requests<3.0.0,>=2.13.0->spacy>=2.2.2->es_core_news_sm==2.2.5) (2020.6.20)\n",
            "Requirement already satisfied: urllib3!=1.25.0,!=1.25.1,<1.26,>=1.21.1 in /usr/local/lib/python3.6/dist-packages (from requests<3.0.0,>=2.13.0->spacy>=2.2.2->es_core_news_sm==2.2.5) (1.24.3)\n",
            "Requirement already satisfied: zipp>=0.5 in /usr/local/lib/python3.6/dist-packages (from importlib-metadata>=0.20; python_version < \"3.8\"->catalogue<1.1.0,>=0.0.7->spacy>=2.2.2->es_core_news_sm==2.2.5) (3.3.1)\n",
            "Building wheels for collected packages: es-core-news-sm\n",
            "  Building wheel for es-core-news-sm (setup.py) ... \u001b[?25l\u001b[?25hdone\n",
            "  Created wheel for es-core-news-sm: filename=es_core_news_sm-2.2.5-cp36-none-any.whl size=16172934 sha256=2c4148517b6adeb2c69c3088bed316acb15bce979064332be80dfac1d9ad48a2\n",
            "  Stored in directory: /tmp/pip-ephem-wheel-cache-asjzx29b/wheels/05/4f/66/9d0c806f86de08e8645d67996798c49e1512f9c3a250d74242\n",
            "Successfully built es-core-news-sm\n",
            "Installing collected packages: es-core-news-sm\n",
            "Successfully installed es-core-news-sm-2.2.5\n",
            "\u001b[38;5;2m✔ Download and installation successful\u001b[0m\n",
            "You can now load the model via spacy.load('es_core_news_sm')\n"
          ],
          "name": "stdout"
        }
      ]
    },
    {
      "cell_type": "code",
      "metadata": {
        "id": "N_K-usVxvVhY"
      },
      "source": [
        "# Importar spacy y el lemmatizer en espanyol\n",
        "import spacy\n",
        "import es_core_news_sm\n",
        "nlp = es_core_news_sm.load()"
      ],
      "execution_count": 21,
      "outputs": []
    },
    {
      "cell_type": "code",
      "metadata": {
        "id": "iiKoAF0p1RyP",
        "outputId": "fd68bc1f-cd5d-4484-d1c9-e0590befe425",
        "colab": {
          "base_uri": "https://localhost:8080/"
        }
      },
      "source": [
        "ex_lem = \"Hola estoy aprendiendo a utilizar inteligencia artificial. \\n\"\n",
        "print(ex_lem)\n",
        "ex_lem = word_tokenize(ex_lem)\n",
        "for w in ex_lem:\n",
        "  doc = nlp(w)\n",
        "  for word in doc:\n",
        "    print(word.text, \"=>\", word.lemma_)"
      ],
      "execution_count": 22,
      "outputs": [
        {
          "output_type": "stream",
          "text": [
            "Hola estoy aprendiendo a utilizar inteligencia artificial. \n",
            "\n",
            "Hola => Hola\n",
            "estoy => estar\n",
            "aprendiendo => aprender\n",
            "a => a\n",
            "utilizar => utilizar\n",
            "inteligencia => inteligencia\n",
            "artificial => artificial\n",
            ". => .\n"
          ],
          "name": "stdout"
        }
      ]
    },
    {
      "cell_type": "markdown",
      "metadata": {
        "id": "xzoQIpJc_o_W"
      },
      "source": [
        "Creemos una funcion que lemamtize un texto que ya este separado en tokens (tokenized/tokenizado)."
      ]
    },
    {
      "cell_type": "code",
      "metadata": {
        "id": "jKdHUg2D3O7h"
      },
      "source": [
        "def lemm_es(txx=[]):\n",
        "  '''\n",
        "  txx is a list or tokenized text\n",
        "  retunrs: lemmatized words.\n",
        "  '''\n",
        "  lemm_text = []\n",
        "  for w in txx:\n",
        "    lemm_text.append(nlp(w)[0].lemma_)\n",
        "  return lemm_text"
      ],
      "execution_count": 23,
      "outputs": []
    },
    {
      "cell_type": "markdown",
      "metadata": {
        "id": "SU8f6H6-CKnQ"
      },
      "source": [
        "Apliquemos el lemmatizer a nuestro texto corregido, y sin stopwords."
      ]
    },
    {
      "cell_type": "code",
      "metadata": {
        "id": "_RsBRAdN31Mg",
        "outputId": "066553c5-6a9d-42ef-9eec-50a38975c909",
        "colab": {
          "base_uri": "https://localhost:8080/"
        }
      },
      "source": [
        "lemm_text = lemm_es(short_text)\n",
        "\n",
        "print_text(short_text, module=11)\n",
        "print_text(lemm_text, module=11)"
      ],
      "execution_count": 24,
      "outputs": [
        {
          "output_type": "stream",
          "text": [
            "Hola nombre Mario . Mi cuenta github umami . Estas listo \n",
            "convertirte experto LP . Esta horacio contiene errores gramaticales . \n",
            " ------- Tamano del texto:  21\n",
            "\n",
            "Hola nombrar Mario . Mi contar github umami . Estas listar \n",
            "convertirte experto LP . Esta horacio contener error gramatical . \n",
            " ------- Tamano del texto:  21\n",
            "\n"
          ],
          "name": "stdout"
        }
      ]
    },
    {
      "cell_type": "markdown",
      "metadata": {
        "id": "DPkhAoiaCPX8"
      },
      "source": [
        "## VI. Tag"
      ]
    },
    {
      "cell_type": "code",
      "metadata": {
        "id": "PiqzAWi-Ciu8"
      },
      "source": [
        "def pos_es(txx=[]):\n",
        "  '''\n",
        "  txx is a list or tokenized text\n",
        "  retunrs: lemmatized words.\n",
        "  '''\n",
        "  pos_text = []\n",
        "  for w in txx:\n",
        "    pos_text.append(nlp(w)[0].pos_)\n",
        "  return pos_text"
      ],
      "execution_count": 25,
      "outputs": []
    },
    {
      "cell_type": "code",
      "metadata": {
        "id": "Y7c95BpbCrfZ",
        "outputId": "ff4fc4b2-6131-4460-d153-b2bb2a4d833c",
        "colab": {
          "base_uri": "https://localhost:8080/"
        }
      },
      "source": [
        "pos_text = pos_es(short_text)\n",
        "\n",
        "print_text(short_text, module=11)\n",
        "print_text(pos_text, module=11)"
      ],
      "execution_count": 26,
      "outputs": [
        {
          "output_type": "stream",
          "text": [
            "Hola nombre Mario . Mi cuenta github umami . Estas listo \n",
            "convertirte experto LP . Esta horacio contiene errores gramaticales . \n",
            " ------- Tamano del texto:  21\n",
            "\n",
            "PROPN NOUN PROPN PUNCT DET VERB PROPN PROPN PUNCT PRON ADJ \n",
            "PROPN ADJ NOUN PUNCT PRON ADV VERB NOUN ADJ PUNCT \n",
            " ------- Tamano del texto:  21\n",
            "\n"
          ],
          "name": "stdout"
        }
      ]
    },
    {
      "cell_type": "markdown",
      "metadata": {
        "id": "V3Caoz2DOf-f"
      },
      "source": [
        "# Bag of Words (Bolsa de Palabras)"
      ]
    },
    {
      "cell_type": "markdown",
      "metadata": {
        "id": "nXF0I5m6OkQ8"
      },
      "source": [
        "https://es.wikipedia.org/wiki/Modelo_bolsa_de_palabras "
      ]
    },
    {
      "cell_type": "markdown",
      "metadata": {
        "id": "-larB4JKg1Ta"
      },
      "source": [
        "En esta seccion realizaremos analisis de sentimientos de twitter. La idea es clasificar si un twitt expresa senetimientos positivos o negativos.  \n",
        "Este proyecto nos podria ayudar a evaluar el valor de nuestra marca, la aceptacion de un nuevo producto en el mercado, o analizar tendencias de la bolsa de valores.  \n",
        "\n",
        "Si aplicaramos el analisis de sentimientos a los datos de nuestra start-up podriamos detectar anomalias al momento de contratacion o detectar renuncias antes de tiempo por ejemplo.\n"
      ]
    },
    {
      "cell_type": "markdown",
      "metadata": {
        "id": "Kmv13iCsfJmY"
      },
      "source": [
        "## Procesamiento de Datos"
      ]
    },
    {
      "cell_type": "markdown",
      "metadata": {
        "id": "0gGPPKybre1K"
      },
      "source": [
        "Primero creemos funciones que funcionen a nivel twitt (individual). Posteriormente aplicaremos las funciones a toda la base de datos. De esta forma mantendremos el codigo mas modular."
      ]
    },
    {
      "cell_type": "markdown",
      "metadata": {
        "id": "-r4nRlGrgw2n"
      },
      "source": [
        "### Importar base de datos de twitter"
      ]
    },
    {
      "cell_type": "code",
      "metadata": {
        "id": "o4lGHMctf2Fk",
        "outputId": "f1fc0086-4089-4c89-ac08-d919561499a9",
        "colab": {
          "base_uri": "https://localhost:8080/"
        }
      },
      "source": [
        "# Importemos los datos\n",
        "from nltk.corpus import twitter_samples\n",
        "nltk.download('twitter_samples')\n",
        "\n",
        "positive_tweets_ = twitter_samples.strings('positive_tweets.json')\n",
        "negative_tweets_ = twitter_samples.strings('negative_tweets.json')\n",
        "print('\\n Glipse Data')\n",
        "positive_tweets_[0:5]"
      ],
      "execution_count": 27,
      "outputs": [
        {
          "output_type": "stream",
          "text": [
            "[nltk_data] Downloading package twitter_samples to /root/nltk_data...\n",
            "[nltk_data]   Unzipping corpora/twitter_samples.zip.\n",
            "\n",
            " Glipse Data\n"
          ],
          "name": "stdout"
        },
        {
          "output_type": "execute_result",
          "data": {
            "text/plain": [
              "['#FollowFriday @France_Inte @PKuchly57 @Milipol_Paris for being top engaged members in my community this week :)',\n",
              " '@Lamb2ja Hey James! How odd :/ Please call our Contact Centre on 02392441234 and we will be able to assist you :) Many thanks!',\n",
              " '@DespiteOfficial we had a listen last night :) As You Bleed is an amazing track. When are you in Scotland?!',\n",
              " '@97sides CONGRATS :)',\n",
              " 'yeaaaah yippppy!!!  my accnt verified rqst has succeed got a blue tick mark on my fb profile :) in 15 days']"
            ]
          },
          "metadata": {
            "tags": []
          },
          "execution_count": 27
        }
      ]
    },
    {
      "cell_type": "code",
      "metadata": {
        "id": "e_W14HgigAz9",
        "outputId": "68511989-ca80-4b0a-afb6-4454edddd9e4",
        "colab": {
          "base_uri": "https://localhost:8080/"
        }
      },
      "source": [
        "import pandas as pd\n",
        "\n",
        "positive_tweets = twitter_samples.tokenized('positive_tweets.json')\n",
        "negative_tweets = twitter_samples.tokenized('negative_tweets.json')\n",
        "\n",
        "print('\\n Glipse Tokenized Data')\n",
        "positive_tweets[0]"
      ],
      "execution_count": 28,
      "outputs": [
        {
          "output_type": "stream",
          "text": [
            "\n",
            " Glipse Tokenized Data\n"
          ],
          "name": "stdout"
        },
        {
          "output_type": "execute_result",
          "data": {
            "text/plain": [
              "['#FollowFriday',\n",
              " '@France_Inte',\n",
              " '@PKuchly57',\n",
              " '@Milipol_Paris',\n",
              " 'for',\n",
              " 'being',\n",
              " 'top',\n",
              " 'engaged',\n",
              " 'members',\n",
              " 'in',\n",
              " 'my',\n",
              " 'community',\n",
              " 'this',\n",
              " 'week',\n",
              " ':)']"
            ]
          },
          "metadata": {
            "tags": []
          },
          "execution_count": 28
        }
      ]
    },
    {
      "cell_type": "markdown",
      "metadata": {
        "id": "XunV23G9idRC"
      },
      "source": [
        "### Lemmatizing y normalizacion"
      ]
    },
    {
      "cell_type": "markdown",
      "metadata": {
        "id": "u3tAQ86qijEf"
      },
      "source": [
        "Dado que esta vez estamos analizando los datos en ingles, podemos utilizar las funciones de nltk directamente.  \n",
        "\n",
        "En vez de utilizar el algoritmo de SpaCy, utilizaremos los algoritmos de nltk directamente. En este caso la **lematizacion** sera llevada acabo por el algoritmo *wordnet*.   \n",
        " (https://www.nltk.org/_modules/nltk/corpus/reader/wordnet.html)  \n",
        "Pero en conjunto con *averaged_perceptron_tagger* que nos ayuda a mejorar nuestro proceso de lemmatizing pues toma en cuenta el tag que se el asigna dentro de la oracion.  \n",
        "(https://www.nltk.org/_modules/nltk/tag/perceptron.html)  \n",
        "  \n",
        "  Si deseas entender a mayor profundidar como funcionan los algoritmos de lemmatizacion de nltk y SpaCy revisa la siguiente documentacion:\n",
        "  https://www.machinelearningplus.com/nlp/lemmatization-examples-python/#wordnetlemmatizerwithappropriatepostag "
      ]
    },
    {
      "cell_type": "code",
      "metadata": {
        "id": "AWYAhG9big6Z",
        "outputId": "2cefe5cd-dcfe-495f-8ba2-8d0be2e3bb4d",
        "colab": {
          "base_uri": "https://localhost:8080/"
        }
      },
      "source": [
        "import nltk\n",
        "# Lemmatizer\n",
        "nltk.download('wordnet')\n",
        "# Tagger\n",
        "nltk.download('averaged_perceptron_tagger')\n",
        "from nltk.tag import pos_tag"
      ],
      "execution_count": 29,
      "outputs": [
        {
          "output_type": "stream",
          "text": [
            "[nltk_data] Downloading package wordnet to /root/nltk_data...\n",
            "[nltk_data]   Unzipping corpora/wordnet.zip.\n",
            "[nltk_data] Downloading package averaged_perceptron_tagger to\n",
            "[nltk_data]     /root/nltk_data...\n",
            "[nltk_data]   Unzipping taggers/averaged_perceptron_tagger.zip.\n"
          ],
          "name": "stdout"
        }
      ]
    },
    {
      "cell_type": "markdown",
      "metadata": {
        "id": "Orul18G7koKS"
      },
      "source": [
        "Creemos una funcion para lemmatizar usando los dos algoritmos que acabamos de importar. Dado que los tags producidos por el algoritmo pos_tag son diferentes a los que usa wordnet, es necesario codificarlos."
      ]
    },
    {
      "cell_type": "markdown",
      "metadata": {
        "id": "7tw8s-OMqP69"
      },
      "source": [
        "![image.png](data:image/png;base64,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)"
      ]
    },
    {
      "cell_type": "code",
      "metadata": {
        "id": "SRluknqukhZt"
      },
      "source": [
        "from nltk.tag import pos_tag\n",
        "from nltk.stem.wordnet import WordNetLemmatizer\n",
        "\n",
        "def lemmatize_tok_sentence(tw):\n",
        "    lemmatizer = WordNetLemmatizer()\n",
        "    lemmatized_sen = []\n",
        "    for word, tag in pos_tag(tw):\n",
        "        if tag.startswith('NN'):\n",
        "            pos = 'n'\n",
        "        elif tag.startswith('VB'):\n",
        "            pos = 'v'\n",
        "        elif tag.startswith('J'):\n",
        "            pos = 'a'\n",
        "        else:\n",
        "            pos = 'r'\n",
        "        lemmatized_sen.append(lemmatizer.lemmatize(word, pos))\n",
        "    return lemmatized_sen"
      ],
      "execution_count": 30,
      "outputs": []
    },
    {
      "cell_type": "code",
      "metadata": {
        "id": "n5CmdCM6lGO_",
        "outputId": "c21d8e16-6015-46e7-ae8f-cd3a195eafab",
        "colab": {
          "base_uri": "https://localhost:8080/"
        }
      },
      "source": [
        "print(positive_tweets_[0])\n",
        "lemmatize_tok_sentence(positive_tweets[0])"
      ],
      "execution_count": 31,
      "outputs": [
        {
          "output_type": "stream",
          "text": [
            "#FollowFriday @France_Inte @PKuchly57 @Milipol_Paris for being top engaged members in my community this week :)\n"
          ],
          "name": "stdout"
        },
        {
          "output_type": "execute_result",
          "data": {
            "text/plain": [
              "['#FollowFriday',\n",
              " '@France_Inte',\n",
              " '@PKuchly57',\n",
              " '@Milipol_Paris',\n",
              " 'for',\n",
              " 'be',\n",
              " 'top',\n",
              " 'engage',\n",
              " 'member',\n",
              " 'in',\n",
              " 'my',\n",
              " 'community',\n",
              " 'this',\n",
              " 'week',\n",
              " ':)']"
            ]
          },
          "metadata": {
            "tags": []
          },
          "execution_count": 31
        }
      ]
    },
    {
      "cell_type": "markdown",
      "metadata": {
        "id": "gxjVuhrlr_WI"
      },
      "source": [
        "### Limpieza de caracteres basura"
      ]
    },
    {
      "cell_type": "markdown",
      "metadata": {
        "id": "Weru1zDRsFsQ"
      },
      "source": [
        "Despues de revisar los datos notamos 3 tipos de palabras que probablemnte no nos sean de mucha ayuda.  \n",
        "  + \"handles\" que twitter utiliza para contestar\n",
        "  + links a otras paginas web (pude que nos sirvan)\n",
        "  + Puntuacion, pero no los smilies."
      ]
    },
    {
      "cell_type": "markdown",
      "metadata": {
        "id": "0COY6qNksqsU"
      },
      "source": [
        "Haremos uso de expresiones regulares para remover estas palabras. (Si tienes poblemas googlea, esta es una operacion muy comun). \n",
        "+ \"handles\": Estos comienzan con @ seguidos de una palbra sin espacios ->\n",
        "      \"(@[A-Za-z0-9_]+)\"\n",
        "+ \"link\": Comienzan con http -> \n",
        "\n",
        "      \"http[s]?://(?:[a-zA-Z]|[0-9]|[$-_@.&+#]|[!*\\(\\),]|(?:%[0-9a-fA-F][0-9a-fA-F]))+\"\n",
        "+ La puntuacion puede ser removida como stopword o puntuacion. Hay que tener cuidado especial, pues los smilies son formados por puntuacion [  :), :(  ]  \n",
        "  \n",
        "Podemos sustituir esta palabras por vacio o espacios."
      ]
    },
    {
      "cell_type": "code",
      "metadata": {
        "id": "Gr_li9tdujNx"
      },
      "source": [
        "import re, string\n",
        "from nltk.corpus import stopwords\n",
        "stop_words = stopwords.words('english')\n",
        "\n",
        "# Nota como pasamos las stopwords sugeridas por nltk\n",
        "def clean_lemmatize(tweet_tokens, stop_words = stopwords.words('english')):\n",
        "\n",
        "    cleaned_tokens = []\n",
        "    for token, tag in pos_tag(tweet_tokens):\n",
        "        # Limpiar url\n",
        "        token = re.sub('http[s]?://(?:[a-zA-Z]|[0-9]|[$-_@.&+#]'\\\n",
        "        '|[!*\\(\\),]|(?:%[0-9a-fA-F][0-9a-fA-F]))+',\"\", token)\n",
        "        # Limpiar handle\n",
        "        token = re.sub('(@[A-Za-z0-9_]+)',\"\", token)\n",
        "\n",
        "        # Tag for lemmatizer\n",
        "        if tag.startswith('NN'):\n",
        "            pos = 'n'\n",
        "        elif tag.startswith('VB'):\n",
        "            pos = 'v'\n",
        "        elif tag.startswith('J'):\n",
        "            pos = 'a'\n",
        "        else:\n",
        "            pos = 'r'\n",
        "        lemmatizer = WordNetLemmatizer()\n",
        "        token = lemmatizer.lemmatize(token, pos)\n",
        "\n",
        "        # Eliminar puntuacion o espacios\n",
        "        if len(token) > 0 and token not in string.punctuation and \\\n",
        "        token.lower() not in stop_words:\n",
        "            cleaned_tokens.append(token.lower())\n",
        "    return cleaned_tokens"
      ],
      "execution_count": 32,
      "outputs": []
    },
    {
      "cell_type": "code",
      "metadata": {
        "id": "gn9hXbPovrA2",
        "outputId": "8849a18a-f99a-4dc3-dc50-82cc173d9e6d",
        "colab": {
          "base_uri": "https://localhost:8080/"
        }
      },
      "source": [
        "print(positive_tweets_[0])\n",
        "clean_lemmatize(positive_tweets[0])"
      ],
      "execution_count": 33,
      "outputs": [
        {
          "output_type": "stream",
          "text": [
            "#FollowFriday @France_Inte @PKuchly57 @Milipol_Paris for being top engaged members in my community this week :)\n"
          ],
          "name": "stdout"
        },
        {
          "output_type": "execute_result",
          "data": {
            "text/plain": [
              "['#followfriday', 'top', 'engage', 'member', 'community', 'week', ':)']"
            ]
          },
          "metadata": {
            "tags": []
          },
          "execution_count": 33
        }
      ]
    },
    {
      "cell_type": "markdown",
      "metadata": {
        "id": "YWhqVfC_KXg9"
      },
      "source": [
        "Limpiemos los tweets"
      ]
    },
    {
      "cell_type": "code",
      "metadata": {
        "id": "e63w0s8eKFKV"
      },
      "source": [
        "pos_clean_tweets = list(map(clean_lemmatize, positive_tweets))\n",
        "neg_clean_tweets = list(map(clean_lemmatize, negative_tweets))"
      ],
      "execution_count": 34,
      "outputs": []
    },
    {
      "cell_type": "markdown",
      "metadata": {
        "id": "LWYf3pETMJue"
      },
      "source": [
        "### Contemos las palabras\n",
        "Para hacer mas eficiente nuestro codigo utilizaremos el keyword yield.   \n",
        "Yield regresa un generador, por lo que cualquier funcion que apliquemos al generador lo modifica.  \n",
        "En las celdas mas abajo usaremos la funcion de print, para revisar que nuestra funcion es correcta, pero al momento de utilizar el codigo debes eliminarla, pues afectara a nuestro generador yield.  \n",
        "Documentacion de yield: https://www.geeksforgeeks.org/use-yield-keyword-instead-return-keyword-python/ \n",
        "       \n",
        " **Alerta!**  \n",
        "Si tienes algun error en los siguientes bloques de codigo, incluyendo la parte de entranamiento o prediccion el modelo, probablemente se debe a yield. Regresa a esta parte y ejecuta el pipeline desde aqui. Dado que losd atos string o texto ocupan mucha memoria es mejor dejarlo asi.\n"
      ]
    },
    {
      "cell_type": "code",
      "metadata": {
        "id": "AJGBs9stMVWv"
      },
      "source": [
        "def extract_words(cleaned_tokens_list):\n",
        "    tokens = []\n",
        "    for tokens in cleaned_tokens_list:\n",
        "        for token in tokens:\n",
        "            yield token\n"
      ],
      "execution_count": 35,
      "outputs": []
    },
    {
      "cell_type": "code",
      "metadata": {
        "id": "VS73tNrp8Z7e"
      },
      "source": [
        "pos_clean_words = extract_words(pos_clean_tweets)\n",
        "neg_clean_words = extract_words(neg_clean_tweets)"
      ],
      "execution_count": 36,
      "outputs": []
    },
    {
      "cell_type": "code",
      "metadata": {
        "id": "-fW-jthD8A9B",
        "outputId": "156f23fa-546d-4e72-bd9b-63686332bfe8",
        "colab": {
          "base_uri": "https://localhost:8080/",
          "height": 37
        }
      },
      "source": [
        "from nltk import FreqDist\n",
        "pos_distribution = FreqDist(pos_clean_words)\n",
        "neg_distribution = FreqDist(neg_clean_words)\n",
        "'''No olvides comentar esto despues de revisar que la funcion funciona correc\n",
        "tamente '''\n",
        "# print('Positive Words')\n",
        "# print(pos_distribution.most_common(15))\n",
        "# print('\\n Negative Words')\n",
        "# print(neg_distribution.most_common(15))"
      ],
      "execution_count": 37,
      "outputs": [
        {
          "output_type": "execute_result",
          "data": {
            "application/vnd.google.colaboratory.intrinsic+json": {
              "type": "string"
            },
            "text/plain": [
              "'No olvides comentar esto despues de revisar que la funcion funciona correc\\ntamente '"
            ]
          },
          "metadata": {
            "tags": []
          },
          "execution_count": 37
        }
      ]
    },
    {
      "cell_type": "markdown",
      "metadata": {
        "id": "fqsZqbyuGP3M"
      },
      "source": [
        "Creemos una estructura de diccionario para representar nuestros datos. Esto facilitara su manipulacion y hara el codigo mas eficiente."
      ]
    },
    {
      "cell_type": "code",
      "metadata": {
        "id": "rPFwT2RYFkpG"
      },
      "source": [
        "def get_tweets_for_model(cleaned_tokens_list):\n",
        "    for tweet_tokens in cleaned_tokens_list:\n",
        "        yield dict([token, True] for token in tweet_tokens)"
      ],
      "execution_count": 38,
      "outputs": []
    },
    {
      "cell_type": "markdown",
      "metadata": {
        "id": "Z4hZFEUcIjpl"
      },
      "source": [
        "Visualizacion del retorno de nuestra funcion.  "
      ]
    },
    {
      "cell_type": "code",
      "metadata": {
        "id": "qZUkfDfIHce6",
        "outputId": "13034f34-a85e-43b9-a649-a74496c29346",
        "colab": {
          "base_uri": "https://localhost:8080/"
        }
      },
      "source": [
        "pos_tok_model_ = get_tweets_for_model(pos_clean_tweets[0:2])\n",
        "print([x for x in pos_tok_model_])"
      ],
      "execution_count": 39,
      "outputs": [
        {
          "output_type": "stream",
          "text": [
            "[{'#followfriday': True, 'top': True, 'engage': True, 'member': True, 'community': True, 'week': True, ':)': True}, {'hey': True, 'james': True, 'odd': True, ':/': True, 'please': True, 'call': True, 'contact': True, 'centre': True, '02392441234': True, 'able': True, 'assist': True, ':)': True, 'many': True, 'thanks': True}]\n"
          ],
          "name": "stdout"
        }
      ]
    },
    {
      "cell_type": "code",
      "metadata": {
        "id": "2UiNe-zLG8oa"
      },
      "source": [
        "pos_tok_model = get_tweets_for_model(pos_clean_tweets)\n",
        "neg_tok_model = get_tweets_for_model(neg_clean_tweets)"
      ],
      "execution_count": 40,
      "outputs": []
    },
    {
      "cell_type": "markdown",
      "metadata": {
        "id": "UPUTwRVdI53y"
      },
      "source": [
        "### Crear el Dataset  \n",
        "neg: Tweet Negativo  \n",
        "pos: Tweet Positivo"
      ]
    },
    {
      "cell_type": "code",
      "metadata": {
        "id": "G8dbykn6JCTC"
      },
      "source": [
        "import random\n",
        "\n",
        "pos_df = [(dict_, 'pos')\n",
        "          for dict_ in pos_tok_model]\n",
        "\n",
        "neg_df = [(dict_, 'neg')\n",
        "          for dict_ in neg_tok_model]\n",
        "\n",
        "df_tweet = pos_df + neg_df\n",
        "\n",
        "random.shuffle(df_tweet)\n",
        "\n",
        "n_train = 8000\n",
        "train = df_tweet[:n_train]\n",
        "test = df_tweet[n_train:]"
      ],
      "execution_count": 41,
      "outputs": []
    },
    {
      "cell_type": "code",
      "metadata": {
        "id": "Smy3Qh3ZloDh"
      },
      "source": [
        "random.shuffle(df_tweet)"
      ],
      "execution_count": 42,
      "outputs": []
    },
    {
      "cell_type": "markdown",
      "metadata": {
        "id": "QDZxFbSKJzFo"
      },
      "source": [
        "## Modelo: Naive Bayes"
      ]
    },
    {
      "cell_type": "markdown",
      "metadata": {
        "id": "Kx5F4PVzNUuJ"
      },
      "source": [
        "El siguiente bloque de codigo entrena un Naive Bayes.  \n",
        "El apartado de \"Most Informative features\" te muestra los tokens mas importantes, y el porcentaje o proporcion de aparicion. Ejemplo:  \n",
        "  \n",
        "\n",
        "---\n",
        "                      :( = True              neg : pos    =   2338.6 : 1.0\n",
        "\n",
        "\n",
        "---\n",
        "\n",
        "Implica que el caracter \":(\" aparece 2338 veces mas en tweets negativos."
      ]
    },
    {
      "cell_type": "code",
      "metadata": {
        "id": "RJ32lt3QKJVK",
        "outputId": "67ff28cf-fd56-41f3-f200-0365696f24ff",
        "colab": {
          "base_uri": "https://localhost:8080/"
        }
      },
      "source": [
        "from nltk import classify\n",
        "from nltk import NaiveBayesClassifier\n",
        "\n",
        "classifier = NaiveBayesClassifier.train(train)\n",
        "\n",
        "print(\"Accuracy in test is:\", classify.accuracy(classifier, test))\n",
        "print(classifier.show_most_informative_features(15))"
      ],
      "execution_count": 43,
      "outputs": [
        {
          "output_type": "stream",
          "text": [
            "Accuracy in test is: 0.997\n",
            "Most Informative Features\n",
            "                      :( = True              neg : pos    =   2367.4 : 1.0\n",
            "                      :) = True              pos : neg    =   1894.3 : 1.0\n",
            "                follower = True              pos : neg    =     39.1 : 1.0\n",
            "                    glad = True              pos : neg    =     23.7 : 1.0\n",
            "                     bam = True              pos : neg    =     21.7 : 1.0\n",
            "                     sad = True              neg : pos    =     21.1 : 1.0\n",
            "               community = True              pos : neg    =     17.1 : 1.0\n",
            "                    blog = True              pos : neg    =     15.7 : 1.0\n",
            "                     ugh = True              neg : pos    =     14.9 : 1.0\n",
            "                followed = True              neg : pos    =     14.9 : 1.0\n",
            "              appreciate = True              pos : neg    =     14.4 : 1.0\n",
            "                  arrive = True              pos : neg    =     14.2 : 1.0\n",
            "                     via = True              pos : neg    =     13.5 : 1.0\n",
            "                   let's = True              pos : neg    =     13.0 : 1.0\n",
            "                 welcome = True              pos : neg    =     12.4 : 1.0\n",
            "None\n"
          ],
          "name": "stdout"
        }
      ]
    },
    {
      "cell_type": "markdown",
      "metadata": {
        "id": "DEsnT_oZRnBw"
      },
      "source": [
        "# PyCaret"
      ]
    },
    {
      "cell_type": "markdown",
      "metadata": {
        "id": "-PYuc_OGR0FF"
      },
      "source": [
        "Ahora repitamos el ejercico anterior usando un pipeline de Pycaret.  \n",
        "**Documentacion PyCaret NLP**: https://pycaret.org/nlp/ "
      ]
    },
    {
      "cell_type": "code",
      "metadata": {
        "id": "d-SiXLhqdZki",
        "outputId": "071f96a3-3fbb-45bc-d6a0-df53f52986b5",
        "colab": {
          "base_uri": "https://localhost:8080/"
        }
      },
      "source": [
        "from pycaret.utils import enable_colab\n",
        "enable_colab()"
      ],
      "execution_count": 44,
      "outputs": [
        {
          "output_type": "stream",
          "text": [
            "Colab mode enabled.\n"
          ],
          "name": "stdout"
        }
      ]
    },
    {
      "cell_type": "code",
      "metadata": {
        "id": "kPrpUXrIRvBO",
        "outputId": "0f3ae035-c593-4c63-dfc2-997b49460a3a",
        "colab": {
          "base_uri": "https://localhost:8080/",
          "height": 203
        }
      },
      "source": [
        "# Importemos los datos\n",
        "from nltk.corpus import twitter_samples\n",
        "nltk.download('twitter_samples')\n",
        "\n",
        "positive_tweets_ = twitter_samples.strings('positive_tweets.json')\n",
        "negative_tweets_ = twitter_samples.strings('negative_tweets.json')\n",
        "print('\\n Glipse Data')\n",
        "positive_tweets_[0:5]"
      ],
      "execution_count": 45,
      "outputs": [
        {
          "output_type": "display_data",
          "data": {
            "text/html": [
              "\n",
              "            <script src=\"/static/components/requirejs/require.js\"></script>\n",
              "            <script>\n",
              "              requirejs.config({\n",
              "                paths: {\n",
              "                  base: '/static/base',\n",
              "                  plotly: 'https://cdn.plot.ly/plotly-latest.min.js?noext',\n",
              "                },\n",
              "              });\n",
              "            </script>\n",
              "            "
            ],
            "text/plain": [
              "<IPython.core.display.HTML object>"
            ]
          },
          "metadata": {
            "tags": []
          }
        },
        {
          "output_type": "stream",
          "text": [
            "[nltk_data] Downloading package twitter_samples to /root/nltk_data...\n",
            "[nltk_data]   Package twitter_samples is already up-to-date!\n",
            "\n",
            " Glipse Data\n"
          ],
          "name": "stdout"
        },
        {
          "output_type": "execute_result",
          "data": {
            "text/plain": [
              "['#FollowFriday @France_Inte @PKuchly57 @Milipol_Paris for being top engaged members in my community this week :)',\n",
              " '@Lamb2ja Hey James! How odd :/ Please call our Contact Centre on 02392441234 and we will be able to assist you :) Many thanks!',\n",
              " '@DespiteOfficial we had a listen last night :) As You Bleed is an amazing track. When are you in Scotland?!',\n",
              " '@97sides CONGRATS :)',\n",
              " 'yeaaaah yippppy!!!  my accnt verified rqst has succeed got a blue tick mark on my fb profile :) in 15 days']"
            ]
          },
          "metadata": {
            "tags": []
          },
          "execution_count": 45
        }
      ]
    },
    {
      "cell_type": "markdown",
      "metadata": {
        "id": "DG03CvakTPqA"
      },
      "source": [
        "Creemos un pandas con los datos"
      ]
    },
    {
      "cell_type": "code",
      "metadata": {
        "id": "iMwYXszfSZ0Y",
        "outputId": "c6cb0b2c-f9e4-451e-a2b3-4a6275e102f7",
        "colab": {
          "base_uri": "https://localhost:8080/",
          "height": 424
        }
      },
      "source": [
        "df_pycaret_pos = pd.DataFrame.from_dict({\n",
        "    'twit':positive_tweets_, 'sentimiento':'pos'\n",
        "})\n",
        "\n",
        "df_pycaret_neg = pd.DataFrame.from_dict({\n",
        "    'twit':negative_tweets_, 'sentimiento':'neg'\n",
        "})\n",
        "\n",
        "df_pycaret = pd.concat([df_pycaret_pos, df_pycaret_neg], ignore_index=True)\n",
        "df_pycaret = df_pycaret.sample(frac=1).reset_index(drop=True)\n",
        "df_pycaret"
      ],
      "execution_count": 87,
      "outputs": [
        {
          "output_type": "display_data",
          "data": {
            "text/html": [
              "\n",
              "            <script src=\"/static/components/requirejs/require.js\"></script>\n",
              "            <script>\n",
              "              requirejs.config({\n",
              "                paths: {\n",
              "                  base: '/static/base',\n",
              "                  plotly: 'https://cdn.plot.ly/plotly-latest.min.js?noext',\n",
              "                },\n",
              "              });\n",
              "            </script>\n",
              "            "
            ],
            "text/plain": [
              "<IPython.core.display.HTML object>"
            ]
          },
          "metadata": {
            "tags": []
          }
        },
        {
          "output_type": "execute_result",
          "data": {
            "text/html": [
              "<div>\n",
              "<style scoped>\n",
              "    .dataframe tbody tr th:only-of-type {\n",
              "        vertical-align: middle;\n",
              "    }\n",
              "\n",
              "    .dataframe tbody tr th {\n",
              "        vertical-align: top;\n",
              "    }\n",
              "\n",
              "    .dataframe thead th {\n",
              "        text-align: right;\n",
              "    }\n",
              "</style>\n",
              "<table border=\"1\" class=\"dataframe\">\n",
              "  <thead>\n",
              "    <tr style=\"text-align: right;\">\n",
              "      <th></th>\n",
              "      <th>twit</th>\n",
              "      <th>sentimiento</th>\n",
              "    </tr>\n",
              "  </thead>\n",
              "  <tbody>\n",
              "    <tr>\n",
              "      <th>0</th>\n",
              "      <td>almost 2/3 done with this. Sa lahat ng araw, b...</td>\n",
              "      <td>neg</td>\n",
              "    </tr>\n",
              "    <tr>\n",
              "      <th>1</th>\n",
              "      <td>@etherealmind such mental strength! :D</td>\n",
              "      <td>pos</td>\n",
              "    </tr>\n",
              "    <tr>\n",
              "      <th>2</th>\n",
              "      <td>@shounshounette @yassmin_a so kind :)</td>\n",
              "      <td>pos</td>\n",
              "    </tr>\n",
              "    <tr>\n",
              "      <th>3</th>\n",
              "      <td>We love #Friday :)</td>\n",
              "      <td>pos</td>\n",
              "    </tr>\n",
              "    <tr>\n",
              "      <th>4</th>\n",
              "      <td>@gdicko66 give me an hour and message again wi...</td>\n",
              "      <td>pos</td>\n",
              "    </tr>\n",
              "    <tr>\n",
              "      <th>...</th>\n",
              "      <td>...</td>\n",
              "      <td>...</td>\n",
              "    </tr>\n",
              "    <tr>\n",
              "      <th>9995</th>\n",
              "      <td>@_andree3000 @swaveyjayy_ @Dearnataliee I just...</td>\n",
              "      <td>pos</td>\n",
              "    </tr>\n",
              "    <tr>\n",
              "      <th>9996</th>\n",
              "      <td>Hotel for Dogs was pretty sad too where the br...</td>\n",
              "      <td>neg</td>\n",
              "    </tr>\n",
              "    <tr>\n",
              "      <th>9997</th>\n",
              "      <td>\"@jayt_jubby: @SinethembaMpaxa yes hun and you...</td>\n",
              "      <td>pos</td>\n",
              "    </tr>\n",
              "    <tr>\n",
              "      <th>9998</th>\n",
              "      <td>@mbukmagazine Pet Mouse has to be the winner, ...</td>\n",
              "      <td>pos</td>\n",
              "    </tr>\n",
              "    <tr>\n",
              "      <th>9999</th>\n",
              "      <td>@CaptainTabouli :D you are welcome</td>\n",
              "      <td>pos</td>\n",
              "    </tr>\n",
              "  </tbody>\n",
              "</table>\n",
              "<p>10000 rows × 2 columns</p>\n",
              "</div>"
            ],
            "text/plain": [
              "                                                   twit sentimiento\n",
              "0     almost 2/3 done with this. Sa lahat ng araw, b...         neg\n",
              "1                @etherealmind such mental strength! :D         pos\n",
              "2                 @shounshounette @yassmin_a so kind :)         pos\n",
              "3                                    We love #Friday :)         pos\n",
              "4     @gdicko66 give me an hour and message again wi...         pos\n",
              "...                                                 ...         ...\n",
              "9995  @_andree3000 @swaveyjayy_ @Dearnataliee I just...         pos\n",
              "9996  Hotel for Dogs was pretty sad too where the br...         neg\n",
              "9997  \"@jayt_jubby: @SinethembaMpaxa yes hun and you...         pos\n",
              "9998  @mbukmagazine Pet Mouse has to be the winner, ...         pos\n",
              "9999                 @CaptainTabouli :D you are welcome         pos\n",
              "\n",
              "[10000 rows x 2 columns]"
            ]
          },
          "metadata": {
            "tags": []
          },
          "execution_count": 87
        }
      ]
    },
    {
      "cell_type": "code",
      "metadata": {
        "id": "Es28j6piS7lm",
        "outputId": "83915ee3-bc52-4219-8501-861a5d22c6de",
        "colab": {
          "base_uri": "https://localhost:8080/",
          "height": 126,
          "referenced_widgets": [
            "0f174c09284d463dab21b56683ed293f",
            "d95b6131f83545c58c1a80d9b5a01488",
            "8340f8f76ca24f9fac9d679ad0d60972"
          ]
        }
      },
      "source": [
        "from pycaret.nlp import *\n",
        "from nltk.corpus import stopwords\n",
        "\n",
        "stop_words = stopwords.words('english')\n",
        "# Creamos una lista con nuestros textos\n",
        "text_list = list(df_pycaret['twit'])\n",
        "caret_set = setup(data = df_pycaret, target='twit',\n",
        "                  custom_stopwords=stop_words, session_id=13)"
      ],
      "execution_count": 69,
      "outputs": [
        {
          "output_type": "display_data",
          "data": {
            "text/html": [
              "<style  type=\"text/css\" >\n",
              "</style><table id=\"T_b538ee76_1b4f_11eb_8c70_0242ac1c0002\" ><thead>    <tr>        <th class=\"col_heading level0 col0\" >Description</th>        <th class=\"col_heading level0 col1\" >Value</th>    </tr></thead><tbody>\n",
              "                <tr>\n",
              "                                <td id=\"T_b538ee76_1b4f_11eb_8c70_0242ac1c0002row0_col0\" class=\"data row0 col0\" >session_id</td>\n",
              "                        <td id=\"T_b538ee76_1b4f_11eb_8c70_0242ac1c0002row0_col1\" class=\"data row0 col1\" >21</td>\n",
              "            </tr>\n",
              "            <tr>\n",
              "                                <td id=\"T_b538ee76_1b4f_11eb_8c70_0242ac1c0002row1_col0\" class=\"data row1 col0\" >Documents</td>\n",
              "                        <td id=\"T_b538ee76_1b4f_11eb_8c70_0242ac1c0002row1_col1\" class=\"data row1 col1\" >10000</td>\n",
              "            </tr>\n",
              "            <tr>\n",
              "                                <td id=\"T_b538ee76_1b4f_11eb_8c70_0242ac1c0002row2_col0\" class=\"data row2 col0\" >Vocab Size</td>\n",
              "                        <td id=\"T_b538ee76_1b4f_11eb_8c70_0242ac1c0002row2_col1\" class=\"data row2 col1\" >7559</td>\n",
              "            </tr>\n",
              "            <tr>\n",
              "                                <td id=\"T_b538ee76_1b4f_11eb_8c70_0242ac1c0002row3_col0\" class=\"data row3 col0\" >Custom Stopwords</td>\n",
              "                        <td id=\"T_b538ee76_1b4f_11eb_8c70_0242ac1c0002row3_col1\" class=\"data row3 col1\" >True</td>\n",
              "            </tr>\n",
              "    </tbody></table>"
            ],
            "text/plain": [
              "<pandas.io.formats.style.Styler at 0x7f8525ea9f98>"
            ]
          },
          "metadata": {
            "tags": []
          }
        }
      ]
    },
    {
      "cell_type": "code",
      "metadata": {
        "id": "0cIneNj3T-Qi",
        "outputId": "abfde6ca-79df-4643-e9ce-ce0273d00cb1",
        "colab": {
          "base_uri": "https://localhost:8080/",
          "height": 206,
          "referenced_widgets": [
            "c2d4432f810b47c68ce33d1bd0eda159",
            "6987af5d934a47f78c09f5755de8e033",
            "aec1812c2a7c4a64bd7af67506fc19ec",
            "c2e999a9a07f428788b7e02dba3d299c",
            "a311fd2903bc4c18a11a69ab237c552d",
            "e0c0bf703a5c440f91c9a3f90ed077da"
          ]
        }
      },
      "source": [
        "lda = create_model('lda', multi_core = True)\n",
        "print(lda)\n",
        "lda_results = assign_model(lda)\n",
        "lda_results.head()"
      ],
      "execution_count": 78,
      "outputs": [
        {
          "output_type": "execute_result",
          "data": {
            "text/html": [
              "<div>\n",
              "<style scoped>\n",
              "    .dataframe tbody tr th:only-of-type {\n",
              "        vertical-align: middle;\n",
              "    }\n",
              "\n",
              "    .dataframe tbody tr th {\n",
              "        vertical-align: top;\n",
              "    }\n",
              "\n",
              "    .dataframe thead th {\n",
              "        text-align: right;\n",
              "    }\n",
              "</style>\n",
              "<table border=\"1\" class=\"dataframe\">\n",
              "  <thead>\n",
              "    <tr style=\"text-align: right;\">\n",
              "      <th></th>\n",
              "      <th>twit</th>\n",
              "      <th>sentimiento</th>\n",
              "      <th>Topic_0</th>\n",
              "      <th>Topic_1</th>\n",
              "      <th>Topic_2</th>\n",
              "      <th>Topic_3</th>\n",
              "      <th>Dominant_Topic</th>\n",
              "      <th>Perc_Dominant_Topic</th>\n",
              "    </tr>\n",
              "  </thead>\n",
              "  <tbody>\n",
              "    <tr>\n",
              "      <th>0</th>\n",
              "      <td>pkuchly week</td>\n",
              "      <td>pos</td>\n",
              "      <td>0.083708</td>\n",
              "      <td>0.748951</td>\n",
              "      <td>0.083646</td>\n",
              "      <td>0.083696</td>\n",
              "      <td>Topic 1</td>\n",
              "      <td>0.75</td>\n",
              "    </tr>\n",
              "    <tr>\n",
              "      <th>1</th>\n",
              "      <td>lambja call able assist many thank</td>\n",
              "      <td>pos</td>\n",
              "      <td>0.198679</td>\n",
              "      <td>0.729570</td>\n",
              "      <td>0.035817</td>\n",
              "      <td>0.035934</td>\n",
              "      <td>Topic 1</td>\n",
              "      <td>0.73</td>\n",
              "    </tr>\n",
              "    <tr>\n",
              "      <th>2</th>\n",
              "      <td>listen bleed amazing track scotland</td>\n",
              "      <td>pos</td>\n",
              "      <td>0.042918</td>\n",
              "      <td>0.783442</td>\n",
              "      <td>0.041943</td>\n",
              "      <td>0.131697</td>\n",
              "      <td>Topic 1</td>\n",
              "      <td>0.78</td>\n",
              "    </tr>\n",
              "    <tr>\n",
              "      <th>3</th>\n",
              "      <td>side congrat</td>\n",
              "      <td>pos</td>\n",
              "      <td>0.083358</td>\n",
              "      <td>0.083354</td>\n",
              "      <td>0.417010</td>\n",
              "      <td>0.416278</td>\n",
              "      <td>Topic 2</td>\n",
              "      <td>0.42</td>\n",
              "    </tr>\n",
              "    <tr>\n",
              "      <th>4</th>\n",
              "      <td>verify succeed get tick mark profile day</td>\n",
              "      <td>pos</td>\n",
              "      <td>0.904684</td>\n",
              "      <td>0.031987</td>\n",
              "      <td>0.031854</td>\n",
              "      <td>0.031474</td>\n",
              "      <td>Topic 0</td>\n",
              "      <td>0.90</td>\n",
              "    </tr>\n",
              "  </tbody>\n",
              "</table>\n",
              "</div>"
            ],
            "text/plain": [
              "                                       twit  ... Perc_Dominant_Topic\n",
              "0                              pkuchly week  ...                0.75\n",
              "1        lambja call able assist many thank  ...                0.73\n",
              "2       listen bleed amazing track scotland  ...                0.78\n",
              "3                              side congrat  ...                0.42\n",
              "4  verify succeed get tick mark profile day  ...                0.90\n",
              "\n",
              "[5 rows x 8 columns]"
            ]
          },
          "metadata": {
            "tags": []
          },
          "execution_count": 78
        }
      ]
    },
    {
      "cell_type": "code",
      "metadata": {
        "id": "OGHUC5q4s7Bp",
        "outputId": "c9cb9eaa-8c3a-4e70-f6b5-bb01f0ef8f70",
        "colab": {
          "base_uri": "https://localhost:8080/",
          "height": 206
        }
      },
      "source": [
        "df = lda_results.drop(['twit', 'Dominant_Topic', 'Perc_Dominant_Topic'],axis=1)\n",
        "df.head()"
      ],
      "execution_count": 82,
      "outputs": [
        {
          "output_type": "display_data",
          "data": {
            "text/html": [
              "\n",
              "            <script src=\"/static/components/requirejs/require.js\"></script>\n",
              "            <script>\n",
              "              requirejs.config({\n",
              "                paths: {\n",
              "                  base: '/static/base',\n",
              "                  plotly: 'https://cdn.plot.ly/plotly-latest.min.js?noext',\n",
              "                },\n",
              "              });\n",
              "            </script>\n",
              "            "
            ],
            "text/plain": [
              "<IPython.core.display.HTML object>"
            ]
          },
          "metadata": {
            "tags": []
          }
        },
        {
          "output_type": "execute_result",
          "data": {
            "text/html": [
              "<div>\n",
              "<style scoped>\n",
              "    .dataframe tbody tr th:only-of-type {\n",
              "        vertical-align: middle;\n",
              "    }\n",
              "\n",
              "    .dataframe tbody tr th {\n",
              "        vertical-align: top;\n",
              "    }\n",
              "\n",
              "    .dataframe thead th {\n",
              "        text-align: right;\n",
              "    }\n",
              "</style>\n",
              "<table border=\"1\" class=\"dataframe\">\n",
              "  <thead>\n",
              "    <tr style=\"text-align: right;\">\n",
              "      <th></th>\n",
              "      <th>sentimiento</th>\n",
              "      <th>Topic_0</th>\n",
              "      <th>Topic_1</th>\n",
              "      <th>Topic_2</th>\n",
              "      <th>Topic_3</th>\n",
              "    </tr>\n",
              "  </thead>\n",
              "  <tbody>\n",
              "    <tr>\n",
              "      <th>0</th>\n",
              "      <td>pos</td>\n",
              "      <td>0.083708</td>\n",
              "      <td>0.748951</td>\n",
              "      <td>0.083646</td>\n",
              "      <td>0.083696</td>\n",
              "    </tr>\n",
              "    <tr>\n",
              "      <th>1</th>\n",
              "      <td>pos</td>\n",
              "      <td>0.198679</td>\n",
              "      <td>0.729570</td>\n",
              "      <td>0.035817</td>\n",
              "      <td>0.035934</td>\n",
              "    </tr>\n",
              "    <tr>\n",
              "      <th>2</th>\n",
              "      <td>pos</td>\n",
              "      <td>0.042918</td>\n",
              "      <td>0.783442</td>\n",
              "      <td>0.041943</td>\n",
              "      <td>0.131697</td>\n",
              "    </tr>\n",
              "    <tr>\n",
              "      <th>3</th>\n",
              "      <td>pos</td>\n",
              "      <td>0.083358</td>\n",
              "      <td>0.083354</td>\n",
              "      <td>0.417010</td>\n",
              "      <td>0.416278</td>\n",
              "    </tr>\n",
              "    <tr>\n",
              "      <th>4</th>\n",
              "      <td>pos</td>\n",
              "      <td>0.904684</td>\n",
              "      <td>0.031987</td>\n",
              "      <td>0.031854</td>\n",
              "      <td>0.031474</td>\n",
              "    </tr>\n",
              "  </tbody>\n",
              "</table>\n",
              "</div>"
            ],
            "text/plain": [
              "  sentimiento   Topic_0   Topic_1   Topic_2   Topic_3\n",
              "0         pos  0.083708  0.748951  0.083646  0.083696\n",
              "1         pos  0.198679  0.729570  0.035817  0.035934\n",
              "2         pos  0.042918  0.783442  0.041943  0.131697\n",
              "3         pos  0.083358  0.083354  0.417010  0.416278\n",
              "4         pos  0.904684  0.031987  0.031854  0.031474"
            ]
          },
          "metadata": {
            "tags": []
          },
          "execution_count": 82
        }
      ]
    },
    {
      "cell_type": "code",
      "metadata": {
        "id": "WKaGFqLQuC3v",
        "outputId": "cc7dc759-264e-4967-b708-7094afc61f7a",
        "colab": {
          "base_uri": "https://localhost:8080/",
          "height": 17
        }
      },
      "source": [
        "from pycaret.classification import *"
      ],
      "execution_count": 83,
      "outputs": [
        {
          "output_type": "display_data",
          "data": {
            "text/html": [
              "\n",
              "            <script src=\"/static/components/requirejs/require.js\"></script>\n",
              "            <script>\n",
              "              requirejs.config({\n",
              "                paths: {\n",
              "                  base: '/static/base',\n",
              "                  plotly: 'https://cdn.plot.ly/plotly-latest.min.js?noext',\n",
              "                },\n",
              "              });\n",
              "            </script>\n",
              "            "
            ],
            "text/plain": [
              "<IPython.core.display.HTML object>"
            ]
          },
          "metadata": {
            "tags": []
          }
        }
      ]
    },
    {
      "cell_type": "code",
      "metadata": {
        "id": "sV_tYfrtuGmZ",
        "outputId": "6414f6bc-0092-41f7-e909-92959733e4aa",
        "colab": {
          "base_uri": "https://localhost:8080/",
          "height": 1000,
          "referenced_widgets": [
            "eec231d83e2b4c47bdad9a0e418fa704",
            "8e939e126c6f4e51a52bfb9d288b1826",
            "8a499896d62642c9a05a3306df2344bc",
            "b16b508bde5f49a9b9460f17fd51d13d",
            "5884215dea4d4018af0be31447225802",
            "14f46ff6954840a7a76b7a5de5657bfa"
          ]
        }
      },
      "source": [
        "pce_1 = setup(data = df, target = 'sentimiento', session_id = 13,\n",
        "              train_size = 0.85)"
      ],
      "execution_count": 85,
      "outputs": [
        {
          "output_type": "display_data",
          "data": {
            "text/html": [
              "<div>\n",
              "<style scoped>\n",
              "    .dataframe tbody tr th:only-of-type {\n",
              "        vertical-align: middle;\n",
              "    }\n",
              "\n",
              "    .dataframe tbody tr th {\n",
              "        vertical-align: top;\n",
              "    }\n",
              "\n",
              "    .dataframe thead th {\n",
              "        text-align: right;\n",
              "    }\n",
              "</style>\n",
              "<table border=\"1\" class=\"dataframe\">\n",
              "  <thead>\n",
              "    <tr style=\"text-align: right;\">\n",
              "      <th></th>\n",
              "      <th>Description</th>\n",
              "      <th>Value</th>\n",
              "    </tr>\n",
              "  </thead>\n",
              "  <tbody>\n",
              "    <tr>\n",
              "      <th>0</th>\n",
              "      <td>session_id</td>\n",
              "      <td>5</td>\n",
              "    </tr>\n",
              "    <tr>\n",
              "      <th>1</th>\n",
              "      <td>Target</td>\n",
              "      <td>sentimiento</td>\n",
              "    </tr>\n",
              "    <tr>\n",
              "      <th>2</th>\n",
              "      <td>Target Type</td>\n",
              "      <td>Binary</td>\n",
              "    </tr>\n",
              "    <tr>\n",
              "      <th>3</th>\n",
              "      <td>Label Encoded</td>\n",
              "      <td>neg: 0, pos: 1</td>\n",
              "    </tr>\n",
              "    <tr>\n",
              "      <th>4</th>\n",
              "      <td>Original Data</td>\n",
              "      <td>(10000, 5)</td>\n",
              "    </tr>\n",
              "    <tr>\n",
              "      <th>5</th>\n",
              "      <td>Missing Values</td>\n",
              "      <td>False</td>\n",
              "    </tr>\n",
              "    <tr>\n",
              "      <th>6</th>\n",
              "      <td>Numeric Features</td>\n",
              "      <td>4</td>\n",
              "    </tr>\n",
              "    <tr>\n",
              "      <th>7</th>\n",
              "      <td>Categorical Features</td>\n",
              "      <td>0</td>\n",
              "    </tr>\n",
              "    <tr>\n",
              "      <th>8</th>\n",
              "      <td>Ordinal Features</td>\n",
              "      <td>False</td>\n",
              "    </tr>\n",
              "    <tr>\n",
              "      <th>9</th>\n",
              "      <td>High Cardinality Features</td>\n",
              "      <td>False</td>\n",
              "    </tr>\n",
              "    <tr>\n",
              "      <th>10</th>\n",
              "      <td>High Cardinality Method</td>\n",
              "      <td>None</td>\n",
              "    </tr>\n",
              "    <tr>\n",
              "      <th>11</th>\n",
              "      <td>Transformed Train Set</td>\n",
              "      <td>(8499, 4)</td>\n",
              "    </tr>\n",
              "    <tr>\n",
              "      <th>12</th>\n",
              "      <td>Transformed Test Set</td>\n",
              "      <td>(1501, 4)</td>\n",
              "    </tr>\n",
              "    <tr>\n",
              "      <th>13</th>\n",
              "      <td>Shuffle Train-Test</td>\n",
              "      <td>True</td>\n",
              "    </tr>\n",
              "    <tr>\n",
              "      <th>14</th>\n",
              "      <td>Stratify Train-Test</td>\n",
              "      <td>False</td>\n",
              "    </tr>\n",
              "    <tr>\n",
              "      <th>15</th>\n",
              "      <td>Fold Generator</td>\n",
              "      <td>StratifiedKFold</td>\n",
              "    </tr>\n",
              "    <tr>\n",
              "      <th>16</th>\n",
              "      <td>Fold Number</td>\n",
              "      <td>10</td>\n",
              "    </tr>\n",
              "    <tr>\n",
              "      <th>17</th>\n",
              "      <td>CPU Jobs</td>\n",
              "      <td>-1</td>\n",
              "    </tr>\n",
              "    <tr>\n",
              "      <th>18</th>\n",
              "      <td>Use GPU</td>\n",
              "      <td>False</td>\n",
              "    </tr>\n",
              "    <tr>\n",
              "      <th>19</th>\n",
              "      <td>Log Experiment</td>\n",
              "      <td>False</td>\n",
              "    </tr>\n",
              "    <tr>\n",
              "      <th>20</th>\n",
              "      <td>Experiment Name</td>\n",
              "      <td>clf-default-name</td>\n",
              "    </tr>\n",
              "    <tr>\n",
              "      <th>21</th>\n",
              "      <td>USI</td>\n",
              "      <td>a862</td>\n",
              "    </tr>\n",
              "    <tr>\n",
              "      <th>22</th>\n",
              "      <td>Imputation Type</td>\n",
              "      <td>simple</td>\n",
              "    </tr>\n",
              "    <tr>\n",
              "      <th>23</th>\n",
              "      <td>Iterative Imputation Iteration</td>\n",
              "      <td>None</td>\n",
              "    </tr>\n",
              "    <tr>\n",
              "      <th>24</th>\n",
              "      <td>Numeric Imputer</td>\n",
              "      <td>mean</td>\n",
              "    </tr>\n",
              "    <tr>\n",
              "      <th>25</th>\n",
              "      <td>Iterative Imputation Numeric Model</td>\n",
              "      <td>None</td>\n",
              "    </tr>\n",
              "    <tr>\n",
              "      <th>26</th>\n",
              "      <td>Categorical Imputer</td>\n",
              "      <td>constant</td>\n",
              "    </tr>\n",
              "    <tr>\n",
              "      <th>27</th>\n",
              "      <td>Iterative Imputation Categorical Model</td>\n",
              "      <td>None</td>\n",
              "    </tr>\n",
              "    <tr>\n",
              "      <th>28</th>\n",
              "      <td>Unknown Categoricals Handling</td>\n",
              "      <td>least_frequent</td>\n",
              "    </tr>\n",
              "    <tr>\n",
              "      <th>29</th>\n",
              "      <td>Normalize</td>\n",
              "      <td>False</td>\n",
              "    </tr>\n",
              "    <tr>\n",
              "      <th>30</th>\n",
              "      <td>Normalize Method</td>\n",
              "      <td>None</td>\n",
              "    </tr>\n",
              "    <tr>\n",
              "      <th>31</th>\n",
              "      <td>Transformation</td>\n",
              "      <td>False</td>\n",
              "    </tr>\n",
              "    <tr>\n",
              "      <th>32</th>\n",
              "      <td>Transformation Method</td>\n",
              "      <td>None</td>\n",
              "    </tr>\n",
              "    <tr>\n",
              "      <th>33</th>\n",
              "      <td>PCA</td>\n",
              "      <td>False</td>\n",
              "    </tr>\n",
              "    <tr>\n",
              "      <th>34</th>\n",
              "      <td>PCA Method</td>\n",
              "      <td>None</td>\n",
              "    </tr>\n",
              "    <tr>\n",
              "      <th>35</th>\n",
              "      <td>PCA Components</td>\n",
              "      <td>None</td>\n",
              "    </tr>\n",
              "    <tr>\n",
              "      <th>36</th>\n",
              "      <td>Ignore Low Variance</td>\n",
              "      <td>False</td>\n",
              "    </tr>\n",
              "    <tr>\n",
              "      <th>37</th>\n",
              "      <td>Combine Rare Levels</td>\n",
              "      <td>False</td>\n",
              "    </tr>\n",
              "    <tr>\n",
              "      <th>38</th>\n",
              "      <td>Rare Level Threshold</td>\n",
              "      <td>None</td>\n",
              "    </tr>\n",
              "    <tr>\n",
              "      <th>39</th>\n",
              "      <td>Numeric Binning</td>\n",
              "      <td>False</td>\n",
              "    </tr>\n",
              "    <tr>\n",
              "      <th>40</th>\n",
              "      <td>Remove Outliers</td>\n",
              "      <td>False</td>\n",
              "    </tr>\n",
              "    <tr>\n",
              "      <th>41</th>\n",
              "      <td>Outliers Threshold</td>\n",
              "      <td>None</td>\n",
              "    </tr>\n",
              "    <tr>\n",
              "      <th>42</th>\n",
              "      <td>Remove Multicollinearity</td>\n",
              "      <td>False</td>\n",
              "    </tr>\n",
              "    <tr>\n",
              "      <th>43</th>\n",
              "      <td>Multicollinearity Threshold</td>\n",
              "      <td>None</td>\n",
              "    </tr>\n",
              "    <tr>\n",
              "      <th>44</th>\n",
              "      <td>Clustering</td>\n",
              "      <td>False</td>\n",
              "    </tr>\n",
              "    <tr>\n",
              "      <th>45</th>\n",
              "      <td>Clustering Iteration</td>\n",
              "      <td>None</td>\n",
              "    </tr>\n",
              "    <tr>\n",
              "      <th>46</th>\n",
              "      <td>Polynomial Features</td>\n",
              "      <td>False</td>\n",
              "    </tr>\n",
              "    <tr>\n",
              "      <th>47</th>\n",
              "      <td>Polynomial Degree</td>\n",
              "      <td>None</td>\n",
              "    </tr>\n",
              "    <tr>\n",
              "      <th>48</th>\n",
              "      <td>Trignometry Features</td>\n",
              "      <td>False</td>\n",
              "    </tr>\n",
              "    <tr>\n",
              "      <th>49</th>\n",
              "      <td>Polynomial Threshold</td>\n",
              "      <td>None</td>\n",
              "    </tr>\n",
              "    <tr>\n",
              "      <th>50</th>\n",
              "      <td>Group Features</td>\n",
              "      <td>False</td>\n",
              "    </tr>\n",
              "    <tr>\n",
              "      <th>51</th>\n",
              "      <td>Feature Selection</td>\n",
              "      <td>False</td>\n",
              "    </tr>\n",
              "    <tr>\n",
              "      <th>52</th>\n",
              "      <td>Features Selection Threshold</td>\n",
              "      <td>None</td>\n",
              "    </tr>\n",
              "    <tr>\n",
              "      <th>53</th>\n",
              "      <td>Feature Interaction</td>\n",
              "      <td>False</td>\n",
              "    </tr>\n",
              "    <tr>\n",
              "      <th>54</th>\n",
              "      <td>Feature Ratio</td>\n",
              "      <td>False</td>\n",
              "    </tr>\n",
              "    <tr>\n",
              "      <th>55</th>\n",
              "      <td>Interaction Threshold</td>\n",
              "      <td>None</td>\n",
              "    </tr>\n",
              "    <tr>\n",
              "      <th>56</th>\n",
              "      <td>Fix Imbalance</td>\n",
              "      <td>False</td>\n",
              "    </tr>\n",
              "    <tr>\n",
              "      <th>57</th>\n",
              "      <td>Fix Imbalance Method</td>\n",
              "      <td>SMOTE</td>\n",
              "    </tr>\n",
              "  </tbody>\n",
              "</table>\n",
              "</div>"
            ],
            "text/plain": [
              "                               Description             Value\n",
              "0                               session_id                 5\n",
              "1                                   Target       sentimiento\n",
              "2                              Target Type            Binary\n",
              "3                            Label Encoded    neg: 0, pos: 1\n",
              "4                            Original Data        (10000, 5)\n",
              "5                           Missing Values             False\n",
              "6                         Numeric Features                 4\n",
              "7                     Categorical Features                 0\n",
              "8                         Ordinal Features             False\n",
              "9                High Cardinality Features             False\n",
              "10                 High Cardinality Method              None\n",
              "11                   Transformed Train Set         (8499, 4)\n",
              "12                    Transformed Test Set         (1501, 4)\n",
              "13                      Shuffle Train-Test              True\n",
              "14                     Stratify Train-Test             False\n",
              "15                          Fold Generator   StratifiedKFold\n",
              "16                             Fold Number                10\n",
              "17                                CPU Jobs                -1\n",
              "18                                 Use GPU             False\n",
              "19                          Log Experiment             False\n",
              "20                         Experiment Name  clf-default-name\n",
              "21                                     USI              a862\n",
              "22                         Imputation Type            simple\n",
              "23          Iterative Imputation Iteration              None\n",
              "24                         Numeric Imputer              mean\n",
              "25      Iterative Imputation Numeric Model              None\n",
              "26                     Categorical Imputer          constant\n",
              "27  Iterative Imputation Categorical Model              None\n",
              "28           Unknown Categoricals Handling    least_frequent\n",
              "29                               Normalize             False\n",
              "30                        Normalize Method              None\n",
              "31                          Transformation             False\n",
              "32                   Transformation Method              None\n",
              "33                                     PCA             False\n",
              "34                              PCA Method              None\n",
              "35                          PCA Components              None\n",
              "36                     Ignore Low Variance             False\n",
              "37                     Combine Rare Levels             False\n",
              "38                    Rare Level Threshold              None\n",
              "39                         Numeric Binning             False\n",
              "40                         Remove Outliers             False\n",
              "41                      Outliers Threshold              None\n",
              "42                Remove Multicollinearity             False\n",
              "43             Multicollinearity Threshold              None\n",
              "44                              Clustering             False\n",
              "45                    Clustering Iteration              None\n",
              "46                     Polynomial Features             False\n",
              "47                       Polynomial Degree              None\n",
              "48                    Trignometry Features             False\n",
              "49                    Polynomial Threshold              None\n",
              "50                          Group Features             False\n",
              "51                       Feature Selection             False\n",
              "52            Features Selection Threshold              None\n",
              "53                     Feature Interaction             False\n",
              "54                           Feature Ratio             False\n",
              "55                   Interaction Threshold              None\n",
              "56                           Fix Imbalance             False\n",
              "57                    Fix Imbalance Method             SMOTE"
            ]
          },
          "metadata": {
            "tags": []
          }
        }
      ]
    }
  ]
}