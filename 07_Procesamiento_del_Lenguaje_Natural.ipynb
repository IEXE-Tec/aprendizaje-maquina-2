{
  "nbformat": 4,
  "nbformat_minor": 0,
  "metadata": {
    "colab": {
      "name": "07_Procesamiento_del_Lenguaje_Natural.ipynb",
      "provenance": [],
      "collapsed_sections": [],
      "authorship_tag": "ABX9TyOwgwMRSH5bSRkr0jzBTO7k",
      "include_colab_link": true
    },
    "kernelspec": {
      "name": "python3",
      "display_name": "Python 3"
    }
  },
  "cells": [
    {
      "cell_type": "markdown",
      "metadata": {
        "id": "view-in-github",
        "colab_type": "text"
      },
      "source": [
        "<a href=\"https://colab.research.google.com/github/IEXE-Tec/aprendizaje-maquina-2/blob/master/07_Procesamiento_del_Lenguaje_Natural.ipynb\" target=\"_parent\"><img src=\"https://colab.research.google.com/assets/colab-badge.svg\" alt=\"Open In Colab\"/></a>"
      ]
    },
    {
      "cell_type": "markdown",
      "metadata": {
        "id": "kECscepGtsRT"
      },
      "source": [
        "Installing pycaret library:\n",
        "+ https://towardsdatascience.com/announcing-pycaret-2-0-39c11014540e \n",
        "+ https://pycaret.org/\n"
      ]
    },
    {
      "cell_type": "code",
      "metadata": {
        "id": "j_4YZ-A-ty8L"
      },
      "source": [
        "!pip install pycaret"
      ],
      "execution_count": null,
      "outputs": []
    },
    {
      "cell_type": "code",
      "metadata": {
        "id": "FUw9jGQ6e8zi",
        "outputId": "c1837615-7162-46f5-ccd1-5f444b79450a",
        "colab": {
          "base_uri": "https://localhost:8080/",
          "height": 37
        }
      },
      "source": [
        "from pycaret.utils import version\n",
        "version()"
      ],
      "execution_count": 2,
      "outputs": [
        {
          "output_type": "execute_result",
          "data": {
            "application/vnd.google.colaboratory.intrinsic+json": {
              "type": "string"
            },
            "text/plain": [
              "'2.2.0'"
            ]
          },
          "metadata": {
            "tags": []
          },
          "execution_count": 2
        }
      ]
    },
    {
      "cell_type": "markdown",
      "metadata": {
        "id": "oA99ILJFHqa3"
      },
      "source": [
        "Installing Autocorrect:\n",
        "+ https://github.com/phatpiglet/autocorrect\n"
      ]
    },
    {
      "cell_type": "code",
      "metadata": {
        "id": "LX_UZpHaHtYN",
        "outputId": "e8e04028-b8e7-4040-f5ad-13b0c7e2b4a9",
        "colab": {
          "base_uri": "https://localhost:8080/",
          "height": 35
        }
      },
      "source": [
        "!pip install autocorrect"
      ],
      "execution_count": 3,
      "outputs": [
        {
          "output_type": "stream",
          "text": [
            "Requirement already satisfied: autocorrect in /usr/local/lib/python3.6/dist-packages (2.2.2)\n"
          ],
          "name": "stdout"
        }
      ]
    },
    {
      "cell_type": "code",
      "metadata": {
        "id": "8i2Pou3JHZ4l"
      },
      "source": [
        "import nltk\n",
        "import pycaret"
      ],
      "execution_count": 4,
      "outputs": []
    },
    {
      "cell_type": "markdown",
      "metadata": {
        "id": "IB2bZLB4umXm"
      },
      "source": [
        "# Processing"
      ]
    },
    {
      "cell_type": "markdown",
      "metadata": {
        "id": "TPdVrOSDup0Q"
      },
      "source": [
        "## I. Tokenization"
      ]
    },
    {
      "cell_type": "code",
      "metadata": {
        "id": "cBGITeID1qQL",
        "outputId": "7c057c31-4990-4e7b-e450-ee8dc75a90fb",
        "colab": {
          "base_uri": "https://localhost:8080/",
          "height": 72
        }
      },
      "source": [
        "# importar el modulo de tokenizacion de nltk\n",
        "from nltk.tokenize import sent_tokenize,word_tokenize\n",
        "nltk.download('punkt')"
      ],
      "execution_count": 5,
      "outputs": [
        {
          "output_type": "stream",
          "text": [
            "[nltk_data] Downloading package punkt to /root/nltk_data...\n",
            "[nltk_data]   Package punkt is already up-to-date!\n"
          ],
          "name": "stdout"
        },
        {
          "output_type": "execute_result",
          "data": {
            "text/plain": [
              "True"
            ]
          },
          "metadata": {
            "tags": []
          },
          "execution_count": 5
        }
      ]
    },
    {
      "cell_type": "code",
      "metadata": {
        "id": "IWoV0d8x2qAF",
        "outputId": "44ea8765-3135-4a37-9af9-51977511676d",
        "colab": {
          "base_uri": "https://localhost:8080/",
          "height": 54
        }
      },
      "source": [
        "example_text = \"Esto es un ejemplo. O noooo?\"\n",
        "print(sent_tokenize(example_text))\n",
        "print(word_tokenize(example_text))"
      ],
      "execution_count": 6,
      "outputs": [
        {
          "output_type": "stream",
          "text": [
            "['Esto es un ejemplo.', 'O noooo?']\n",
            "['Esto', 'es', 'un', 'ejemplo', '.', 'O', 'noooo', '?']\n"
          ],
          "name": "stdout"
        }
      ]
    },
    {
      "cell_type": "code",
      "metadata": {
        "id": "_dSxot7HuuWo",
        "outputId": "1c6d57d2-dcd6-4405-ef60-82378c88070d",
        "colab": {
          "base_uri": "https://localhost:8080/",
          "height": 147
        }
      },
      "source": [
        "# Texto de ejemplo. Ene ste caso usamos las tres comillas para separar\n",
        "# el texto en varias lineas dentro de nuestro codigo.\n",
        "example_text = ''' Hola mi nombre es Mario. Mi cuenta de github\n",
        "es uumami. Estas listo para convertirte en un experto de NLP.\n",
        "Ezta horacion contiene muchos erroress gramaticales.\n",
        "'''\n",
        "print(example_text)\n",
        "print(sent_tokenize(example_text))\n",
        "print(word_tokenize(example_text))"
      ],
      "execution_count": 7,
      "outputs": [
        {
          "output_type": "stream",
          "text": [
            " Hola mi nombre es Mario. Mi cuenta de github\n",
            "es uumami. Estas listo para convertirte en un experto de NLP.\n",
            "Ezta horacion contiene muchos erroress gramaticales.\n",
            "\n",
            "[' Hola mi nombre es Mario.', 'Mi cuenta de github\\nes uumami.', 'Estas listo para convertirte en un experto de NLP.', 'Ezta horacion contiene muchos erroress gramaticales.']\n",
            "['Hola', 'mi', 'nombre', 'es', 'Mario', '.', 'Mi', 'cuenta', 'de', 'github', 'es', 'uumami', '.', 'Estas', 'listo', 'para', 'convertirte', 'en', 'un', 'experto', 'de', 'NLP', '.', 'Ezta', 'horacion', 'contiene', 'muchos', 'erroress', 'gramaticales', '.']\n"
          ],
          "name": "stdout"
        }
      ]
    },
    {
      "cell_type": "code",
      "metadata": {
        "id": "4tj0dRqdGOSf"
      },
      "source": [
        "texto = word_tokenize(example_text)"
      ],
      "execution_count": 8,
      "outputs": []
    },
    {
      "cell_type": "markdown",
      "metadata": {
        "id": "JBTNkxBxIa5o"
      },
      "source": [
        "# II. Spell check"
      ]
    },
    {
      "cell_type": "code",
      "metadata": {
        "id": "8lxqzZ_oRs2_"
      },
      "source": [
        "from autocorrect import Speller"
      ],
      "execution_count": 9,
      "outputs": []
    },
    {
      "cell_type": "code",
      "metadata": {
        "id": "j_Yb6k0GIfi4"
      },
      "source": [
        "spell = Speller(lang='es')"
      ],
      "execution_count": 10,
      "outputs": []
    },
    {
      "cell_type": "code",
      "metadata": {
        "id": "if_n9aZ8Iitl",
        "outputId": "f6d437e0-e127-4275-9958-d91adf0151b5",
        "colab": {
          "base_uri": "https://localhost:8080/",
          "height": 565
        }
      },
      "source": [
        "corrected_text = [spell(i) for i in texto]\n",
        "corrected_text"
      ],
      "execution_count": 11,
      "outputs": [
        {
          "output_type": "execute_result",
          "data": {
            "text/plain": [
              "['Hola',\n",
              " 'mi',\n",
              " 'nombre',\n",
              " 'es',\n",
              " 'Mario',\n",
              " '.',\n",
              " 'Mi',\n",
              " 'cuenta',\n",
              " 'de',\n",
              " 'github',\n",
              " 'es',\n",
              " 'umami',\n",
              " '.',\n",
              " 'Estas',\n",
              " 'listo',\n",
              " 'para',\n",
              " 'convertirte',\n",
              " 'en',\n",
              " 'un',\n",
              " 'experto',\n",
              " 'de',\n",
              " 'LP',\n",
              " '.',\n",
              " 'Esta',\n",
              " 'horacio',\n",
              " 'contiene',\n",
              " 'muchos',\n",
              " 'errores',\n",
              " 'gramaticales',\n",
              " '.']"
            ]
          },
          "metadata": {
            "tags": []
          },
          "execution_count": 11
        }
      ]
    },
    {
      "cell_type": "markdown",
      "metadata": {
        "id": "nVw9RFFEP9l-"
      },
      "source": [
        "## III. Stopwords"
      ]
    },
    {
      "cell_type": "code",
      "metadata": {
        "id": "gZAzvIOnRmYG",
        "outputId": "177ba50c-c3b1-4b1d-a132-803f59378d21",
        "colab": {
          "base_uri": "https://localhost:8080/",
          "height": 72
        }
      },
      "source": [
        "from nltk.corpus import stopwords\n",
        "nltk.download('stopwords')"
      ],
      "execution_count": 12,
      "outputs": [
        {
          "output_type": "stream",
          "text": [
            "[nltk_data] Downloading package stopwords to /root/nltk_data...\n",
            "[nltk_data]   Package stopwords is already up-to-date!\n"
          ],
          "name": "stdout"
        },
        {
          "output_type": "execute_result",
          "data": {
            "text/plain": [
              "True"
            ]
          },
          "metadata": {
            "tags": []
          },
          "execution_count": 12
        }
      ]
    },
    {
      "cell_type": "code",
      "metadata": {
        "id": "cjjDE2POQ2H8",
        "outputId": "213057b0-c0fc-426b-966c-729022ef01df",
        "colab": {
          "base_uri": "https://localhost:8080/",
          "height": 346
        }
      },
      "source": [
        "stopwords_en = stopwords.words('english')\n",
        "\n",
        "counter = 0\n",
        "for w in stopwords_en:\n",
        "  print(w, end=', ')\n",
        "  counter += 1\n",
        "  if (counter%10)== 0:\n",
        "    print()\n"
      ],
      "execution_count": 13,
      "outputs": [
        {
          "output_type": "stream",
          "text": [
            "i, me, my, myself, we, our, ours, ourselves, you, you're, \n",
            "you've, you'll, you'd, your, yours, yourself, yourselves, he, him, his, \n",
            "himself, she, she's, her, hers, herself, it, it's, its, itself, \n",
            "they, them, their, theirs, themselves, what, which, who, whom, this, \n",
            "that, that'll, these, those, am, is, are, was, were, be, \n",
            "been, being, have, has, had, having, do, does, did, doing, \n",
            "a, an, the, and, but, if, or, because, as, until, \n",
            "while, of, at, by, for, with, about, against, between, into, \n",
            "through, during, before, after, above, below, to, from, up, down, \n",
            "in, out, on, off, over, under, again, further, then, once, \n",
            "here, there, when, where, why, how, all, any, both, each, \n",
            "few, more, most, other, some, such, no, nor, not, only, \n",
            "own, same, so, than, too, very, s, t, can, will, \n",
            "just, don, don't, should, should've, now, d, ll, m, o, \n",
            "re, ve, y, ain, aren, aren't, couldn, couldn't, didn, didn't, \n",
            "doesn, doesn't, hadn, hadn't, hasn, hasn't, haven, haven't, isn, isn't, \n",
            "ma, mightn, mightn't, mustn, mustn't, needn, needn't, shan, shan't, shouldn, \n",
            "shouldn't, wasn, wasn't, weren, weren't, won, won't, wouldn, wouldn't, "
          ],
          "name": "stdout"
        }
      ]
    },
    {
      "cell_type": "code",
      "metadata": {
        "id": "bc2il63oQB4q",
        "outputId": "6a7332c7-e0a5-4e63-ad92-8aaf90ce0438",
        "colab": {
          "base_uri": "https://localhost:8080/",
          "height": 602
        }
      },
      "source": [
        "stopwords_es = stopwords.words('spanish')\n",
        "\n",
        "counter = 0\n",
        "for w in stopwords_es:\n",
        "  print(w, end=', ')\n",
        "  counter += 1\n",
        "  if (counter%10)== 0:\n",
        "    print()\n"
      ],
      "execution_count": 14,
      "outputs": [
        {
          "output_type": "stream",
          "text": [
            "de, la, que, el, en, y, a, los, del, se, \n",
            "las, por, un, para, con, no, una, su, al, lo, \n",
            "como, más, pero, sus, le, ya, o, este, sí, porque, \n",
            "esta, entre, cuando, muy, sin, sobre, también, me, hasta, hay, \n",
            "donde, quien, desde, todo, nos, durante, todos, uno, les, ni, \n",
            "contra, otros, ese, eso, ante, ellos, e, esto, mí, antes, \n",
            "algunos, qué, unos, yo, otro, otras, otra, él, tanto, esa, \n",
            "estos, mucho, quienes, nada, muchos, cual, poco, ella, estar, estas, \n",
            "algunas, algo, nosotros, mi, mis, tú, te, ti, tu, tus, \n",
            "ellas, nosotras, vosotros, vosotras, os, mío, mía, míos, mías, tuyo, \n",
            "tuya, tuyos, tuyas, suyo, suya, suyos, suyas, nuestro, nuestra, nuestros, \n",
            "nuestras, vuestro, vuestra, vuestros, vuestras, esos, esas, estoy, estás, está, \n",
            "estamos, estáis, están, esté, estés, estemos, estéis, estén, estaré, estarás, \n",
            "estará, estaremos, estaréis, estarán, estaría, estarías, estaríamos, estaríais, estarían, estaba, \n",
            "estabas, estábamos, estabais, estaban, estuve, estuviste, estuvo, estuvimos, estuvisteis, estuvieron, \n",
            "estuviera, estuvieras, estuviéramos, estuvierais, estuvieran, estuviese, estuvieses, estuviésemos, estuvieseis, estuviesen, \n",
            "estando, estado, estada, estados, estadas, estad, he, has, ha, hemos, \n",
            "habéis, han, haya, hayas, hayamos, hayáis, hayan, habré, habrás, habrá, \n",
            "habremos, habréis, habrán, habría, habrías, habríamos, habríais, habrían, había, habías, \n",
            "habíamos, habíais, habían, hube, hubiste, hubo, hubimos, hubisteis, hubieron, hubiera, \n",
            "hubieras, hubiéramos, hubierais, hubieran, hubiese, hubieses, hubiésemos, hubieseis, hubiesen, habiendo, \n",
            "habido, habida, habidos, habidas, soy, eres, es, somos, sois, son, \n",
            "sea, seas, seamos, seáis, sean, seré, serás, será, seremos, seréis, \n",
            "serán, sería, serías, seríamos, seríais, serían, era, eras, éramos, erais, \n",
            "eran, fui, fuiste, fue, fuimos, fuisteis, fueron, fuera, fueras, fuéramos, \n",
            "fuerais, fueran, fuese, fueses, fuésemos, fueseis, fuesen, sintiendo, sentido, sentida, \n",
            "sentidos, sentidas, siente, sentid, tengo, tienes, tiene, tenemos, tenéis, tienen, \n",
            "tenga, tengas, tengamos, tengáis, tengan, tendré, tendrás, tendrá, tendremos, tendréis, \n",
            "tendrán, tendría, tendrías, tendríamos, tendríais, tendrían, tenía, tenías, teníamos, teníais, \n",
            "tenían, tuve, tuviste, tuvo, tuvimos, tuvisteis, tuvieron, tuviera, tuvieras, tuviéramos, \n",
            "tuvierais, tuvieran, tuviese, tuvieses, tuviésemos, tuvieseis, tuviesen, teniendo, tenido, tenida, \n",
            "tenidos, tenidas, tened, "
          ],
          "name": "stdout"
        }
      ]
    },
    {
      "cell_type": "code",
      "metadata": {
        "id": "-kw4_Nz3UmJm"
      },
      "source": [
        "def print_text(texx = [], module=10, sep=' '):\n",
        "  counter = 0\n",
        "  for w in texx:\n",
        "    print(w, end=sep)\n",
        "    counter += 1\n",
        "    if (counter % module)== 0:\n",
        "      print()\n",
        "  print('\\n ------- Tamano del texto: ', len(texx))\n",
        "  print()"
      ],
      "execution_count": 15,
      "outputs": []
    },
    {
      "cell_type": "code",
      "metadata": {
        "id": "ITCTj4EFULL-",
        "outputId": "1e919327-89a4-457d-c85d-2e8216fcdd82",
        "colab": {
          "base_uri": "https://localhost:8080/",
          "height": 254
        }
      },
      "source": [
        "# Removamos las stopwords de nuestro texto\n",
        "print('\\n Texto corregido:')\n",
        "print_text(corrected_text, module=11)\n",
        "\n",
        "short_text = [w for w in corrected_text if w not in stopwords_es]\n",
        "print('\\n Texto sin stopwords:')\n",
        "print_text(short_text, module=11)"
      ],
      "execution_count": 16,
      "outputs": [
        {
          "output_type": "stream",
          "text": [
            "\n",
            " Texto corregido:\n",
            "Hola mi nombre es Mario . Mi cuenta de github es \n",
            "umami . Estas listo para convertirte en un experto de LP \n",
            ". Esta horacio contiene muchos errores gramaticales . \n",
            " ------- Tamano del texto:  30\n",
            "\n",
            "\n",
            " Texto sin stopwords:\n",
            "Hola nombre Mario . Mi cuenta github umami . Estas listo \n",
            "convertirte experto LP . Esta horacio contiene errores gramaticales . \n",
            " ------- Tamano del texto:  21\n",
            "\n"
          ],
          "name": "stdout"
        }
      ]
    },
    {
      "cell_type": "markdown",
      "metadata": {
        "id": "KzxM8D-HEvA-"
      },
      "source": [
        "## IV. Stemmer"
      ]
    },
    {
      "cell_type": "code",
      "metadata": {
        "id": "bqzc2xAj8uyt"
      },
      "source": [
        "from nltk.stem import SnowballStemmer\n",
        "stemmer = SnowballStemmer('spanish')"
      ],
      "execution_count": 17,
      "outputs": []
    },
    {
      "cell_type": "code",
      "metadata": {
        "id": "pNd5c-nyMJ1W",
        "outputId": "c175e6ee-b84d-4729-9db2-be0031ef3ed3",
        "colab": {
          "base_uri": "https://localhost:8080/",
          "height": 35
        }
      },
      "source": [
        "[stemmer.stem(i) for i in ['corriendo', 'correr', 'corremos',\n",
        "                           'corriamos','corrian', \n",
        "                           'correlacion', 'correlacionado']]"
      ],
      "execution_count": 18,
      "outputs": [
        {
          "output_type": "execute_result",
          "data": {
            "text/plain": [
              "['corr', 'corr', 'corr', 'corri', 'corri', 'correlacion', 'correlacion']"
            ]
          },
          "metadata": {
            "tags": []
          },
          "execution_count": 18
        }
      ]
    },
    {
      "cell_type": "code",
      "metadata": {
        "id": "J0srEErAF0Nv",
        "outputId": "ff2a7cbf-3653-4f9d-f802-8fe756f0750d",
        "colab": {
          "base_uri": "https://localhost:8080/",
          "height": 108
        }
      },
      "source": [
        "stemmed_text = [stemmer.stem(i) for i in corrected_text]\n",
        "print_text(stemmed_text, module=11)"
      ],
      "execution_count": 19,
      "outputs": [
        {
          "output_type": "stream",
          "text": [
            "hol mi nombr es mari . mi cuent de github es \n",
            "umami . estas list par convertirt en un expert de lp \n",
            ". esta horaci contien much error gramatical . \n",
            " ------- Tamano del texto:  30\n",
            "\n"
          ],
          "name": "stdout"
        }
      ]
    },
    {
      "cell_type": "markdown",
      "metadata": {
        "id": "jVDE_3X7p5wQ"
      },
      "source": [
        "## V. Lemmatizing"
      ]
    },
    {
      "cell_type": "markdown",
      "metadata": {
        "id": "O0fWcC8hrXkl"
      },
      "source": [
        "Dado que el texto que estamos anlizaando se encuenntra en espanol, es necesario buscar una funcion disenyada para nuestra lengua.  \n",
        "En este nos puede ayudar spacy.  \n",
        "+ spacy: https://spacy.io/usage \n",
        "+ spanish lemmatizer: https://spacy.io/models/es#es_core_news_sm "
      ]
    },
    {
      "cell_type": "code",
      "metadata": {
        "id": "bYa1_Y_HuoXa"
      },
      "source": [
        "!python3 -m spacy download es_core_news_sm"
      ],
      "execution_count": null,
      "outputs": []
    },
    {
      "cell_type": "code",
      "metadata": {
        "id": "N_K-usVxvVhY"
      },
      "source": [
        "# Importar spacy y el lemmatizer en espanyol\n",
        "import spacy\n",
        "import es_core_news_sm\n",
        "nlp = es_core_news_sm.load()"
      ],
      "execution_count": 21,
      "outputs": []
    },
    {
      "cell_type": "code",
      "metadata": {
        "id": "iiKoAF0p1RyP",
        "outputId": "b4710366-a812-44c4-890f-555109681658",
        "colab": {
          "base_uri": "https://localhost:8080/",
          "height": 200
        }
      },
      "source": [
        "ex_lem = \"Hola estoy aprendiendo a utilizar inteligencia artificial. \\n\"\n",
        "print(ex_lem)\n",
        "ex_lem = word_tokenize(ex_lem)\n",
        "for w in ex_lem:\n",
        "  doc = nlp(w)\n",
        "  for word in doc:\n",
        "    print(word.text, \"=>\", word.lemma_)"
      ],
      "execution_count": 22,
      "outputs": [
        {
          "output_type": "stream",
          "text": [
            "Hola estoy aprendiendo a utilizar inteligencia artificial. \n",
            "\n",
            "Hola => Hola\n",
            "estoy => estar\n",
            "aprendiendo => aprender\n",
            "a => a\n",
            "utilizar => utilizar\n",
            "inteligencia => inteligencia\n",
            "artificial => artificial\n",
            ". => .\n"
          ],
          "name": "stdout"
        }
      ]
    },
    {
      "cell_type": "markdown",
      "metadata": {
        "id": "xzoQIpJc_o_W"
      },
      "source": [
        "Creemos una funcion que lemamtize un texto que ya este separado en tokens (tokenized/tokenizado)."
      ]
    },
    {
      "cell_type": "code",
      "metadata": {
        "id": "jKdHUg2D3O7h"
      },
      "source": [
        "def lemm_es(txx=[]):\n",
        "  '''\n",
        "  txx is a list or tokenized text\n",
        "  retunrs: lemmatized words.\n",
        "  '''\n",
        "  lemm_text = []\n",
        "  for w in txx:\n",
        "    lemm_text.append(nlp(w)[0].lemma_)\n",
        "  return lemm_text"
      ],
      "execution_count": 23,
      "outputs": []
    },
    {
      "cell_type": "markdown",
      "metadata": {
        "id": "SU8f6H6-CKnQ"
      },
      "source": [
        "Apliquemos el lemmatizer a nuestro texto corregido, y sin stopwords."
      ]
    },
    {
      "cell_type": "code",
      "metadata": {
        "id": "_RsBRAdN31Mg",
        "outputId": "9105f6e0-96af-43cf-e544-8cec7588ba0c",
        "colab": {
          "base_uri": "https://localhost:8080/",
          "height": 163
        }
      },
      "source": [
        "lemm_text = lemm_es(short_text)\n",
        "\n",
        "print_text(short_text, module=11)\n",
        "print_text(lemm_text, module=11)"
      ],
      "execution_count": 24,
      "outputs": [
        {
          "output_type": "stream",
          "text": [
            "Hola nombre Mario . Mi cuenta github umami . Estas listo \n",
            "convertirte experto LP . Esta horacio contiene errores gramaticales . \n",
            " ------- Tamano del texto:  21\n",
            "\n",
            "Hola nombrar Mario . Mi contar github umami . Estas listar \n",
            "convertirte experto LP . Esta horacio contener error gramatical . \n",
            " ------- Tamano del texto:  21\n",
            "\n"
          ],
          "name": "stdout"
        }
      ]
    },
    {
      "cell_type": "markdown",
      "metadata": {
        "id": "DPkhAoiaCPX8"
      },
      "source": [
        "## VI. Tag"
      ]
    },
    {
      "cell_type": "code",
      "metadata": {
        "id": "PiqzAWi-Ciu8"
      },
      "source": [
        "def pos_es(txx=[]):\n",
        "  '''\n",
        "  txx is a list or tokenized text\n",
        "  retunrs: lemmatized words.\n",
        "  '''\n",
        "  pos_text = []\n",
        "  for w in txx:\n",
        "    pos_text.append(nlp(w)[0].pos_)\n",
        "  return pos_text"
      ],
      "execution_count": 25,
      "outputs": []
    },
    {
      "cell_type": "code",
      "metadata": {
        "id": "Y7c95BpbCrfZ",
        "outputId": "1775184d-8e01-4ca7-c727-d02dad4d92ce",
        "colab": {
          "base_uri": "https://localhost:8080/",
          "height": 163
        }
      },
      "source": [
        "pos_text = pos_es(short_text)\n",
        "\n",
        "print_text(short_text, module=11)\n",
        "print_text(pos_text, module=11)"
      ],
      "execution_count": 26,
      "outputs": [
        {
          "output_type": "stream",
          "text": [
            "Hola nombre Mario . Mi cuenta github umami . Estas listo \n",
            "convertirte experto LP . Esta horacio contiene errores gramaticales . \n",
            " ------- Tamano del texto:  21\n",
            "\n",
            "PROPN NOUN PROPN PUNCT DET VERB PROPN PROPN PUNCT PRON ADJ \n",
            "PROPN ADJ NOUN PUNCT PRON ADV VERB NOUN ADJ PUNCT \n",
            " ------- Tamano del texto:  21\n",
            "\n"
          ],
          "name": "stdout"
        }
      ]
    },
    {
      "cell_type": "markdown",
      "metadata": {
        "id": "V3Caoz2DOf-f"
      },
      "source": [
        "# Bag of Words (Bolsa de Palabras)"
      ]
    },
    {
      "cell_type": "markdown",
      "metadata": {
        "id": "nXF0I5m6OkQ8"
      },
      "source": [
        "https://es.wikipedia.org/wiki/Modelo_bolsa_de_palabras "
      ]
    },
    {
      "cell_type": "markdown",
      "metadata": {
        "id": "-larB4JKg1Ta"
      },
      "source": [
        "En esta seccion realizaremos analisis de sentimientos de twitter. La idea es clasificar si un twitt expresa senetimientos positivos o negativos.  \n",
        "Este proyecto nos podria ayudar a evaluar el valor de nuestra marca, la aceptacion de un nuevo producto en el mercado, o analizar tendencias de la bolsa de valores.  \n",
        "\n",
        "Si aplicaramos el analisis de sentimientos a los datos de nuestra start-up podriamos detectar anomalias al momento de contratacion o detectar renuncias antes de tiempo por ejemplo.\n"
      ]
    },
    {
      "cell_type": "markdown",
      "metadata": {
        "id": "Kmv13iCsfJmY"
      },
      "source": [
        "## Procesamiento de Datos"
      ]
    },
    {
      "cell_type": "markdown",
      "metadata": {
        "id": "0gGPPKybre1K"
      },
      "source": [
        "Primero creemos funciones que funcionen a nivel twitt (individual). Posteriormente aplicaremos las funciones a toda la base de datos. De esta forma mantendremos el codigo mas modular."
      ]
    },
    {
      "cell_type": "markdown",
      "metadata": {
        "id": "-r4nRlGrgw2n"
      },
      "source": [
        "### Importar base de datos de twitter"
      ]
    },
    {
      "cell_type": "code",
      "metadata": {
        "id": "o4lGHMctf2Fk",
        "outputId": "e1d8b3ae-b96d-4353-b2b2-b79a59bae49f",
        "colab": {
          "base_uri": "https://localhost:8080/",
          "height": 181
        }
      },
      "source": [
        "# Importemos los datos\n",
        "from nltk.corpus import twitter_samples\n",
        "nltk.download('twitter_samples')\n",
        "\n",
        "positive_tweets_ = twitter_samples.strings('positive_tweets.json')\n",
        "negative_tweets_ = twitter_samples.strings('negative_tweets.json')\n",
        "print('\\n Glipse Data')\n",
        "positive_tweets_[0:5]"
      ],
      "execution_count": 107,
      "outputs": [
        {
          "output_type": "stream",
          "text": [
            "[nltk_data] Downloading package twitter_samples to /root/nltk_data...\n",
            "[nltk_data]   Package twitter_samples is already up-to-date!\n",
            "\n",
            " Glipse Data\n"
          ],
          "name": "stdout"
        },
        {
          "output_type": "execute_result",
          "data": {
            "text/plain": [
              "['#FollowFriday @France_Inte @PKuchly57 @Milipol_Paris for being top engaged members in my community this week :)',\n",
              " '@Lamb2ja Hey James! How odd :/ Please call our Contact Centre on 02392441234 and we will be able to assist you :) Many thanks!',\n",
              " '@DespiteOfficial we had a listen last night :) As You Bleed is an amazing track. When are you in Scotland?!',\n",
              " '@97sides CONGRATS :)',\n",
              " 'yeaaaah yippppy!!!  my accnt verified rqst has succeed got a blue tick mark on my fb profile :) in 15 days']"
            ]
          },
          "metadata": {
            "tags": []
          },
          "execution_count": 107
        }
      ]
    },
    {
      "cell_type": "code",
      "metadata": {
        "id": "e_W14HgigAz9",
        "outputId": "080adfae-1ba4-4c4c-ff21-7a605ec8362e",
        "colab": {
          "base_uri": "https://localhost:8080/",
          "height": 328
        }
      },
      "source": [
        "import pandas as pd\n",
        "\n",
        "positive_tweets = twitter_samples.tokenized('positive_tweets.json')\n",
        "negative_tweets = twitter_samples.tokenized('negative_tweets.json')\n",
        "\n",
        "print('\\n Glipse Tokenized Data')\n",
        "positive_tweets[0]"
      ],
      "execution_count": 59,
      "outputs": [
        {
          "output_type": "stream",
          "text": [
            "\n",
            " Glipse Tokenized Data\n"
          ],
          "name": "stdout"
        },
        {
          "output_type": "execute_result",
          "data": {
            "text/plain": [
              "['#FollowFriday',\n",
              " '@France_Inte',\n",
              " '@PKuchly57',\n",
              " '@Milipol_Paris',\n",
              " 'for',\n",
              " 'being',\n",
              " 'top',\n",
              " 'engaged',\n",
              " 'members',\n",
              " 'in',\n",
              " 'my',\n",
              " 'community',\n",
              " 'this',\n",
              " 'week',\n",
              " ':)']"
            ]
          },
          "metadata": {
            "tags": []
          },
          "execution_count": 59
        }
      ]
    },
    {
      "cell_type": "markdown",
      "metadata": {
        "id": "XunV23G9idRC"
      },
      "source": [
        "### Lemmatizing y normalizacion"
      ]
    },
    {
      "cell_type": "markdown",
      "metadata": {
        "id": "u3tAQ86qijEf"
      },
      "source": [
        "Dado que esta vez estamos analizando los datos en ingles, podemos utilizar las funciones de nltk directamente.  \n",
        "\n",
        "En vez de utilizar el algoritmo de SpaCy, utilizaremos los algoritmos de nltk directamente. En este caso la **lematizacion** sera llevada acabo por el algoritmo *wordnet*.   \n",
        " (https://www.nltk.org/_modules/nltk/corpus/reader/wordnet.html)  \n",
        "Pero en conjunto con *averaged_perceptron_tagger* que nos ayuda a mejorar nuestro proceso de lemmatizing pues toma en cuenta el tag que se el asigna dentro de la oracion.  \n",
        "(https://www.nltk.org/_modules/nltk/tag/perceptron.html)  \n",
        "  \n",
        "  Si deseas entender a mayor profundidar como funcionan los algoritmos de lemmatizacion de nltk y SpaCy revisa la siguiente documentacion:\n",
        "  https://www.machinelearningplus.com/nlp/lemmatization-examples-python/#wordnetlemmatizerwithappropriatepostag "
      ]
    },
    {
      "cell_type": "code",
      "metadata": {
        "id": "AWYAhG9big6Z",
        "outputId": "c78b54ca-72ea-4b03-f5d0-0871cca04b3d",
        "colab": {
          "base_uri": "https://localhost:8080/",
          "height": 127
        }
      },
      "source": [
        "import nltk\n",
        "# Lemmatizer\n",
        "nltk.download('wordnet')\n",
        "# Tagger\n",
        "nltk.download('averaged_perceptron_tagger')\n",
        "from nltk.tag import pos_tag"
      ],
      "execution_count": 42,
      "outputs": [
        {
          "output_type": "stream",
          "text": [
            "[nltk_data] Downloading package wordnet to /root/nltk_data...\n",
            "[nltk_data]   Package wordnet is already up-to-date!\n",
            "[nltk_data] Downloading package averaged_perceptron_tagger to\n",
            "[nltk_data]     /root/nltk_data...\n",
            "[nltk_data]   Package averaged_perceptron_tagger is already up-to-\n",
            "[nltk_data]       date!\n"
          ],
          "name": "stdout"
        }
      ]
    },
    {
      "cell_type": "markdown",
      "metadata": {
        "id": "Orul18G7koKS"
      },
      "source": [
        "Creemos una funcion para lemmatizar usando los dos algoritmos que acabamos de importar. Dado que los tags producidos por el algoritmo pos_tag son diferentes a los que usa wordnet, es necesario codificarlos."
      ]
    },
    {
      "cell_type": "markdown",
      "metadata": {
        "id": "7tw8s-OMqP69"
      },
      "source": [
        "![image.png](data:image/png;base64,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)"
      ]
    },
    {
      "cell_type": "code",
      "metadata": {
        "id": "SRluknqukhZt"
      },
      "source": [
        "from nltk.tag import pos_tag\n",
        "from nltk.stem.wordnet import WordNetLemmatizer\n",
        "\n",
        "def lemmatize_tok_sentence(tw):\n",
        "    lemmatizer = WordNetLemmatizer()\n",
        "    lemmatized_sen = []\n",
        "    for word, tag in pos_tag(tw):\n",
        "        if tag.startswith('NN'):\n",
        "            pos = 'n'\n",
        "        elif tag.startswith('VB'):\n",
        "            pos = 'v'\n",
        "        elif tag.startswith('J'):\n",
        "            pos = 'a'\n",
        "        else:\n",
        "            pos = 'r'\n",
        "        lemmatized_sen.append(lemmatizer.lemmatize(word, pos))\n",
        "    return lemmatized_sen"
      ],
      "execution_count": 78,
      "outputs": []
    },
    {
      "cell_type": "code",
      "metadata": {
        "id": "n5CmdCM6lGO_",
        "outputId": "9bd60d23-9416-4dec-dfc2-e6cd8e0e8171",
        "colab": {
          "base_uri": "https://localhost:8080/",
          "height": 309
        }
      },
      "source": [
        "print(positive_tweets_[0])\n",
        "lemmatize_tok_sentence(positive_tweets[0])"
      ],
      "execution_count": 109,
      "outputs": [
        {
          "output_type": "stream",
          "text": [
            "#FollowFriday @France_Inte @PKuchly57 @Milipol_Paris for being top engaged members in my community this week :)\n"
          ],
          "name": "stdout"
        },
        {
          "output_type": "execute_result",
          "data": {
            "text/plain": [
              "['#FollowFriday',\n",
              " '@France_Inte',\n",
              " '@PKuchly57',\n",
              " '@Milipol_Paris',\n",
              " 'for',\n",
              " 'be',\n",
              " 'top',\n",
              " 'engage',\n",
              " 'member',\n",
              " 'in',\n",
              " 'my',\n",
              " 'community',\n",
              " 'this',\n",
              " 'week',\n",
              " ':)']"
            ]
          },
          "metadata": {
            "tags": []
          },
          "execution_count": 109
        }
      ]
    },
    {
      "cell_type": "markdown",
      "metadata": {
        "id": "gxjVuhrlr_WI"
      },
      "source": [
        "### Limpieza de caracteres basura"
      ]
    },
    {
      "cell_type": "markdown",
      "metadata": {
        "id": "Weru1zDRsFsQ"
      },
      "source": [
        "Despues de revisar los datos notamos 3 tipos de palabras que probablemnte no nos sean de mucha ayuda.  \n",
        "  + \"handles\" que twitter utiliza para contestar\n",
        "  + links a otras paginas web (pude que nos sirvan)\n",
        "  + Puntuacion, pero no los smilies."
      ]
    },
    {
      "cell_type": "markdown",
      "metadata": {
        "id": "0COY6qNksqsU"
      },
      "source": [
        "Haremos uso de expresiones regulares para remover estas palabras. (Si tienes poblemas googlea, esta es una operacion muy comun). \n",
        "+ \"handles\": Estos comienzan con @ seguidos de una palbra sin espacios ->\n",
        "      \"(@[A-Za-z0-9_]+)\"\n",
        "+ \"link\": Comienzan con http -> \n",
        "\n",
        "      \"http[s]?://(?:[a-zA-Z]|[0-9]|[$-_@.&+#]|[!*\\(\\),]|(?:%[0-9a-fA-F][0-9a-fA-F]))+\"\n",
        "+ La puntuacion puede ser removida como stopword o puntuacion. Hay que tener cuidado especial, pues los smilies son formados por puntuacion [  :), :(  ]  \n",
        "  \n",
        "Podemos sustituir esta palabras por vacio o espacios."
      ]
    },
    {
      "cell_type": "code",
      "metadata": {
        "id": "Gr_li9tdujNx"
      },
      "source": [
        "import re, string\n",
        "from nltk.corpus import stopwords\n",
        "stop_words = stopwords.words('english')\n",
        "\n",
        "def clean_lemmatize(tweet_tokens, stop_words = stopwords.words('english')):\n",
        "\n",
        "    cleaned_tokens = []\n",
        "    for token, tag in pos_tag(tweet_tokens):\n",
        "        # Limpiar url\n",
        "        token = re.sub('http[s]?://(?:[a-zA-Z]|[0-9]|[$-_@.&+#]'\\\n",
        "        '|[!*\\(\\),]|(?:%[0-9a-fA-F][0-9a-fA-F]))+',\"\", token)\n",
        "        # Limpiar handle\n",
        "        token = re.sub('(@[A-Za-z0-9_]+)',\"\", token)\n",
        "\n",
        "        # Tag for lemmatizer\n",
        "        if tag.startswith('NN'):\n",
        "            pos = 'n'\n",
        "        elif tag.startswith('VB'):\n",
        "            pos = 'v'\n",
        "        elif tag.startswith('J'):\n",
        "            pos = 'a'\n",
        "        else:\n",
        "            pos = 'r'\n",
        "        lemmatizer = WordNetLemmatizer()\n",
        "        token = lemmatizer.lemmatize(token, pos)\n",
        "\n",
        "        # Eliminar puntuacion o espacios\n",
        "        if len(token) > 0 and token not in string.punctuation and \\\n",
        "        token.lower() not in stop_words:\n",
        "            cleaned_tokens.append(token.lower())\n",
        "    return cleaned_tokens"
      ],
      "execution_count": 105,
      "outputs": []
    },
    {
      "cell_type": "code",
      "metadata": {
        "id": "gn9hXbPovrA2",
        "outputId": "3271c207-734c-4846-fa35-e4b7d1fb3eeb",
        "colab": {
          "base_uri": "https://localhost:8080/",
          "height": 54
        }
      },
      "source": [
        "print(positive_tweets_[0])\n",
        "clean_lemmatize(positive_tweets[0])"
      ],
      "execution_count": 108,
      "outputs": [
        {
          "output_type": "stream",
          "text": [
            "#FollowFriday @France_Inte @PKuchly57 @Milipol_Paris for being top engaged members in my community this week :)\n"
          ],
          "name": "stdout"
        },
        {
          "output_type": "execute_result",
          "data": {
            "text/plain": [
              "['#followfriday', 'top', 'engage', 'member', 'community', 'week', ':)']"
            ]
          },
          "metadata": {
            "tags": []
          },
          "execution_count": 108
        }
      ]
    }
  ]
}